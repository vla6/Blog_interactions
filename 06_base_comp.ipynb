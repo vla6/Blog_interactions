{
 "cells": [
  {
   "cell_type": "code",
   "execution_count": 1,
   "id": "44b56386-9bd6-40db-8e61-0cebc1fd983b",
   "metadata": {
    "tags": []
   },
   "outputs": [],
   "source": [
    "# Modify the file 00_setup.py to define input/output file paths on your system\n",
    "# The information in 00_setup.py will be used across notebooks\n",
    "from importlib.machinery import SourceFileLoader\n",
    "setup = SourceFileLoader(\"setup\", \"./00_setup.py\").load_module()"
   ]
  },
  {
   "cell_type": "markdown",
   "id": "5975abcf-8c2a-4ad4-9531-79799842931f",
   "metadata": {},
   "source": [
    "# 06: Base Model Descriptives\n",
    " * Compare the results for Friedman's H, ALE, and Shapley.  \n",
    " * Create some descriptive plots to provide more info about some of the findings."
   ]
  },
  {
   "cell_type": "markdown",
   "id": "f2f60612-7830-4112-b1d3-1617d123de4d",
   "metadata": {},
   "source": [
    "*This script takes about 1 minutes on my MacBook Air*"
   ]
  },
  {
   "cell_type": "code",
   "execution_count": 2,
   "id": "61ff97aa-210f-4817-9e6b-44934d50ad6a",
   "metadata": {},
   "outputs": [],
   "source": [
    "import pandas as pd\n",
    "import numpy as np\n",
    "import matplotlib.pyplot as plt\n",
    "import seaborn as sns\n",
    "import pickle\n",
    "from pathlib import Path\n",
    "import sklearn as sk\n",
    "import matplotlib as mpl\n",
    "import warnings\n",
    "import time\n",
    "import scipy\n",
    "import random\n",
    "from matplotlib.ticker import FormatStrFormatter, PercentFormatter\n",
    "import scipy.sparse as sp"
   ]
  },
  {
   "cell_type": "code",
   "execution_count": 3,
   "id": "6830d40c-3717-46e9-a7f6-e53ac0fb1dbd",
   "metadata": {},
   "outputs": [],
   "source": [
    "setup.plot_defaults()"
   ]
  },
  {
   "cell_type": "markdown",
   "id": "2d3dbffa-7110-4c13-bd9b-5148bbb48798",
   "metadata": {},
   "source": [
    "## Import Data"
   ]
  },
  {
   "cell_type": "markdown",
   "id": "edd1ff00-2636-4b05-b251-3c5dff94e39e",
   "metadata": {},
   "source": [
    "##### Predictors"
   ]
  },
  {
   "cell_type": "code",
   "execution_count": 4,
   "id": "6fa544ef-5b04-45a2-a4e6-626769a8d8cc",
   "metadata": {},
   "outputs": [],
   "source": [
    "predictor_features = pd.read_csv(Path(setup.temp_path) \\\n",
    "                                 .joinpath('01_REPORT_predictor_features.csv'))['feature'].tolist()"
   ]
  },
  {
   "cell_type": "markdown",
   "id": "fd64c3e4-2d2d-4787-b72c-92ee456fa038",
   "metadata": {},
   "source": [
    "##### Dataset - use sample of training data"
   ]
  },
  {
   "cell_type": "code",
   "execution_count": 5,
   "id": "a4d5b29c-9191-4060-874f-67015a559a39",
   "metadata": {},
   "outputs": [],
   "source": [
    "train_samp_df = pd.read_parquet(Path(setup.temp_path) \\\n",
    "                                .joinpath('03_DATA_combined_base_train_samp.parquet')) "
   ]
  },
  {
   "cell_type": "markdown",
   "id": "700b4c25-1325-4904-baf1-aa364ba650c2",
   "metadata": {},
   "source": [
    "##### Model"
   ]
  },
  {
   "cell_type": "code",
   "execution_count": 6,
   "id": "a5d41d78-cb6f-4e02-82bf-c8419a3f360c",
   "metadata": {},
   "outputs": [],
   "source": [
    "with open(Path(setup.temp_path).joinpath('02_MODEL_base_gc.pkl'), 'rb') as pi:\n",
    "    base_model = pickle.load(pi)"
   ]
  },
  {
   "cell_type": "markdown",
   "id": "4d31c639-2181-4955-929b-befa334441f3",
   "metadata": {},
   "source": [
    "##### Permutation importances"
   ]
  },
  {
   "cell_type": "code",
   "execution_count": 7,
   "id": "d2800ff4-c1a2-4e22-9095-77a5a46065b1",
   "metadata": {},
   "outputs": [],
   "source": [
    "perm_importance_df = pd.read_csv(Path(setup.temp_path).joinpath('02_DATA_importance_perturb.csv'))"
   ]
  },
  {
   "cell_type": "markdown",
   "id": "248436b0-1d8a-4809-adaa-47054d3579b9",
   "metadata": {},
   "source": [
    "##### Friedman's H Scores"
   ]
  },
  {
   "cell_type": "code",
   "execution_count": 8,
   "id": "f30c9b37-056c-4be3-962c-8de07fbaa4fd",
   "metadata": {},
   "outputs": [],
   "source": [
    "h_comb = pd.read_csv(Path(setup.temp_path).joinpath('03_DATA_h_scores.csv'))"
   ]
  },
  {
   "cell_type": "markdown",
   "id": "dbc26aa7-7cd1-4cfa-9024-4a9fd6051474",
   "metadata": {},
   "source": [
    "##### 2-Way ALE Mean Abs"
   ]
  },
  {
   "cell_type": "code",
   "execution_count": 9,
   "id": "4153d13a-5392-4000-884b-1a5b309b28e6",
   "metadata": {},
   "outputs": [],
   "source": [
    "ale_mean_abs = pd.read_csv(Path(setup.temp_path).joinpath('04_DATA_ale_magnitudes_2way.csv'))"
   ]
  },
  {
   "cell_type": "markdown",
   "id": "d827ef6e-9d6f-4504-b52d-22d34d0a9879",
   "metadata": {},
   "source": [
    "##### Shapley Interaction Mean Abs"
   ]
  },
  {
   "cell_type": "code",
   "execution_count": 10,
   "id": "0699bb7b-e148-4998-814f-3597b3788a4c",
   "metadata": {},
   "outputs": [],
   "source": [
    "shap_mean_abs = pd.read_csv(Path(setup.temp_path).joinpath('05_DATA_shap_mean_abs.csv'))"
   ]
  },
  {
   "cell_type": "markdown",
   "id": "8b436add-a13b-4c51-a853-022bec783792",
   "metadata": {},
   "source": [
    "## Compare Ranks for the Three Methods"
   ]
  },
  {
   "cell_type": "markdown",
   "id": "9b106a9f-bda0-47f8-823d-0581fa3377bc",
   "metadata": {},
   "source": [
    "##### Align ranks and save table"
   ]
  },
  {
   "cell_type": "code",
   "execution_count": 11,
   "id": "929c8900-fb89-4c0d-bc57-fac3ed45f00e",
   "metadata": {},
   "outputs": [],
   "source": [
    "h_comb['rank'] = h_comb['h_score'].rank(method='first', ascending=False) \n",
    "h_comb = h_comb.rename(columns={'h_score':'score'})"
   ]
  },
  {
   "cell_type": "code",
   "execution_count": 12,
   "id": "21666ec0-1374-40b1-9ae8-d16dc83032cf",
   "metadata": {},
   "outputs": [],
   "source": [
    "ale_mean_abs['rank'] = ale_mean_abs['abs_mean'].rank(method='first', ascending=False)\n",
    "ale_mean_abs = ale_mean_abs.rename(columns={'abs_mean':'score'})"
   ]
  },
  {
   "cell_type": "code",
   "execution_count": 13,
   "id": "33e9bce8-24df-4117-a3ed-dd72e9c0de56",
   "metadata": {},
   "outputs": [],
   "source": [
    "shap_mean_abs_int = shap_mean_abs[shap_mean_abs['feat_1'] != shap_mean_abs['feat_2']] \\\n",
    "    .copy() \\\n",
    "    .rename(columns={'shap_mean_abs':'score'})\n",
    "shap_mean_abs_int['rank'] = shap_mean_abs_int['score'].rank(method='first', ascending=False)"
   ]
  },
  {
   "cell_type": "code",
   "execution_count": 14,
   "id": "bf6bb44b-26eb-4935-8b48-6f94bf03c50a",
   "metadata": {},
   "outputs": [],
   "source": [
    "rank_comb = h_comb[['rank', 'score', 'label']] \\\n",
    "    .merge(ale_mean_abs[['rank', 'score', 'label']], how='outer', on='rank',\n",
    "           suffixes=('_h', '_ale')) \\\n",
    "    .merge(shap_mean_abs_int[['rank', 'score', 'label']], how='outer', on='rank') \\\n",
    "    .rename(columns={'score':'score_shap', 'label':'label_shap'})"
   ]
  },
  {
   "cell_type": "code",
   "execution_count": 15,
   "id": "1fe84f1b-06a8-4b0a-9347-b89ba182fe59",
   "metadata": {},
   "outputs": [
    {
     "data": {
      "text/html": [
       "<div>\n",
       "<style scoped>\n",
       "    .dataframe tbody tr th:only-of-type {\n",
       "        vertical-align: middle;\n",
       "    }\n",
       "\n",
       "    .dataframe tbody tr th {\n",
       "        vertical-align: top;\n",
       "    }\n",
       "\n",
       "    .dataframe thead th {\n",
       "        text-align: right;\n",
       "    }\n",
       "</style>\n",
       "<table border=\"1\" class=\"dataframe\">\n",
       "  <thead>\n",
       "    <tr style=\"text-align: right;\">\n",
       "      <th></th>\n",
       "      <th>rank</th>\n",
       "      <th>score_h</th>\n",
       "      <th>label_h</th>\n",
       "      <th>score_ale</th>\n",
       "      <th>label_ale</th>\n",
       "      <th>score_shap</th>\n",
       "      <th>label_shap</th>\n",
       "    </tr>\n",
       "  </thead>\n",
       "  <tbody>\n",
       "    <tr>\n",
       "      <th>0</th>\n",
       "      <td>1.0</td>\n",
       "      <td>0.234603</td>\n",
       "      <td>loan_amnt:revol_bal</td>\n",
       "      <td>0.010546</td>\n",
       "      <td>int_rate:home_ownership__RENT</td>\n",
       "      <td>0.028876</td>\n",
       "      <td>int_rate:term</td>\n",
       "    </tr>\n",
       "    <tr>\n",
       "      <th>1</th>\n",
       "      <td>2.0</td>\n",
       "      <td>0.178645</td>\n",
       "      <td>revol_bal:verification_status</td>\n",
       "      <td>0.010008</td>\n",
       "      <td>int_rate:term</td>\n",
       "      <td>0.018180</td>\n",
       "      <td>int_rate:loan_amnt</td>\n",
       "    </tr>\n",
       "    <tr>\n",
       "      <th>2</th>\n",
       "      <td>3.0</td>\n",
       "      <td>0.171378</td>\n",
       "      <td>loan_amnt:annual_inc</td>\n",
       "      <td>0.009111</td>\n",
       "      <td>int_rate:loan_amnt</td>\n",
       "      <td>0.017503</td>\n",
       "      <td>int_rate:sec_app_fico_range_low</td>\n",
       "    </tr>\n",
       "    <tr>\n",
       "      <th>3</th>\n",
       "      <td>4.0</td>\n",
       "      <td>0.169135</td>\n",
       "      <td>num_actv_bc_tl:revol_bal</td>\n",
       "      <td>0.008109</td>\n",
       "      <td>annual_inc:sec_app_fico_range_low</td>\n",
       "      <td>0.012391</td>\n",
       "      <td>int_rate:annual_inc</td>\n",
       "    </tr>\n",
       "    <tr>\n",
       "      <th>4</th>\n",
       "      <td>5.0</td>\n",
       "      <td>0.128730</td>\n",
       "      <td>home_ownership__RENT:num_actv_bc_tl</td>\n",
       "      <td>0.007709</td>\n",
       "      <td>int_rate:annual_inc</td>\n",
       "      <td>0.010616</td>\n",
       "      <td>int_rate:mort_acc</td>\n",
       "    </tr>\n",
       "  </tbody>\n",
       "</table>\n",
       "</div>"
      ],
      "text/plain": [
       "   rank   score_h                              label_h  score_ale  \\\n",
       "0   1.0  0.234603                  loan_amnt:revol_bal   0.010546   \n",
       "1   2.0  0.178645        revol_bal:verification_status   0.010008   \n",
       "2   3.0  0.171378                 loan_amnt:annual_inc   0.009111   \n",
       "3   4.0  0.169135             num_actv_bc_tl:revol_bal   0.008109   \n",
       "4   5.0  0.128730  home_ownership__RENT:num_actv_bc_tl   0.007709   \n",
       "\n",
       "                           label_ale  score_shap  \\\n",
       "0      int_rate:home_ownership__RENT    0.028876   \n",
       "1                      int_rate:term    0.018180   \n",
       "2                 int_rate:loan_amnt    0.017503   \n",
       "3  annual_inc:sec_app_fico_range_low    0.012391   \n",
       "4                int_rate:annual_inc    0.010616   \n",
       "\n",
       "                        label_shap  \n",
       "0                    int_rate:term  \n",
       "1               int_rate:loan_amnt  \n",
       "2  int_rate:sec_app_fico_range_low  \n",
       "3              int_rate:annual_inc  \n",
       "4                int_rate:mort_acc  "
      ]
     },
     "execution_count": 15,
     "metadata": {},
     "output_type": "execute_result"
    }
   ],
   "source": [
    "rank_comb.head()"
   ]
  },
  {
   "cell_type": "code",
   "execution_count": 16,
   "id": "39ea7740-0c13-4ab8-9a55-dedb52faf83d",
   "metadata": {},
   "outputs": [],
   "source": [
    "rank_comb.to_csv(Path(setup.temp_path).joinpath('06_REPORT_top_interactions_all.csv'),\n",
    "                   index=False)"
   ]
  },
  {
   "cell_type": "markdown",
   "id": "9e60ed6e-5ae0-42a1-a8b2-00ac2e40248f",
   "metadata": {},
   "source": [
    "##### Correlations among ranks and with perturbation importances"
   ]
  },
  {
   "cell_type": "code",
   "execution_count": 17,
   "id": "6b1c6cfa-a561-4209-8b5f-57e6aeec6882",
   "metadata": {},
   "outputs": [],
   "source": [
    "# Merge ranked data by feature"
   ]
  },
  {
   "cell_type": "code",
   "execution_count": 18,
   "id": "0d868cdb-540e-4f44-9135-5d6fd8944cc3",
   "metadata": {},
   "outputs": [],
   "source": [
    "comb_score_by_feature = h_comb[['rank', 'score', 'label', 'feat_1', 'feat_2']] \\\n",
    "    .merge(ale_mean_abs[['rank', 'score', 'feat_1', 'feat_2']], how='outer', \n",
    "           on=['feat_1', 'feat_2'],suffixes=('_h', '_ale')) \\\n",
    "    .merge(shap_mean_abs_int[['rank', 'score', 'feat_1', 'feat_2']], how='outer', \n",
    "           on=['feat_1', 'feat_2']) \\\n",
    "    .rename(columns={'score':'score_shap', 'rank':'rank_shap'})"
   ]
  },
  {
   "cell_type": "code",
   "execution_count": 19,
   "id": "2c079200-fcc7-4ad0-b39b-f6c347fd16bf",
   "metadata": {},
   "outputs": [],
   "source": [
    "# Append permutation feature importances\n",
    "comb_score_by_feature = comb_score_by_feature.merge(perm_importance_df[['features', 'abs_importance']] \\\n",
    "                                      .rename(columns={'abs_importance':'pi_1_a'}),\n",
    "                                  how='left', left_on='feat_1', right_on='features') \\\n",
    "    .drop(columns=['features']) \\\n",
    "    .merge(perm_importance_df[['features', 'abs_importance']] \\\n",
    "                                      .rename(columns={'abs_importance':'pi_2_a'}),\n",
    "                                  how='left', left_on='feat_2', right_on='features') \\\n",
    "    .drop(columns=['features']) "
   ]
  },
  {
   "cell_type": "code",
   "execution_count": 20,
   "id": "3276971f-5af8-465e-8388-efe4b8fbdc2e",
   "metadata": {},
   "outputs": [],
   "source": [
    "# Reorder permutation importances by strength\n",
    "comb_score_by_feature['pi_1'] = np.where(comb_score_by_feature['pi_1_a'] >=  comb_score_by_feature['pi_2_a'],\n",
    "                                   comb_score_by_feature['pi_1_a'], comb_score_by_feature['pi_2_a'])\n",
    "comb_score_by_feature['pi_2'] = np.where(comb_score_by_feature['pi_1_a'] >=  comb_score_by_feature['pi_2_a'],\n",
    "                                   comb_score_by_feature['pi_2_a'], comb_score_by_feature['pi_1_a'])\n",
    "comb_score_by_feature.drop(columns=['pi_1_a', 'pi_2_a'], inplace=True)"
   ]
  },
  {
   "cell_type": "code",
   "execution_count": 21,
   "id": "b964c714-ce05-4bb1-986c-546401012c37",
   "metadata": {},
   "outputs": [
    {
     "data": {
      "text/html": [
       "<div>\n",
       "<style scoped>\n",
       "    .dataframe tbody tr th:only-of-type {\n",
       "        vertical-align: middle;\n",
       "    }\n",
       "\n",
       "    .dataframe tbody tr th {\n",
       "        vertical-align: top;\n",
       "    }\n",
       "\n",
       "    .dataframe thead th {\n",
       "        text-align: right;\n",
       "    }\n",
       "</style>\n",
       "<table border=\"1\" class=\"dataframe\">\n",
       "  <thead>\n",
       "    <tr style=\"text-align: right;\">\n",
       "      <th></th>\n",
       "      <th>rank_h</th>\n",
       "      <th>score_h</th>\n",
       "      <th>label</th>\n",
       "      <th>feat_1</th>\n",
       "      <th>feat_2</th>\n",
       "      <th>rank_ale</th>\n",
       "      <th>score_ale</th>\n",
       "      <th>rank_shap</th>\n",
       "      <th>score_shap</th>\n",
       "      <th>pi_1</th>\n",
       "      <th>pi_2</th>\n",
       "    </tr>\n",
       "  </thead>\n",
       "  <tbody>\n",
       "    <tr>\n",
       "      <th>35</th>\n",
       "      <td>36.0</td>\n",
       "      <td>0.039198</td>\n",
       "      <td>int_rate:home_ownership__RENT</td>\n",
       "      <td>int_rate</td>\n",
       "      <td>home_ownership__RENT</td>\n",
       "      <td>1.0</td>\n",
       "      <td>0.010546</td>\n",
       "      <td>10.0</td>\n",
       "      <td>0.007944</td>\n",
       "      <td>0.003413</td>\n",
       "      <td>0.000759</td>\n",
       "    </tr>\n",
       "    <tr>\n",
       "      <th>8</th>\n",
       "      <td>9.0</td>\n",
       "      <td>0.101609</td>\n",
       "      <td>int_rate:term</td>\n",
       "      <td>int_rate</td>\n",
       "      <td>term</td>\n",
       "      <td>2.0</td>\n",
       "      <td>0.010008</td>\n",
       "      <td>1.0</td>\n",
       "      <td>0.028876</td>\n",
       "      <td>0.003413</td>\n",
       "      <td>0.001203</td>\n",
       "    </tr>\n",
       "    <tr>\n",
       "      <th>18</th>\n",
       "      <td>19.0</td>\n",
       "      <td>0.074452</td>\n",
       "      <td>int_rate:loan_amnt</td>\n",
       "      <td>int_rate</td>\n",
       "      <td>loan_amnt</td>\n",
       "      <td>3.0</td>\n",
       "      <td>0.009111</td>\n",
       "      <td>2.0</td>\n",
       "      <td>0.018180</td>\n",
       "      <td>0.003413</td>\n",
       "      <td>0.001010</td>\n",
       "    </tr>\n",
       "    <tr>\n",
       "      <th>27</th>\n",
       "      <td>28.0</td>\n",
       "      <td>0.055974</td>\n",
       "      <td>annual_inc:sec_app_fico_range_low</td>\n",
       "      <td>annual_inc</td>\n",
       "      <td>sec_app_fico_range_low</td>\n",
       "      <td>4.0</td>\n",
       "      <td>0.008109</td>\n",
       "      <td>30.0</td>\n",
       "      <td>0.004214</td>\n",
       "      <td>0.000983</td>\n",
       "      <td>0.000742</td>\n",
       "    </tr>\n",
       "    <tr>\n",
       "      <th>33</th>\n",
       "      <td>34.0</td>\n",
       "      <td>0.041471</td>\n",
       "      <td>int_rate:annual_inc</td>\n",
       "      <td>int_rate</td>\n",
       "      <td>annual_inc</td>\n",
       "      <td>5.0</td>\n",
       "      <td>0.007709</td>\n",
       "      <td>4.0</td>\n",
       "      <td>0.012391</td>\n",
       "      <td>0.003413</td>\n",
       "      <td>0.000983</td>\n",
       "    </tr>\n",
       "  </tbody>\n",
       "</table>\n",
       "</div>"
      ],
      "text/plain": [
       "    rank_h   score_h                              label      feat_1  \\\n",
       "35    36.0  0.039198      int_rate:home_ownership__RENT    int_rate   \n",
       "8      9.0  0.101609                      int_rate:term    int_rate   \n",
       "18    19.0  0.074452                 int_rate:loan_amnt    int_rate   \n",
       "27    28.0  0.055974  annual_inc:sec_app_fico_range_low  annual_inc   \n",
       "33    34.0  0.041471                int_rate:annual_inc    int_rate   \n",
       "\n",
       "                    feat_2  rank_ale  score_ale  rank_shap  score_shap  \\\n",
       "35    home_ownership__RENT       1.0   0.010546       10.0    0.007944   \n",
       "8                     term       2.0   0.010008        1.0    0.028876   \n",
       "18               loan_amnt       3.0   0.009111        2.0    0.018180   \n",
       "27  sec_app_fico_range_low       4.0   0.008109       30.0    0.004214   \n",
       "33              annual_inc       5.0   0.007709        4.0    0.012391   \n",
       "\n",
       "        pi_1      pi_2  \n",
       "35  0.003413  0.000759  \n",
       "8   0.003413  0.001203  \n",
       "18  0.003413  0.001010  \n",
       "27  0.000983  0.000742  \n",
       "33  0.003413  0.000983  "
      ]
     },
     "execution_count": 21,
     "metadata": {},
     "output_type": "execute_result"
    }
   ],
   "source": [
    "comb_score_by_feature.sort_values('rank_ale').head()"
   ]
  },
  {
   "cell_type": "code",
   "execution_count": 22,
   "id": "55a2d1d7-dc60-47d8-9c5e-abb932b977f7",
   "metadata": {},
   "outputs": [],
   "source": [
    "# Correlations\n",
    "comb_score_corr  = comb_score_by_feature[['score_h', 'score_ale', 'score_shap', 'pi_1', 'pi_2']].corr(method='spearman')"
   ]
  },
  {
   "cell_type": "code",
   "execution_count": 23,
   "id": "6e11eb0b-1235-4aa4-9125-114ebd2c5500",
   "metadata": {},
   "outputs": [
    {
     "data": {
      "text/html": [
       "<div>\n",
       "<style scoped>\n",
       "    .dataframe tbody tr th:only-of-type {\n",
       "        vertical-align: middle;\n",
       "    }\n",
       "\n",
       "    .dataframe tbody tr th {\n",
       "        vertical-align: top;\n",
       "    }\n",
       "\n",
       "    .dataframe thead th {\n",
       "        text-align: right;\n",
       "    }\n",
       "</style>\n",
       "<table border=\"1\" class=\"dataframe\">\n",
       "  <thead>\n",
       "    <tr style=\"text-align: right;\">\n",
       "      <th></th>\n",
       "      <th>score_h</th>\n",
       "      <th>score_ale</th>\n",
       "      <th>score_shap</th>\n",
       "      <th>pi_1</th>\n",
       "      <th>pi_2</th>\n",
       "    </tr>\n",
       "  </thead>\n",
       "  <tbody>\n",
       "    <tr>\n",
       "      <th>score_h</th>\n",
       "      <td>1.000000</td>\n",
       "      <td>0.095125</td>\n",
       "      <td>0.347036</td>\n",
       "      <td>-0.334086</td>\n",
       "      <td>-0.032902</td>\n",
       "    </tr>\n",
       "    <tr>\n",
       "      <th>score_ale</th>\n",
       "      <td>0.095125</td>\n",
       "      <td>1.000000</td>\n",
       "      <td>0.637681</td>\n",
       "      <td>0.546287</td>\n",
       "      <td>0.720390</td>\n",
       "    </tr>\n",
       "    <tr>\n",
       "      <th>score_shap</th>\n",
       "      <td>0.347036</td>\n",
       "      <td>0.637681</td>\n",
       "      <td>1.000000</td>\n",
       "      <td>0.544101</td>\n",
       "      <td>0.762723</td>\n",
       "    </tr>\n",
       "    <tr>\n",
       "      <th>pi_1</th>\n",
       "      <td>-0.334086</td>\n",
       "      <td>0.546287</td>\n",
       "      <td>0.544101</td>\n",
       "      <td>1.000000</td>\n",
       "      <td>0.467320</td>\n",
       "    </tr>\n",
       "    <tr>\n",
       "      <th>pi_2</th>\n",
       "      <td>-0.032902</td>\n",
       "      <td>0.720390</td>\n",
       "      <td>0.762723</td>\n",
       "      <td>0.467320</td>\n",
       "      <td>1.000000</td>\n",
       "    </tr>\n",
       "  </tbody>\n",
       "</table>\n",
       "</div>"
      ],
      "text/plain": [
       "             score_h  score_ale  score_shap      pi_1      pi_2\n",
       "score_h     1.000000   0.095125    0.347036 -0.334086 -0.032902\n",
       "score_ale   0.095125   1.000000    0.637681  0.546287  0.720390\n",
       "score_shap  0.347036   0.637681    1.000000  0.544101  0.762723\n",
       "pi_1       -0.334086   0.546287    0.544101  1.000000  0.467320\n",
       "pi_2       -0.032902   0.720390    0.762723  0.467320  1.000000"
      ]
     },
     "execution_count": 23,
     "metadata": {},
     "output_type": "execute_result"
    }
   ],
   "source": [
    "comb_score_corr"
   ]
  },
  {
   "cell_type": "code",
   "execution_count": 24,
   "id": "d4f08c0c-145b-4360-af11-da5b216484aa",
   "metadata": {},
   "outputs": [],
   "source": [
    "comb_score_corr.to_csv(Path(setup.temp_path).joinpath('06_REPORT_interactions_corr.csv'),\n",
    "                   index=True)"
   ]
  },
  {
   "cell_type": "markdown",
   "id": "6b9c9844-4641-4ff2-9f4d-f67f498087c7",
   "metadata": {},
   "source": [
    "## Term and Interest Rate\n",
    "This is an interaction which shows opposite yet similar effects with SHAP vs. ALE.  Get more information about these features and how the model responds to them."
   ]
  },
  {
   "cell_type": "markdown",
   "id": "80203de4-90e1-4fad-a847-a5e342207057",
   "metadata": {},
   "source": [
    "### Correlations between term and other features"
   ]
  },
  {
   "cell_type": "code",
   "execution_count": 25,
   "id": "291fa1b7-b513-4aa6-87b2-bd5414e753ef",
   "metadata": {},
   "outputs": [],
   "source": [
    "term_corr = pd.DataFrame({'feature': predictor_features,\n",
    "                          'corr': [train_samp_df[['term', f]] \\\n",
    "                                   .corr().iloc[0,1] for f in predictor_features]})"
   ]
  },
  {
   "cell_type": "code",
   "execution_count": 26,
   "id": "6e8a8af4-8ee9-497d-9530-a41deb848547",
   "metadata": {},
   "outputs": [
    {
     "data": {
      "text/html": [
       "<div>\n",
       "<style scoped>\n",
       "    .dataframe tbody tr th:only-of-type {\n",
       "        vertical-align: middle;\n",
       "    }\n",
       "\n",
       "    .dataframe tbody tr th {\n",
       "        vertical-align: top;\n",
       "    }\n",
       "\n",
       "    .dataframe thead th {\n",
       "        text-align: right;\n",
       "    }\n",
       "</style>\n",
       "<table border=\"1\" class=\"dataframe\">\n",
       "  <thead>\n",
       "    <tr style=\"text-align: right;\">\n",
       "      <th></th>\n",
       "      <th>feature</th>\n",
       "      <th>corr</th>\n",
       "    </tr>\n",
       "  </thead>\n",
       "  <tbody>\n",
       "    <tr>\n",
       "      <th>1</th>\n",
       "      <td>term</td>\n",
       "      <td>1.000000</td>\n",
       "    </tr>\n",
       "    <tr>\n",
       "      <th>2</th>\n",
       "      <td>int_rate</td>\n",
       "      <td>0.420609</td>\n",
       "    </tr>\n",
       "    <tr>\n",
       "      <th>0</th>\n",
       "      <td>loan_amnt</td>\n",
       "      <td>0.378657</td>\n",
       "    </tr>\n",
       "    <tr>\n",
       "      <th>5</th>\n",
       "      <td>verification_status</td>\n",
       "      <td>0.130195</td>\n",
       "    </tr>\n",
       "    <tr>\n",
       "      <th>9</th>\n",
       "      <td>initial_list_status</td>\n",
       "      <td>0.101052</td>\n",
       "    </tr>\n",
       "  </tbody>\n",
       "</table>\n",
       "</div>"
      ],
      "text/plain": [
       "               feature      corr\n",
       "1                 term  1.000000\n",
       "2             int_rate  0.420609\n",
       "0            loan_amnt  0.378657\n",
       "5  verification_status  0.130195\n",
       "9  initial_list_status  0.101052"
      ]
     },
     "execution_count": 26,
     "metadata": {},
     "output_type": "execute_result"
    }
   ],
   "source": [
    "term_corr.sort_values('corr', ascending=False).head(5)"
   ]
  },
  {
   "cell_type": "code",
   "execution_count": 27,
   "id": "afe32289-da3f-43d8-9c1b-20a57341d754",
   "metadata": {},
   "outputs": [
    {
     "data": {
      "text/plain": [
       "0.08207"
      ]
     },
     "execution_count": 27,
     "metadata": {},
     "output_type": "execute_result"
    }
   ],
   "source": [
    "len(train_samp_df[train_samp_df['int_rate'] >= 20]) / len(train_samp_df)"
   ]
  },
  {
   "cell_type": "code",
   "execution_count": 28,
   "id": "c700c488-121c-4366-a8cb-20d841330314",
   "metadata": {},
   "outputs": [
    {
     "data": {
      "text/plain": [
       "count    100000.000000\n",
       "mean         13.245706\n",
       "std           4.776438\n",
       "min           5.310000\n",
       "25%           9.750000\n",
       "50%          12.740000\n",
       "75%          15.990000\n",
       "max          30.990000\n",
       "Name: int_rate, dtype: float64"
      ]
     },
     "execution_count": 28,
     "metadata": {},
     "output_type": "execute_result"
    }
   ],
   "source": [
    "train_samp_df['int_rate'].describe()"
   ]
  },
  {
   "cell_type": "code",
   "execution_count": 29,
   "id": "74d84ba0-0971-43cd-bb28-41018d61f26b",
   "metadata": {},
   "outputs": [
    {
     "data": {
      "text/plain": [
       "36    0.75712\n",
       "60    0.24288\n",
       "Name: term, dtype: float64"
      ]
     },
     "execution_count": 29,
     "metadata": {},
     "output_type": "execute_result"
    }
   ],
   "source": [
    "train_samp_df['term'].value_counts(normalize=True)"
   ]
  },
  {
   "cell_type": "markdown",
   "id": "c5c6dd57-3e0a-4ab6-8c3e-2eaf65269ed3",
   "metadata": {},
   "source": [
    "### Trees: Relative Importance for Loan Amount, Term \n",
    "Get decision paths for low and high interest rate cases, for various terms.  See how often these experience the 'term' feature"
   ]
  },
  {
   "cell_type": "markdown",
   "id": "8be62bbf-a390-4d4c-8436-2ce9610ca75d",
   "metadata": {},
   "source": [
    "### 2-Way plots of actual and predicted rates.\n",
    "What does the raw data / response show?  Bucket the interest rates and plot the mean term rates / model response for both term values."
   ]
  },
  {
   "cell_type": "code",
   "execution_count": 30,
   "id": "372557f4-d804-44e6-a2ce-aca13de0eb61",
   "metadata": {},
   "outputs": [],
   "source": [
    "# Get model predictions\n",
    "model_predict = pd.Series(base_model.predict_proba(train_samp_df[predictor_features])[:,1])\n",
    "model_predict.name = 'predict'"
   ]
  },
  {
   "cell_type": "code",
   "execution_count": 31,
   "id": "7c3d8203-3d56-4a63-9565-90ef2d6d4ee7",
   "metadata": {},
   "outputs": [],
   "source": [
    "# Append to data\n",
    "train_pred_df = pd.concat([train_samp_df[['int_rate', 'term', 'target']].reset_index(), \n",
    "                           model_predict], axis=1)"
   ]
  },
  {
   "cell_type": "code",
   "execution_count": 32,
   "id": "d3f494cc-2dc9-40a3-accd-ab5a9ba5de2d",
   "metadata": {},
   "outputs": [],
   "source": [
    "# Bucket the interest rates\n",
    "train_pred_df['int_rate_grp'] = pd.qcut(train_pred_df['int_rate'], 25, duplicates='drop')"
   ]
  },
  {
   "cell_type": "code",
   "execution_count": 33,
   "id": "b5b20dd5-0cf5-4ec3-a180-7d8047d3e7d3",
   "metadata": {},
   "outputs": [],
   "source": [
    "# Aggregate\n",
    "train_samp_agg = train_pred_df.groupby(['int_rate_grp', 'term']) \\\n",
    "    [['target', 'predict']] \\\n",
    "    .agg(['mean', 'std']) \n",
    "train_samp_agg.columns = [c[0]+'_' + c[1] for c in train_samp_agg.columns]\n",
    "train_samp_agg.reset_index(inplace=True)"
   ]
  },
  {
   "cell_type": "code",
   "execution_count": 34,
   "id": "8d69fa6c-d3da-462e-9dae-c1faae587d08",
   "metadata": {},
   "outputs": [],
   "source": [
    "# Add interest rate midpoints for plotting\n",
    "train_samp_agg['plot_x'] = train_samp_agg['int_rate_grp'].apply(lambda x: float(x.mid))"
   ]
  },
  {
   "cell_type": "code",
   "execution_count": 35,
   "id": "701c3bb0-7de0-4048-bae5-cb25f521a3b3",
   "metadata": {},
   "outputs": [],
   "source": [
    "train_samp_agg_plot = train_samp_agg[['plot_x', 'term', 'target_mean', 'predict_mean']] \\\n",
    "    .pivot(index='plot_x', columns='term', values=['target_mean', 'predict_mean'])"
   ]
  },
  {
   "cell_type": "code",
   "execution_count": 36,
   "id": "3b9925d9-24ad-4748-99c8-3aebf268e86b",
   "metadata": {},
   "outputs": [],
   "source": [
    "# Colors array for plot\n",
    "cmap = mpl.cm.coolwarm\n",
    "n = len(train_samp_agg['term'].value_counts())\n",
    "colors = cmap(np.linspace(0,1,n))\n"
   ]
  },
  {
   "cell_type": "code",
   "execution_count": 37,
   "id": "50110c04-4ce4-4761-addc-a2e7fe719d61",
   "metadata": {},
   "outputs": [
    {
     "data": {
      "image/png": "[encoded data removed]",
      "text/plain": [
       "<Figure size 800x200 with 2 Axes>"
      ]
     },
     "metadata": {},
     "output_type": "display_data"
    }
   ],
   "source": [
    "fig, ax = plt.subplots(1,2, sharex=True, sharey=True)\n",
    "figsize=(8,2)\n",
    "    \n",
    "train_samp_agg_plot[[c for c in train_samp_agg_plot.columns if c[0] == 'target_mean']] \\\n",
    "    .droplevel(0, axis=1) \\\n",
    "    .plot(color=colors, legend=None, figsize=figsize, ax=ax[0])\n",
    "train_samp_agg_plot[[c for c in train_samp_agg_plot.columns if c[0] == 'predict_mean']] \\\n",
    "    .droplevel(0, axis=1) \\\n",
    "    .plot(color=colors, legend=None, figsize=figsize, ax=ax[1])     \n",
    "\n",
    "ax[0].legend(frameon=True)\n",
    "ax[1].xaxis.set_major_formatter(FormatStrFormatter('%.0f'))\n",
    "ax[1].yaxis.set_major_formatter(PercentFormatter(1, decimals=0))\n",
    "ax[1].set_xlabel('int_rate')\n",
    "ax[0].set_xlabel('int_rate')\n",
    "ax[0].set_ylabel('mean default')\n",
    "ax[0].title.set_text('Actual')\n",
    "ax[1].title.set_text('Model Prediction')\n",
    "fig.savefig(Path(setup.temp_path).joinpath('06_PLOT_int_term_actual_pred.png'),\n",
    "            bbox_inches='tight')"
   ]
  },
  {
   "cell_type": "markdown",
   "id": "83464684-e1cf-4cd3-bcc9-bc471d2d1abb",
   "metadata": {},
   "source": [
    "### Inspect Trees\n",
    " * Get general stats about nodes involving interest rate and term\n",
    " * Get information about whether higher term leads to higher predictions, at low vs. high interest rates."
   ]
  },
  {
   "cell_type": "code",
   "execution_count": 38,
   "id": "70bcc220-8411-4028-8f4f-2d134bf300e2",
   "metadata": {},
   "outputs": [],
   "source": [
    "# Get the indices of our features of interest - int_rate and term"
   ]
  },
  {
   "cell_type": "code",
   "execution_count": 39,
   "id": "4cf29d1d-620d-4e2f-b5e1-9005caeda158",
   "metadata": {},
   "outputs": [],
   "source": [
    "term_index = predictor_features.index('term')"
   ]
  },
  {
   "cell_type": "code",
   "execution_count": 40,
   "id": "989f7596-9fb9-4516-b314-590d37332c9a",
   "metadata": {},
   "outputs": [],
   "source": [
    "int_rate_index = predictor_features.index('int_rate')"
   ]
  },
  {
   "cell_type": "code",
   "execution_count": 41,
   "id": "b3e7d3d7-8b37-4e8a-8a0c-f08278dceda5",
   "metadata": {},
   "outputs": [],
   "source": [
    "# get the estimators"
   ]
  },
  {
   "cell_type": "code",
   "execution_count": 42,
   "id": "c0fd4f17-5847-49a9-9438-9ad85cd6584a",
   "metadata": {},
   "outputs": [],
   "source": [
    "base_model_est = base_model.estimators_"
   ]
  },
  {
   "cell_type": "code",
   "execution_count": 43,
   "id": "6ffdb0b4-b1b4-4762-ab07-61552f32203e",
   "metadata": {},
   "outputs": [
    {
     "data": {
      "text/plain": [
       "20"
      ]
     },
     "execution_count": 43,
     "metadata": {},
     "output_type": "execute_result"
    }
   ],
   "source": [
    "len(base_model_est)"
   ]
  },
  {
   "cell_type": "markdown",
   "id": "edaf52f9-12a0-4331-b75c-2ab060ce3ba0",
   "metadata": {},
   "source": [
    "### Overall Tree Stats\n",
    "Count nodes for interest rates and term, and see whether any low term values lead to higher predictions"
   ]
  },
  {
   "cell_type": "markdown",
   "id": "16d859bd-d4c8-4e2f-8b71-f05e9d01b0be",
   "metadata": {},
   "source": [
    "##### Function to get tree stats"
   ]
  },
  {
   "cell_type": "code",
   "execution_count": 44,
   "id": "f8d9e1ff-20ef-4ee8-b249-94c5b829d9fa",
   "metadata": {},
   "outputs": [],
   "source": [
    "def get_tree_stats(tree, node_id = 0, \n",
    "                   info_ary = np.array([0, 0, 0, 0, 0]),\n",
    "                   int_rate_index = int_rate_index,\n",
    "                   term_index = term_index):\n",
    "    \"\"\" Traverses the tree, counting nodes of various types.\n",
    "    Recursive function.  Usualy you willl not modify node_id or\n",
    "    info_ary; these are used during recursion.\n",
    "      Inputs:\n",
    "        tree:  The tree to traverse (estimator)\n",
    "        node_id: Starting node for counting.  0 indicates the root,\n",
    "        info_ary:  Start counts of various nodes.  See \"Value\".\n",
    "          Leave as arrays of 0 to count items at or below node_id\n",
    "        int_rate_index: Integer index of the interest rate variable; needed\n",
    "            as the trees do not include feature names.\n",
    "        term_index: Integer index of the term variable\n",
    "      Value:  Numpy array containing tree information.  The 5 items are:\n",
    "        total nodes\n",
    "        total nodes for the interest rate feature\n",
    "        total nodes for the term feature\n",
    "        total nodes for the term feature, where the left value is larger\n",
    "        total nodes for the term feature, where the right value is larger\n",
    "    \"\"\" \n",
    "    \n",
    "    info_ary = info_ary.copy()\n",
    "    \n",
    "    # Count nodes\n",
    "    info_ary[0] += 1\n",
    "    \n",
    "    # Get children\n",
    "    this_left = tree.tree_.children_left[node_id]\n",
    "    this_right = tree.tree_.children_right[node_id]\n",
    "    \n",
    "    # If a leaf node, return\n",
    "    if this_left == this_right:\n",
    "        return info_ary\n",
    "    \n",
    "    this_feature = tree.tree_.feature[node_id]\n",
    "    \n",
    "    if (this_feature == int_rate_index):\n",
    "        info_ary[1] += 1\n",
    "    elif (this_feature == term_index):\n",
    "        info_ary[2] += 1\n",
    "        value_left = tree.tree_.value[this_left][0][0]\n",
    "        value_right = tree.tree_.value[this_right][0][0]\n",
    "        if value_left >= value_right:\n",
    "            info_ary[3] += 1\n",
    "        else:\n",
    "            info_ary[4] += 1\n",
    "        \n",
    "    # Helper function to pass most features to the next node\n",
    "    def return_node(node_id):\n",
    "        return get_tree_stats(tree, node_id, \n",
    "                   info_ary = info_ary,\n",
    "                   int_rate_index = int_rate_index,\n",
    "                   term_index = term_index)\n",
    "    \n",
    "    # Traverse tree both ways\n",
    "    return return_node(this_left) + \\\n",
    "            return_node(this_right)\n",
    "                "
   ]
  },
  {
   "cell_type": "markdown",
   "id": "7b864d1a-2a0b-4d7e-a0f6-744406e78f1e",
   "metadata": {},
   "source": [
    "##### Get stats for all trees"
   ]
  },
  {
   "cell_type": "code",
   "execution_count": 45,
   "id": "12256acc-0bd8-4bfe-81e7-75e679aee278",
   "metadata": {},
   "outputs": [],
   "source": [
    "tree_stats = pd.concat([pd.DataFrame(get_tree_stats(e)).T \\\n",
    "                        .set_axis(['tot_node', 'int_rate_node', \n",
    "                                   'term_node',  'term_node_left', 'term_node_right'], \n",
    "                                  axis=1) \\\n",
    "                        for e in base_model_est[:,0]], \n",
    "                       axis=0, keys = range(0, len(base_model_est))) \\\n",
    "    .reset_index(level=0, drop=False) \\\n",
    "    .rename(columns={'level_0': 'tree_index'}) \\\n",
    "    .reset_index(drop=True)\n",
    "                       "
   ]
  },
  {
   "cell_type": "code",
   "execution_count": 46,
   "id": "7e154c5b-01f8-476d-a9c0-8d841a9a4bbc",
   "metadata": {},
   "outputs": [
    {
     "data": {
      "text/html": [
       "<div>\n",
       "<style scoped>\n",
       "    .dataframe tbody tr th:only-of-type {\n",
       "        vertical-align: middle;\n",
       "    }\n",
       "\n",
       "    .dataframe tbody tr th {\n",
       "        vertical-align: top;\n",
       "    }\n",
       "\n",
       "    .dataframe thead th {\n",
       "        text-align: right;\n",
       "    }\n",
       "</style>\n",
       "<table border=\"1\" class=\"dataframe\">\n",
       "  <thead>\n",
       "    <tr style=\"text-align: right;\">\n",
       "      <th></th>\n",
       "      <th>tree_index</th>\n",
       "      <th>tot_node</th>\n",
       "      <th>int_rate_node</th>\n",
       "      <th>term_node</th>\n",
       "      <th>term_node_left</th>\n",
       "      <th>term_node_right</th>\n",
       "    </tr>\n",
       "  </thead>\n",
       "  <tbody>\n",
       "    <tr>\n",
       "      <th>0</th>\n",
       "      <td>0</td>\n",
       "      <td>192</td>\n",
       "      <td>86</td>\n",
       "      <td>24</td>\n",
       "      <td>0</td>\n",
       "      <td>24</td>\n",
       "    </tr>\n",
       "    <tr>\n",
       "      <th>1</th>\n",
       "      <td>1</td>\n",
       "      <td>192</td>\n",
       "      <td>78</td>\n",
       "      <td>24</td>\n",
       "      <td>0</td>\n",
       "      <td>24</td>\n",
       "    </tr>\n",
       "    <tr>\n",
       "      <th>2</th>\n",
       "      <td>2</td>\n",
       "      <td>192</td>\n",
       "      <td>82</td>\n",
       "      <td>16</td>\n",
       "      <td>0</td>\n",
       "      <td>16</td>\n",
       "    </tr>\n",
       "  </tbody>\n",
       "</table>\n",
       "</div>"
      ],
      "text/plain": [
       "   tree_index  tot_node  int_rate_node  term_node  term_node_left  \\\n",
       "0           0       192             86         24               0   \n",
       "1           1       192             78         24               0   \n",
       "2           2       192             82         16               0   \n",
       "\n",
       "   term_node_right  \n",
       "0               24  \n",
       "1               24  \n",
       "2               16  "
      ]
     },
     "execution_count": 46,
     "metadata": {},
     "output_type": "execute_result"
    }
   ],
   "source": [
    "tree_stats.head(3)"
   ]
  },
  {
   "cell_type": "code",
   "execution_count": 47,
   "id": "c5e6bcf2-bc6f-4be4-90b9-4b84140d1467",
   "metadata": {},
   "outputs": [],
   "source": [
    "tree_stats.to_csv(Path(setup.temp_path).joinpath('06_REPORT_tree_stats_all.csv'),\n",
    "                  index=False)"
   ]
  },
  {
   "cell_type": "code",
   "execution_count": 48,
   "id": "f416bebc-5584-4b70-b73d-03f63609bf55",
   "metadata": {},
   "outputs": [
    {
     "data": {
      "text/html": [
       "<div>\n",
       "<style scoped>\n",
       "    .dataframe tbody tr th:only-of-type {\n",
       "        vertical-align: middle;\n",
       "    }\n",
       "\n",
       "    .dataframe tbody tr th {\n",
       "        vertical-align: top;\n",
       "    }\n",
       "\n",
       "    .dataframe thead th {\n",
       "        text-align: right;\n",
       "    }\n",
       "</style>\n",
       "<table border=\"1\" class=\"dataframe\">\n",
       "  <thead>\n",
       "    <tr style=\"text-align: right;\">\n",
       "      <th></th>\n",
       "      <th>tree_index</th>\n",
       "      <th>tot_node</th>\n",
       "      <th>int_rate_node</th>\n",
       "      <th>term_node</th>\n",
       "      <th>term_node_left</th>\n",
       "      <th>term_node_right</th>\n",
       "    </tr>\n",
       "  </thead>\n",
       "  <tbody>\n",
       "    <tr>\n",
       "      <th>count</th>\n",
       "      <td>20.00000</td>\n",
       "      <td>20.000000</td>\n",
       "      <td>20.000000</td>\n",
       "      <td>20.000000</td>\n",
       "      <td>20.0</td>\n",
       "      <td>20.000000</td>\n",
       "    </tr>\n",
       "    <tr>\n",
       "      <th>mean</th>\n",
       "      <td>9.50000</td>\n",
       "      <td>185.550000</td>\n",
       "      <td>42.850000</td>\n",
       "      <td>10.050000</td>\n",
       "      <td>0.0</td>\n",
       "      <td>10.050000</td>\n",
       "    </tr>\n",
       "    <tr>\n",
       "      <th>std</th>\n",
       "      <td>5.91608</td>\n",
       "      <td>13.315899</td>\n",
       "      <td>27.722829</td>\n",
       "      <td>8.864328</td>\n",
       "      <td>0.0</td>\n",
       "      <td>8.864328</td>\n",
       "    </tr>\n",
       "    <tr>\n",
       "      <th>min</th>\n",
       "      <td>0.00000</td>\n",
       "      <td>145.000000</td>\n",
       "      <td>2.000000</td>\n",
       "      <td>0.000000</td>\n",
       "      <td>0.0</td>\n",
       "      <td>0.000000</td>\n",
       "    </tr>\n",
       "    <tr>\n",
       "      <th>25%</th>\n",
       "      <td>4.75000</td>\n",
       "      <td>185.000000</td>\n",
       "      <td>17.000000</td>\n",
       "      <td>2.000000</td>\n",
       "      <td>0.0</td>\n",
       "      <td>2.000000</td>\n",
       "    </tr>\n",
       "    <tr>\n",
       "      <th>50%</th>\n",
       "      <td>9.50000</td>\n",
       "      <td>192.000000</td>\n",
       "      <td>41.000000</td>\n",
       "      <td>8.000000</td>\n",
       "      <td>0.0</td>\n",
       "      <td>8.000000</td>\n",
       "    </tr>\n",
       "    <tr>\n",
       "      <th>75%</th>\n",
       "      <td>14.25000</td>\n",
       "      <td>192.000000</td>\n",
       "      <td>63.500000</td>\n",
       "      <td>17.250000</td>\n",
       "      <td>0.0</td>\n",
       "      <td>17.250000</td>\n",
       "    </tr>\n",
       "    <tr>\n",
       "      <th>max</th>\n",
       "      <td>19.00000</td>\n",
       "      <td>192.000000</td>\n",
       "      <td>86.000000</td>\n",
       "      <td>24.000000</td>\n",
       "      <td>0.0</td>\n",
       "      <td>24.000000</td>\n",
       "    </tr>\n",
       "  </tbody>\n",
       "</table>\n",
       "</div>"
      ],
      "text/plain": [
       "       tree_index    tot_node  int_rate_node  term_node  term_node_left  \\\n",
       "count    20.00000   20.000000      20.000000  20.000000            20.0   \n",
       "mean      9.50000  185.550000      42.850000  10.050000             0.0   \n",
       "std       5.91608   13.315899      27.722829   8.864328             0.0   \n",
       "min       0.00000  145.000000       2.000000   0.000000             0.0   \n",
       "25%       4.75000  185.000000      17.000000   2.000000             0.0   \n",
       "50%       9.50000  192.000000      41.000000   8.000000             0.0   \n",
       "75%      14.25000  192.000000      63.500000  17.250000             0.0   \n",
       "max      19.00000  192.000000      86.000000  24.000000             0.0   \n",
       "\n",
       "       term_node_right  \n",
       "count        20.000000  \n",
       "mean         10.050000  \n",
       "std           8.864328  \n",
       "min           0.000000  \n",
       "25%           2.000000  \n",
       "50%           8.000000  \n",
       "75%          17.250000  \n",
       "max          24.000000  "
      ]
     },
     "execution_count": 48,
     "metadata": {},
     "output_type": "execute_result"
    }
   ],
   "source": [
    "tree_stats_summary = tree_stats.describe()\n",
    "tree_stats_summary"
   ]
  },
  {
   "cell_type": "code",
   "execution_count": 49,
   "id": "416ff728-3d4f-4673-a186-22527d2ea7ea",
   "metadata": {},
   "outputs": [],
   "source": [
    "tree_stats_summary.to_csv(Path(setup.temp_path).joinpath('06_REPORT_tree_stats_summary.csv'),\n",
    "                  index=True)"
   ]
  },
  {
   "cell_type": "markdown",
   "id": "6448a158-20ed-4869-9525-8f35722eda6f",
   "metadata": {},
   "source": [
    "### Trees: Relative Importance for Loan Amount, Term \n",
    "Get decision paths for low and high interest rate cases, for various terms.  See how often these experience the 'term' feature"
   ]
  },
  {
   "cell_type": "code",
   "execution_count": 50,
   "id": "db023830-b74b-410d-9817-1d1f9b87dc7e",
   "metadata": {},
   "outputs": [],
   "source": [
    "# Function to get the value difference for the nodes involving a\n",
    "# feature.  Get the mean per path."
   ]
  },
  {
   "cell_type": "code",
   "execution_count": 51,
   "id": "0d9026ca-e75a-451a-9029-63092be5fcf7",
   "metadata": {},
   "outputs": [],
   "source": [
    "def path_value_diff(tree, decision_paths,\n",
    "                     feature_index = term_index):\n",
    "    \"\"\" For decision paths in a tree, find the first node involving\n",
    "    a specified feature, if any.  Then, find the change in value\n",
    "    for the left and right paths after that split\"\"\"\n",
    "    \n",
    "    # Flag nodes involving the feature in the tree:\n",
    "    feature_nodes = (tree.tree_.feature == feature_index)\n",
    "    \n",
    "    # Repeat the matrix to match the number of decision paths\n",
    "    feature_nodes_mat = np.asmatrix(np.repeat(feature_nodes, \n",
    "                                              decision_paths.shape[0], 0) \\\n",
    "        .reshape((feature_nodes.shape[0], decision_paths.shape[0])).T)\n",
    "    \n",
    "    # Element-wise multiplication to get nodes in the decision paths\n",
    "    # involving the feature\n",
    "    decision_paths_mask = decision_paths.multiply(feature_nodes_mat)\n",
    "    found_ind = sp.find(decision_paths_mask == 1)\n",
    "    \n",
    "    # Convert to a data frame\n",
    "    found_df = pd.DataFrame({'ind':found_ind[0], 'node':found_ind[1]}) \\\n",
    "        .sort_values('ind')\n",
    "    \n",
    "    # Get the splits\n",
    "    found_df['val_left'] = found_df['node'] \\\n",
    "        .apply(lambda x: tree.tree_.value[tree.tree_.children_left[x]][0][0])\n",
    "    found_df['val_right'] = found_df['node'] \\\n",
    "        .apply(lambda x: tree.tree_.value[tree.tree_.children_right[x]][0][0])\n",
    "    found_df['val_diff'] = found_df['val_right']  - found_df['val_left']\n",
    "    \n",
    "    # Get the number of samples reaching this node\n",
    "    found_df['node_samp'] = found_df['node'] \\\n",
    "        .apply(lambda x: tree.tree_.n_node_samples[x])\n",
    "    \n",
    "    # Get mean per path\n",
    "    found_agg = found_df.groupby('ind')[['val_diff', 'node_samp']].apply('max')\n",
    "    \n",
    "    return found_agg\n",
    "\n",
    "    "
   ]
  },
  {
   "cell_type": "code",
   "execution_count": 52,
   "id": "895f466e-ee78-4440-bb54-f5e045ecc673",
   "metadata": {},
   "outputs": [],
   "source": [
    "# Function to get decision path information for a tree"
   ]
  },
  {
   "cell_type": "code",
   "execution_count": 53,
   "id": "5fa521e7-0774-4671-9cb1-e6c167a796d5",
   "metadata": {},
   "outputs": [],
   "source": [
    "def decision_path_counter(tree, X,\n",
    "                          int_rate_index = int_rate_index,\n",
    "                         term_index = term_index):\n",
    "    \"\"\" Looks at decision paths in a tree for a dataset, and\n",
    "    counts the number of times the interest rate and term features\n",
    "    occur for each observation.  Also returns some overall tree stats\n",
    "    \"\"\"\n",
    "    \n",
    "    # Get features of interest\n",
    "    int_rate_features = (tree.tree_.feature == int_rate_index)\n",
    "    term_features = (tree.tree_.feature == term_index)\n",
    "    \n",
    "    # Get the decision paths for the observations in X\n",
    "    decision_paths = tree.decision_path(X)\n",
    "    \n",
    "    # Count nodes of each type\n",
    "    node_count_int_rate = decision_paths * int_rate_features\n",
    "    node_count_term = decision_paths * term_features\n",
    "    \n",
    "    # Convert to a series\n",
    "    count_df = pd.concat([pd.Series(node_count_int_rate).rename('int_rate_traversed'),\n",
    "                          pd.Series(node_count_term).rename('term_traversed')],\n",
    "                         axis=1)\n",
    "    \n",
    "    # Append overall tree information\n",
    "    count_df['int_rate_total'] = np.sum(int_rate_features)\n",
    "    count_df['term_total'] = np.sum(term_features)\n",
    "    count_df['total_nodes'] = tree.tree_.node_count\n",
    "    \n",
    "    # Find split info for term\n",
    "    term_split_val = path_value_diff(tree, decision_paths, term_index)\n",
    "    \n",
    "    count_df = count_df.merge(term_split_val, left_index = True, right_index=True,\n",
    "                             how='left')\n",
    "\n",
    "    return count_df"
   ]
  },
  {
   "cell_type": "code",
   "execution_count": 54,
   "id": "59926bd8-eeae-4ffa-9fd2-30dcfda6e99d",
   "metadata": {},
   "outputs": [],
   "source": [
    "# Get stats for all trees"
   ]
  },
  {
   "cell_type": "code",
   "execution_count": 55,
   "id": "30039a7e-ad7c-4e2f-b26e-901dc8264545",
   "metadata": {},
   "outputs": [],
   "source": [
    "with warnings.catch_warnings():\n",
    "    warnings.simplefilter(\"ignore\")\n",
    "    node_counts = pd.concat([decision_path_counter(e, train_samp_df[predictor_features]) \\\n",
    "                             for e in base_model_est[:,0]], axis=0,\n",
    "                            keys = range(0, len(base_model_est))) \\\n",
    "        .reset_index(level=1, drop=False) \\\n",
    "        .rename(columns={'level_1': 'case_index'}) "
   ]
  },
  {
   "cell_type": "code",
   "execution_count": 56,
   "id": "9b194e1c-ef17-460d-93a2-f8f3f466c68a",
   "metadata": {},
   "outputs": [],
   "source": [
    "node_counts['val_diff'] = node_counts['val_diff'].fillna(0)\n",
    "node_counts['node_samp'] = node_counts['node_samp'].fillna(0)"
   ]
  },
  {
   "cell_type": "code",
   "execution_count": 57,
   "id": "2f126377-7a57-4744-bf1d-9e11cf1ee523",
   "metadata": {},
   "outputs": [
    {
     "data": {
      "text/html": [
       "<div>\n",
       "<style scoped>\n",
       "    .dataframe tbody tr th:only-of-type {\n",
       "        vertical-align: middle;\n",
       "    }\n",
       "\n",
       "    .dataframe tbody tr th {\n",
       "        vertical-align: top;\n",
       "    }\n",
       "\n",
       "    .dataframe thead th {\n",
       "        text-align: right;\n",
       "    }\n",
       "</style>\n",
       "<table border=\"1\" class=\"dataframe\">\n",
       "  <thead>\n",
       "    <tr style=\"text-align: right;\">\n",
       "      <th></th>\n",
       "      <th>case_index</th>\n",
       "      <th>int_rate_traversed</th>\n",
       "      <th>term_traversed</th>\n",
       "      <th>int_rate_total</th>\n",
       "      <th>term_total</th>\n",
       "      <th>total_nodes</th>\n",
       "      <th>val_diff</th>\n",
       "      <th>node_samp</th>\n",
       "    </tr>\n",
       "  </thead>\n",
       "  <tbody>\n",
       "    <tr>\n",
       "      <th>0</th>\n",
       "      <td>0</td>\n",
       "      <td>2</td>\n",
       "      <td>1</td>\n",
       "      <td>10</td>\n",
       "      <td>3</td>\n",
       "      <td>63</td>\n",
       "      <td>0.063854</td>\n",
       "      <td>68264.0</td>\n",
       "    </tr>\n",
       "    <tr>\n",
       "      <th>0</th>\n",
       "      <td>1</td>\n",
       "      <td>2</td>\n",
       "      <td>1</td>\n",
       "      <td>10</td>\n",
       "      <td>3</td>\n",
       "      <td>63</td>\n",
       "      <td>0.063854</td>\n",
       "      <td>68264.0</td>\n",
       "    </tr>\n",
       "    <tr>\n",
       "      <th>0</th>\n",
       "      <td>2</td>\n",
       "      <td>3</td>\n",
       "      <td>1</td>\n",
       "      <td>10</td>\n",
       "      <td>3</td>\n",
       "      <td>63</td>\n",
       "      <td>0.111085</td>\n",
       "      <td>39073.0</td>\n",
       "    </tr>\n",
       "    <tr>\n",
       "      <th>0</th>\n",
       "      <td>3</td>\n",
       "      <td>3</td>\n",
       "      <td>0</td>\n",
       "      <td>10</td>\n",
       "      <td>3</td>\n",
       "      <td>63</td>\n",
       "      <td>0.000000</td>\n",
       "      <td>0.0</td>\n",
       "    </tr>\n",
       "    <tr>\n",
       "      <th>0</th>\n",
       "      <td>4</td>\n",
       "      <td>3</td>\n",
       "      <td>1</td>\n",
       "      <td>10</td>\n",
       "      <td>3</td>\n",
       "      <td>63</td>\n",
       "      <td>0.111085</td>\n",
       "      <td>39073.0</td>\n",
       "    </tr>\n",
       "  </tbody>\n",
       "</table>\n",
       "</div>"
      ],
      "text/plain": [
       "   case_index  int_rate_traversed  term_traversed  int_rate_total  term_total  \\\n",
       "0           0                   2               1              10           3   \n",
       "0           1                   2               1              10           3   \n",
       "0           2                   3               1              10           3   \n",
       "0           3                   3               0              10           3   \n",
       "0           4                   3               1              10           3   \n",
       "\n",
       "   total_nodes  val_diff  node_samp  \n",
       "0           63  0.063854    68264.0  \n",
       "0           63  0.063854    68264.0  \n",
       "0           63  0.111085    39073.0  \n",
       "0           63  0.000000        0.0  \n",
       "0           63  0.111085    39073.0  "
      ]
     },
     "execution_count": 57,
     "metadata": {},
     "output_type": "execute_result"
    }
   ],
   "source": [
    "node_counts.head()"
   ]
  },
  {
   "cell_type": "code",
   "execution_count": 58,
   "id": "1649d745-fb15-429d-8d1e-7f79df4a8724",
   "metadata": {},
   "outputs": [
    {
     "data": {
      "text/plain": [
       "(2000000, 8)"
      ]
     },
     "execution_count": 58,
     "metadata": {},
     "output_type": "execute_result"
    }
   ],
   "source": [
    "node_counts.shape"
   ]
  },
  {
   "cell_type": "code",
   "execution_count": 59,
   "id": "d16ef6ef-6727-4c69-aea0-4ce7f4dcc428",
   "metadata": {},
   "outputs": [],
   "source": [
    "node_counts_tot = node_counts.groupby('case_index')\\\n",
    "    .agg('mean')"
   ]
  },
  {
   "cell_type": "code",
   "execution_count": 60,
   "id": "86ffe11c-1261-41d0-8529-a909ac7219df",
   "metadata": {},
   "outputs": [
    {
     "data": {
      "text/plain": [
       "(100000, 7)"
      ]
     },
     "execution_count": 60,
     "metadata": {},
     "output_type": "execute_result"
    }
   ],
   "source": [
    "node_counts_tot.shape"
   ]
  },
  {
   "cell_type": "code",
   "execution_count": 61,
   "id": "e48a5563-c4fd-46cd-a7a0-19403fd39651",
   "metadata": {},
   "outputs": [],
   "source": [
    "dec_path_info_merge = pd.concat([train_samp_df[['int_rate', 'term']], node_counts_tot], axis=1)"
   ]
  },
  {
   "cell_type": "code",
   "execution_count": 62,
   "id": "949e5a93-f500-4f8a-9faf-a10098cb9d4f",
   "metadata": {},
   "outputs": [],
   "source": [
    "dec_path_info_merge['int_rate_q'] = pd.cut(dec_path_info_merge['int_rate'], 25)\n",
    "dec_path_info_merge['int_rate_q'] = dec_path_info_merge['int_rate_q'].apply(lambda x: x.mid) \\\n",
    "    .astype('float')"
   ]
  },
  {
   "cell_type": "code",
   "execution_count": 63,
   "id": "e19222a6-d40b-48df-ae61-5016bf06099a",
   "metadata": {},
   "outputs": [],
   "source": [
    "dec_path_agg = dec_path_info_merge.groupby(['int_rate_q', 'term']) \\\n",
    "    .agg('mean') \\\n",
    "    .reset_index()"
   ]
  },
  {
   "cell_type": "code",
   "execution_count": 64,
   "id": "0d4a5e25-87f1-4b34-aa6a-97e1b2e0acdd",
   "metadata": {},
   "outputs": [
    {
     "data": {
      "text/plain": [
       "<AxesSubplot: xlabel='int_rate', ylabel='node_samp'>"
      ]
     },
     "execution_count": 64,
     "metadata": {},
     "output_type": "execute_result"
    },
    {
     "data": {
      "image/png": "[encoded data removed]",
      "text/plain": [
       "<Figure size 640x480 with 1 Axes>"
      ]
     },
     "metadata": {},
     "output_type": "display_data"
    }
   ],
   "source": [
    "dec_path_info_merge[dec_path_info_merge['term'] ==36].plot(x='int_rate', y='node_samp',\n",
    "                                                           kind='scatter')"
   ]
  },
  {
   "cell_type": "code",
   "execution_count": 65,
   "id": "0c604edb-53eb-4896-8044-43d77e94f202",
   "metadata": {},
   "outputs": [
    {
     "data": {
      "text/plain": [
       "<AxesSubplot: xlabel='int_rate', ylabel='node_samp'>"
      ]
     },
     "execution_count": 65,
     "metadata": {},
     "output_type": "execute_result"
    },
    {
     "data": {
      "image/png": "[encoded data removed]",
      "text/plain": [
       "<Figure size 640x480 with 1 Axes>"
      ]
     },
     "metadata": {},
     "output_type": "display_data"
    }
   ],
   "source": [
    "dec_path_agg[dec_path_agg['term'] ==60].plot(x='int_rate', y='node_samp',\n",
    "                                                           kind='scatter')"
   ]
  },
  {
   "cell_type": "code",
   "execution_count": 66,
   "id": "f91888ca-56c6-400f-b907-ef67b27b36f0",
   "metadata": {},
   "outputs": [
    {
     "ename": "NameError",
     "evalue": "name 'this_tree' is not defined",
     "output_type": "error",
     "traceback": [
      "\u001b[0;31m---------------------------------------------------------------------------\u001b[0m",
      "\u001b[0;31mNameError\u001b[0m                                 Traceback (most recent call last)",
      "Cell \u001b[0;32mIn [66], line 1\u001b[0m\n\u001b[0;32m----> 1\u001b[0m \u001b[38;5;28mtype\u001b[39m(\u001b[43mthis_tree\u001b[49m\u001b[38;5;241m.\u001b[39mtree_\u001b[38;5;241m.\u001b[39mchildren_right)\n",
      "\u001b[0;31mNameError\u001b[0m: name 'this_tree' is not defined"
     ]
    }
   ],
   "source": [
    "type(this_tree.tree_.children_right)"
   ]
  },
  {
   "cell_type": "code",
   "execution_count": null,
   "id": "c7b9ff37-d465-4801-b43c-824de8c717e0",
   "metadata": {},
   "outputs": [],
   "source": [
    "this_tree"
   ]
  },
  {
   "cell_type": "code",
   "execution_count": null,
   "id": "a585f41a-145c-41d8-8d03-cbfef6d1ae0f",
   "metadata": {},
   "outputs": [],
   "source": []
  }
 ],
 "metadata": {
  "kernelspec": {
   "display_name": "Python 3 (ipykernel)",
   "language": "python",
   "name": "python3"
  },
  "language_info": {
   "codemirror_mode": {
    "name": "ipython",
    "version": 3
   },
   "file_extension": ".py",
   "mimetype": "text/x-python",
   "name": "python",
   "nbconvert_exporter": "python",
   "pygments_lexer": "ipython3",
   "version": "3.10.2"
  }
 },
 "nbformat": 4,
 "nbformat_minor": 5
}
