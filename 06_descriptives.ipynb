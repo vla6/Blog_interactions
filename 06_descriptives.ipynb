{
 "cells": [
  {
   "cell_type": "code",
   "execution_count": 1,
   "id": "44b56386-9bd6-40db-8e61-0cebc1fd983b",
   "metadata": {
    "tags": []
   },
   "outputs": [],
   "source": [
    "# Modify the file 00_setup.py to define input/output file paths on your system\n",
    "# The information in 00_setup.py will be used across notebooks\n",
    "from importlib.machinery import SourceFileLoader\n",
    "setup = SourceFileLoader(\"setup\", \"./00_setup.py\").load_module()"
   ]
  },
  {
   "cell_type": "markdown",
   "id": "5975abcf-8c2a-4ad4-9531-79799842931f",
   "metadata": {},
   "source": [
    "# 06: Base Model Descriptives\n",
    " * Compare the results for Friedman's H, ALE, and Shapley.  \n",
    " * Get some descriptive plots relating to term and interest rate"
   ]
  },
  {
   "cell_type": "markdown",
   "id": "f2f60612-7830-4112-b1d3-1617d123de4d",
   "metadata": {},
   "source": [
    "*This script takes about 1 minutes on my MacBook Air*"
   ]
  },
  {
   "cell_type": "code",
   "execution_count": 2,
   "id": "61ff97aa-210f-4817-9e6b-44934d50ad6a",
   "metadata": {},
   "outputs": [],
   "source": [
    "import pandas as pd\n",
    "import numpy as np\n",
    "import matplotlib.pyplot as plt\n",
    "import seaborn as sns\n",
    "import pickle\n",
    "from pathlib import Path\n",
    "import sklearn as sk\n",
    "import matplotlib as mpl\n",
    "import scipy\n",
    "import random\n",
    "from matplotlib.ticker import FormatStrFormatter, PercentFormatter\n",
    "from sklearn.inspection import partial_dependence"
   ]
  },
  {
   "cell_type": "code",
   "execution_count": 3,
   "id": "d0ced6de-78b1-49fb-9108-79df75db9f51",
   "metadata": {},
   "outputs": [],
   "source": [
    "from interactions_package.interactions_package import ip_plot"
   ]
  },
  {
   "cell_type": "code",
   "execution_count": 4,
   "id": "6830d40c-3717-46e9-a7f6-e53ac0fb1dbd",
   "metadata": {},
   "outputs": [],
   "source": [
    "ip_plot.plot_defaults()"
   ]
  },
  {
   "cell_type": "markdown",
   "id": "2d3dbffa-7110-4c13-bd9b-5148bbb48798",
   "metadata": {},
   "source": [
    "## Import Data"
   ]
  },
  {
   "cell_type": "markdown",
   "id": "edd1ff00-2636-4b05-b251-3c5dff94e39e",
   "metadata": {},
   "source": [
    "##### Predictors"
   ]
  },
  {
   "cell_type": "code",
   "execution_count": 5,
   "id": "6fa544ef-5b04-45a2-a4e6-626769a8d8cc",
   "metadata": {},
   "outputs": [],
   "source": [
    "predictor_features = pd.read_csv(Path(setup.temp_path) \\\n",
    "                                 .joinpath('01_REPORT_predictor_features.csv'))['feature'].tolist()"
   ]
  },
  {
   "cell_type": "markdown",
   "id": "fd64c3e4-2d2d-4787-b72c-92ee456fa038",
   "metadata": {},
   "source": [
    "##### Dataset - train, test, and sampled train"
   ]
  },
  {
   "cell_type": "code",
   "execution_count": 6,
   "id": "5ab17675-38f7-4f82-9507-54b494679a5c",
   "metadata": {},
   "outputs": [],
   "source": [
    "test_df = pd.read_parquet(Path(setup.temp_path).joinpath('01_DATA_combined_base_test.parquet'))\n",
    "train_df = pd.read_parquet(Path(setup.temp_path).joinpath('01_DATA_combined_base_train.parquet'))"
   ]
  },
  {
   "cell_type": "code",
   "execution_count": 7,
   "id": "a4d5b29c-9191-4060-874f-67015a559a39",
   "metadata": {},
   "outputs": [],
   "source": [
    "train_samp_df = pd.read_parquet(Path(setup.temp_path) \\\n",
    "                                .joinpath('03_DATA_combined_base_train_samp.parquet')) "
   ]
  },
  {
   "cell_type": "markdown",
   "id": "700b4c25-1325-4904-baf1-aa364ba650c2",
   "metadata": {},
   "source": [
    "##### Model"
   ]
  },
  {
   "cell_type": "code",
   "execution_count": 8,
   "id": "a5d41d78-cb6f-4e02-82bf-c8419a3f360c",
   "metadata": {},
   "outputs": [],
   "source": [
    "with open(Path(setup.temp_path).joinpath('02_MODEL_base_gc.pkl'), 'rb') as pi:\n",
    "    base_model = pickle.load(pi)"
   ]
  },
  {
   "cell_type": "markdown",
   "id": "4d31c639-2181-4955-929b-befa334441f3",
   "metadata": {},
   "source": [
    "##### Permutation importances"
   ]
  },
  {
   "cell_type": "code",
   "execution_count": 9,
   "id": "d2800ff4-c1a2-4e22-9095-77a5a46065b1",
   "metadata": {},
   "outputs": [],
   "source": [
    "perm_importance_df = pd.read_csv(Path(setup.temp_path).joinpath('02_DATA_importance_perturb.csv'))"
   ]
  },
  {
   "cell_type": "markdown",
   "id": "248436b0-1d8a-4809-adaa-47054d3579b9",
   "metadata": {},
   "source": [
    "##### Friedman's H Scores"
   ]
  },
  {
   "cell_type": "code",
   "execution_count": 10,
   "id": "f30c9b37-056c-4be3-962c-8de07fbaa4fd",
   "metadata": {},
   "outputs": [],
   "source": [
    "h_comb = pd.read_csv(Path(setup.temp_path).joinpath('03_DATA_h_scores.csv'))"
   ]
  },
  {
   "cell_type": "markdown",
   "id": "dbc26aa7-7cd1-4cfa-9024-4a9fd6051474",
   "metadata": {},
   "source": [
    "##### 2-Way ALE Mean Abs"
   ]
  },
  {
   "cell_type": "code",
   "execution_count": 11,
   "id": "4153d13a-5392-4000-884b-1a5b309b28e6",
   "metadata": {},
   "outputs": [],
   "source": [
    "ale_mean_abs = pd.read_csv(Path(setup.temp_path).joinpath('04_DATA_ale_magnitudes_2way.csv'))"
   ]
  },
  {
   "cell_type": "markdown",
   "id": "d827ef6e-9d6f-4504-b52d-22d34d0a9879",
   "metadata": {},
   "source": [
    "##### Shapley Interaction Mean Abs"
   ]
  },
  {
   "cell_type": "code",
   "execution_count": 12,
   "id": "0699bb7b-e148-4998-814f-3597b3788a4c",
   "metadata": {},
   "outputs": [],
   "source": [
    "shap_mean_abs = pd.read_csv(Path(setup.temp_path).joinpath('05_DATA_shap_mean_abs.csv'))"
   ]
  },
  {
   "cell_type": "markdown",
   "id": "8b436add-a13b-4c51-a853-022bec783792",
   "metadata": {},
   "source": [
    "## Compare Ranks for the Three Methods"
   ]
  },
  {
   "cell_type": "markdown",
   "id": "9b106a9f-bda0-47f8-823d-0581fa3377bc",
   "metadata": {},
   "source": [
    "##### Align ranks and save table"
   ]
  },
  {
   "cell_type": "code",
   "execution_count": 13,
   "id": "929c8900-fb89-4c0d-bc57-fac3ed45f00e",
   "metadata": {},
   "outputs": [],
   "source": [
    "h_comb['rank'] = h_comb['h_score'].rank(method='first', ascending=False) \n",
    "h_comb = h_comb.rename(columns={'h_score':'score'})"
   ]
  },
  {
   "cell_type": "code",
   "execution_count": 14,
   "id": "21666ec0-1374-40b1-9ae8-d16dc83032cf",
   "metadata": {},
   "outputs": [],
   "source": [
    "ale_mean_abs['rank'] = ale_mean_abs['abs_mean'].rank(method='first', ascending=False)\n",
    "ale_mean_abs = ale_mean_abs.rename(columns={'abs_mean':'score'})"
   ]
  },
  {
   "cell_type": "code",
   "execution_count": 15,
   "id": "33e9bce8-24df-4117-a3ed-dd72e9c0de56",
   "metadata": {},
   "outputs": [],
   "source": [
    "shap_mean_abs_int = shap_mean_abs[shap_mean_abs['feat_1'] != shap_mean_abs['feat_2']] \\\n",
    "    .copy() \\\n",
    "    .rename(columns={'shap_mean_abs':'score'})\n",
    "shap_mean_abs_int['rank'] = shap_mean_abs_int['score'].rank(method='first', ascending=False)"
   ]
  },
  {
   "cell_type": "code",
   "execution_count": 16,
   "id": "bf6bb44b-26eb-4935-8b48-6f94bf03c50a",
   "metadata": {},
   "outputs": [],
   "source": [
    "rank_comb = h_comb[['rank', 'score', 'label']] \\\n",
    "    .merge(ale_mean_abs[['rank', 'score', 'label']], how='outer', on='rank',\n",
    "           suffixes=('_h', '_ale')) \\\n",
    "    .merge(shap_mean_abs_int[['rank', 'score', 'label']], how='outer', on='rank') \\\n",
    "    .rename(columns={'score':'score_shap', 'label':'label_shap'})"
   ]
  },
  {
   "cell_type": "code",
   "execution_count": 17,
   "id": "1fe84f1b-06a8-4b0a-9347-b89ba182fe59",
   "metadata": {},
   "outputs": [
    {
     "data": {
      "text/html": [
       "<div>\n",
       "<style scoped>\n",
       "    .dataframe tbody tr th:only-of-type {\n",
       "        vertical-align: middle;\n",
       "    }\n",
       "\n",
       "    .dataframe tbody tr th {\n",
       "        vertical-align: top;\n",
       "    }\n",
       "\n",
       "    .dataframe thead th {\n",
       "        text-align: right;\n",
       "    }\n",
       "</style>\n",
       "<table border=\"1\" class=\"dataframe\">\n",
       "  <thead>\n",
       "    <tr style=\"text-align: right;\">\n",
       "      <th></th>\n",
       "      <th>rank</th>\n",
       "      <th>score_h</th>\n",
       "      <th>label_h</th>\n",
       "      <th>score_ale</th>\n",
       "      <th>label_ale</th>\n",
       "      <th>score_shap</th>\n",
       "      <th>label_shap</th>\n",
       "    </tr>\n",
       "  </thead>\n",
       "  <tbody>\n",
       "    <tr>\n",
       "      <th>0</th>\n",
       "      <td>1.0</td>\n",
       "      <td>0.159343</td>\n",
       "      <td>loan_amnt:verification_status</td>\n",
       "      <td>0.004654</td>\n",
       "      <td>annual_inc:sec_app_fico_range_low</td>\n",
       "      <td>0.029502</td>\n",
       "      <td>int_rate:term</td>\n",
       "    </tr>\n",
       "    <tr>\n",
       "      <th>1</th>\n",
       "      <td>2.0</td>\n",
       "      <td>0.146755</td>\n",
       "      <td>loan_amnt:revol_bal</td>\n",
       "      <td>0.004026</td>\n",
       "      <td>int_rate:home_ownership__RENT</td>\n",
       "      <td>0.021683</td>\n",
       "      <td>int_rate:sec_app_fico_range_low</td>\n",
       "    </tr>\n",
       "    <tr>\n",
       "      <th>2</th>\n",
       "      <td>3.0</td>\n",
       "      <td>0.136924</td>\n",
       "      <td>term:home_ownership__RENT</td>\n",
       "      <td>0.003251</td>\n",
       "      <td>int_rate:term</td>\n",
       "      <td>0.014491</td>\n",
       "      <td>int_rate:loan_amnt</td>\n",
       "    </tr>\n",
       "    <tr>\n",
       "      <th>3</th>\n",
       "      <td>4.0</td>\n",
       "      <td>0.134237</td>\n",
       "      <td>loan_amnt:annual_inc</td>\n",
       "      <td>0.003209</td>\n",
       "      <td>annual_inc:fico_range_low</td>\n",
       "      <td>0.011650</td>\n",
       "      <td>int_rate:mort_acc</td>\n",
       "    </tr>\n",
       "    <tr>\n",
       "      <th>4</th>\n",
       "      <td>5.0</td>\n",
       "      <td>0.127820</td>\n",
       "      <td>term:sec_app_fico_range_low</td>\n",
       "      <td>0.002340</td>\n",
       "      <td>int_rate:annual_inc</td>\n",
       "      <td>0.010035</td>\n",
       "      <td>int_rate:annual_inc</td>\n",
       "    </tr>\n",
       "  </tbody>\n",
       "</table>\n",
       "</div>"
      ],
      "text/plain": [
       "   rank   score_h                        label_h  score_ale  \\\n",
       "0   1.0  0.159343  loan_amnt:verification_status   0.004654   \n",
       "1   2.0  0.146755            loan_amnt:revol_bal   0.004026   \n",
       "2   3.0  0.136924      term:home_ownership__RENT   0.003251   \n",
       "3   4.0  0.134237           loan_amnt:annual_inc   0.003209   \n",
       "4   5.0  0.127820    term:sec_app_fico_range_low   0.002340   \n",
       "\n",
       "                           label_ale  score_shap  \\\n",
       "0  annual_inc:sec_app_fico_range_low    0.029502   \n",
       "1      int_rate:home_ownership__RENT    0.021683   \n",
       "2                      int_rate:term    0.014491   \n",
       "3          annual_inc:fico_range_low    0.011650   \n",
       "4                int_rate:annual_inc    0.010035   \n",
       "\n",
       "                        label_shap  \n",
       "0                    int_rate:term  \n",
       "1  int_rate:sec_app_fico_range_low  \n",
       "2               int_rate:loan_amnt  \n",
       "3                int_rate:mort_acc  \n",
       "4              int_rate:annual_inc  "
      ]
     },
     "execution_count": 17,
     "metadata": {},
     "output_type": "execute_result"
    }
   ],
   "source": [
    "rank_comb.head()"
   ]
  },
  {
   "cell_type": "code",
   "execution_count": 18,
   "id": "39ea7740-0c13-4ab8-9a55-dedb52faf83d",
   "metadata": {},
   "outputs": [],
   "source": [
    "rank_comb.to_csv(Path(setup.temp_path).joinpath('06_REPORT_top_interactions_all.csv'),\n",
    "                   index=False)"
   ]
  },
  {
   "cell_type": "markdown",
   "id": "9e60ed6e-5ae0-42a1-a8b2-00ac2e40248f",
   "metadata": {},
   "source": [
    "##### Correlations among ranks and with perturbation importances"
   ]
  },
  {
   "cell_type": "code",
   "execution_count": 19,
   "id": "6b1c6cfa-a561-4209-8b5f-57e6aeec6882",
   "metadata": {},
   "outputs": [],
   "source": [
    "# Merge ranked data by feature"
   ]
  },
  {
   "cell_type": "code",
   "execution_count": 20,
   "id": "0d868cdb-540e-4f44-9135-5d6fd8944cc3",
   "metadata": {},
   "outputs": [],
   "source": [
    "comb_score_by_feature = h_comb[['rank', 'score', 'label', 'feat_1', 'feat_2']] \\\n",
    "    .merge(ale_mean_abs[['rank', 'score', 'feat_1', 'feat_2']], how='outer', \n",
    "           on=['feat_1', 'feat_2'],suffixes=('_h', '_ale')) \\\n",
    "    .merge(shap_mean_abs_int[['rank', 'score', 'feat_1', 'feat_2']], how='outer', \n",
    "           on=['feat_1', 'feat_2']) \\\n",
    "    .rename(columns={'score':'score_shap', 'rank':'rank_shap'})"
   ]
  },
  {
   "cell_type": "code",
   "execution_count": 21,
   "id": "2c079200-fcc7-4ad0-b39b-f6c347fd16bf",
   "metadata": {},
   "outputs": [],
   "source": [
    "# Append permutation feature importances\n",
    "# We have 1 permutation importance per feature, so to compare the interaction measures, look at both component features.\n",
    "comb_score_by_feature = comb_score_by_feature.merge(perm_importance_df[['features', 'abs_importance']] \\\n",
    "                                      .rename(columns={'abs_importance':'pi_1_a'}),\n",
    "                                  how='left', left_on='feat_1', right_on='features') \\\n",
    "    .drop(columns=['features']) \\\n",
    "    .merge(perm_importance_df[['features', 'abs_importance']] \\\n",
    "                                      .rename(columns={'abs_importance':'pi_2_a'}),\n",
    "                                  how='left', left_on='feat_2', right_on='features') \\\n",
    "    .drop(columns=['features']) "
   ]
  },
  {
   "cell_type": "code",
   "execution_count": 22,
   "id": "3276971f-5af8-465e-8388-efe4b8fbdc2e",
   "metadata": {},
   "outputs": [],
   "source": [
    "# Reorder permutation importances by strength\n",
    "comb_score_by_feature['pi_1'] = np.where(comb_score_by_feature['pi_1_a'] >=  comb_score_by_feature['pi_2_a'],\n",
    "                                   comb_score_by_feature['pi_1_a'], comb_score_by_feature['pi_2_a'])\n",
    "comb_score_by_feature['pi_2'] = np.where(comb_score_by_feature['pi_1_a'] >=  comb_score_by_feature['pi_2_a'],\n",
    "                                   comb_score_by_feature['pi_2_a'], comb_score_by_feature['pi_1_a'])\n",
    "comb_score_by_feature.drop(columns=['pi_1_a', 'pi_2_a'], inplace=True)"
   ]
  },
  {
   "cell_type": "code",
   "execution_count": 23,
   "id": "b964c714-ce05-4bb1-986c-546401012c37",
   "metadata": {},
   "outputs": [
    {
     "data": {
      "text/html": [
       "<div>\n",
       "<style scoped>\n",
       "    .dataframe tbody tr th:only-of-type {\n",
       "        vertical-align: middle;\n",
       "    }\n",
       "\n",
       "    .dataframe tbody tr th {\n",
       "        vertical-align: top;\n",
       "    }\n",
       "\n",
       "    .dataframe thead th {\n",
       "        text-align: right;\n",
       "    }\n",
       "</style>\n",
       "<table border=\"1\" class=\"dataframe\">\n",
       "  <thead>\n",
       "    <tr style=\"text-align: right;\">\n",
       "      <th></th>\n",
       "      <th>rank_h</th>\n",
       "      <th>score_h</th>\n",
       "      <th>label</th>\n",
       "      <th>feat_1</th>\n",
       "      <th>feat_2</th>\n",
       "      <th>rank_ale</th>\n",
       "      <th>score_ale</th>\n",
       "      <th>rank_shap</th>\n",
       "      <th>score_shap</th>\n",
       "      <th>pi_1</th>\n",
       "      <th>pi_2</th>\n",
       "    </tr>\n",
       "  </thead>\n",
       "  <tbody>\n",
       "    <tr>\n",
       "      <th>15</th>\n",
       "      <td>16.0</td>\n",
       "      <td>0.066456</td>\n",
       "      <td>annual_inc:sec_app_fico_range_low</td>\n",
       "      <td>annual_inc</td>\n",
       "      <td>sec_app_fico_range_low</td>\n",
       "      <td>1.0</td>\n",
       "      <td>0.004654</td>\n",
       "      <td>38.0</td>\n",
       "      <td>0.002256</td>\n",
       "      <td>0.000243</td>\n",
       "      <td>0.000137</td>\n",
       "    </tr>\n",
       "    <tr>\n",
       "      <th>28</th>\n",
       "      <td>29.0</td>\n",
       "      <td>0.033647</td>\n",
       "      <td>int_rate:home_ownership__RENT</td>\n",
       "      <td>int_rate</td>\n",
       "      <td>home_ownership__RENT</td>\n",
       "      <td>2.0</td>\n",
       "      <td>0.004026</td>\n",
       "      <td>12.0</td>\n",
       "      <td>0.006824</td>\n",
       "      <td>0.001057</td>\n",
       "      <td>0.000478</td>\n",
       "    </tr>\n",
       "    <tr>\n",
       "      <th>6</th>\n",
       "      <td>7.0</td>\n",
       "      <td>0.101831</td>\n",
       "      <td>int_rate:term</td>\n",
       "      <td>int_rate</td>\n",
       "      <td>term</td>\n",
       "      <td>3.0</td>\n",
       "      <td>0.003251</td>\n",
       "      <td>1.0</td>\n",
       "      <td>0.029502</td>\n",
       "      <td>0.001057</td>\n",
       "      <td>0.000776</td>\n",
       "    </tr>\n",
       "    <tr>\n",
       "      <th>33</th>\n",
       "      <td>34.0</td>\n",
       "      <td>0.025367</td>\n",
       "      <td>annual_inc:fico_range_low</td>\n",
       "      <td>annual_inc</td>\n",
       "      <td>fico_range_low</td>\n",
       "      <td>4.0</td>\n",
       "      <td>0.003209</td>\n",
       "      <td>73.0</td>\n",
       "      <td>0.000890</td>\n",
       "      <td>0.000243</td>\n",
       "      <td>0.000150</td>\n",
       "    </tr>\n",
       "    <tr>\n",
       "      <th>23</th>\n",
       "      <td>24.0</td>\n",
       "      <td>0.043082</td>\n",
       "      <td>int_rate:annual_inc</td>\n",
       "      <td>int_rate</td>\n",
       "      <td>annual_inc</td>\n",
       "      <td>5.0</td>\n",
       "      <td>0.002340</td>\n",
       "      <td>5.0</td>\n",
       "      <td>0.010035</td>\n",
       "      <td>0.001057</td>\n",
       "      <td>0.000243</td>\n",
       "    </tr>\n",
       "  </tbody>\n",
       "</table>\n",
       "</div>"
      ],
      "text/plain": [
       "    rank_h   score_h                              label      feat_1  \\\n",
       "15    16.0  0.066456  annual_inc:sec_app_fico_range_low  annual_inc   \n",
       "28    29.0  0.033647      int_rate:home_ownership__RENT    int_rate   \n",
       "6      7.0  0.101831                      int_rate:term    int_rate   \n",
       "33    34.0  0.025367          annual_inc:fico_range_low  annual_inc   \n",
       "23    24.0  0.043082                int_rate:annual_inc    int_rate   \n",
       "\n",
       "                    feat_2  rank_ale  score_ale  rank_shap  score_shap  \\\n",
       "15  sec_app_fico_range_low       1.0   0.004654       38.0    0.002256   \n",
       "28    home_ownership__RENT       2.0   0.004026       12.0    0.006824   \n",
       "6                     term       3.0   0.003251        1.0    0.029502   \n",
       "33          fico_range_low       4.0   0.003209       73.0    0.000890   \n",
       "23              annual_inc       5.0   0.002340        5.0    0.010035   \n",
       "\n",
       "        pi_1      pi_2  \n",
       "15  0.000243  0.000137  \n",
       "28  0.001057  0.000478  \n",
       "6   0.001057  0.000776  \n",
       "33  0.000243  0.000150  \n",
       "23  0.001057  0.000243  "
      ]
     },
     "execution_count": 23,
     "metadata": {},
     "output_type": "execute_result"
    }
   ],
   "source": [
    "comb_score_by_feature.sort_values('rank_ale').head()"
   ]
  },
  {
   "cell_type": "code",
   "execution_count": 24,
   "id": "55a2d1d7-dc60-47d8-9c5e-abb932b977f7",
   "metadata": {},
   "outputs": [],
   "source": [
    "# Correlations\n",
    "comb_score_corr  = comb_score_by_feature[['score_h', 'score_ale', 'score_shap', 'pi_1', 'pi_2']].corr(method='spearman')"
   ]
  },
  {
   "cell_type": "code",
   "execution_count": 25,
   "id": "6e11eb0b-1235-4aa4-9125-114ebd2c5500",
   "metadata": {},
   "outputs": [
    {
     "data": {
      "text/html": [
       "<div>\n",
       "<style scoped>\n",
       "    .dataframe tbody tr th:only-of-type {\n",
       "        vertical-align: middle;\n",
       "    }\n",
       "\n",
       "    .dataframe tbody tr th {\n",
       "        vertical-align: top;\n",
       "    }\n",
       "\n",
       "    .dataframe thead th {\n",
       "        text-align: right;\n",
       "    }\n",
       "</style>\n",
       "<table border=\"1\" class=\"dataframe\">\n",
       "  <thead>\n",
       "    <tr style=\"text-align: right;\">\n",
       "      <th></th>\n",
       "      <th>score_h</th>\n",
       "      <th>score_ale</th>\n",
       "      <th>score_shap</th>\n",
       "      <th>pi_1</th>\n",
       "      <th>pi_2</th>\n",
       "    </tr>\n",
       "  </thead>\n",
       "  <tbody>\n",
       "    <tr>\n",
       "      <th>score_h</th>\n",
       "      <td>1.000000</td>\n",
       "      <td>0.195784</td>\n",
       "      <td>0.687088</td>\n",
       "      <td>0.179698</td>\n",
       "      <td>0.261687</td>\n",
       "    </tr>\n",
       "    <tr>\n",
       "      <th>score_ale</th>\n",
       "      <td>0.195784</td>\n",
       "      <td>1.000000</td>\n",
       "      <td>0.295652</td>\n",
       "      <td>0.274342</td>\n",
       "      <td>0.408549</td>\n",
       "    </tr>\n",
       "    <tr>\n",
       "      <th>score_shap</th>\n",
       "      <td>0.687088</td>\n",
       "      <td>0.295652</td>\n",
       "      <td>1.000000</td>\n",
       "      <td>0.514559</td>\n",
       "      <td>0.663469</td>\n",
       "    </tr>\n",
       "    <tr>\n",
       "      <th>pi_1</th>\n",
       "      <td>0.179698</td>\n",
       "      <td>0.274342</td>\n",
       "      <td>0.514559</td>\n",
       "      <td>1.000000</td>\n",
       "      <td>0.467320</td>\n",
       "    </tr>\n",
       "    <tr>\n",
       "      <th>pi_2</th>\n",
       "      <td>0.261687</td>\n",
       "      <td>0.408549</td>\n",
       "      <td>0.663469</td>\n",
       "      <td>0.467320</td>\n",
       "      <td>1.000000</td>\n",
       "    </tr>\n",
       "  </tbody>\n",
       "</table>\n",
       "</div>"
      ],
      "text/plain": [
       "             score_h  score_ale  score_shap      pi_1      pi_2\n",
       "score_h     1.000000   0.195784    0.687088  0.179698  0.261687\n",
       "score_ale   0.195784   1.000000    0.295652  0.274342  0.408549\n",
       "score_shap  0.687088   0.295652    1.000000  0.514559  0.663469\n",
       "pi_1        0.179698   0.274342    0.514559  1.000000  0.467320\n",
       "pi_2        0.261687   0.408549    0.663469  0.467320  1.000000"
      ]
     },
     "execution_count": 25,
     "metadata": {},
     "output_type": "execute_result"
    }
   ],
   "source": [
    "comb_score_corr"
   ]
  },
  {
   "cell_type": "code",
   "execution_count": 26,
   "id": "d4f08c0c-145b-4360-af11-da5b216484aa",
   "metadata": {},
   "outputs": [],
   "source": [
    "comb_score_corr.to_csv(Path(setup.temp_path).joinpath('06_REPORT_interactions_corr.csv'),\n",
    "                   index=True)"
   ]
  },
  {
   "cell_type": "markdown",
   "id": "6b9c9844-4641-4ff2-9f4d-f67f498087c7",
   "metadata": {},
   "source": [
    "## Term and Interest Rate\n",
    "This is an interaction which shows opposite yet similar effects with SHAP vs. ALE.  Get more information about these features and how the model responds to them."
   ]
  },
  {
   "cell_type": "markdown",
   "id": "80203de4-90e1-4fad-a847-a5e342207057",
   "metadata": {},
   "source": [
    "### Correlations between term and other features"
   ]
  },
  {
   "cell_type": "code",
   "execution_count": 77,
   "id": "fd49834d-35db-4d28-bb4b-a4ff72901e9a",
   "metadata": {},
   "outputs": [
    {
     "data": {
      "text/plain": [
       "count    100000.000000\n",
       "mean      14398.332000\n",
       "std        8736.021155\n",
       "min        1000.000000\n",
       "25%        7875.000000\n",
       "50%       12000.000000\n",
       "75%       20000.000000\n",
       "max       40000.000000\n",
       "Name: loan_amnt, dtype: float64"
      ]
     },
     "execution_count": 77,
     "metadata": {},
     "output_type": "execute_result"
    }
   ],
   "source": [
    "train_samp_df['loan_amnt'].describe()"
   ]
  },
  {
   "cell_type": "code",
   "execution_count": 27,
   "id": "291fa1b7-b513-4aa6-87b2-bd5414e753ef",
   "metadata": {},
   "outputs": [],
   "source": [
    "term_corr = pd.DataFrame({'feature': predictor_features,\n",
    "                          'corr': [train_samp_df[['term', f]] \\\n",
    "                                   .corr(method='pearson').iloc[0,1] for f in predictor_features],\n",
    "                         'corr_spearman':[train_samp_df[['term', f]] \\\n",
    "                                   .corr(method='spearman').iloc[0,1] for f in predictor_features]})"
   ]
  },
  {
   "cell_type": "code",
   "execution_count": 28,
   "id": "6e8a8af4-8ee9-497d-9530-a41deb848547",
   "metadata": {},
   "outputs": [
    {
     "data": {
      "text/html": [
       "<div>\n",
       "<style scoped>\n",
       "    .dataframe tbody tr th:only-of-type {\n",
       "        vertical-align: middle;\n",
       "    }\n",
       "\n",
       "    .dataframe tbody tr th {\n",
       "        vertical-align: top;\n",
       "    }\n",
       "\n",
       "    .dataframe thead th {\n",
       "        text-align: right;\n",
       "    }\n",
       "</style>\n",
       "<table border=\"1\" class=\"dataframe\">\n",
       "  <thead>\n",
       "    <tr style=\"text-align: right;\">\n",
       "      <th></th>\n",
       "      <th>feature</th>\n",
       "      <th>corr</th>\n",
       "      <th>corr_spearman</th>\n",
       "    </tr>\n",
       "  </thead>\n",
       "  <tbody>\n",
       "    <tr>\n",
       "      <th>1</th>\n",
       "      <td>term</td>\n",
       "      <td>1.000000</td>\n",
       "      <td>1.000000</td>\n",
       "    </tr>\n",
       "    <tr>\n",
       "      <th>2</th>\n",
       "      <td>int_rate</td>\n",
       "      <td>0.413934</td>\n",
       "      <td>0.398523</td>\n",
       "    </tr>\n",
       "    <tr>\n",
       "      <th>0</th>\n",
       "      <td>loan_amnt</td>\n",
       "      <td>0.383568</td>\n",
       "      <td>0.413985</td>\n",
       "    </tr>\n",
       "    <tr>\n",
       "      <th>5</th>\n",
       "      <td>verification_status</td>\n",
       "      <td>0.125375</td>\n",
       "      <td>0.125375</td>\n",
       "    </tr>\n",
       "    <tr>\n",
       "      <th>14</th>\n",
       "      <td>home_ownership__MORTGAGE</td>\n",
       "      <td>0.102143</td>\n",
       "      <td>0.102143</td>\n",
       "    </tr>\n",
       "  </tbody>\n",
       "</table>\n",
       "</div>"
      ],
      "text/plain": [
       "                     feature      corr  corr_spearman\n",
       "1                       term  1.000000       1.000000\n",
       "2                   int_rate  0.413934       0.398523\n",
       "0                  loan_amnt  0.383568       0.413985\n",
       "5        verification_status  0.125375       0.125375\n",
       "14  home_ownership__MORTGAGE  0.102143       0.102143"
      ]
     },
     "execution_count": 28,
     "metadata": {},
     "output_type": "execute_result"
    }
   ],
   "source": [
    "term_corr.sort_values('corr', ascending=False).head(5)"
   ]
  },
  {
   "cell_type": "markdown",
   "id": "b8521c7b-c804-45bf-b770-3ffcd22f21c8",
   "metadata": {},
   "source": [
    "### Correlations between interest rate and other features"
   ]
  },
  {
   "cell_type": "code",
   "execution_count": 78,
   "id": "bb0219e1-0e7d-45aa-97ee-45fb6aaa80e8",
   "metadata": {},
   "outputs": [],
   "source": [
    "int_rate_corr = pd.DataFrame({'feature': predictor_features,\n",
    "                          'corr': [train_samp_df[['int_rate', f]] \\\n",
    "                                   .corr().iloc[0,1] for f in predictor_features],\n",
    "                         'corr_spearman':[train_samp_df[['int_rate', f]] \\\n",
    "                                   .corr(method='spearman').iloc[0,1] for f in predictor_features]})"
   ]
  },
  {
   "cell_type": "code",
   "execution_count": 79,
   "id": "00f96328-4dd0-4b61-8f82-de7bb169cef3",
   "metadata": {},
   "outputs": [
    {
     "data": {
      "text/html": [
       "<div>\n",
       "<style scoped>\n",
       "    .dataframe tbody tr th:only-of-type {\n",
       "        vertical-align: middle;\n",
       "    }\n",
       "\n",
       "    .dataframe tbody tr th {\n",
       "        vertical-align: top;\n",
       "    }\n",
       "\n",
       "    .dataframe thead th {\n",
       "        text-align: right;\n",
       "    }\n",
       "</style>\n",
       "<table border=\"1\" class=\"dataframe\">\n",
       "  <thead>\n",
       "    <tr style=\"text-align: right;\">\n",
       "      <th></th>\n",
       "      <th>feature</th>\n",
       "      <th>corr</th>\n",
       "      <th>corr_spearman</th>\n",
       "    </tr>\n",
       "  </thead>\n",
       "  <tbody>\n",
       "    <tr>\n",
       "      <th>2</th>\n",
       "      <td>int_rate</td>\n",
       "      <td>1.000000</td>\n",
       "      <td>1.000000</td>\n",
       "    </tr>\n",
       "    <tr>\n",
       "      <th>1</th>\n",
       "      <td>term</td>\n",
       "      <td>0.413934</td>\n",
       "      <td>0.398523</td>\n",
       "    </tr>\n",
       "    <tr>\n",
       "      <th>5</th>\n",
       "      <td>verification_status</td>\n",
       "      <td>0.225272</td>\n",
       "      <td>0.229827</td>\n",
       "    </tr>\n",
       "    <tr>\n",
       "      <th>0</th>\n",
       "      <td>loan_amnt</td>\n",
       "      <td>0.141949</td>\n",
       "      <td>0.114624</td>\n",
       "    </tr>\n",
       "    <tr>\n",
       "      <th>15</th>\n",
       "      <td>home_ownership__RENT</td>\n",
       "      <td>0.062024</td>\n",
       "      <td>0.068737</td>\n",
       "    </tr>\n",
       "  </tbody>\n",
       "</table>\n",
       "</div>"
      ],
      "text/plain": [
       "                 feature      corr  corr_spearman\n",
       "2               int_rate  1.000000       1.000000\n",
       "1                   term  0.413934       0.398523\n",
       "5    verification_status  0.225272       0.229827\n",
       "0              loan_amnt  0.141949       0.114624\n",
       "15  home_ownership__RENT  0.062024       0.068737"
      ]
     },
     "execution_count": 79,
     "metadata": {},
     "output_type": "execute_result"
    }
   ],
   "source": [
    "int_rate_corr.sort_values('corr', ascending=False).head(5)"
   ]
  },
  {
   "cell_type": "code",
   "execution_count": 31,
   "id": "c700c488-121c-4366-a8cb-20d841330314",
   "metadata": {},
   "outputs": [
    {
     "data": {
      "text/plain": [
       "count    100000.000000\n",
       "mean         13.252114\n",
       "std           4.776319\n",
       "min           5.310000\n",
       "25%           9.750000\n",
       "50%          12.740000\n",
       "75%          15.990000\n",
       "max          30.990000\n",
       "Name: int_rate, dtype: float64"
      ]
     },
     "execution_count": 31,
     "metadata": {},
     "output_type": "execute_result"
    }
   ],
   "source": [
    "train_samp_df['int_rate'].describe()"
   ]
  },
  {
   "cell_type": "code",
   "execution_count": 32,
   "id": "74d84ba0-0971-43cd-bb28-41018d61f26b",
   "metadata": {},
   "outputs": [
    {
     "data": {
      "text/plain": [
       "36    0.75937\n",
       "60    0.24063\n",
       "Name: term, dtype: float64"
      ]
     },
     "execution_count": 32,
     "metadata": {},
     "output_type": "execute_result"
    }
   ],
   "source": [
    "train_samp_df['term'].value_counts(normalize=True)"
   ]
  },
  {
   "cell_type": "markdown",
   "id": "9d55be4e-d37e-41ef-a3ce-ae6610239056",
   "metadata": {},
   "source": [
    "### Counts by interest rate / term / income bucket\n",
    "This section is informed by later analyses, in which I see that the reason for differences in SHAP and ALE have to do with nodes for lower-income, higher-interest rate, higher-term loans"
   ]
  },
  {
   "cell_type": "markdown",
   "id": "f24a523a-1cca-4a53-a759-cc69916721ce",
   "metadata": {},
   "source": [
    "##### Functions to get counts, rates by bucket"
   ]
  },
  {
   "cell_type": "code",
   "execution_count": 33,
   "id": "9b58eca0-d264-4c01-a0d2-a5e16661b236",
   "metadata": {},
   "outputs": [],
   "source": [
    "train_samp_df['high_int'] = np.where(train_samp_df['int_rate'] > 30, 1, 0)\n",
    "train_samp_df['high_income'] = np.where(train_samp_df['annual_inc'] > 40000, 1, 0)"
   ]
  },
  {
   "cell_type": "code",
   "execution_count": 34,
   "id": "9decea1d-7222-4894-9155-e9b118e422fe",
   "metadata": {},
   "outputs": [
    {
     "data": {
      "text/plain": [
       "1    0.81761\n",
       "0    0.18239\n",
       "Name: high_income, dtype: float64"
      ]
     },
     "execution_count": 34,
     "metadata": {},
     "output_type": "execute_result"
    }
   ],
   "source": [
    "train_samp_df['high_income'].value_counts(normalize=True)"
   ]
  },
  {
   "cell_type": "code",
   "execution_count": 35,
   "id": "a99e100b-6441-42e9-83a7-128c361ed687",
   "metadata": {},
   "outputs": [
    {
     "data": {
      "text/plain": [
       "0    0.99648\n",
       "1    0.00352\n",
       "Name: high_int, dtype: float64"
      ]
     },
     "execution_count": 35,
     "metadata": {},
     "output_type": "execute_result"
    }
   ],
   "source": [
    "train_samp_df['high_int'].value_counts(normalize=True)"
   ]
  },
  {
   "cell_type": "code",
   "execution_count": 36,
   "id": "ac6226b3-8654-40b4-ab05-ab2fe89bb8ac",
   "metadata": {},
   "outputs": [
    {
     "data": {
      "text/plain": [
       "36    0.75937\n",
       "60    0.24063\n",
       "Name: term, dtype: float64"
      ]
     },
     "execution_count": 36,
     "metadata": {},
     "output_type": "execute_result"
    }
   ],
   "source": [
    "train_samp_df['term'].value_counts(normalize=True)"
   ]
  },
  {
   "cell_type": "code",
   "execution_count": 37,
   "id": "be0a8f4f-c74a-4286-81d7-bc33f71b38c0",
   "metadata": {},
   "outputs": [
    {
     "data": {
      "text/plain": [
       "0    0.98081\n",
       "1    0.01919\n",
       "dtype: float64"
      ]
     },
     "execution_count": 37,
     "metadata": {},
     "output_type": "execute_result"
    }
   ],
   "source": [
    "pd.Series(np.where(train_samp_df['int_rate'] >= 25, 1, 0)).value_counts(normalize=True)"
   ]
  },
  {
   "cell_type": "code",
   "execution_count": 38,
   "id": "86ab0f25-9aca-42e0-90a6-84570a86d8fa",
   "metadata": {},
   "outputs": [
    {
     "data": {
      "text/plain": [
       "0    0.91743\n",
       "1    0.08257\n",
       "dtype: float64"
      ]
     },
     "execution_count": 38,
     "metadata": {},
     "output_type": "execute_result"
    }
   ],
   "source": [
    "pd.Series(np.where(train_samp_df['int_rate'] >= 20, 1, 0)).value_counts(normalize=True)"
   ]
  },
  {
   "cell_type": "code",
   "execution_count": 39,
   "id": "aa8e4b09-082b-471a-b010-0a206b44d222",
   "metadata": {},
   "outputs": [
    {
     "data": {
      "text/plain": [
       "Index(['index', 'id', 'grade', 'sub_grade', 'hardship_flag',\n",
       "       'debt_settlement_flag', 'hardship_amount', 'settlement_amount',\n",
       "       'addr_state', 'purpose', 'total_rec_prncp', 'total_rec_int',\n",
       "       'tot_coll_amt', 'tot_cur_bal', 'application_type', 'loan_amnt', 'term',\n",
       "       'int_rate', 'emp_length', 'home_ownership', 'annual_inc',\n",
       "       'verification_status', 'fico_range_low', 'sec_app_fico_range_low',\n",
       "       'open_acc', 'initial_list_status', 'num_actv_bc_tl', 'mort_acc',\n",
       "       'pub_rec', 'revol_bal', 'target', 'home_ownership__MORTGAGE',\n",
       "       'home_ownership__RENT', 'home_ownership__OWN',\n",
       "       'home_ownership__ZZ_OTHER', 'high_int', 'high_income'],\n",
       "      dtype='object')"
      ]
     },
     "execution_count": 39,
     "metadata": {},
     "output_type": "execute_result"
    }
   ],
   "source": [
    "train_samp_df.columns"
   ]
  },
  {
   "cell_type": "code",
   "execution_count": 40,
   "id": "847eb776-0adb-4b0e-a012-35bf19e61d39",
   "metadata": {},
   "outputs": [],
   "source": [
    "# Add binary high/low income and interest rate indicators\n",
    "def get_level_indicators(data):\n",
    "    data['high_int'] = np.where(data['int_rate'] > 25, 1, 0)\n",
    "    data['high_income'] = np.where(data['annual_inc'] > 40000, 1, 0)\n",
    "    return data"
   ]
  },
  {
   "cell_type": "code",
   "execution_count": 41,
   "id": "155def04-4e13-4e7a-82f0-8a3f61fe5243",
   "metadata": {},
   "outputs": [],
   "source": [
    "# Function to aggregate within categories.  Assumes get_level_indicators() has been done\n",
    "def cat_agg(data, agg_col = 'target', agg_func = 'count'):\n",
    "    bucket_overall = data \\\n",
    "        .groupby('high_income')[agg_col] \\\n",
    "        .agg(agg_func) \\\n",
    "        .rename('all_loans') \\\n",
    "        .reset_index()\n",
    "    bucket_int_rate = data \\\n",
    "        .groupby(['high_income', 'high_int'])[agg_col] \\\n",
    "        .agg(agg_func) \\\n",
    "        .rename('value') \\\n",
    "        .reset_index() \\\n",
    "        .pivot(index='high_income', values='value', columns='high_int') \\\n",
    "        .rename(columns={0:'int_low', 1:'int_high'})\n",
    "    bucket_term = data \\\n",
    "        .groupby(['high_income', 'term'])[agg_col] \\\n",
    "        .agg(agg_func) \\\n",
    "        .rename('value') \\\n",
    "        .reset_index() \\\n",
    "        .pivot(index='high_income', values='value', columns='term') \\\n",
    "        .rename(columns={36:'term_36', 60:'term_60'})\n",
    "    bucket_term_int = data \\\n",
    "        .groupby(['high_income', 'term', 'high_int'])[agg_col] \\\n",
    "        .agg(agg_func) \\\n",
    "        .rename('value') \\\n",
    "        .reset_index() \\\n",
    "        .pivot(index=['high_income', 'high_int'], values='value', columns='term') \\\n",
    "        .reset_index() \\\n",
    "        .pivot(index=['high_income'], columns='high_int') \\\n",
    "        .rename(columns={0:'int_low', 1:'int_high'}, level=1)\n",
    "    bucket_term_int.columns = [str(c[1]) + '_' + str(c[0]) \\\n",
    "                                   for c in bucket_term_int.columns.to_flat_index()]\n",
    "    return pd.concat([bucket_overall, bucket_int_rate, bucket_term, bucket_term_int], axis=1)"
   ]
  },
  {
   "cell_type": "code",
   "execution_count": 42,
   "id": "89b56b02-9dc0-4f7a-9451-681f8093294b",
   "metadata": {},
   "outputs": [],
   "source": [
    "# Get counts, rates for one data set\n",
    "def get_data_stats(data):\n",
    "    data = get_level_indicators(data)\n",
    "    count_agg = cat_agg(data)\n",
    "    rate_agg = cat_agg(data, agg_func='mean')\n",
    "    \n",
    "    return pd.concat([count_agg, rate_agg], axis=0, keys=['count', 'rate'])"
   ]
  },
  {
   "cell_type": "markdown",
   "id": "00f03f8e-a1f8-41c5-a834-b0a67c59379a",
   "metadata": {},
   "source": [
    "##### Get stats for each data set"
   ]
  },
  {
   "cell_type": "code",
   "execution_count": 43,
   "id": "40d5151a-17d8-44cd-bf83-15e254b56a8b",
   "metadata": {},
   "outputs": [],
   "source": [
    "stats_all = pd.concat([get_data_stats(test_df), get_data_stats(train_df), get_data_stats(train_samp_df)],\n",
    "                      axis=0, keys=['test', 'train', 'train_samp'])"
   ]
  },
  {
   "cell_type": "code",
   "execution_count": 44,
   "id": "8f3288b8-f1b0-4a3d-a828-10f385b5b8da",
   "metadata": {},
   "outputs": [],
   "source": [
    "stats_all.to_csv(Path(setup.temp_path).joinpath('06_REPORT_dataset_stats_by_term_income_interest_rate.csv'), index=True)"
   ]
  },
  {
   "cell_type": "code",
   "execution_count": 45,
   "id": "14b7897a-6936-4ed6-a6e1-c9f5c188295c",
   "metadata": {},
   "outputs": [
    {
     "data": {
      "text/html": [
       "<div>\n",
       "<style scoped>\n",
       "    .dataframe tbody tr th:only-of-type {\n",
       "        vertical-align: middle;\n",
       "    }\n",
       "\n",
       "    .dataframe tbody tr th {\n",
       "        vertical-align: top;\n",
       "    }\n",
       "\n",
       "    .dataframe thead th {\n",
       "        text-align: right;\n",
       "    }\n",
       "</style>\n",
       "<table border=\"1\" class=\"dataframe\">\n",
       "  <thead>\n",
       "    <tr style=\"text-align: right;\">\n",
       "      <th></th>\n",
       "      <th></th>\n",
       "      <th></th>\n",
       "      <th>high_income</th>\n",
       "      <th>all_loans</th>\n",
       "      <th>int_low</th>\n",
       "      <th>int_high</th>\n",
       "      <th>term_36</th>\n",
       "      <th>term_60</th>\n",
       "      <th>int_low_36</th>\n",
       "      <th>int_high_36</th>\n",
       "      <th>int_low_60</th>\n",
       "      <th>int_high_60</th>\n",
       "    </tr>\n",
       "  </thead>\n",
       "  <tbody>\n",
       "    <tr>\n",
       "      <th rowspan=\"4\" valign=\"top\">test</th>\n",
       "      <th rowspan=\"2\" valign=\"top\">count</th>\n",
       "      <th>0</th>\n",
       "      <td>0</td>\n",
       "      <td>68749.000000</td>\n",
       "      <td>67358.000000</td>\n",
       "      <td>1391.000000</td>\n",
       "      <td>60086.000000</td>\n",
       "      <td>8663.000000</td>\n",
       "      <td>59478.000000</td>\n",
       "      <td>608.000000</td>\n",
       "      <td>7880.000000</td>\n",
       "      <td>783.000000</td>\n",
       "    </tr>\n",
       "    <tr>\n",
       "      <th>1</th>\n",
       "      <td>1</td>\n",
       "      <td>307938.000000</td>\n",
       "      <td>301838.000000</td>\n",
       "      <td>6100.000000</td>\n",
       "      <td>225587.000000</td>\n",
       "      <td>82351.000000</td>\n",
       "      <td>224390.000000</td>\n",
       "      <td>1197.000000</td>\n",
       "      <td>77448.000000</td>\n",
       "      <td>4903.000000</td>\n",
       "    </tr>\n",
       "    <tr>\n",
       "      <th rowspan=\"2\" valign=\"top\">rate</th>\n",
       "      <th>0</th>\n",
       "      <td>0</td>\n",
       "      <td>0.235931</td>\n",
       "      <td>0.229876</td>\n",
       "      <td>0.529116</td>\n",
       "      <td>0.210332</td>\n",
       "      <td>0.413483</td>\n",
       "      <td>0.207371</td>\n",
       "      <td>0.500000</td>\n",
       "      <td>0.399746</td>\n",
       "      <td>0.551724</td>\n",
       "    </tr>\n",
       "    <tr>\n",
       "      <th>1</th>\n",
       "      <td>1</td>\n",
       "      <td>0.191522</td>\n",
       "      <td>0.185851</td>\n",
       "      <td>0.472131</td>\n",
       "      <td>0.146790</td>\n",
       "      <td>0.314058</td>\n",
       "      <td>0.145194</td>\n",
       "      <td>0.446115</td>\n",
       "      <td>0.303649</td>\n",
       "      <td>0.478483</td>\n",
       "    </tr>\n",
       "    <tr>\n",
       "      <th rowspan=\"4\" valign=\"top\">train</th>\n",
       "      <th rowspan=\"2\" valign=\"top\">count</th>\n",
       "      <th>0</th>\n",
       "      <td>0</td>\n",
       "      <td>159932.000000</td>\n",
       "      <td>156825.000000</td>\n",
       "      <td>3107.000000</td>\n",
       "      <td>140050.000000</td>\n",
       "      <td>19882.000000</td>\n",
       "      <td>138619.000000</td>\n",
       "      <td>1431.000000</td>\n",
       "      <td>18206.000000</td>\n",
       "      <td>1676.000000</td>\n",
       "    </tr>\n",
       "    <tr>\n",
       "      <th>1</th>\n",
       "      <td>1</td>\n",
       "      <td>714519.000000</td>\n",
       "      <td>700645.000000</td>\n",
       "      <td>13874.000000</td>\n",
       "      <td>523701.000000</td>\n",
       "      <td>190818.000000</td>\n",
       "      <td>520989.000000</td>\n",
       "      <td>2712.000000</td>\n",
       "      <td>179656.000000</td>\n",
       "      <td>11162.000000</td>\n",
       "    </tr>\n",
       "    <tr>\n",
       "      <th rowspan=\"2\" valign=\"top\">rate</th>\n",
       "      <th>0</th>\n",
       "      <td>0</td>\n",
       "      <td>0.236438</td>\n",
       "      <td>0.231092</td>\n",
       "      <td>0.506276</td>\n",
       "      <td>0.209561</td>\n",
       "      <td>0.425762</td>\n",
       "      <td>0.207129</td>\n",
       "      <td>0.445143</td>\n",
       "      <td>0.413545</td>\n",
       "      <td>0.558473</td>\n",
       "    </tr>\n",
       "    <tr>\n",
       "      <th>1</th>\n",
       "      <td>1</td>\n",
       "      <td>0.191386</td>\n",
       "      <td>0.185836</td>\n",
       "      <td>0.471674</td>\n",
       "      <td>0.146372</td>\n",
       "      <td>0.314928</td>\n",
       "      <td>0.144940</td>\n",
       "      <td>0.421460</td>\n",
       "      <td>0.304432</td>\n",
       "      <td>0.483874</td>\n",
       "    </tr>\n",
       "    <tr>\n",
       "      <th rowspan=\"4\" valign=\"top\">train_samp</th>\n",
       "      <th rowspan=\"2\" valign=\"top\">count</th>\n",
       "      <th>0</th>\n",
       "      <td>0</td>\n",
       "      <td>18239.000000</td>\n",
       "      <td>17899.000000</td>\n",
       "      <td>340.000000</td>\n",
       "      <td>16007.000000</td>\n",
       "      <td>2232.000000</td>\n",
       "      <td>15847.000000</td>\n",
       "      <td>160.000000</td>\n",
       "      <td>2052.000000</td>\n",
       "      <td>180.000000</td>\n",
       "    </tr>\n",
       "    <tr>\n",
       "      <th>1</th>\n",
       "      <td>1</td>\n",
       "      <td>81761.000000</td>\n",
       "      <td>80182.000000</td>\n",
       "      <td>1579.000000</td>\n",
       "      <td>59930.000000</td>\n",
       "      <td>21831.000000</td>\n",
       "      <td>59603.000000</td>\n",
       "      <td>327.000000</td>\n",
       "      <td>20579.000000</td>\n",
       "      <td>1252.000000</td>\n",
       "    </tr>\n",
       "    <tr>\n",
       "      <th rowspan=\"2\" valign=\"top\">rate</th>\n",
       "      <th>0</th>\n",
       "      <td>0</td>\n",
       "      <td>0.237074</td>\n",
       "      <td>0.232862</td>\n",
       "      <td>0.458824</td>\n",
       "      <td>0.212345</td>\n",
       "      <td>0.414427</td>\n",
       "      <td>0.210261</td>\n",
       "      <td>0.418750</td>\n",
       "      <td>0.407407</td>\n",
       "      <td>0.494444</td>\n",
       "    </tr>\n",
       "    <tr>\n",
       "      <th>1</th>\n",
       "      <td>1</td>\n",
       "      <td>0.192268</td>\n",
       "      <td>0.186700</td>\n",
       "      <td>0.474984</td>\n",
       "      <td>0.148440</td>\n",
       "      <td>0.312583</td>\n",
       "      <td>0.146587</td>\n",
       "      <td>0.486239</td>\n",
       "      <td>0.302882</td>\n",
       "      <td>0.472045</td>\n",
       "    </tr>\n",
       "  </tbody>\n",
       "</table>\n",
       "</div>"
      ],
      "text/plain": [
       "                    high_income      all_loans        int_low      int_high  \\\n",
       "test       count 0            0   68749.000000   67358.000000   1391.000000   \n",
       "                 1            1  307938.000000  301838.000000   6100.000000   \n",
       "           rate  0            0       0.235931       0.229876      0.529116   \n",
       "                 1            1       0.191522       0.185851      0.472131   \n",
       "train      count 0            0  159932.000000  156825.000000   3107.000000   \n",
       "                 1            1  714519.000000  700645.000000  13874.000000   \n",
       "           rate  0            0       0.236438       0.231092      0.506276   \n",
       "                 1            1       0.191386       0.185836      0.471674   \n",
       "train_samp count 0            0   18239.000000   17899.000000    340.000000   \n",
       "                 1            1   81761.000000   80182.000000   1579.000000   \n",
       "           rate  0            0       0.237074       0.232862      0.458824   \n",
       "                 1            1       0.192268       0.186700      0.474984   \n",
       "\n",
       "                          term_36        term_60     int_low_36  int_high_36  \\\n",
       "test       count 0   60086.000000    8663.000000   59478.000000   608.000000   \n",
       "                 1  225587.000000   82351.000000  224390.000000  1197.000000   \n",
       "           rate  0       0.210332       0.413483       0.207371     0.500000   \n",
       "                 1       0.146790       0.314058       0.145194     0.446115   \n",
       "train      count 0  140050.000000   19882.000000  138619.000000  1431.000000   \n",
       "                 1  523701.000000  190818.000000  520989.000000  2712.000000   \n",
       "           rate  0       0.209561       0.425762       0.207129     0.445143   \n",
       "                 1       0.146372       0.314928       0.144940     0.421460   \n",
       "train_samp count 0   16007.000000    2232.000000   15847.000000   160.000000   \n",
       "                 1   59930.000000   21831.000000   59603.000000   327.000000   \n",
       "           rate  0       0.212345       0.414427       0.210261     0.418750   \n",
       "                 1       0.148440       0.312583       0.146587     0.486239   \n",
       "\n",
       "                       int_low_60   int_high_60  \n",
       "test       count 0    7880.000000    783.000000  \n",
       "                 1   77448.000000   4903.000000  \n",
       "           rate  0       0.399746      0.551724  \n",
       "                 1       0.303649      0.478483  \n",
       "train      count 0   18206.000000   1676.000000  \n",
       "                 1  179656.000000  11162.000000  \n",
       "           rate  0       0.413545      0.558473  \n",
       "                 1       0.304432      0.483874  \n",
       "train_samp count 0    2052.000000    180.000000  \n",
       "                 1   20579.000000   1252.000000  \n",
       "           rate  0       0.407407      0.494444  \n",
       "                 1       0.302882      0.472045  "
      ]
     },
     "execution_count": 45,
     "metadata": {},
     "output_type": "execute_result"
    }
   ],
   "source": [
    "stats_all"
   ]
  },
  {
   "cell_type": "markdown",
   "id": "cc5ccb8e-2003-4efd-ae99-dedabbcb1a59",
   "metadata": {},
   "source": [
    "### Purposes by bucket"
   ]
  },
  {
   "cell_type": "code",
   "execution_count": 46,
   "id": "b693b257-f54e-4ddb-8e45-3052857e13ee",
   "metadata": {},
   "outputs": [],
   "source": [
    "def get_purpose_stats(data, cat_col='purpose'):\n",
    "    purpose_dummies = pd.get_dummies(data[cat_col])\n",
    "    purpose_comb_df = pd.concat([get_level_indicators(data)[['id', 'high_int', 'high_income', 'term']], \n",
    "                                 purpose_dummies], axis=1)\n",
    "    \n",
    "    return pd.concat([cat_agg(purpose_comb_df, agg_col = c, agg_func='mean') for c in purpose_dummies.columns], axis=0,\n",
    "          keys = [c for c in purpose_dummies.columns])"
   ]
  },
  {
   "cell_type": "code",
   "execution_count": 47,
   "id": "bc1b1323-4f31-4da1-a244-eee63fcb4b85",
   "metadata": {},
   "outputs": [],
   "source": [
    "test_purpose_stats = get_purpose_stats(test_df)\n",
    "test_purpose_stats.to_csv(Path(setup.temp_path).joinpath('06_REPORT_purpose_by_term_income_interest_rate_test.csv'), index=True)"
   ]
  },
  {
   "cell_type": "code",
   "execution_count": 48,
   "id": "cf996fa2-06c2-4fa7-b8bf-e013da11f5ed",
   "metadata": {},
   "outputs": [],
   "source": [
    "train_purpose_stats = get_purpose_stats(train_df)\n",
    "train_purpose_stats.to_csv(Path(setup.temp_path).joinpath('06_REPORT_purpose_by_term_income_interest_rate_train.csv'), index=True)"
   ]
  },
  {
   "cell_type": "code",
   "execution_count": 49,
   "id": "916fe7ab-8cca-4c4e-ae52-9bdb8d99348d",
   "metadata": {},
   "outputs": [
    {
     "data": {
      "text/html": [
       "<div>\n",
       "<style scoped>\n",
       "    .dataframe tbody tr th:only-of-type {\n",
       "        vertical-align: middle;\n",
       "    }\n",
       "\n",
       "    .dataframe tbody tr th {\n",
       "        vertical-align: top;\n",
       "    }\n",
       "\n",
       "    .dataframe thead th {\n",
       "        text-align: right;\n",
       "    }\n",
       "</style>\n",
       "<table border=\"1\" class=\"dataframe\">\n",
       "  <thead>\n",
       "    <tr style=\"text-align: right;\">\n",
       "      <th></th>\n",
       "      <th></th>\n",
       "      <th>high_income</th>\n",
       "      <th>all_loans</th>\n",
       "      <th>int_low</th>\n",
       "      <th>int_high</th>\n",
       "      <th>term_36</th>\n",
       "      <th>term_60</th>\n",
       "      <th>int_low_36</th>\n",
       "      <th>int_high_36</th>\n",
       "      <th>int_low_60</th>\n",
       "      <th>int_high_60</th>\n",
       "    </tr>\n",
       "  </thead>\n",
       "  <tbody>\n",
       "    <tr>\n",
       "      <th rowspan=\"2\" valign=\"top\">car</th>\n",
       "      <th>0</th>\n",
       "      <td>0</td>\n",
       "      <td>0.015901</td>\n",
       "      <td>0.015909</td>\n",
       "      <td>0.015449</td>\n",
       "      <td>0.016237</td>\n",
       "      <td>0.013530</td>\n",
       "      <td>0.016210</td>\n",
       "      <td>0.018868</td>\n",
       "      <td>0.013622</td>\n",
       "      <td>0.012530</td>\n",
       "    </tr>\n",
       "    <tr>\n",
       "      <th>1</th>\n",
       "      <td>1</td>\n",
       "      <td>0.009686</td>\n",
       "      <td>0.009775</td>\n",
       "      <td>0.005190</td>\n",
       "      <td>0.010676</td>\n",
       "      <td>0.006970</td>\n",
       "      <td>0.010699</td>\n",
       "      <td>0.006268</td>\n",
       "      <td>0.007097</td>\n",
       "      <td>0.004927</td>\n",
       "    </tr>\n",
       "    <tr>\n",
       "      <th rowspan=\"2\" valign=\"top\">credit_card</th>\n",
       "      <th>0</th>\n",
       "      <td>0</td>\n",
       "      <td>0.222895</td>\n",
       "      <td>0.225583</td>\n",
       "      <td>0.087222</td>\n",
       "      <td>0.227255</td>\n",
       "      <td>0.192184</td>\n",
       "      <td>0.228951</td>\n",
       "      <td>0.062893</td>\n",
       "      <td>0.199934</td>\n",
       "      <td>0.107995</td>\n",
       "    </tr>\n",
       "    <tr>\n",
       "      <th>1</th>\n",
       "      <td>1</td>\n",
       "      <td>0.219336</td>\n",
       "      <td>0.221878</td>\n",
       "      <td>0.090962</td>\n",
       "      <td>0.229261</td>\n",
       "      <td>0.192099</td>\n",
       "      <td>0.230087</td>\n",
       "      <td>0.070428</td>\n",
       "      <td>0.198073</td>\n",
       "      <td>0.095951</td>\n",
       "    </tr>\n",
       "    <tr>\n",
       "      <th rowspan=\"2\" valign=\"top\">debt_consolidation</th>\n",
       "      <th>0</th>\n",
       "      <td>0</td>\n",
       "      <td>0.567454</td>\n",
       "      <td>0.566581</td>\n",
       "      <td>0.611522</td>\n",
       "      <td>0.555901</td>\n",
       "      <td>0.648828</td>\n",
       "      <td>0.556186</td>\n",
       "      <td>0.528302</td>\n",
       "      <td>0.645721</td>\n",
       "      <td>0.682578</td>\n",
       "    </tr>\n",
       "    <tr>\n",
       "      <th>1</th>\n",
       "      <td>1</td>\n",
       "      <td>0.582201</td>\n",
       "      <td>0.580856</td>\n",
       "      <td>0.650137</td>\n",
       "      <td>0.558546</td>\n",
       "      <td>0.647124</td>\n",
       "      <td>0.558588</td>\n",
       "      <td>0.550516</td>\n",
       "      <td>0.645433</td>\n",
       "      <td>0.674342</td>\n",
       "    </tr>\n",
       "    <tr>\n",
       "      <th rowspan=\"2\" valign=\"top\">educational</th>\n",
       "      <th>0</th>\n",
       "      <td>0</td>\n",
       "      <td>0.000694</td>\n",
       "      <td>0.000708</td>\n",
       "      <td>0.000000</td>\n",
       "      <td>0.000750</td>\n",
       "      <td>0.000302</td>\n",
       "      <td>0.000757</td>\n",
       "      <td>0.000000</td>\n",
       "      <td>0.000330</td>\n",
       "      <td>0.000000</td>\n",
       "    </tr>\n",
       "    <tr>\n",
       "      <th>1</th>\n",
       "      <td>1</td>\n",
       "      <td>0.000143</td>\n",
       "      <td>0.000146</td>\n",
       "      <td>0.000000</td>\n",
       "      <td>0.000191</td>\n",
       "      <td>0.000010</td>\n",
       "      <td>0.000192</td>\n",
       "      <td>0.000000</td>\n",
       "      <td>0.000011</td>\n",
       "      <td>0.000000</td>\n",
       "    </tr>\n",
       "    <tr>\n",
       "      <th rowspan=\"2\" valign=\"top\">home_improvement</th>\n",
       "      <th>0</th>\n",
       "      <td>0</td>\n",
       "      <td>0.041912</td>\n",
       "      <td>0.042040</td>\n",
       "      <td>0.035404</td>\n",
       "      <td>0.041885</td>\n",
       "      <td>0.042098</td>\n",
       "      <td>0.041913</td>\n",
       "      <td>0.039133</td>\n",
       "      <td>0.043008</td>\n",
       "      <td>0.032220</td>\n",
       "    </tr>\n",
       "    <tr>\n",
       "      <th>1</th>\n",
       "      <td>1</td>\n",
       "      <td>0.070272</td>\n",
       "      <td>0.070305</td>\n",
       "      <td>0.068618</td>\n",
       "      <td>0.070733</td>\n",
       "      <td>0.069008</td>\n",
       "      <td>0.070754</td>\n",
       "      <td>0.066740</td>\n",
       "      <td>0.069004</td>\n",
       "      <td>0.069074</td>\n",
       "    </tr>\n",
       "    <tr>\n",
       "      <th rowspan=\"2\" valign=\"top\">house</th>\n",
       "      <th>0</th>\n",
       "      <td>0</td>\n",
       "      <td>0.005115</td>\n",
       "      <td>0.004725</td>\n",
       "      <td>0.024783</td>\n",
       "      <td>0.005012</td>\n",
       "      <td>0.005834</td>\n",
       "      <td>0.004689</td>\n",
       "      <td>0.036338</td>\n",
       "      <td>0.004998</td>\n",
       "      <td>0.014916</td>\n",
       "    </tr>\n",
       "    <tr>\n",
       "      <th>1</th>\n",
       "      <td>1</td>\n",
       "      <td>0.005499</td>\n",
       "      <td>0.005249</td>\n",
       "      <td>0.018091</td>\n",
       "      <td>0.005320</td>\n",
       "      <td>0.005990</td>\n",
       "      <td>0.005173</td>\n",
       "      <td>0.033555</td>\n",
       "      <td>0.005472</td>\n",
       "      <td>0.014334</td>\n",
       "    </tr>\n",
       "  </tbody>\n",
       "</table>\n",
       "</div>"
      ],
      "text/plain": [
       "                      high_income  all_loans   int_low  int_high   term_36  \\\n",
       "car                0            0   0.015901  0.015909  0.015449  0.016237   \n",
       "                   1            1   0.009686  0.009775  0.005190  0.010676   \n",
       "credit_card        0            0   0.222895  0.225583  0.087222  0.227255   \n",
       "                   1            1   0.219336  0.221878  0.090962  0.229261   \n",
       "debt_consolidation 0            0   0.567454  0.566581  0.611522  0.555901   \n",
       "                   1            1   0.582201  0.580856  0.650137  0.558546   \n",
       "educational        0            0   0.000694  0.000708  0.000000  0.000750   \n",
       "                   1            1   0.000143  0.000146  0.000000  0.000191   \n",
       "home_improvement   0            0   0.041912  0.042040  0.035404  0.041885   \n",
       "                   1            1   0.070272  0.070305  0.068618  0.070733   \n",
       "house              0            0   0.005115  0.004725  0.024783  0.005012   \n",
       "                   1            1   0.005499  0.005249  0.018091  0.005320   \n",
       "\n",
       "                       term_60  int_low_36  int_high_36  int_low_60  \\\n",
       "car                0  0.013530    0.016210     0.018868    0.013622   \n",
       "                   1  0.006970    0.010699     0.006268    0.007097   \n",
       "credit_card        0  0.192184    0.228951     0.062893    0.199934   \n",
       "                   1  0.192099    0.230087     0.070428    0.198073   \n",
       "debt_consolidation 0  0.648828    0.556186     0.528302    0.645721   \n",
       "                   1  0.647124    0.558588     0.550516    0.645433   \n",
       "educational        0  0.000302    0.000757     0.000000    0.000330   \n",
       "                   1  0.000010    0.000192     0.000000    0.000011   \n",
       "home_improvement   0  0.042098    0.041913     0.039133    0.043008   \n",
       "                   1  0.069008    0.070754     0.066740    0.069004   \n",
       "house              0  0.005834    0.004689     0.036338    0.004998   \n",
       "                   1  0.005990    0.005173     0.033555    0.005472   \n",
       "\n",
       "                      int_high_60  \n",
       "car                0     0.012530  \n",
       "                   1     0.004927  \n",
       "credit_card        0     0.107995  \n",
       "                   1     0.095951  \n",
       "debt_consolidation 0     0.682578  \n",
       "                   1     0.674342  \n",
       "educational        0     0.000000  \n",
       "                   1     0.000000  \n",
       "home_improvement   0     0.032220  \n",
       "                   1     0.069074  \n",
       "house              0     0.014916  \n",
       "                   1     0.014334  "
      ]
     },
     "execution_count": 49,
     "metadata": {},
     "output_type": "execute_result"
    }
   ],
   "source": [
    "train_purpose_stats.head(12)"
   ]
  },
  {
   "cell_type": "markdown",
   "id": "0a778d50-28fb-4a74-a255-8698111bf3b4",
   "metadata": {},
   "source": [
    "##### Grades by bucket"
   ]
  },
  {
   "cell_type": "code",
   "execution_count": 50,
   "id": "482867ec-278e-4ec4-98e4-e097309f5bdc",
   "metadata": {},
   "outputs": [],
   "source": [
    "test_grade_stats = get_purpose_stats(test_df, cat_col='grade')\n",
    "test_grade_stats.to_csv(Path(setup.temp_path).joinpath('06_REPORT_grade_by_term_income_interest_rate_test.csv'), index=True)"
   ]
  },
  {
   "cell_type": "code",
   "execution_count": 51,
   "id": "304c5fb9-3005-413e-bfa3-0f26809796fb",
   "metadata": {},
   "outputs": [],
   "source": [
    "train_grade_stats = get_purpose_stats(train_df, cat_col='grade')\n",
    "train_grade_stats.to_csv(Path(setup.temp_path).joinpath('06_REPORT_grade_by_term_income_interest_rate_train.csv'), index=True)"
   ]
  },
  {
   "cell_type": "code",
   "execution_count": 52,
   "id": "b8da0211-08e5-401f-a64c-17eed3a1420f",
   "metadata": {},
   "outputs": [
    {
     "data": {
      "text/html": [
       "<div>\n",
       "<style scoped>\n",
       "    .dataframe tbody tr th:only-of-type {\n",
       "        vertical-align: middle;\n",
       "    }\n",
       "\n",
       "    .dataframe tbody tr th {\n",
       "        vertical-align: top;\n",
       "    }\n",
       "\n",
       "    .dataframe thead th {\n",
       "        text-align: right;\n",
       "    }\n",
       "</style>\n",
       "<table border=\"1\" class=\"dataframe\">\n",
       "  <thead>\n",
       "    <tr style=\"text-align: right;\">\n",
       "      <th></th>\n",
       "      <th></th>\n",
       "      <th>high_income</th>\n",
       "      <th>all_loans</th>\n",
       "      <th>int_low</th>\n",
       "      <th>int_high</th>\n",
       "      <th>term_36</th>\n",
       "      <th>term_60</th>\n",
       "      <th>int_low_36</th>\n",
       "      <th>int_high_36</th>\n",
       "      <th>int_low_60</th>\n",
       "      <th>int_high_60</th>\n",
       "    </tr>\n",
       "  </thead>\n",
       "  <tbody>\n",
       "    <tr>\n",
       "      <th rowspan=\"2\" valign=\"top\">A</th>\n",
       "      <th>0</th>\n",
       "      <td>0</td>\n",
       "      <td>0.108421</td>\n",
       "      <td>0.110569</td>\n",
       "      <td>0.000000</td>\n",
       "      <td>0.122663</td>\n",
       "      <td>0.008098</td>\n",
       "      <td>0.123930</td>\n",
       "      <td>0.000000</td>\n",
       "      <td>0.008843</td>\n",
       "      <td>0.000000</td>\n",
       "    </tr>\n",
       "    <tr>\n",
       "      <th>1</th>\n",
       "      <td>1</td>\n",
       "      <td>0.189740</td>\n",
       "      <td>0.193497</td>\n",
       "      <td>0.000000</td>\n",
       "      <td>0.251392</td>\n",
       "      <td>0.020538</td>\n",
       "      <td>0.252700</td>\n",
       "      <td>0.000000</td>\n",
       "      <td>0.021814</td>\n",
       "      <td>0.000000</td>\n",
       "    </tr>\n",
       "    <tr>\n",
       "      <th rowspan=\"2\" valign=\"top\">B</th>\n",
       "      <th>0</th>\n",
       "      <td>0</td>\n",
       "      <td>0.278012</td>\n",
       "      <td>0.283520</td>\n",
       "      <td>0.000000</td>\n",
       "      <td>0.304248</td>\n",
       "      <td>0.093200</td>\n",
       "      <td>0.307389</td>\n",
       "      <td>0.000000</td>\n",
       "      <td>0.101780</td>\n",
       "      <td>0.000000</td>\n",
       "    </tr>\n",
       "    <tr>\n",
       "      <th>1</th>\n",
       "      <td>1</td>\n",
       "      <td>0.294984</td>\n",
       "      <td>0.300826</td>\n",
       "      <td>0.000000</td>\n",
       "      <td>0.346925</td>\n",
       "      <td>0.152433</td>\n",
       "      <td>0.348731</td>\n",
       "      <td>0.000000</td>\n",
       "      <td>0.161904</td>\n",
       "      <td>0.000000</td>\n",
       "    </tr>\n",
       "    <tr>\n",
       "      <th rowspan=\"2\" valign=\"top\">C</th>\n",
       "      <th>0</th>\n",
       "      <td>0</td>\n",
       "      <td>0.320042</td>\n",
       "      <td>0.326383</td>\n",
       "      <td>0.000000</td>\n",
       "      <td>0.325355</td>\n",
       "      <td>0.282617</td>\n",
       "      <td>0.328714</td>\n",
       "      <td>0.000000</td>\n",
       "      <td>0.308635</td>\n",
       "      <td>0.000000</td>\n",
       "    </tr>\n",
       "    <tr>\n",
       "      <th>1</th>\n",
       "      <td>1</td>\n",
       "      <td>0.275177</td>\n",
       "      <td>0.280626</td>\n",
       "      <td>0.000000</td>\n",
       "      <td>0.255537</td>\n",
       "      <td>0.329078</td>\n",
       "      <td>0.256867</td>\n",
       "      <td>0.000000</td>\n",
       "      <td>0.349524</td>\n",
       "      <td>0.000000</td>\n",
       "    </tr>\n",
       "    <tr>\n",
       "      <th rowspan=\"2\" valign=\"top\">D</th>\n",
       "      <th>0</th>\n",
       "      <td>0</td>\n",
       "      <td>0.185829</td>\n",
       "      <td>0.189511</td>\n",
       "      <td>0.000000</td>\n",
       "      <td>0.173688</td>\n",
       "      <td>0.271351</td>\n",
       "      <td>0.175481</td>\n",
       "      <td>0.000000</td>\n",
       "      <td>0.296331</td>\n",
       "      <td>0.000000</td>\n",
       "    </tr>\n",
       "    <tr>\n",
       "      <th>1</th>\n",
       "      <td>1</td>\n",
       "      <td>0.141537</td>\n",
       "      <td>0.144340</td>\n",
       "      <td>0.000000</td>\n",
       "      <td>0.110300</td>\n",
       "      <td>0.227269</td>\n",
       "      <td>0.110874</td>\n",
       "      <td>0.000000</td>\n",
       "      <td>0.241389</td>\n",
       "      <td>0.000000</td>\n",
       "    </tr>\n",
       "    <tr>\n",
       "      <th rowspan=\"2\" valign=\"top\">E</th>\n",
       "      <th>0</th>\n",
       "      <td>0</td>\n",
       "      <td>0.078127</td>\n",
       "      <td>0.073470</td>\n",
       "      <td>0.313164</td>\n",
       "      <td>0.058115</td>\n",
       "      <td>0.219093</td>\n",
       "      <td>0.054928</td>\n",
       "      <td>0.366876</td>\n",
       "      <td>0.214655</td>\n",
       "      <td>0.267303</td>\n",
       "    </tr>\n",
       "    <tr>\n",
       "      <th>1</th>\n",
       "      <td>1</td>\n",
       "      <td>0.067777</td>\n",
       "      <td>0.063650</td>\n",
       "      <td>0.276200</td>\n",
       "      <td>0.029171</td>\n",
       "      <td>0.173731</td>\n",
       "      <td>0.027292</td>\n",
       "      <td>0.390118</td>\n",
       "      <td>0.169084</td>\n",
       "      <td>0.248522</td>\n",
       "    </tr>\n",
       "    <tr>\n",
       "      <th rowspan=\"2\" valign=\"top\">F</th>\n",
       "      <th>0</th>\n",
       "      <td>0</td>\n",
       "      <td>0.023723</td>\n",
       "      <td>0.016305</td>\n",
       "      <td>0.398133</td>\n",
       "      <td>0.013431</td>\n",
       "      <td>0.096218</td>\n",
       "      <td>0.009508</td>\n",
       "      <td>0.393431</td>\n",
       "      <td>0.068054</td>\n",
       "      <td>0.402148</td>\n",
       "    </tr>\n",
       "    <tr>\n",
       "      <th>1</th>\n",
       "      <td>1</td>\n",
       "      <td>0.023876</td>\n",
       "      <td>0.016288</td>\n",
       "      <td>0.407092</td>\n",
       "      <td>0.005459</td>\n",
       "      <td>0.074422</td>\n",
       "      <td>0.003445</td>\n",
       "      <td>0.392330</td>\n",
       "      <td>0.053530</td>\n",
       "      <td>0.410679</td>\n",
       "    </tr>\n",
       "    <tr>\n",
       "      <th rowspan=\"2\" valign=\"top\">G</th>\n",
       "      <th>0</th>\n",
       "      <td>0</td>\n",
       "      <td>0.005846</td>\n",
       "      <td>0.000242</td>\n",
       "      <td>0.288703</td>\n",
       "      <td>0.002499</td>\n",
       "      <td>0.029424</td>\n",
       "      <td>0.000050</td>\n",
       "      <td>0.239693</td>\n",
       "      <td>0.001703</td>\n",
       "      <td>0.330549</td>\n",
       "    </tr>\n",
       "    <tr>\n",
       "      <th>1</th>\n",
       "      <td>1</td>\n",
       "      <td>0.006908</td>\n",
       "      <td>0.000774</td>\n",
       "      <td>0.316708</td>\n",
       "      <td>0.001216</td>\n",
       "      <td>0.022529</td>\n",
       "      <td>0.000090</td>\n",
       "      <td>0.217552</td>\n",
       "      <td>0.002755</td>\n",
       "      <td>0.340799</td>\n",
       "    </tr>\n",
       "  </tbody>\n",
       "</table>\n",
       "</div>"
      ],
      "text/plain": [
       "     high_income  all_loans   int_low  int_high   term_36   term_60  \\\n",
       "A 0            0   0.108421  0.110569  0.000000  0.122663  0.008098   \n",
       "  1            1   0.189740  0.193497  0.000000  0.251392  0.020538   \n",
       "B 0            0   0.278012  0.283520  0.000000  0.304248  0.093200   \n",
       "  1            1   0.294984  0.300826  0.000000  0.346925  0.152433   \n",
       "C 0            0   0.320042  0.326383  0.000000  0.325355  0.282617   \n",
       "  1            1   0.275177  0.280626  0.000000  0.255537  0.329078   \n",
       "D 0            0   0.185829  0.189511  0.000000  0.173688  0.271351   \n",
       "  1            1   0.141537  0.144340  0.000000  0.110300  0.227269   \n",
       "E 0            0   0.078127  0.073470  0.313164  0.058115  0.219093   \n",
       "  1            1   0.067777  0.063650  0.276200  0.029171  0.173731   \n",
       "F 0            0   0.023723  0.016305  0.398133  0.013431  0.096218   \n",
       "  1            1   0.023876  0.016288  0.407092  0.005459  0.074422   \n",
       "G 0            0   0.005846  0.000242  0.288703  0.002499  0.029424   \n",
       "  1            1   0.006908  0.000774  0.316708  0.001216  0.022529   \n",
       "\n",
       "     int_low_36  int_high_36  int_low_60  int_high_60  \n",
       "A 0    0.123930     0.000000    0.008843     0.000000  \n",
       "  1    0.252700     0.000000    0.021814     0.000000  \n",
       "B 0    0.307389     0.000000    0.101780     0.000000  \n",
       "  1    0.348731     0.000000    0.161904     0.000000  \n",
       "C 0    0.328714     0.000000    0.308635     0.000000  \n",
       "  1    0.256867     0.000000    0.349524     0.000000  \n",
       "D 0    0.175481     0.000000    0.296331     0.000000  \n",
       "  1    0.110874     0.000000    0.241389     0.000000  \n",
       "E 0    0.054928     0.366876    0.214655     0.267303  \n",
       "  1    0.027292     0.390118    0.169084     0.248522  \n",
       "F 0    0.009508     0.393431    0.068054     0.402148  \n",
       "  1    0.003445     0.392330    0.053530     0.410679  \n",
       "G 0    0.000050     0.239693    0.001703     0.330549  \n",
       "  1    0.000090     0.217552    0.002755     0.340799  "
      ]
     },
     "execution_count": 52,
     "metadata": {},
     "output_type": "execute_result"
    }
   ],
   "source": [
    "train_grade_stats"
   ]
  },
  {
   "cell_type": "markdown",
   "id": "8be62bbf-a390-4d4c-8436-2ce9610ca75d",
   "metadata": {},
   "source": [
    "### 2-Way plots of actual and predicted rates.\n",
    "What does the raw data / response show?  Bucket the interest rates and plot the mean term rates / model response for both term values."
   ]
  },
  {
   "cell_type": "code",
   "execution_count": 53,
   "id": "372557f4-d804-44e6-a2ce-aca13de0eb61",
   "metadata": {},
   "outputs": [],
   "source": [
    "# Get model predictions\n",
    "model_predict = pd.Series(base_model.predict_proba(train_samp_df[predictor_features])[:,1])\n",
    "model_predict.name = 'predict'"
   ]
  },
  {
   "cell_type": "code",
   "execution_count": 54,
   "id": "7c3d8203-3d56-4a63-9565-90ef2d6d4ee7",
   "metadata": {},
   "outputs": [],
   "source": [
    "# Append to data\n",
    "train_pred_df = pd.concat([train_samp_df[['int_rate', 'term', 'target']].reset_index(), \n",
    "                           model_predict], axis=1)"
   ]
  },
  {
   "cell_type": "code",
   "execution_count": 55,
   "id": "d3f494cc-2dc9-40a3-accd-ab5a9ba5de2d",
   "metadata": {},
   "outputs": [],
   "source": [
    "# Bucket the interest rates\n",
    "train_pred_df['int_rate_grp'] = pd.qcut(train_pred_df['int_rate'], 25, duplicates='drop')"
   ]
  },
  {
   "cell_type": "code",
   "execution_count": 56,
   "id": "b5b20dd5-0cf5-4ec3-a180-7d8047d3e7d3",
   "metadata": {},
   "outputs": [],
   "source": [
    "# Aggregate\n",
    "train_samp_agg = train_pred_df.groupby(['int_rate_grp', 'term']) \\\n",
    "    [['target', 'predict']] \\\n",
    "    .agg(['mean', 'std']) \n",
    "train_samp_agg.columns = [c[0]+'_' + c[1] for c in train_samp_agg.columns]\n",
    "train_samp_agg.reset_index(inplace=True)"
   ]
  },
  {
   "cell_type": "code",
   "execution_count": 57,
   "id": "8d69fa6c-d3da-462e-9dae-c1faae587d08",
   "metadata": {},
   "outputs": [],
   "source": [
    "# Add interest rate midpoints for plotting\n",
    "train_samp_agg['plot_x'] = train_samp_agg['int_rate_grp'].apply(lambda x: float(x.mid))"
   ]
  },
  {
   "cell_type": "code",
   "execution_count": 58,
   "id": "701c3bb0-7de0-4048-bae5-cb25f521a3b3",
   "metadata": {},
   "outputs": [],
   "source": [
    "train_samp_agg_plot = train_samp_agg[['plot_x', 'term', 'target_mean', 'predict_mean']] \\\n",
    "    .pivot(index='plot_x', columns='term', values=['target_mean', 'predict_mean'])"
   ]
  },
  {
   "cell_type": "code",
   "execution_count": 59,
   "id": "3b9925d9-24ad-4748-99c8-3aebf268e86b",
   "metadata": {},
   "outputs": [],
   "source": [
    "# Colors array for plot\n",
    "cmap = mpl.cm.coolwarm\n",
    "n = len(train_samp_agg['term'].value_counts())\n",
    "colors = cmap(np.linspace(0,1,n))\n"
   ]
  },
  {
   "cell_type": "code",
   "execution_count": 60,
   "id": "50110c04-4ce4-4761-addc-a2e7fe719d61",
   "metadata": {},
   "outputs": [
    {
     "data": {
      "image/png": "[encoded data removed]",
      "text/plain": [
       "<Figure size 800x200 with 2 Axes>"
      ]
     },
     "metadata": {},
     "output_type": "display_data"
    }
   ],
   "source": [
    "fig, ax = plt.subplots(1,2, sharex=True, sharey=True)\n",
    "figsize=(8,2)\n",
    "    \n",
    "train_samp_agg_plot[[c for c in train_samp_agg_plot.columns if c[0] == 'target_mean']] \\\n",
    "    .droplevel(0, axis=1) \\\n",
    "    .plot(color=colors, legend=None, figsize=figsize, ax=ax[0])\n",
    "train_samp_agg_plot[[c for c in train_samp_agg_plot.columns if c[0] == 'predict_mean']] \\\n",
    "    .droplevel(0, axis=1) \\\n",
    "    .plot(color=colors, legend=None, figsize=figsize, ax=ax[1])     \n",
    "\n",
    "ax[0].legend(frameon=True)\n",
    "ax[1].xaxis.set_major_formatter(FormatStrFormatter('%.0f'))\n",
    "ax[1].yaxis.set_major_formatter(PercentFormatter(1, decimals=0))\n",
    "ax[1].set_xlabel('int_rate')\n",
    "ax[0].set_xlabel('int_rate')\n",
    "ax[0].set_ylabel('mean default')\n",
    "ax[0].title.set_text('Actual')\n",
    "ax[1].title.set_text('Model Prediction')\n",
    "fig.savefig(Path(setup.temp_path).joinpath('06_PLOT_int_term_actual_pred.png'),\n",
    "            bbox_inches='tight')"
   ]
  },
  {
   "cell_type": "markdown",
   "id": "a9205050-2bb8-4cee-9f71-8253c869056d",
   "metadata": {},
   "source": [
    "## PDP / ICE Plots - Term and Interest Rate"
   ]
  },
  {
   "cell_type": "markdown",
   "id": "8f360bf1-9f8c-437d-89b5-264031caa7fa",
   "metadata": {},
   "source": [
    "##### 2-Way PDP Average"
   ]
  },
  {
   "cell_type": "code",
   "execution_count": 61,
   "id": "97beb97f-db4b-4373-a044-1b25e537c2cc",
   "metadata": {},
   "outputs": [],
   "source": [
    "# Get 2-Way PDP\n",
    "avg_pdp = partial_dependence(base_model, train_samp_df[predictor_features], \n",
    "                                  ['int_rate', 'term'], kind='average',\n",
    "                             percentiles=(0,1),\n",
    "                            method='brute')"
   ]
  },
  {
   "cell_type": "code",
   "execution_count": 62,
   "id": "89ec695d-1254-4d1f-a765-942fcabeed29",
   "metadata": {},
   "outputs": [],
   "source": [
    "# Convert to data frame\n",
    "avg_pdp_df = pd.concat([pd.DataFrame(avg_pdp['values'][0], columns=['values']),\n",
    "                         pd.DataFrame(avg_pdp['average'][0], columns=avg_pdp['values'][1])],\n",
    "                        axis=1)"
   ]
  },
  {
   "cell_type": "code",
   "execution_count": 63,
   "id": "a2a6647c-96ce-447d-a6d7-159850f6b676",
   "metadata": {},
   "outputs": [
    {
     "data": {
      "image/png": "[encoded data removed]",
      "text/plain": [
       "<Figure size 640x480 with 1 Axes>"
      ]
     },
     "metadata": {},
     "output_type": "display_data"
    }
   ],
   "source": [
    "# Plot\n",
    "fig, ax = plt.subplots()\n",
    "avg_pdp_df.set_index('values').plot(color = colors, ax=ax)\n",
    "ax.set_ylabel('2-way partial dependence')\n",
    "ax.set_xlabel('int_rate')\n",
    "ax.legend(title='term')\n",
    "fig.savefig(Path(setup.temp_path).joinpath('06_PLOT_int_term_pdp_avg.png'),\n",
    "            bbox_inches='tight')"
   ]
  },
  {
   "cell_type": "markdown",
   "id": "7a7e0e32-fea2-4e52-90b4-4f72196e2dbf",
   "metadata": {},
   "source": [
    "##### Overlay 1-Way Averages"
   ]
  },
  {
   "cell_type": "code",
   "execution_count": 64,
   "id": "b9e4ae7b-fc20-486a-a7f1-1e5b1fb6e1fa",
   "metadata": {},
   "outputs": [],
   "source": [
    "term_value_counts = train_samp_df['term'].value_counts()\n",
    "color_categories = term_value_counts.index\n",
    "cnorm  = mpl.colors.Normalize(vmin=0, vmax= len(color_categories) - 1)\n",
    "color_scalar_map = mpl.cm.ScalarMappable(norm=cnorm, cmap=cmap)\n",
    "color_dict = {color_categories[i]: color_scalar_map.to_rgba(i) \n",
    "              for i in range(0, len(color_categories))}"
   ]
  },
  {
   "cell_type": "code",
   "execution_count": 65,
   "id": "26b5d728-a488-402c-a1c3-c77b76f0b052",
   "metadata": {},
   "outputs": [
    {
     "data": {
      "image/png": "[encoded data removed]",
      "text/plain": [
       "<Figure size 640x480 with 1 Axes>"
      ]
     },
     "metadata": {},
     "output_type": "display_data"
    }
   ],
   "source": [
    "fig, ax = plt.subplots()\n",
    "\n",
    "for key, group in train_samp_df.groupby('term'):\n",
    "    this_pdp = partial_dependence(base_model, group[predictor_features], \n",
    "                                  ['int_rate'], kind='average',\n",
    "                                 percentiles=(0,1),\n",
    "                                 method='brute')\n",
    "    this_pdp_df = pd.DataFrame({k:v[0] for k,v in this_pdp.items()})\n",
    "    \n",
    "    this_pdp_df.plot(x='values', y='average', ax=ax,\n",
    "                     color=color_dict[key], label=key)\n",
    "ax.set_ylabel('1-way partial dependence')\n",
    "ax.set_xlabel('int_rate')\n",
    "ax.legend(title='term')\n",
    "fig.savefig(Path(setup.temp_path).joinpath('06_PLOT_int_term_pdp_avg_double_1way.png'),\n",
    "            bbox_inches='tight')"
   ]
  },
  {
   "cell_type": "markdown",
   "id": "efe93536-a7f2-4d59-acb5-1eab1dd3051f",
   "metadata": {},
   "source": [
    "##### 2-Way ICE Curves (Sample)"
   ]
  },
  {
   "cell_type": "code",
   "execution_count": 66,
   "id": "69e1c57f-dae9-43a2-8b9f-b2774e27a84a",
   "metadata": {},
   "outputs": [],
   "source": [
    "# Get stratified samp - large sample to ensure adequate grid size\n",
    "X_samp = train_samp_df[predictor_features].groupby('term').sample(100)"
   ]
  },
  {
   "cell_type": "code",
   "execution_count": 67,
   "id": "bac5e523-a0b0-4090-9b12-0482890b7f9f",
   "metadata": {},
   "outputs": [],
   "source": [
    "# Get 2-Way PDP\n",
    "indiv_pdp = partial_dependence(base_model, X_samp, \n",
    "                                  ['int_rate', 'term'], kind='individual',\n",
    "                               percentiles=(0,1),\n",
    "                              method='brute',\n",
    "                              grid_resolution = 100)"
   ]
  },
  {
   "cell_type": "code",
   "execution_count": 68,
   "id": "d2334925-9e0b-41be-9ca2-a90f73c2a269",
   "metadata": {},
   "outputs": [],
   "source": [
    "# DataFrame conversion \n",
    "num_samp = indiv_pdp['individual'][0].shape[0]\n",
    "indiv_samp_df = pd.concat([pd.DataFrame(indiv_pdp['individual'][0][i,:,:],\n",
    "                                   columns = indiv_pdp['values'][1]) \\\n",
    "                           for i in range(0, num_samp)],\n",
    "                     keys = range(0, num_samp),\n",
    "                     axis=1)"
   ]
  },
  {
   "cell_type": "code",
   "execution_count": 69,
   "id": "5ea877f1-0926-4e22-966f-fbe3e50d32d7",
   "metadata": {},
   "outputs": [],
   "source": [
    "indiv_samp_df.index = pd.Series(indiv_pdp['values'][0], name='values')"
   ]
  },
  {
   "cell_type": "code",
   "execution_count": 70,
   "id": "32c5fcc6-fcf3-42e2-8128-56f98722403d",
   "metadata": {},
   "outputs": [
    {
     "data": {
      "text/plain": [
       "(100, 400)"
      ]
     },
     "execution_count": 70,
     "metadata": {},
     "output_type": "execute_result"
    }
   ],
   "source": [
    "indiv_samp_df.shape"
   ]
  },
  {
   "cell_type": "code",
   "execution_count": 71,
   "id": "a537e0f8-7ba7-43f6-bed4-64a744bed1ce",
   "metadata": {},
   "outputs": [],
   "source": [
    "random.seed(43)\n",
    "colsamp = random.sample(list(indiv_samp_df.columns.get_level_values(0)), 10)"
   ]
  },
  {
   "cell_type": "code",
   "execution_count": 72,
   "id": "8c67a4f2-9ddf-44b7-8fb1-ab1577cb6bfe",
   "metadata": {},
   "outputs": [],
   "source": [
    "# Get subsample of cases to make plots nicer\n",
    "colsamp = random.sample(list(indiv_samp_df.columns.get_level_values(0)), 20)\n",
    "indiv_samp_2_df = indiv_samp_df.loc[:, colsamp]"
   ]
  },
  {
   "cell_type": "code",
   "execution_count": 73,
   "id": "d152808a-81a4-4a4f-9c27-15c2fe0268ab",
   "metadata": {},
   "outputs": [
    {
     "data": {
      "text/plain": [
       "(100, 40)"
      ]
     },
     "execution_count": 73,
     "metadata": {},
     "output_type": "execute_result"
    }
   ],
   "source": [
    "indiv_samp_2_df.shape"
   ]
  },
  {
   "cell_type": "code",
   "execution_count": 74,
   "id": "4614d21d-9050-4227-882f-9844e682af5c",
   "metadata": {},
   "outputs": [],
   "source": [
    "# Plot - panel, show side by side"
   ]
  },
  {
   "cell_type": "code",
   "execution_count": 75,
   "id": "fd5593ec-9cce-405a-be93-3aa2678330df",
   "metadata": {},
   "outputs": [
    {
     "data": {
      "image/png": "[encoded data removed]",
      "text/plain": [
       "<Figure size 800x300 with 2 Axes>"
      ]
     },
     "metadata": {},
     "output_type": "display_data"
    }
   ],
   "source": [
    "fig, ax = plt.subplots(1, 2, sharex = True, sharey=True,\n",
    "                      figsize = (8,3))\n",
    "\n",
    "for i, tv in enumerate(set(indiv_samp_2_df.columns.get_level_values(1))):\n",
    "    this_df = indiv_samp_2_df.loc[:, indiv_samp_2_df.columns.get_level_values(1)==tv]\n",
    "    this_df.plot(color=color_dict[tv],  ax=ax[i], legend=None)\n",
    "    ax[i].set_xlabel('int_rate')\n",
    "    ax[i].set_title(f'term={tv}')\n",
    "\n",
    "ax[0].set_ylabel('2-way ICE')\n",
    "fig.savefig(Path(setup.temp_path).joinpath('06_PLOT_int_term_ice_samples_panel.png'),\n",
    "            bbox_inches='tight')"
   ]
  }
 ],
 "metadata": {
  "kernelspec": {
   "display_name": "Python 3 (ipykernel)",
   "language": "python",
   "name": "python3"
  },
  "language_info": {
   "codemirror_mode": {
    "name": "ipython",
    "version": 3
   },
   "file_extension": ".py",
   "mimetype": "text/x-python",
   "name": "python",
   "nbconvert_exporter": "python",
   "pygments_lexer": "ipython3",
   "version": "3.10.2"
  }
 },
 "nbformat": 4,
 "nbformat_minor": 5
}
