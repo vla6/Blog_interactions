{
 "cells": [
  {
   "cell_type": "code",
   "execution_count": 1,
   "id": "44b56386-9bd6-40db-8e61-0cebc1fd983b",
   "metadata": {
    "tags": []
   },
   "outputs": [],
   "source": [
    "# Modify the file 00_setup.py to define input/output file paths on your system\n",
    "# The information in 00_setup.py will be used across notebooks\n",
    "from importlib.machinery import SourceFileLoader\n",
    "setup = SourceFileLoader(\"setup\", \"./00_setup.py\").load_module()"
   ]
  },
  {
   "cell_type": "markdown",
   "id": "5975abcf-8c2a-4ad4-9531-79799842931f",
   "metadata": {},
   "source": [
    "# 06: Base Model Descriptives\n",
    " * Compare the results for Friedman's H, ALE, and Shapley.  \n",
    " * Get some descriptive plots relating to term and interest rate"
   ]
  },
  {
   "cell_type": "markdown",
   "id": "f2f60612-7830-4112-b1d3-1617d123de4d",
   "metadata": {},
   "source": [
    "*This script takes about 1 minutes on my MacBook Air*"
   ]
  },
  {
   "cell_type": "code",
   "execution_count": 2,
   "id": "61ff97aa-210f-4817-9e6b-44934d50ad6a",
   "metadata": {},
   "outputs": [],
   "source": [
    "import pandas as pd\n",
    "import numpy as np\n",
    "import matplotlib.pyplot as plt\n",
    "import seaborn as sns\n",
    "import pickle\n",
    "from pathlib import Path\n",
    "import sklearn as sk\n",
    "import matplotlib as mpl\n",
    "import scipy\n",
    "import random\n",
    "from matplotlib.ticker import FormatStrFormatter, PercentFormatter\n",
    "from sklearn.inspection import partial_dependence"
   ]
  },
  {
   "cell_type": "code",
   "execution_count": 3,
   "id": "d0ced6de-78b1-49fb-9108-79df75db9f51",
   "metadata": {},
   "outputs": [],
   "source": [
    "from interactions_package.interactions_package import ip_plot"
   ]
  },
  {
   "cell_type": "code",
   "execution_count": 4,
   "id": "6830d40c-3717-46e9-a7f6-e53ac0fb1dbd",
   "metadata": {},
   "outputs": [],
   "source": [
    "ip_plot.plot_defaults()"
   ]
  },
  {
   "cell_type": "markdown",
   "id": "2d3dbffa-7110-4c13-bd9b-5148bbb48798",
   "metadata": {},
   "source": [
    "## Import Data"
   ]
  },
  {
   "cell_type": "markdown",
   "id": "edd1ff00-2636-4b05-b251-3c5dff94e39e",
   "metadata": {},
   "source": [
    "##### Predictors"
   ]
  },
  {
   "cell_type": "code",
   "execution_count": 5,
   "id": "6fa544ef-5b04-45a2-a4e6-626769a8d8cc",
   "metadata": {},
   "outputs": [],
   "source": [
    "predictor_features = pd.read_csv(Path(setup.temp_path) \\\n",
    "                                 .joinpath('01_REPORT_predictor_features.csv'))['feature'].tolist()"
   ]
  },
  {
   "cell_type": "markdown",
   "id": "fd64c3e4-2d2d-4787-b72c-92ee456fa038",
   "metadata": {},
   "source": [
    "##### Dataset - train, test, and sampled train"
   ]
  },
  {
   "cell_type": "code",
   "execution_count": 6,
   "id": "5ab17675-38f7-4f82-9507-54b494679a5c",
   "metadata": {},
   "outputs": [],
   "source": [
    "test_df = pd.read_parquet(Path(setup.temp_path).joinpath('01_DATA_combined_base_test.parquet'))\n",
    "train_df = pd.read_parquet(Path(setup.temp_path).joinpath('01_DATA_combined_base_train.parquet'))"
   ]
  },
  {
   "cell_type": "code",
   "execution_count": 7,
   "id": "a4d5b29c-9191-4060-874f-67015a559a39",
   "metadata": {},
   "outputs": [],
   "source": [
    "train_samp_df = pd.read_parquet(Path(setup.temp_path) \\\n",
    "                                .joinpath('03_DATA_combined_base_train_samp.parquet')) "
   ]
  },
  {
   "cell_type": "markdown",
   "id": "700b4c25-1325-4904-baf1-aa364ba650c2",
   "metadata": {},
   "source": [
    "##### Model"
   ]
  },
  {
   "cell_type": "code",
   "execution_count": 8,
   "id": "a5d41d78-cb6f-4e02-82bf-c8419a3f360c",
   "metadata": {},
   "outputs": [],
   "source": [
    "with open(Path(setup.temp_path).joinpath('02_MODEL_base_gc.pkl'), 'rb') as pi:\n",
    "    base_model = pickle.load(pi)"
   ]
  },
  {
   "cell_type": "markdown",
   "id": "4d31c639-2181-4955-929b-befa334441f3",
   "metadata": {},
   "source": [
    "##### Permutation importances"
   ]
  },
  {
   "cell_type": "code",
   "execution_count": 9,
   "id": "d2800ff4-c1a2-4e22-9095-77a5a46065b1",
   "metadata": {},
   "outputs": [],
   "source": [
    "perm_importance_df = pd.read_csv(Path(setup.temp_path).joinpath('02_DATA_importance_perturb.csv'))"
   ]
  },
  {
   "cell_type": "markdown",
   "id": "248436b0-1d8a-4809-adaa-47054d3579b9",
   "metadata": {},
   "source": [
    "##### Friedman's H Scores"
   ]
  },
  {
   "cell_type": "code",
   "execution_count": 10,
   "id": "f30c9b37-056c-4be3-962c-8de07fbaa4fd",
   "metadata": {},
   "outputs": [],
   "source": [
    "h_comb = pd.read_csv(Path(setup.temp_path).joinpath('03_DATA_h_scores.csv'))"
   ]
  },
  {
   "cell_type": "markdown",
   "id": "dbc26aa7-7cd1-4cfa-9024-4a9fd6051474",
   "metadata": {},
   "source": [
    "##### 2-Way ALE Mean Abs"
   ]
  },
  {
   "cell_type": "code",
   "execution_count": 11,
   "id": "4153d13a-5392-4000-884b-1a5b309b28e6",
   "metadata": {},
   "outputs": [],
   "source": [
    "ale_mean_abs = pd.read_csv(Path(setup.temp_path).joinpath('04_DATA_ale_magnitudes_2way.csv'))"
   ]
  },
  {
   "cell_type": "markdown",
   "id": "d827ef6e-9d6f-4504-b52d-22d34d0a9879",
   "metadata": {},
   "source": [
    "##### Shapley Interaction Mean Abs"
   ]
  },
  {
   "cell_type": "code",
   "execution_count": 12,
   "id": "0699bb7b-e148-4998-814f-3597b3788a4c",
   "metadata": {},
   "outputs": [],
   "source": [
    "shap_mean_abs = pd.read_csv(Path(setup.temp_path).joinpath('05_DATA_shap_mean_abs.csv'))"
   ]
  },
  {
   "cell_type": "markdown",
   "id": "8b436add-a13b-4c51-a853-022bec783792",
   "metadata": {},
   "source": [
    "## Compare Ranks for the Three Methods"
   ]
  },
  {
   "cell_type": "markdown",
   "id": "9b106a9f-bda0-47f8-823d-0581fa3377bc",
   "metadata": {},
   "source": [
    "##### Align ranks and save table"
   ]
  },
  {
   "cell_type": "code",
   "execution_count": 13,
   "id": "929c8900-fb89-4c0d-bc57-fac3ed45f00e",
   "metadata": {},
   "outputs": [],
   "source": [
    "h_comb['rank'] = h_comb['h_score'].rank(method='first', ascending=False) \n",
    "h_comb = h_comb.rename(columns={'h_score':'score'})"
   ]
  },
  {
   "cell_type": "code",
   "execution_count": 14,
   "id": "21666ec0-1374-40b1-9ae8-d16dc83032cf",
   "metadata": {},
   "outputs": [],
   "source": [
    "ale_mean_abs['rank'] = ale_mean_abs['abs_mean'].rank(method='first', ascending=False)\n",
    "ale_mean_abs = ale_mean_abs.rename(columns={'abs_mean':'score'})"
   ]
  },
  {
   "cell_type": "code",
   "execution_count": 15,
   "id": "33e9bce8-24df-4117-a3ed-dd72e9c0de56",
   "metadata": {},
   "outputs": [],
   "source": [
    "shap_mean_abs_int = shap_mean_abs[shap_mean_abs['feat_1'] != shap_mean_abs['feat_2']] \\\n",
    "    .copy() \\\n",
    "    .rename(columns={'shap_mean_abs':'score'})\n",
    "shap_mean_abs_int['rank'] = shap_mean_abs_int['score'].rank(method='first', ascending=False)"
   ]
  },
  {
   "cell_type": "code",
   "execution_count": 16,
   "id": "bf6bb44b-26eb-4935-8b48-6f94bf03c50a",
   "metadata": {},
   "outputs": [],
   "source": [
    "rank_comb = h_comb[['rank', 'score', 'label']] \\\n",
    "    .merge(ale_mean_abs[['rank', 'score', 'label']], how='outer', on='rank',\n",
    "           suffixes=('_h', '_ale')) \\\n",
    "    .merge(shap_mean_abs_int[['rank', 'score', 'label']], how='outer', on='rank') \\\n",
    "    .rename(columns={'score':'score_shap', 'label':'label_shap'})"
   ]
  },
  {
   "cell_type": "code",
   "execution_count": 17,
   "id": "1fe84f1b-06a8-4b0a-9347-b89ba182fe59",
   "metadata": {},
   "outputs": [
    {
     "data": {
      "text/html": [
       "<div>\n",
       "<style scoped>\n",
       "    .dataframe tbody tr th:only-of-type {\n",
       "        vertical-align: middle;\n",
       "    }\n",
       "\n",
       "    .dataframe tbody tr th {\n",
       "        vertical-align: top;\n",
       "    }\n",
       "\n",
       "    .dataframe thead th {\n",
       "        text-align: right;\n",
       "    }\n",
       "</style>\n",
       "<table border=\"1\" class=\"dataframe\">\n",
       "  <thead>\n",
       "    <tr style=\"text-align: right;\">\n",
       "      <th></th>\n",
       "      <th>rank</th>\n",
       "      <th>score_h</th>\n",
       "      <th>label_h</th>\n",
       "      <th>score_ale</th>\n",
       "      <th>label_ale</th>\n",
       "      <th>score_shap</th>\n",
       "      <th>label_shap</th>\n",
       "    </tr>\n",
       "  </thead>\n",
       "  <tbody>\n",
       "    <tr>\n",
       "      <th>0</th>\n",
       "      <td>1.0</td>\n",
       "      <td>0.336727</td>\n",
       "      <td>loan_amnt:revol_bal</td>\n",
       "      <td>0.013039</td>\n",
       "      <td>int_rate:term</td>\n",
       "      <td>0.026107</td>\n",
       "      <td>int_rate:term</td>\n",
       "    </tr>\n",
       "    <tr>\n",
       "      <th>1</th>\n",
       "      <td>2.0</td>\n",
       "      <td>0.190934</td>\n",
       "      <td>loan_amnt:annual_inc</td>\n",
       "      <td>0.012732</td>\n",
       "      <td>int_rate:loan_amnt</td>\n",
       "      <td>0.018264</td>\n",
       "      <td>int_rate:sec_app_fico_range_low</td>\n",
       "    </tr>\n",
       "    <tr>\n",
       "      <th>2</th>\n",
       "      <td>3.0</td>\n",
       "      <td>0.143120</td>\n",
       "      <td>revol_bal:num_actv_bc_tl</td>\n",
       "      <td>0.010854</td>\n",
       "      <td>int_rate:sec_app_fico_range_low</td>\n",
       "      <td>0.014004</td>\n",
       "      <td>int_rate:loan_amnt</td>\n",
       "    </tr>\n",
       "    <tr>\n",
       "      <th>3</th>\n",
       "      <td>4.0</td>\n",
       "      <td>0.120956</td>\n",
       "      <td>term:sec_app_fico_range_low</td>\n",
       "      <td>0.008795</td>\n",
       "      <td>int_rate:home_ownership__RENT</td>\n",
       "      <td>0.011934</td>\n",
       "      <td>int_rate:mort_acc</td>\n",
       "    </tr>\n",
       "    <tr>\n",
       "      <th>4</th>\n",
       "      <td>5.0</td>\n",
       "      <td>0.114622</td>\n",
       "      <td>home_ownership__RENT:num_actv_bc_tl</td>\n",
       "      <td>0.008668</td>\n",
       "      <td>int_rate:annual_inc</td>\n",
       "      <td>0.011380</td>\n",
       "      <td>loan_amnt:revol_bal</td>\n",
       "    </tr>\n",
       "  </tbody>\n",
       "</table>\n",
       "</div>"
      ],
      "text/plain": [
       "   rank   score_h                              label_h  score_ale  \\\n",
       "0   1.0  0.336727                  loan_amnt:revol_bal   0.013039   \n",
       "1   2.0  0.190934                 loan_amnt:annual_inc   0.012732   \n",
       "2   3.0  0.143120             revol_bal:num_actv_bc_tl   0.010854   \n",
       "3   4.0  0.120956          term:sec_app_fico_range_low   0.008795   \n",
       "4   5.0  0.114622  home_ownership__RENT:num_actv_bc_tl   0.008668   \n",
       "\n",
       "                         label_ale  score_shap  \\\n",
       "0                    int_rate:term    0.026107   \n",
       "1               int_rate:loan_amnt    0.018264   \n",
       "2  int_rate:sec_app_fico_range_low    0.014004   \n",
       "3    int_rate:home_ownership__RENT    0.011934   \n",
       "4              int_rate:annual_inc    0.011380   \n",
       "\n",
       "                        label_shap  \n",
       "0                    int_rate:term  \n",
       "1  int_rate:sec_app_fico_range_low  \n",
       "2               int_rate:loan_amnt  \n",
       "3                int_rate:mort_acc  \n",
       "4              loan_amnt:revol_bal  "
      ]
     },
     "execution_count": 17,
     "metadata": {},
     "output_type": "execute_result"
    }
   ],
   "source": [
    "rank_comb.head()"
   ]
  },
  {
   "cell_type": "code",
   "execution_count": 18,
   "id": "39ea7740-0c13-4ab8-9a55-dedb52faf83d",
   "metadata": {},
   "outputs": [],
   "source": [
    "rank_comb.to_csv(Path(setup.temp_path).joinpath('06_REPORT_top_interactions_all.csv'),\n",
    "                   index=False)"
   ]
  },
  {
   "cell_type": "markdown",
   "id": "9e60ed6e-5ae0-42a1-a8b2-00ac2e40248f",
   "metadata": {},
   "source": [
    "##### Correlations among ranks and with perturbation importances"
   ]
  },
  {
   "cell_type": "code",
   "execution_count": 19,
   "id": "6b1c6cfa-a561-4209-8b5f-57e6aeec6882",
   "metadata": {},
   "outputs": [],
   "source": [
    "# Merge ranked data by feature"
   ]
  },
  {
   "cell_type": "code",
   "execution_count": 20,
   "id": "0d868cdb-540e-4f44-9135-5d6fd8944cc3",
   "metadata": {},
   "outputs": [],
   "source": [
    "comb_score_by_feature = h_comb[['rank', 'score', 'label', 'feat_1', 'feat_2']] \\\n",
    "    .merge(ale_mean_abs[['rank', 'score', 'feat_1', 'feat_2']], how='outer', \n",
    "           on=['feat_1', 'feat_2'],suffixes=('_h', '_ale')) \\\n",
    "    .merge(shap_mean_abs_int[['rank', 'score', 'feat_1', 'feat_2']], how='outer', \n",
    "           on=['feat_1', 'feat_2']) \\\n",
    "    .rename(columns={'score':'score_shap', 'rank':'rank_shap'})"
   ]
  },
  {
   "cell_type": "code",
   "execution_count": 21,
   "id": "2c079200-fcc7-4ad0-b39b-f6c347fd16bf",
   "metadata": {},
   "outputs": [],
   "source": [
    "# Append permutation feature importances\n",
    "# We have 1 permutation importance per feature, so to compare the interaction measures, look at both component features.\n",
    "comb_score_by_feature = comb_score_by_feature.merge(perm_importance_df[['features', 'abs_importance']] \\\n",
    "                                      .rename(columns={'abs_importance':'pi_1_a'}),\n",
    "                                  how='left', left_on='feat_1', right_on='features') \\\n",
    "    .drop(columns=['features']) \\\n",
    "    .merge(perm_importance_df[['features', 'abs_importance']] \\\n",
    "                                      .rename(columns={'abs_importance':'pi_2_a'}),\n",
    "                                  how='left', left_on='feat_2', right_on='features') \\\n",
    "    .drop(columns=['features']) "
   ]
  },
  {
   "cell_type": "code",
   "execution_count": 22,
   "id": "3276971f-5af8-465e-8388-efe4b8fbdc2e",
   "metadata": {},
   "outputs": [],
   "source": [
    "# Reorder permutation importances by strength\n",
    "comb_score_by_feature['pi_1'] = np.where(comb_score_by_feature['pi_1_a'] >=  comb_score_by_feature['pi_2_a'],\n",
    "                                   comb_score_by_feature['pi_1_a'], comb_score_by_feature['pi_2_a'])\n",
    "comb_score_by_feature['pi_2'] = np.where(comb_score_by_feature['pi_1_a'] >=  comb_score_by_feature['pi_2_a'],\n",
    "                                   comb_score_by_feature['pi_2_a'], comb_score_by_feature['pi_1_a'])\n",
    "comb_score_by_feature.drop(columns=['pi_1_a', 'pi_2_a'], inplace=True)"
   ]
  },
  {
   "cell_type": "code",
   "execution_count": 23,
   "id": "b964c714-ce05-4bb1-986c-546401012c37",
   "metadata": {},
   "outputs": [
    {
     "data": {
      "text/html": [
       "<div>\n",
       "<style scoped>\n",
       "    .dataframe tbody tr th:only-of-type {\n",
       "        vertical-align: middle;\n",
       "    }\n",
       "\n",
       "    .dataframe tbody tr th {\n",
       "        vertical-align: top;\n",
       "    }\n",
       "\n",
       "    .dataframe thead th {\n",
       "        text-align: right;\n",
       "    }\n",
       "</style>\n",
       "<table border=\"1\" class=\"dataframe\">\n",
       "  <thead>\n",
       "    <tr style=\"text-align: right;\">\n",
       "      <th></th>\n",
       "      <th>rank_h</th>\n",
       "      <th>score_h</th>\n",
       "      <th>label</th>\n",
       "      <th>feat_1</th>\n",
       "      <th>feat_2</th>\n",
       "      <th>rank_ale</th>\n",
       "      <th>score_ale</th>\n",
       "      <th>rank_shap</th>\n",
       "      <th>score_shap</th>\n",
       "      <th>pi_1</th>\n",
       "      <th>pi_2</th>\n",
       "    </tr>\n",
       "  </thead>\n",
       "  <tbody>\n",
       "    <tr>\n",
       "      <th>12</th>\n",
       "      <td>13.0</td>\n",
       "      <td>0.088957</td>\n",
       "      <td>int_rate:term</td>\n",
       "      <td>int_rate</td>\n",
       "      <td>term</td>\n",
       "      <td>1.0</td>\n",
       "      <td>0.013039</td>\n",
       "      <td>1.0</td>\n",
       "      <td>0.026107</td>\n",
       "      <td>0.002943</td>\n",
       "      <td>0.001499</td>\n",
       "    </tr>\n",
       "    <tr>\n",
       "      <th>29</th>\n",
       "      <td>30.0</td>\n",
       "      <td>0.057847</td>\n",
       "      <td>int_rate:loan_amnt</td>\n",
       "      <td>int_rate</td>\n",
       "      <td>loan_amnt</td>\n",
       "      <td>2.0</td>\n",
       "      <td>0.012732</td>\n",
       "      <td>3.0</td>\n",
       "      <td>0.014004</td>\n",
       "      <td>0.002943</td>\n",
       "      <td>0.001165</td>\n",
       "    </tr>\n",
       "    <tr>\n",
       "      <th>21</th>\n",
       "      <td>22.0</td>\n",
       "      <td>0.067759</td>\n",
       "      <td>int_rate:sec_app_fico_range_low</td>\n",
       "      <td>int_rate</td>\n",
       "      <td>sec_app_fico_range_low</td>\n",
       "      <td>3.0</td>\n",
       "      <td>0.010854</td>\n",
       "      <td>2.0</td>\n",
       "      <td>0.018264</td>\n",
       "      <td>0.002943</td>\n",
       "      <td>0.000711</td>\n",
       "    </tr>\n",
       "    <tr>\n",
       "      <th>39</th>\n",
       "      <td>40.0</td>\n",
       "      <td>0.029695</td>\n",
       "      <td>int_rate:home_ownership__RENT</td>\n",
       "      <td>int_rate</td>\n",
       "      <td>home_ownership__RENT</td>\n",
       "      <td>4.0</td>\n",
       "      <td>0.008795</td>\n",
       "      <td>21.0</td>\n",
       "      <td>0.005382</td>\n",
       "      <td>0.002943</td>\n",
       "      <td>0.000643</td>\n",
       "    </tr>\n",
       "    <tr>\n",
       "      <th>37</th>\n",
       "      <td>38.0</td>\n",
       "      <td>0.038064</td>\n",
       "      <td>int_rate:annual_inc</td>\n",
       "      <td>int_rate</td>\n",
       "      <td>annual_inc</td>\n",
       "      <td>5.0</td>\n",
       "      <td>0.008668</td>\n",
       "      <td>7.0</td>\n",
       "      <td>0.010322</td>\n",
       "      <td>0.002943</td>\n",
       "      <td>0.000931</td>\n",
       "    </tr>\n",
       "  </tbody>\n",
       "</table>\n",
       "</div>"
      ],
      "text/plain": [
       "    rank_h   score_h                            label    feat_1  \\\n",
       "12    13.0  0.088957                    int_rate:term  int_rate   \n",
       "29    30.0  0.057847               int_rate:loan_amnt  int_rate   \n",
       "21    22.0  0.067759  int_rate:sec_app_fico_range_low  int_rate   \n",
       "39    40.0  0.029695    int_rate:home_ownership__RENT  int_rate   \n",
       "37    38.0  0.038064              int_rate:annual_inc  int_rate   \n",
       "\n",
       "                    feat_2  rank_ale  score_ale  rank_shap  score_shap  \\\n",
       "12                    term       1.0   0.013039        1.0    0.026107   \n",
       "29               loan_amnt       2.0   0.012732        3.0    0.014004   \n",
       "21  sec_app_fico_range_low       3.0   0.010854        2.0    0.018264   \n",
       "39    home_ownership__RENT       4.0   0.008795       21.0    0.005382   \n",
       "37              annual_inc       5.0   0.008668        7.0    0.010322   \n",
       "\n",
       "        pi_1      pi_2  \n",
       "12  0.002943  0.001499  \n",
       "29  0.002943  0.001165  \n",
       "21  0.002943  0.000711  \n",
       "39  0.002943  0.000643  \n",
       "37  0.002943  0.000931  "
      ]
     },
     "execution_count": 23,
     "metadata": {},
     "output_type": "execute_result"
    }
   ],
   "source": [
    "comb_score_by_feature.sort_values('rank_ale').head()"
   ]
  },
  {
   "cell_type": "code",
   "execution_count": 24,
   "id": "55a2d1d7-dc60-47d8-9c5e-abb932b977f7",
   "metadata": {},
   "outputs": [],
   "source": [
    "# Correlations\n",
    "comb_score_corr  = comb_score_by_feature[['score_h', 'score_ale', 'score_shap', 'pi_1', 'pi_2']].corr(method='spearman')"
   ]
  },
  {
   "cell_type": "code",
   "execution_count": 25,
   "id": "6e11eb0b-1235-4aa4-9125-114ebd2c5500",
   "metadata": {},
   "outputs": [
    {
     "data": {
      "text/html": [
       "<div>\n",
       "<style scoped>\n",
       "    .dataframe tbody tr th:only-of-type {\n",
       "        vertical-align: middle;\n",
       "    }\n",
       "\n",
       "    .dataframe tbody tr th {\n",
       "        vertical-align: top;\n",
       "    }\n",
       "\n",
       "    .dataframe thead th {\n",
       "        text-align: right;\n",
       "    }\n",
       "</style>\n",
       "<table border=\"1\" class=\"dataframe\">\n",
       "  <thead>\n",
       "    <tr style=\"text-align: right;\">\n",
       "      <th></th>\n",
       "      <th>score_h</th>\n",
       "      <th>score_ale</th>\n",
       "      <th>score_shap</th>\n",
       "      <th>pi_1</th>\n",
       "      <th>pi_2</th>\n",
       "    </tr>\n",
       "  </thead>\n",
       "  <tbody>\n",
       "    <tr>\n",
       "      <th>score_h</th>\n",
       "      <td>1.000000</td>\n",
       "      <td>0.097233</td>\n",
       "      <td>0.327668</td>\n",
       "      <td>-0.342212</td>\n",
       "      <td>0.027374</td>\n",
       "    </tr>\n",
       "    <tr>\n",
       "      <th>score_ale</th>\n",
       "      <td>0.097233</td>\n",
       "      <td>1.000000</td>\n",
       "      <td>0.622266</td>\n",
       "      <td>0.536230</td>\n",
       "      <td>0.663843</td>\n",
       "    </tr>\n",
       "    <tr>\n",
       "      <th>score_shap</th>\n",
       "      <td>0.327668</td>\n",
       "      <td>0.622266</td>\n",
       "      <td>1.000000</td>\n",
       "      <td>0.583372</td>\n",
       "      <td>0.745504</td>\n",
       "    </tr>\n",
       "    <tr>\n",
       "      <th>pi_1</th>\n",
       "      <td>-0.342212</td>\n",
       "      <td>0.536230</td>\n",
       "      <td>0.583372</td>\n",
       "      <td>1.000000</td>\n",
       "      <td>0.467602</td>\n",
       "    </tr>\n",
       "    <tr>\n",
       "      <th>pi_2</th>\n",
       "      <td>0.027374</td>\n",
       "      <td>0.663843</td>\n",
       "      <td>0.745504</td>\n",
       "      <td>0.467602</td>\n",
       "      <td>1.000000</td>\n",
       "    </tr>\n",
       "  </tbody>\n",
       "</table>\n",
       "</div>"
      ],
      "text/plain": [
       "             score_h  score_ale  score_shap      pi_1      pi_2\n",
       "score_h     1.000000   0.097233    0.327668 -0.342212  0.027374\n",
       "score_ale   0.097233   1.000000    0.622266  0.536230  0.663843\n",
       "score_shap  0.327668   0.622266    1.000000  0.583372  0.745504\n",
       "pi_1       -0.342212   0.536230    0.583372  1.000000  0.467602\n",
       "pi_2        0.027374   0.663843    0.745504  0.467602  1.000000"
      ]
     },
     "execution_count": 25,
     "metadata": {},
     "output_type": "execute_result"
    }
   ],
   "source": [
    "comb_score_corr"
   ]
  },
  {
   "cell_type": "code",
   "execution_count": 26,
   "id": "d4f08c0c-145b-4360-af11-da5b216484aa",
   "metadata": {},
   "outputs": [],
   "source": [
    "comb_score_corr.to_csv(Path(setup.temp_path).joinpath('06_REPORT_interactions_corr.csv'),\n",
    "                   index=True)"
   ]
  },
  {
   "cell_type": "markdown",
   "id": "6b9c9844-4641-4ff2-9f4d-f67f498087c7",
   "metadata": {},
   "source": [
    "## Term and Interest Rate\n",
    "This is an interaction which shows opposite yet similar effects with SHAP vs. ALE.  Get more information about these features and how the model responds to them."
   ]
  },
  {
   "cell_type": "markdown",
   "id": "80203de4-90e1-4fad-a847-a5e342207057",
   "metadata": {},
   "source": [
    "### Correlations between term and other features"
   ]
  },
  {
   "cell_type": "code",
   "execution_count": 27,
   "id": "291fa1b7-b513-4aa6-87b2-bd5414e753ef",
   "metadata": {},
   "outputs": [],
   "source": [
    "term_corr = pd.DataFrame({'feature': predictor_features,\n",
    "                          'corr': [train_samp_df[['term', f]] \\\n",
    "                                   .corr().iloc[0,1] for f in predictor_features]})"
   ]
  },
  {
   "cell_type": "code",
   "execution_count": 28,
   "id": "6e8a8af4-8ee9-497d-9530-a41deb848547",
   "metadata": {},
   "outputs": [
    {
     "data": {
      "text/html": [
       "<div>\n",
       "<style scoped>\n",
       "    .dataframe tbody tr th:only-of-type {\n",
       "        vertical-align: middle;\n",
       "    }\n",
       "\n",
       "    .dataframe tbody tr th {\n",
       "        vertical-align: top;\n",
       "    }\n",
       "\n",
       "    .dataframe thead th {\n",
       "        text-align: right;\n",
       "    }\n",
       "</style>\n",
       "<table border=\"1\" class=\"dataframe\">\n",
       "  <thead>\n",
       "    <tr style=\"text-align: right;\">\n",
       "      <th></th>\n",
       "      <th>feature</th>\n",
       "      <th>corr</th>\n",
       "    </tr>\n",
       "  </thead>\n",
       "  <tbody>\n",
       "    <tr>\n",
       "      <th>1</th>\n",
       "      <td>term</td>\n",
       "      <td>1.000000</td>\n",
       "    </tr>\n",
       "    <tr>\n",
       "      <th>2</th>\n",
       "      <td>int_rate</td>\n",
       "      <td>0.420609</td>\n",
       "    </tr>\n",
       "    <tr>\n",
       "      <th>0</th>\n",
       "      <td>loan_amnt</td>\n",
       "      <td>0.378657</td>\n",
       "    </tr>\n",
       "    <tr>\n",
       "      <th>5</th>\n",
       "      <td>verification_status</td>\n",
       "      <td>0.130195</td>\n",
       "    </tr>\n",
       "    <tr>\n",
       "      <th>9</th>\n",
       "      <td>initial_list_status</td>\n",
       "      <td>0.101052</td>\n",
       "    </tr>\n",
       "  </tbody>\n",
       "</table>\n",
       "</div>"
      ],
      "text/plain": [
       "               feature      corr\n",
       "1                 term  1.000000\n",
       "2             int_rate  0.420609\n",
       "0            loan_amnt  0.378657\n",
       "5  verification_status  0.130195\n",
       "9  initial_list_status  0.101052"
      ]
     },
     "execution_count": 28,
     "metadata": {},
     "output_type": "execute_result"
    }
   ],
   "source": [
    "term_corr.sort_values('corr', ascending=False).head(5)"
   ]
  },
  {
   "cell_type": "markdown",
   "id": "b8521c7b-c804-45bf-b770-3ffcd22f21c8",
   "metadata": {},
   "source": [
    "### Correlations between interest rate and other features"
   ]
  },
  {
   "cell_type": "code",
   "execution_count": 29,
   "id": "bb0219e1-0e7d-45aa-97ee-45fb6aaa80e8",
   "metadata": {},
   "outputs": [],
   "source": [
    "int_rate_corr = pd.DataFrame({'feature': predictor_features,\n",
    "                          'corr': [train_samp_df[['int_rate', f]] \\\n",
    "                                   .corr().iloc[0,1] for f in predictor_features]})"
   ]
  },
  {
   "cell_type": "code",
   "execution_count": 30,
   "id": "00f96328-4dd0-4b61-8f82-de7bb169cef3",
   "metadata": {},
   "outputs": [
    {
     "data": {
      "text/html": [
       "<div>\n",
       "<style scoped>\n",
       "    .dataframe tbody tr th:only-of-type {\n",
       "        vertical-align: middle;\n",
       "    }\n",
       "\n",
       "    .dataframe tbody tr th {\n",
       "        vertical-align: top;\n",
       "    }\n",
       "\n",
       "    .dataframe thead th {\n",
       "        text-align: right;\n",
       "    }\n",
       "</style>\n",
       "<table border=\"1\" class=\"dataframe\">\n",
       "  <thead>\n",
       "    <tr style=\"text-align: right;\">\n",
       "      <th></th>\n",
       "      <th>feature</th>\n",
       "      <th>corr</th>\n",
       "    </tr>\n",
       "  </thead>\n",
       "  <tbody>\n",
       "    <tr>\n",
       "      <th>2</th>\n",
       "      <td>int_rate</td>\n",
       "      <td>1.000000</td>\n",
       "    </tr>\n",
       "    <tr>\n",
       "      <th>1</th>\n",
       "      <td>term</td>\n",
       "      <td>0.420609</td>\n",
       "    </tr>\n",
       "    <tr>\n",
       "      <th>5</th>\n",
       "      <td>verification_status</td>\n",
       "      <td>0.221517</td>\n",
       "    </tr>\n",
       "    <tr>\n",
       "      <th>0</th>\n",
       "      <td>loan_amnt</td>\n",
       "      <td>0.139630</td>\n",
       "    </tr>\n",
       "    <tr>\n",
       "      <th>15</th>\n",
       "      <td>home_ownership__RENT</td>\n",
       "      <td>0.072318</td>\n",
       "    </tr>\n",
       "  </tbody>\n",
       "</table>\n",
       "</div>"
      ],
      "text/plain": [
       "                 feature      corr\n",
       "2               int_rate  1.000000\n",
       "1                   term  0.420609\n",
       "5    verification_status  0.221517\n",
       "0              loan_amnt  0.139630\n",
       "15  home_ownership__RENT  0.072318"
      ]
     },
     "execution_count": 30,
     "metadata": {},
     "output_type": "execute_result"
    }
   ],
   "source": [
    "int_rate_corr.sort_values('corr', ascending=False).head(5)"
   ]
  },
  {
   "cell_type": "code",
   "execution_count": 31,
   "id": "c700c488-121c-4366-a8cb-20d841330314",
   "metadata": {},
   "outputs": [
    {
     "data": {
      "text/plain": [
       "count    100000.000000\n",
       "mean         13.245706\n",
       "std           4.776438\n",
       "min           5.310000\n",
       "25%           9.750000\n",
       "50%          12.740000\n",
       "75%          15.990000\n",
       "max          30.990000\n",
       "Name: int_rate, dtype: float64"
      ]
     },
     "execution_count": 31,
     "metadata": {},
     "output_type": "execute_result"
    }
   ],
   "source": [
    "train_samp_df['int_rate'].describe()"
   ]
  },
  {
   "cell_type": "code",
   "execution_count": 32,
   "id": "74d84ba0-0971-43cd-bb28-41018d61f26b",
   "metadata": {},
   "outputs": [
    {
     "data": {
      "text/plain": [
       "36    0.75712\n",
       "60    0.24288\n",
       "Name: term, dtype: float64"
      ]
     },
     "execution_count": 32,
     "metadata": {},
     "output_type": "execute_result"
    }
   ],
   "source": [
    "train_samp_df['term'].value_counts(normalize=True)"
   ]
  },
  {
   "cell_type": "markdown",
   "id": "9d55be4e-d37e-41ef-a3ce-ae6610239056",
   "metadata": {},
   "source": [
    "### Counts by interest rate / term / income bucket\n",
    "This section is informed by later analyses, in which I see that the reason for differences in SHAP and ALE have to do with nodes for lower-income, higher-interest rate, higher-term loans"
   ]
  },
  {
   "cell_type": "markdown",
   "id": "f24a523a-1cca-4a53-a759-cc69916721ce",
   "metadata": {},
   "source": [
    "##### Functions to get counts, rates by bucket"
   ]
  },
  {
   "cell_type": "code",
   "execution_count": 33,
   "id": "9b58eca0-d264-4c01-a0d2-a5e16661b236",
   "metadata": {},
   "outputs": [],
   "source": [
    "train_samp_df['high_int'] = np.where(train_samp_df['int_rate'] > 30, 1, 0)\n",
    "train_samp_df['high_income'] = np.where(train_samp_df['annual_inc'] > 40000, 1, 0)"
   ]
  },
  {
   "cell_type": "code",
   "execution_count": 34,
   "id": "aa8e4b09-082b-471a-b010-0a206b44d222",
   "metadata": {},
   "outputs": [
    {
     "data": {
      "text/plain": [
       "Index(['index', 'id', 'grade', 'sub_grade', 'hardship_flag',\n",
       "       'debt_settlement_flag', 'hardship_amount', 'settlement_amount',\n",
       "       'addr_state', 'purpose', 'total_rec_prncp', 'total_rec_int',\n",
       "       'tot_coll_amt', 'tot_cur_bal', 'application_type', 'loan_amnt', 'term',\n",
       "       'int_rate', 'emp_length', 'home_ownership', 'annual_inc',\n",
       "       'verification_status', 'fico_range_low', 'sec_app_fico_range_low',\n",
       "       'open_acc', 'initial_list_status', 'num_actv_bc_tl', 'mort_acc',\n",
       "       'pub_rec', 'revol_bal', 'target', 'home_ownership__MORTGAGE',\n",
       "       'home_ownership__RENT', 'home_ownership__OWN',\n",
       "       'home_ownership__ZZ_OTHER', 'high_int', 'high_income'],\n",
       "      dtype='object')"
      ]
     },
     "execution_count": 34,
     "metadata": {},
     "output_type": "execute_result"
    }
   ],
   "source": [
    "train_samp_df.columns"
   ]
  },
  {
   "cell_type": "code",
   "execution_count": 35,
   "id": "847eb776-0adb-4b0e-a012-35bf19e61d39",
   "metadata": {},
   "outputs": [],
   "source": [
    "# Add binary high/low income and interest rate indicators\n",
    "def get_level_indicators(data):\n",
    "    data['high_int'] = np.where(data['int_rate'] > 25, 1, 0)\n",
    "    data['high_income'] = np.where(data['annual_inc'] > 40000, 1, 0)\n",
    "    return data"
   ]
  },
  {
   "cell_type": "code",
   "execution_count": 36,
   "id": "155def04-4e13-4e7a-82f0-8a3f61fe5243",
   "metadata": {},
   "outputs": [],
   "source": [
    "# Function to aggregate within categories.  Assumes get_level_indicators() has been done\n",
    "def cat_agg(data, agg_col = 'target', agg_func = 'count'):\n",
    "    bucket_overall = data \\\n",
    "        .groupby('high_income')[agg_col] \\\n",
    "        .agg(agg_func) \\\n",
    "        .rename('all_loans') \\\n",
    "        .reset_index()\n",
    "    bucket_int_rate = data \\\n",
    "        .groupby(['high_income', 'high_int'])[agg_col] \\\n",
    "        .agg(agg_func) \\\n",
    "        .rename('value') \\\n",
    "        .reset_index() \\\n",
    "        .pivot(index='high_income', values='value', columns='high_int') \\\n",
    "        .rename(columns={0:'int_low', 1:'int_high'})\n",
    "    bucket_term = data \\\n",
    "        .groupby(['high_income', 'term'])[agg_col] \\\n",
    "        .agg(agg_func) \\\n",
    "        .rename('value') \\\n",
    "        .reset_index() \\\n",
    "        .pivot(index='high_income', values='value', columns='term') \\\n",
    "        .rename(columns={36:'term_36', 60:'term_60'})\n",
    "    bucket_term_int = data \\\n",
    "        .groupby(['high_income', 'term', 'high_int'])[agg_col] \\\n",
    "        .agg(agg_func) \\\n",
    "        .rename('value') \\\n",
    "        .reset_index() \\\n",
    "        .pivot(index=['high_income', 'high_int'], values='value', columns='term') \\\n",
    "        .reset_index() \\\n",
    "        .pivot(index=['high_income'], columns='high_int') \\\n",
    "        .rename(columns={0:'int_low', 1:'int_high'}, level=1)\n",
    "    bucket_term_int.columns = [str(c[1]) + '_' + str(c[0]) \\\n",
    "                                   for c in bucket_term_int.columns.to_flat_index()]\n",
    "    return pd.concat([bucket_overall, bucket_int_rate, bucket_term, bucket_term_int], axis=1)"
   ]
  },
  {
   "cell_type": "code",
   "execution_count": 37,
   "id": "89b56b02-9dc0-4f7a-9451-681f8093294b",
   "metadata": {},
   "outputs": [],
   "source": [
    "# Get counts, rates for one data set\n",
    "def get_data_stats(data):\n",
    "    data = get_level_indicators(data)\n",
    "    count_agg = cat_agg(data)\n",
    "    rate_agg = cat_agg(data, agg_func='mean')\n",
    "    \n",
    "    return pd.concat([count_agg, rate_agg], axis=0, keys=['count', 'rate'])"
   ]
  },
  {
   "cell_type": "markdown",
   "id": "00f03f8e-a1f8-41c5-a834-b0a67c59379a",
   "metadata": {},
   "source": [
    "##### Get stats for each data set"
   ]
  },
  {
   "cell_type": "code",
   "execution_count": 38,
   "id": "40d5151a-17d8-44cd-bf83-15e254b56a8b",
   "metadata": {},
   "outputs": [],
   "source": [
    "stats_all = pd.concat([get_data_stats(test_df), get_data_stats(train_df), get_data_stats(train_samp_df)],\n",
    "                      axis=0, keys=['test', 'train', 'train_samp'])"
   ]
  },
  {
   "cell_type": "code",
   "execution_count": 39,
   "id": "8f3288b8-f1b0-4a3d-a828-10f385b5b8da",
   "metadata": {},
   "outputs": [],
   "source": [
    "stats_all.to_csv(Path(setup.temp_path).joinpath('06_REPORT_dataset_stats_by_term_income_interest_rate.csv'), index=True)"
   ]
  },
  {
   "cell_type": "code",
   "execution_count": 40,
   "id": "14b7897a-6936-4ed6-a6e1-c9f5c188295c",
   "metadata": {},
   "outputs": [
    {
     "data": {
      "text/html": [
       "<div>\n",
       "<style scoped>\n",
       "    .dataframe tbody tr th:only-of-type {\n",
       "        vertical-align: middle;\n",
       "    }\n",
       "\n",
       "    .dataframe tbody tr th {\n",
       "        vertical-align: top;\n",
       "    }\n",
       "\n",
       "    .dataframe thead th {\n",
       "        text-align: right;\n",
       "    }\n",
       "</style>\n",
       "<table border=\"1\" class=\"dataframe\">\n",
       "  <thead>\n",
       "    <tr style=\"text-align: right;\">\n",
       "      <th></th>\n",
       "      <th></th>\n",
       "      <th></th>\n",
       "      <th>high_income</th>\n",
       "      <th>all_loans</th>\n",
       "      <th>int_low</th>\n",
       "      <th>int_high</th>\n",
       "      <th>term_36</th>\n",
       "      <th>term_60</th>\n",
       "      <th>int_low_36</th>\n",
       "      <th>int_high_36</th>\n",
       "      <th>int_low_60</th>\n",
       "      <th>int_high_60</th>\n",
       "    </tr>\n",
       "  </thead>\n",
       "  <tbody>\n",
       "    <tr>\n",
       "      <th rowspan=\"4\" valign=\"top\">test</th>\n",
       "      <th rowspan=\"2\" valign=\"top\">count</th>\n",
       "      <th>0</th>\n",
       "      <td>0</td>\n",
       "      <td>18688.000000</td>\n",
       "      <td>18325.000000</td>\n",
       "      <td>363.000000</td>\n",
       "      <td>16365.000000</td>\n",
       "      <td>2323.000000</td>\n",
       "      <td>16189.000000</td>\n",
       "      <td>176.000000</td>\n",
       "      <td>2136.000000</td>\n",
       "      <td>187.000000</td>\n",
       "    </tr>\n",
       "    <tr>\n",
       "      <th>1</th>\n",
       "      <td>1</td>\n",
       "      <td>82210.000000</td>\n",
       "      <td>80595.000000</td>\n",
       "      <td>1615.000000</td>\n",
       "      <td>60162.000000</td>\n",
       "      <td>22048.000000</td>\n",
       "      <td>59842.000000</td>\n",
       "      <td>320.000000</td>\n",
       "      <td>20753.000000</td>\n",
       "      <td>1295.000000</td>\n",
       "    </tr>\n",
       "    <tr>\n",
       "      <th rowspan=\"2\" valign=\"top\">rate</th>\n",
       "      <th>0</th>\n",
       "      <td>0</td>\n",
       "      <td>0.232716</td>\n",
       "      <td>0.227340</td>\n",
       "      <td>0.504132</td>\n",
       "      <td>0.205316</td>\n",
       "      <td>0.425743</td>\n",
       "      <td>0.202607</td>\n",
       "      <td>0.454545</td>\n",
       "      <td>0.414794</td>\n",
       "      <td>0.550802</td>\n",
       "    </tr>\n",
       "    <tr>\n",
       "      <th>1</th>\n",
       "      <td>1</td>\n",
       "      <td>0.192106</td>\n",
       "      <td>0.186500</td>\n",
       "      <td>0.471827</td>\n",
       "      <td>0.146704</td>\n",
       "      <td>0.315992</td>\n",
       "      <td>0.145299</td>\n",
       "      <td>0.409375</td>\n",
       "      <td>0.305305</td>\n",
       "      <td>0.487259</td>\n",
       "    </tr>\n",
       "    <tr>\n",
       "      <th rowspan=\"4\" valign=\"top\">train</th>\n",
       "      <th rowspan=\"2\" valign=\"top\">count</th>\n",
       "      <th>0</th>\n",
       "      <td>0</td>\n",
       "      <td>85866.000000</td>\n",
       "      <td>84161.000000</td>\n",
       "      <td>1705.000000</td>\n",
       "      <td>75134.000000</td>\n",
       "      <td>10732.000000</td>\n",
       "      <td>74360.000000</td>\n",
       "      <td>774.000000</td>\n",
       "      <td>9801.000000</td>\n",
       "      <td>931.000000</td>\n",
       "    </tr>\n",
       "    <tr>\n",
       "      <th>1</th>\n",
       "      <td>1</td>\n",
       "      <td>384992.000000</td>\n",
       "      <td>377496.000000</td>\n",
       "      <td>7496.000000</td>\n",
       "      <td>282393.000000</td>\n",
       "      <td>102599.000000</td>\n",
       "      <td>280897.000000</td>\n",
       "      <td>1496.000000</td>\n",
       "      <td>96599.000000</td>\n",
       "      <td>6000.000000</td>\n",
       "    </tr>\n",
       "    <tr>\n",
       "      <th rowspan=\"2\" valign=\"top\">rate</th>\n",
       "      <th>0</th>\n",
       "      <td>0</td>\n",
       "      <td>0.236007</td>\n",
       "      <td>0.230273</td>\n",
       "      <td>0.519062</td>\n",
       "      <td>0.209506</td>\n",
       "      <td>0.421543</td>\n",
       "      <td>0.206697</td>\n",
       "      <td>0.479328</td>\n",
       "      <td>0.409142</td>\n",
       "      <td>0.552095</td>\n",
       "    </tr>\n",
       "    <tr>\n",
       "      <th>1</th>\n",
       "      <td>1</td>\n",
       "      <td>0.191513</td>\n",
       "      <td>0.185975</td>\n",
       "      <td>0.470384</td>\n",
       "      <td>0.146856</td>\n",
       "      <td>0.314428</td>\n",
       "      <td>0.145320</td>\n",
       "      <td>0.435160</td>\n",
       "      <td>0.304196</td>\n",
       "      <td>0.479167</td>\n",
       "    </tr>\n",
       "    <tr>\n",
       "      <th rowspan=\"4\" valign=\"top\">train_samp</th>\n",
       "      <th rowspan=\"2\" valign=\"top\">count</th>\n",
       "      <th>0</th>\n",
       "      <td>0</td>\n",
       "      <td>18110.000000</td>\n",
       "      <td>17775.000000</td>\n",
       "      <td>335.000000</td>\n",
       "      <td>15907.000000</td>\n",
       "      <td>2203.000000</td>\n",
       "      <td>15744.000000</td>\n",
       "      <td>163.000000</td>\n",
       "      <td>2031.000000</td>\n",
       "      <td>172.000000</td>\n",
       "    </tr>\n",
       "    <tr>\n",
       "      <th>1</th>\n",
       "      <td>1</td>\n",
       "      <td>81890.000000</td>\n",
       "      <td>80259.000000</td>\n",
       "      <td>1631.000000</td>\n",
       "      <td>59805.000000</td>\n",
       "      <td>22085.000000</td>\n",
       "      <td>59481.000000</td>\n",
       "      <td>324.000000</td>\n",
       "      <td>20778.000000</td>\n",
       "      <td>1307.000000</td>\n",
       "    </tr>\n",
       "    <tr>\n",
       "      <th rowspan=\"2\" valign=\"top\">rate</th>\n",
       "      <th>0</th>\n",
       "      <td>0</td>\n",
       "      <td>0.233793</td>\n",
       "      <td>0.229255</td>\n",
       "      <td>0.474627</td>\n",
       "      <td>0.208022</td>\n",
       "      <td>0.419882</td>\n",
       "      <td>0.205539</td>\n",
       "      <td>0.447853</td>\n",
       "      <td>0.413097</td>\n",
       "      <td>0.500000</td>\n",
       "    </tr>\n",
       "    <tr>\n",
       "      <th>1</th>\n",
       "      <td>1</td>\n",
       "      <td>0.190353</td>\n",
       "      <td>0.184391</td>\n",
       "      <td>0.483752</td>\n",
       "      <td>0.143249</td>\n",
       "      <td>0.317908</td>\n",
       "      <td>0.141625</td>\n",
       "      <td>0.441358</td>\n",
       "      <td>0.306815</td>\n",
       "      <td>0.494262</td>\n",
       "    </tr>\n",
       "  </tbody>\n",
       "</table>\n",
       "</div>"
      ],
      "text/plain": [
       "                    high_income      all_loans        int_low     int_high  \\\n",
       "test       count 0            0   18688.000000   18325.000000   363.000000   \n",
       "                 1            1   82210.000000   80595.000000  1615.000000   \n",
       "           rate  0            0       0.232716       0.227340     0.504132   \n",
       "                 1            1       0.192106       0.186500     0.471827   \n",
       "train      count 0            0   85866.000000   84161.000000  1705.000000   \n",
       "                 1            1  384992.000000  377496.000000  7496.000000   \n",
       "           rate  0            0       0.236007       0.230273     0.519062   \n",
       "                 1            1       0.191513       0.185975     0.470384   \n",
       "train_samp count 0            0   18110.000000   17775.000000   335.000000   \n",
       "                 1            1   81890.000000   80259.000000  1631.000000   \n",
       "           rate  0            0       0.233793       0.229255     0.474627   \n",
       "                 1            1       0.190353       0.184391     0.483752   \n",
       "\n",
       "                          term_36        term_60     int_low_36  int_high_36  \\\n",
       "test       count 0   16365.000000    2323.000000   16189.000000   176.000000   \n",
       "                 1   60162.000000   22048.000000   59842.000000   320.000000   \n",
       "           rate  0       0.205316       0.425743       0.202607     0.454545   \n",
       "                 1       0.146704       0.315992       0.145299     0.409375   \n",
       "train      count 0   75134.000000   10732.000000   74360.000000   774.000000   \n",
       "                 1  282393.000000  102599.000000  280897.000000  1496.000000   \n",
       "           rate  0       0.209506       0.421543       0.206697     0.479328   \n",
       "                 1       0.146856       0.314428       0.145320     0.435160   \n",
       "train_samp count 0   15907.000000    2203.000000   15744.000000   163.000000   \n",
       "                 1   59805.000000   22085.000000   59481.000000   324.000000   \n",
       "           rate  0       0.208022       0.419882       0.205539     0.447853   \n",
       "                 1       0.143249       0.317908       0.141625     0.441358   \n",
       "\n",
       "                      int_low_60  int_high_60  \n",
       "test       count 0   2136.000000   187.000000  \n",
       "                 1  20753.000000  1295.000000  \n",
       "           rate  0      0.414794     0.550802  \n",
       "                 1      0.305305     0.487259  \n",
       "train      count 0   9801.000000   931.000000  \n",
       "                 1  96599.000000  6000.000000  \n",
       "           rate  0      0.409142     0.552095  \n",
       "                 1      0.304196     0.479167  \n",
       "train_samp count 0   2031.000000   172.000000  \n",
       "                 1  20778.000000  1307.000000  \n",
       "           rate  0      0.413097     0.500000  \n",
       "                 1      0.306815     0.494262  "
      ]
     },
     "execution_count": 40,
     "metadata": {},
     "output_type": "execute_result"
    }
   ],
   "source": [
    "stats_all"
   ]
  },
  {
   "cell_type": "markdown",
   "id": "cc5ccb8e-2003-4efd-ae99-dedabbcb1a59",
   "metadata": {},
   "source": [
    "### Purposes by bucket"
   ]
  },
  {
   "cell_type": "code",
   "execution_count": 41,
   "id": "b693b257-f54e-4ddb-8e45-3052857e13ee",
   "metadata": {},
   "outputs": [],
   "source": [
    "def get_purpose_stats(data, cat_col='purpose'):\n",
    "    purpose_dummies = pd.get_dummies(data[cat_col])\n",
    "    purpose_comb_df = pd.concat([get_level_indicators(data)[['id', 'high_int', 'high_income', 'term']], \n",
    "                                 purpose_dummies], axis=1)\n",
    "    \n",
    "    return pd.concat([cat_agg(purpose_comb_df, agg_col = c, agg_func='mean') for c in purpose_dummies.columns], axis=0,\n",
    "          keys = [c for c in purpose_dummies.columns])"
   ]
  },
  {
   "cell_type": "code",
   "execution_count": 42,
   "id": "bc1b1323-4f31-4da1-a244-eee63fcb4b85",
   "metadata": {},
   "outputs": [],
   "source": [
    "test_purpose_stats = get_purpose_stats(test_df)\n",
    "test_purpose_stats.to_csv(Path(setup.temp_path).joinpath('06_REPORT_purpose_by_term_income_interest_rate_test.csv'), index=True)"
   ]
  },
  {
   "cell_type": "code",
   "execution_count": 43,
   "id": "cf996fa2-06c2-4fa7-b8bf-e013da11f5ed",
   "metadata": {},
   "outputs": [],
   "source": [
    "train_purpose_stats = get_purpose_stats(train_df)\n",
    "train_purpose_stats.to_csv(Path(setup.temp_path).joinpath('06_REPORT_purpose_by_term_income_interest_rate_train.csv'), index=True)"
   ]
  },
  {
   "cell_type": "code",
   "execution_count": 44,
   "id": "916fe7ab-8cca-4c4e-ae52-9bdb8d99348d",
   "metadata": {},
   "outputs": [
    {
     "data": {
      "text/html": [
       "<div>\n",
       "<style scoped>\n",
       "    .dataframe tbody tr th:only-of-type {\n",
       "        vertical-align: middle;\n",
       "    }\n",
       "\n",
       "    .dataframe tbody tr th {\n",
       "        vertical-align: top;\n",
       "    }\n",
       "\n",
       "    .dataframe thead th {\n",
       "        text-align: right;\n",
       "    }\n",
       "</style>\n",
       "<table border=\"1\" class=\"dataframe\">\n",
       "  <thead>\n",
       "    <tr style=\"text-align: right;\">\n",
       "      <th></th>\n",
       "      <th></th>\n",
       "      <th>high_income</th>\n",
       "      <th>all_loans</th>\n",
       "      <th>int_low</th>\n",
       "      <th>int_high</th>\n",
       "      <th>term_36</th>\n",
       "      <th>term_60</th>\n",
       "      <th>int_low_36</th>\n",
       "      <th>int_high_36</th>\n",
       "      <th>int_low_60</th>\n",
       "      <th>int_high_60</th>\n",
       "    </tr>\n",
       "  </thead>\n",
       "  <tbody>\n",
       "    <tr>\n",
       "      <th rowspan=\"2\" valign=\"top\">car</th>\n",
       "      <th>0</th>\n",
       "      <td>0</td>\n",
       "      <td>0.015128</td>\n",
       "      <td>0.015090</td>\n",
       "      <td>0.017009</td>\n",
       "      <td>0.015772</td>\n",
       "      <td>0.010622</td>\n",
       "      <td>0.015694</td>\n",
       "      <td>0.023256</td>\n",
       "      <td>0.010509</td>\n",
       "      <td>0.011815</td>\n",
       "    </tr>\n",
       "    <tr>\n",
       "      <th>1</th>\n",
       "      <td>1</td>\n",
       "      <td>0.009881</td>\n",
       "      <td>0.009979</td>\n",
       "      <td>0.004936</td>\n",
       "      <td>0.010981</td>\n",
       "      <td>0.006852</td>\n",
       "      <td>0.010993</td>\n",
       "      <td>0.008690</td>\n",
       "      <td>0.007029</td>\n",
       "      <td>0.004000</td>\n",
       "    </tr>\n",
       "    <tr>\n",
       "      <th rowspan=\"2\" valign=\"top\">credit_card</th>\n",
       "      <th>0</th>\n",
       "      <td>0</td>\n",
       "      <td>0.223325</td>\n",
       "      <td>0.226304</td>\n",
       "      <td>0.076246</td>\n",
       "      <td>0.227128</td>\n",
       "      <td>0.196701</td>\n",
       "      <td>0.228900</td>\n",
       "      <td>0.056848</td>\n",
       "      <td>0.206612</td>\n",
       "      <td>0.092374</td>\n",
       "    </tr>\n",
       "    <tr>\n",
       "      <th>1</th>\n",
       "      <td>1</td>\n",
       "      <td>0.219685</td>\n",
       "      <td>0.222278</td>\n",
       "      <td>0.089114</td>\n",
       "      <td>0.229924</td>\n",
       "      <td>0.191503</td>\n",
       "      <td>0.230768</td>\n",
       "      <td>0.071524</td>\n",
       "      <td>0.197590</td>\n",
       "      <td>0.093500</td>\n",
       "    </tr>\n",
       "    <tr>\n",
       "      <th rowspan=\"2\" valign=\"top\">debt_consolidation</th>\n",
       "      <th>0</th>\n",
       "      <td>0</td>\n",
       "      <td>0.567559</td>\n",
       "      <td>0.566640</td>\n",
       "      <td>0.612903</td>\n",
       "      <td>0.556672</td>\n",
       "      <td>0.643776</td>\n",
       "      <td>0.557020</td>\n",
       "      <td>0.523256</td>\n",
       "      <td>0.639629</td>\n",
       "      <td>0.687433</td>\n",
       "    </tr>\n",
       "    <tr>\n",
       "      <th>1</th>\n",
       "      <td>1</td>\n",
       "      <td>0.581955</td>\n",
       "      <td>0.580549</td>\n",
       "      <td>0.652748</td>\n",
       "      <td>0.558134</td>\n",
       "      <td>0.647521</td>\n",
       "      <td>0.558226</td>\n",
       "      <td>0.540775</td>\n",
       "      <td>0.645462</td>\n",
       "      <td>0.680667</td>\n",
       "    </tr>\n",
       "    <tr>\n",
       "      <th rowspan=\"2\" valign=\"top\">educational</th>\n",
       "      <th>0</th>\n",
       "      <td>0</td>\n",
       "      <td>0.000745</td>\n",
       "      <td>0.000760</td>\n",
       "      <td>0.000000</td>\n",
       "      <td>0.000785</td>\n",
       "      <td>0.000466</td>\n",
       "      <td>0.000793</td>\n",
       "      <td>0.000000</td>\n",
       "      <td>0.000510</td>\n",
       "      <td>0.000000</td>\n",
       "    </tr>\n",
       "    <tr>\n",
       "      <th>1</th>\n",
       "      <td>1</td>\n",
       "      <td>0.000164</td>\n",
       "      <td>0.000167</td>\n",
       "      <td>0.000000</td>\n",
       "      <td>0.000209</td>\n",
       "      <td>0.000039</td>\n",
       "      <td>0.000210</td>\n",
       "      <td>0.000000</td>\n",
       "      <td>0.000041</td>\n",
       "      <td>0.000000</td>\n",
       "    </tr>\n",
       "    <tr>\n",
       "      <th rowspan=\"2\" valign=\"top\">home_improvement</th>\n",
       "      <th>0</th>\n",
       "      <td>0</td>\n",
       "      <td>0.040715</td>\n",
       "      <td>0.040708</td>\n",
       "      <td>0.041056</td>\n",
       "      <td>0.040235</td>\n",
       "      <td>0.044074</td>\n",
       "      <td>0.040223</td>\n",
       "      <td>0.041344</td>\n",
       "      <td>0.044383</td>\n",
       "      <td>0.040816</td>\n",
       "    </tr>\n",
       "    <tr>\n",
       "      <th>1</th>\n",
       "      <td>1</td>\n",
       "      <td>0.070531</td>\n",
       "      <td>0.070509</td>\n",
       "      <td>0.071638</td>\n",
       "      <td>0.070685</td>\n",
       "      <td>0.070108</td>\n",
       "      <td>0.070649</td>\n",
       "      <td>0.077540</td>\n",
       "      <td>0.070104</td>\n",
       "      <td>0.070167</td>\n",
       "    </tr>\n",
       "    <tr>\n",
       "      <th rowspan=\"2\" valign=\"top\">house</th>\n",
       "      <th>0</th>\n",
       "      <td>0</td>\n",
       "      <td>0.005089</td>\n",
       "      <td>0.004693</td>\n",
       "      <td>0.024633</td>\n",
       "      <td>0.004991</td>\n",
       "      <td>0.005777</td>\n",
       "      <td>0.004680</td>\n",
       "      <td>0.034884</td>\n",
       "      <td>0.004795</td>\n",
       "      <td>0.016112</td>\n",
       "    </tr>\n",
       "    <tr>\n",
       "      <th>1</th>\n",
       "      <td>1</td>\n",
       "      <td>0.005465</td>\n",
       "      <td>0.005266</td>\n",
       "      <td>0.015475</td>\n",
       "      <td>0.005407</td>\n",
       "      <td>0.005624</td>\n",
       "      <td>0.005287</td>\n",
       "      <td>0.028075</td>\n",
       "      <td>0.005207</td>\n",
       "      <td>0.012333</td>\n",
       "    </tr>\n",
       "  </tbody>\n",
       "</table>\n",
       "</div>"
      ],
      "text/plain": [
       "                      high_income  all_loans   int_low  int_high   term_36  \\\n",
       "car                0            0   0.015128  0.015090  0.017009  0.015772   \n",
       "                   1            1   0.009881  0.009979  0.004936  0.010981   \n",
       "credit_card        0            0   0.223325  0.226304  0.076246  0.227128   \n",
       "                   1            1   0.219685  0.222278  0.089114  0.229924   \n",
       "debt_consolidation 0            0   0.567559  0.566640  0.612903  0.556672   \n",
       "                   1            1   0.581955  0.580549  0.652748  0.558134   \n",
       "educational        0            0   0.000745  0.000760  0.000000  0.000785   \n",
       "                   1            1   0.000164  0.000167  0.000000  0.000209   \n",
       "home_improvement   0            0   0.040715  0.040708  0.041056  0.040235   \n",
       "                   1            1   0.070531  0.070509  0.071638  0.070685   \n",
       "house              0            0   0.005089  0.004693  0.024633  0.004991   \n",
       "                   1            1   0.005465  0.005266  0.015475  0.005407   \n",
       "\n",
       "                       term_60  int_low_36  int_high_36  int_low_60  \\\n",
       "car                0  0.010622    0.015694     0.023256    0.010509   \n",
       "                   1  0.006852    0.010993     0.008690    0.007029   \n",
       "credit_card        0  0.196701    0.228900     0.056848    0.206612   \n",
       "                   1  0.191503    0.230768     0.071524    0.197590   \n",
       "debt_consolidation 0  0.643776    0.557020     0.523256    0.639629   \n",
       "                   1  0.647521    0.558226     0.540775    0.645462   \n",
       "educational        0  0.000466    0.000793     0.000000    0.000510   \n",
       "                   1  0.000039    0.000210     0.000000    0.000041   \n",
       "home_improvement   0  0.044074    0.040223     0.041344    0.044383   \n",
       "                   1  0.070108    0.070649     0.077540    0.070104   \n",
       "house              0  0.005777    0.004680     0.034884    0.004795   \n",
       "                   1  0.005624    0.005287     0.028075    0.005207   \n",
       "\n",
       "                      int_high_60  \n",
       "car                0     0.011815  \n",
       "                   1     0.004000  \n",
       "credit_card        0     0.092374  \n",
       "                   1     0.093500  \n",
       "debt_consolidation 0     0.687433  \n",
       "                   1     0.680667  \n",
       "educational        0     0.000000  \n",
       "                   1     0.000000  \n",
       "home_improvement   0     0.040816  \n",
       "                   1     0.070167  \n",
       "house              0     0.016112  \n",
       "                   1     0.012333  "
      ]
     },
     "execution_count": 44,
     "metadata": {},
     "output_type": "execute_result"
    }
   ],
   "source": [
    "train_purpose_stats.head(12)"
   ]
  },
  {
   "cell_type": "markdown",
   "id": "0a778d50-28fb-4a74-a255-8698111bf3b4",
   "metadata": {},
   "source": [
    "##### Grades by bucket"
   ]
  },
  {
   "cell_type": "code",
   "execution_count": 45,
   "id": "482867ec-278e-4ec4-98e4-e097309f5bdc",
   "metadata": {},
   "outputs": [],
   "source": [
    "test_grade_stats = get_purpose_stats(test_df, cat_col='grade')\n",
    "test_grade_stats.to_csv(Path(setup.temp_path).joinpath('06_REPORT_grade_by_term_income_interest_rate_test.csv'), index=True)"
   ]
  },
  {
   "cell_type": "code",
   "execution_count": 46,
   "id": "304c5fb9-3005-413e-bfa3-0f26809796fb",
   "metadata": {},
   "outputs": [],
   "source": [
    "train_grade_stats = get_purpose_stats(train_df, cat_col='grade')\n",
    "train_grade_stats.to_csv(Path(setup.temp_path).joinpath('06_REPORT_grade_by_term_income_interest_rate_train.csv'), index=True)"
   ]
  },
  {
   "cell_type": "code",
   "execution_count": 47,
   "id": "b8da0211-08e5-401f-a64c-17eed3a1420f",
   "metadata": {},
   "outputs": [
    {
     "data": {
      "text/html": [
       "<div>\n",
       "<style scoped>\n",
       "    .dataframe tbody tr th:only-of-type {\n",
       "        vertical-align: middle;\n",
       "    }\n",
       "\n",
       "    .dataframe tbody tr th {\n",
       "        vertical-align: top;\n",
       "    }\n",
       "\n",
       "    .dataframe thead th {\n",
       "        text-align: right;\n",
       "    }\n",
       "</style>\n",
       "<table border=\"1\" class=\"dataframe\">\n",
       "  <thead>\n",
       "    <tr style=\"text-align: right;\">\n",
       "      <th></th>\n",
       "      <th></th>\n",
       "      <th>high_income</th>\n",
       "      <th>all_loans</th>\n",
       "      <th>int_low</th>\n",
       "      <th>int_high</th>\n",
       "      <th>term_36</th>\n",
       "      <th>term_60</th>\n",
       "      <th>int_low_36</th>\n",
       "      <th>int_high_36</th>\n",
       "      <th>int_low_60</th>\n",
       "      <th>int_high_60</th>\n",
       "    </tr>\n",
       "  </thead>\n",
       "  <tbody>\n",
       "    <tr>\n",
       "      <th rowspan=\"2\" valign=\"top\">A</th>\n",
       "      <th>0</th>\n",
       "      <td>0</td>\n",
       "      <td>0.107109</td>\n",
       "      <td>0.109279</td>\n",
       "      <td>0.000000</td>\n",
       "      <td>0.121157</td>\n",
       "      <td>0.008759</td>\n",
       "      <td>0.122418</td>\n",
       "      <td>0.000000</td>\n",
       "      <td>0.009591</td>\n",
       "      <td>0.000000</td>\n",
       "    </tr>\n",
       "    <tr>\n",
       "      <th>1</th>\n",
       "      <td>1</td>\n",
       "      <td>0.189799</td>\n",
       "      <td>0.193568</td>\n",
       "      <td>0.000000</td>\n",
       "      <td>0.251221</td>\n",
       "      <td>0.020741</td>\n",
       "      <td>0.252559</td>\n",
       "      <td>0.000000</td>\n",
       "      <td>0.022029</td>\n",
       "      <td>0.000000</td>\n",
       "    </tr>\n",
       "    <tr>\n",
       "      <th rowspan=\"2\" valign=\"top\">B</th>\n",
       "      <th>0</th>\n",
       "      <td>0</td>\n",
       "      <td>0.277327</td>\n",
       "      <td>0.282946</td>\n",
       "      <td>0.000000</td>\n",
       "      <td>0.303418</td>\n",
       "      <td>0.094670</td>\n",
       "      <td>0.306576</td>\n",
       "      <td>0.000000</td>\n",
       "      <td>0.103663</td>\n",
       "      <td>0.000000</td>\n",
       "    </tr>\n",
       "    <tr>\n",
       "      <th>1</th>\n",
       "      <td>1</td>\n",
       "      <td>0.294827</td>\n",
       "      <td>0.300681</td>\n",
       "      <td>0.000000</td>\n",
       "      <td>0.346722</td>\n",
       "      <td>0.151990</td>\n",
       "      <td>0.348569</td>\n",
       "      <td>0.000000</td>\n",
       "      <td>0.161430</td>\n",
       "      <td>0.000000</td>\n",
       "    </tr>\n",
       "    <tr>\n",
       "      <th rowspan=\"2\" valign=\"top\">C</th>\n",
       "      <th>0</th>\n",
       "      <td>0</td>\n",
       "      <td>0.321501</td>\n",
       "      <td>0.328014</td>\n",
       "      <td>0.000000</td>\n",
       "      <td>0.326856</td>\n",
       "      <td>0.284010</td>\n",
       "      <td>0.330258</td>\n",
       "      <td>0.000000</td>\n",
       "      <td>0.310989</td>\n",
       "      <td>0.000000</td>\n",
       "    </tr>\n",
       "    <tr>\n",
       "      <th>1</th>\n",
       "      <td>1</td>\n",
       "      <td>0.275829</td>\n",
       "      <td>0.281306</td>\n",
       "      <td>0.000000</td>\n",
       "      <td>0.255792</td>\n",
       "      <td>0.330978</td>\n",
       "      <td>0.257155</td>\n",
       "      <td>0.000000</td>\n",
       "      <td>0.351536</td>\n",
       "      <td>0.000000</td>\n",
       "    </tr>\n",
       "    <tr>\n",
       "      <th rowspan=\"2\" valign=\"top\">D</th>\n",
       "      <th>0</th>\n",
       "      <td>0</td>\n",
       "      <td>0.186849</td>\n",
       "      <td>0.190635</td>\n",
       "      <td>0.000000</td>\n",
       "      <td>0.175114</td>\n",
       "      <td>0.269009</td>\n",
       "      <td>0.176937</td>\n",
       "      <td>0.000000</td>\n",
       "      <td>0.294562</td>\n",
       "      <td>0.000000</td>\n",
       "    </tr>\n",
       "    <tr>\n",
       "      <th>1</th>\n",
       "      <td>1</td>\n",
       "      <td>0.141595</td>\n",
       "      <td>0.144407</td>\n",
       "      <td>0.000000</td>\n",
       "      <td>0.110881</td>\n",
       "      <td>0.226133</td>\n",
       "      <td>0.111471</td>\n",
       "      <td>0.000000</td>\n",
       "      <td>0.240178</td>\n",
       "      <td>0.000000</td>\n",
       "    </tr>\n",
       "    <tr>\n",
       "      <th rowspan=\"2\" valign=\"top\">E</th>\n",
       "      <th>0</th>\n",
       "      <td>0</td>\n",
       "      <td>0.077050</td>\n",
       "      <td>0.072658</td>\n",
       "      <td>0.293842</td>\n",
       "      <td>0.056885</td>\n",
       "      <td>0.218226</td>\n",
       "      <td>0.053967</td>\n",
       "      <td>0.337209</td>\n",
       "      <td>0.214468</td>\n",
       "      <td>0.257787</td>\n",
       "    </tr>\n",
       "    <tr>\n",
       "      <th>1</th>\n",
       "      <td>1</td>\n",
       "      <td>0.067178</td>\n",
       "      <td>0.062991</td>\n",
       "      <td>0.278015</td>\n",
       "      <td>0.028722</td>\n",
       "      <td>0.173023</td>\n",
       "      <td>0.026768</td>\n",
       "      <td>0.395722</td>\n",
       "      <td>0.168325</td>\n",
       "      <td>0.248667</td>\n",
       "    </tr>\n",
       "    <tr>\n",
       "      <th rowspan=\"2\" valign=\"top\">F</th>\n",
       "      <th>0</th>\n",
       "      <td>0</td>\n",
       "      <td>0.023968</td>\n",
       "      <td>0.016231</td>\n",
       "      <td>0.405865</td>\n",
       "      <td>0.013922</td>\n",
       "      <td>0.094297</td>\n",
       "      <td>0.009804</td>\n",
       "      <td>0.409561</td>\n",
       "      <td>0.064993</td>\n",
       "      <td>0.402793</td>\n",
       "    </tr>\n",
       "    <tr>\n",
       "      <th>1</th>\n",
       "      <td>1</td>\n",
       "      <td>0.023839</td>\n",
       "      <td>0.016225</td>\n",
       "      <td>0.407284</td>\n",
       "      <td>0.005464</td>\n",
       "      <td>0.074416</td>\n",
       "      <td>0.003389</td>\n",
       "      <td>0.395053</td>\n",
       "      <td>0.053551</td>\n",
       "      <td>0.410333</td>\n",
       "    </tr>\n",
       "    <tr>\n",
       "      <th rowspan=\"2\" valign=\"top\">G</th>\n",
       "      <th>0</th>\n",
       "      <td>0</td>\n",
       "      <td>0.006196</td>\n",
       "      <td>0.000238</td>\n",
       "      <td>0.300293</td>\n",
       "      <td>0.002649</td>\n",
       "      <td>0.031029</td>\n",
       "      <td>0.000040</td>\n",
       "      <td>0.253230</td>\n",
       "      <td>0.001735</td>\n",
       "      <td>0.339420</td>\n",
       "    </tr>\n",
       "    <tr>\n",
       "      <th>1</th>\n",
       "      <td>1</td>\n",
       "      <td>0.006933</td>\n",
       "      <td>0.000821</td>\n",
       "      <td>0.314701</td>\n",
       "      <td>0.001197</td>\n",
       "      <td>0.022720</td>\n",
       "      <td>0.000089</td>\n",
       "      <td>0.209225</td>\n",
       "      <td>0.002950</td>\n",
       "      <td>0.341000</td>\n",
       "    </tr>\n",
       "  </tbody>\n",
       "</table>\n",
       "</div>"
      ],
      "text/plain": [
       "     high_income  all_loans   int_low  int_high   term_36   term_60  \\\n",
       "A 0            0   0.107109  0.109279  0.000000  0.121157  0.008759   \n",
       "  1            1   0.189799  0.193568  0.000000  0.251221  0.020741   \n",
       "B 0            0   0.277327  0.282946  0.000000  0.303418  0.094670   \n",
       "  1            1   0.294827  0.300681  0.000000  0.346722  0.151990   \n",
       "C 0            0   0.321501  0.328014  0.000000  0.326856  0.284010   \n",
       "  1            1   0.275829  0.281306  0.000000  0.255792  0.330978   \n",
       "D 0            0   0.186849  0.190635  0.000000  0.175114  0.269009   \n",
       "  1            1   0.141595  0.144407  0.000000  0.110881  0.226133   \n",
       "E 0            0   0.077050  0.072658  0.293842  0.056885  0.218226   \n",
       "  1            1   0.067178  0.062991  0.278015  0.028722  0.173023   \n",
       "F 0            0   0.023968  0.016231  0.405865  0.013922  0.094297   \n",
       "  1            1   0.023839  0.016225  0.407284  0.005464  0.074416   \n",
       "G 0            0   0.006196  0.000238  0.300293  0.002649  0.031029   \n",
       "  1            1   0.006933  0.000821  0.314701  0.001197  0.022720   \n",
       "\n",
       "     int_low_36  int_high_36  int_low_60  int_high_60  \n",
       "A 0    0.122418     0.000000    0.009591     0.000000  \n",
       "  1    0.252559     0.000000    0.022029     0.000000  \n",
       "B 0    0.306576     0.000000    0.103663     0.000000  \n",
       "  1    0.348569     0.000000    0.161430     0.000000  \n",
       "C 0    0.330258     0.000000    0.310989     0.000000  \n",
       "  1    0.257155     0.000000    0.351536     0.000000  \n",
       "D 0    0.176937     0.000000    0.294562     0.000000  \n",
       "  1    0.111471     0.000000    0.240178     0.000000  \n",
       "E 0    0.053967     0.337209    0.214468     0.257787  \n",
       "  1    0.026768     0.395722    0.168325     0.248667  \n",
       "F 0    0.009804     0.409561    0.064993     0.402793  \n",
       "  1    0.003389     0.395053    0.053551     0.410333  \n",
       "G 0    0.000040     0.253230    0.001735     0.339420  \n",
       "  1    0.000089     0.209225    0.002950     0.341000  "
      ]
     },
     "execution_count": 47,
     "metadata": {},
     "output_type": "execute_result"
    }
   ],
   "source": [
    "train_grade_stats"
   ]
  },
  {
   "cell_type": "markdown",
   "id": "8be62bbf-a390-4d4c-8436-2ce9610ca75d",
   "metadata": {},
   "source": [
    "### 2-Way plots of actual and predicted rates.\n",
    "What does the raw data / response show?  Bucket the interest rates and plot the mean term rates / model response for both term values."
   ]
  },
  {
   "cell_type": "code",
   "execution_count": 48,
   "id": "372557f4-d804-44e6-a2ce-aca13de0eb61",
   "metadata": {},
   "outputs": [],
   "source": [
    "# Get model predictions\n",
    "model_predict = pd.Series(base_model.predict_proba(train_samp_df[predictor_features])[:,1])\n",
    "model_predict.name = 'predict'"
   ]
  },
  {
   "cell_type": "code",
   "execution_count": 49,
   "id": "7c3d8203-3d56-4a63-9565-90ef2d6d4ee7",
   "metadata": {},
   "outputs": [],
   "source": [
    "# Append to data\n",
    "train_pred_df = pd.concat([train_samp_df[['int_rate', 'term', 'target']].reset_index(), \n",
    "                           model_predict], axis=1)"
   ]
  },
  {
   "cell_type": "code",
   "execution_count": 50,
   "id": "d3f494cc-2dc9-40a3-accd-ab5a9ba5de2d",
   "metadata": {},
   "outputs": [],
   "source": [
    "# Bucket the interest rates\n",
    "train_pred_df['int_rate_grp'] = pd.qcut(train_pred_df['int_rate'], 25, duplicates='drop')"
   ]
  },
  {
   "cell_type": "code",
   "execution_count": 51,
   "id": "b5b20dd5-0cf5-4ec3-a180-7d8047d3e7d3",
   "metadata": {},
   "outputs": [],
   "source": [
    "# Aggregate\n",
    "train_samp_agg = train_pred_df.groupby(['int_rate_grp', 'term']) \\\n",
    "    [['target', 'predict']] \\\n",
    "    .agg(['mean', 'std']) \n",
    "train_samp_agg.columns = [c[0]+'_' + c[1] for c in train_samp_agg.columns]\n",
    "train_samp_agg.reset_index(inplace=True)"
   ]
  },
  {
   "cell_type": "code",
   "execution_count": 52,
   "id": "8d69fa6c-d3da-462e-9dae-c1faae587d08",
   "metadata": {},
   "outputs": [],
   "source": [
    "# Add interest rate midpoints for plotting\n",
    "train_samp_agg['plot_x'] = train_samp_agg['int_rate_grp'].apply(lambda x: float(x.mid))"
   ]
  },
  {
   "cell_type": "code",
   "execution_count": 53,
   "id": "701c3bb0-7de0-4048-bae5-cb25f521a3b3",
   "metadata": {},
   "outputs": [],
   "source": [
    "train_samp_agg_plot = train_samp_agg[['plot_x', 'term', 'target_mean', 'predict_mean']] \\\n",
    "    .pivot(index='plot_x', columns='term', values=['target_mean', 'predict_mean'])"
   ]
  },
  {
   "cell_type": "code",
   "execution_count": 54,
   "id": "3b9925d9-24ad-4748-99c8-3aebf268e86b",
   "metadata": {},
   "outputs": [],
   "source": [
    "# Colors array for plot\n",
    "cmap = mpl.cm.coolwarm\n",
    "n = len(train_samp_agg['term'].value_counts())\n",
    "colors = cmap(np.linspace(0,1,n))\n"
   ]
  },
  {
   "cell_type": "code",
   "execution_count": 55,
   "id": "50110c04-4ce4-4761-addc-a2e7fe719d61",
   "metadata": {},
   "outputs": [
    {
     "data": {
      "image/png": "[encoded data removed]",
      "text/plain": [
       "<Figure size 800x200 with 2 Axes>"
      ]
     },
     "metadata": {},
     "output_type": "display_data"
    }
   ],
   "source": [
    "fig, ax = plt.subplots(1,2, sharex=True, sharey=True)\n",
    "figsize=(8,2)\n",
    "    \n",
    "train_samp_agg_plot[[c for c in train_samp_agg_plot.columns if c[0] == 'target_mean']] \\\n",
    "    .droplevel(0, axis=1) \\\n",
    "    .plot(color=colors, legend=None, figsize=figsize, ax=ax[0])\n",
    "train_samp_agg_plot[[c for c in train_samp_agg_plot.columns if c[0] == 'predict_mean']] \\\n",
    "    .droplevel(0, axis=1) \\\n",
    "    .plot(color=colors, legend=None, figsize=figsize, ax=ax[1])     \n",
    "\n",
    "ax[0].legend(frameon=True)\n",
    "ax[1].xaxis.set_major_formatter(FormatStrFormatter('%.0f'))\n",
    "ax[1].yaxis.set_major_formatter(PercentFormatter(1, decimals=0))\n",
    "ax[1].set_xlabel('int_rate')\n",
    "ax[0].set_xlabel('int_rate')\n",
    "ax[0].set_ylabel('mean default')\n",
    "ax[0].title.set_text('Actual')\n",
    "ax[1].title.set_text('Model Prediction')\n",
    "fig.savefig(Path(setup.temp_path).joinpath('06_PLOT_int_term_actual_pred.png'),\n",
    "            bbox_inches='tight')"
   ]
  },
  {
   "cell_type": "markdown",
   "id": "a9205050-2bb8-4cee-9f71-8253c869056d",
   "metadata": {},
   "source": [
    "## PDP / ICE Plots - Term and Interest Rate"
   ]
  },
  {
   "cell_type": "markdown",
   "id": "8f360bf1-9f8c-437d-89b5-264031caa7fa",
   "metadata": {},
   "source": [
    "##### 2-Way PDP Average"
   ]
  },
  {
   "cell_type": "code",
   "execution_count": 56,
   "id": "97beb97f-db4b-4373-a044-1b25e537c2cc",
   "metadata": {},
   "outputs": [],
   "source": [
    "# Get 2-Way PDP\n",
    "avg_pdp = partial_dependence(base_model, train_samp_df[predictor_features], \n",
    "                                  ['int_rate', 'term'], kind='average',\n",
    "                             percentiles=(0,1),\n",
    "                            method='brute')"
   ]
  },
  {
   "cell_type": "code",
   "execution_count": 57,
   "id": "89ec695d-1254-4d1f-a765-942fcabeed29",
   "metadata": {},
   "outputs": [],
   "source": [
    "# Convert to data frame\n",
    "avg_pdp_df = pd.concat([pd.DataFrame(avg_pdp['values'][0], columns=['values']),\n",
    "                         pd.DataFrame(avg_pdp['average'][0], columns=avg_pdp['values'][1])],\n",
    "                        axis=1)"
   ]
  },
  {
   "cell_type": "code",
   "execution_count": 58,
   "id": "a2a6647c-96ce-447d-a6d7-159850f6b676",
   "metadata": {},
   "outputs": [
    {
     "data": {
      "image/png": "[encoded data removed]",
      "text/plain": [
       "<Figure size 640x480 with 1 Axes>"
      ]
     },
     "metadata": {},
     "output_type": "display_data"
    }
   ],
   "source": [
    "# Plot\n",
    "fig, ax = plt.subplots()\n",
    "avg_pdp_df.set_index('values').plot(color = colors, ax=ax)\n",
    "ax.set_ylabel('2-way partial dependence')\n",
    "ax.set_xlabel('int_rate')\n",
    "ax.legend(title='term')\n",
    "fig.savefig(Path(setup.temp_path).joinpath('06_PLOT_int_term_pdp_avg.png'),\n",
    "            bbox_inches='tight')"
   ]
  },
  {
   "cell_type": "markdown",
   "id": "7a7e0e32-fea2-4e52-90b4-4f72196e2dbf",
   "metadata": {},
   "source": [
    "##### Overlay 1-Way Averages"
   ]
  },
  {
   "cell_type": "code",
   "execution_count": 59,
   "id": "b9e4ae7b-fc20-486a-a7f1-1e5b1fb6e1fa",
   "metadata": {},
   "outputs": [],
   "source": [
    "term_value_counts = train_samp_df['term'].value_counts()\n",
    "color_categories = term_value_counts.index\n",
    "cnorm  = mpl.colors.Normalize(vmin=0, vmax= len(color_categories) - 1)\n",
    "color_scalar_map = mpl.cm.ScalarMappable(norm=cnorm, cmap=cmap)\n",
    "color_dict = {color_categories[i]: color_scalar_map.to_rgba(i) \n",
    "              for i in range(0, len(color_categories))}"
   ]
  },
  {
   "cell_type": "code",
   "execution_count": 60,
   "id": "26b5d728-a488-402c-a1c3-c77b76f0b052",
   "metadata": {},
   "outputs": [
    {
     "data": {
      "image/png": "[encoded data removed]",
      "text/plain": [
       "<Figure size 640x480 with 1 Axes>"
      ]
     },
     "metadata": {},
     "output_type": "display_data"
    }
   ],
   "source": [
    "fig, ax = plt.subplots()\n",
    "\n",
    "for key, group in train_samp_df.groupby('term'):\n",
    "    this_pdp = partial_dependence(base_model, group[predictor_features], \n",
    "                                  ['int_rate'], kind='average',\n",
    "                                 percentiles=(0,1),\n",
    "                                 method='brute')\n",
    "    this_pdp_df = pd.DataFrame({k:v[0] for k,v in this_pdp.items()})\n",
    "    \n",
    "    this_pdp_df.plot(x='values', y='average', ax=ax,\n",
    "                     color=color_dict[key], label=key)\n",
    "ax.set_ylabel('1-way partial dependence')\n",
    "ax.set_xlabel('int_rate')\n",
    "ax.legend(title='term')\n",
    "fig.savefig(Path(setup.temp_path).joinpath('06_PLOT_int_term_pdp_avg_double_1way.png'),\n",
    "            bbox_inches='tight')"
   ]
  },
  {
   "cell_type": "markdown",
   "id": "efe93536-a7f2-4d59-acb5-1eab1dd3051f",
   "metadata": {},
   "source": [
    "##### 2-Way ICE Curves (Sample)"
   ]
  },
  {
   "cell_type": "code",
   "execution_count": 61,
   "id": "69e1c57f-dae9-43a2-8b9f-b2774e27a84a",
   "metadata": {},
   "outputs": [],
   "source": [
    "# Get stratified samp - large sample to ensure adequate grid size\n",
    "X_samp = train_samp_df[predictor_features].groupby('term').sample(100)"
   ]
  },
  {
   "cell_type": "code",
   "execution_count": 62,
   "id": "bac5e523-a0b0-4090-9b12-0482890b7f9f",
   "metadata": {},
   "outputs": [],
   "source": [
    "# Get 2-Way PDP\n",
    "indiv_pdp = partial_dependence(base_model, X_samp, \n",
    "                                  ['int_rate', 'term'], kind='individual',\n",
    "                               percentiles=(0,1),\n",
    "                              method='brute',\n",
    "                              grid_resolution = 100)"
   ]
  },
  {
   "cell_type": "code",
   "execution_count": 63,
   "id": "d2334925-9e0b-41be-9ca2-a90f73c2a269",
   "metadata": {},
   "outputs": [],
   "source": [
    "# DataFrame conversion \n",
    "num_samp = indiv_pdp['individual'][0].shape[0]\n",
    "indiv_samp_df = pd.concat([pd.DataFrame(indiv_pdp['individual'][0][i,:,:],\n",
    "                                   columns = indiv_pdp['values'][1]) \\\n",
    "                           for i in range(0, num_samp)],\n",
    "                     keys = range(0, num_samp),\n",
    "                     axis=1)"
   ]
  },
  {
   "cell_type": "code",
   "execution_count": 64,
   "id": "5ea877f1-0926-4e22-966f-fbe3e50d32d7",
   "metadata": {},
   "outputs": [],
   "source": [
    "indiv_samp_df.index = pd.Series(indiv_pdp['values'][0], name='values')"
   ]
  },
  {
   "cell_type": "code",
   "execution_count": 65,
   "id": "32c5fcc6-fcf3-42e2-8128-56f98722403d",
   "metadata": {},
   "outputs": [
    {
     "data": {
      "text/plain": [
       "(100, 400)"
      ]
     },
     "execution_count": 65,
     "metadata": {},
     "output_type": "execute_result"
    }
   ],
   "source": [
    "indiv_samp_df.shape"
   ]
  },
  {
   "cell_type": "code",
   "execution_count": 66,
   "id": "a537e0f8-7ba7-43f6-bed4-64a744bed1ce",
   "metadata": {},
   "outputs": [],
   "source": [
    "random.seed(43)\n",
    "colsamp = random.sample(list(indiv_samp_df.columns.get_level_values(0)), 10)"
   ]
  },
  {
   "cell_type": "code",
   "execution_count": 67,
   "id": "8c67a4f2-9ddf-44b7-8fb1-ab1577cb6bfe",
   "metadata": {},
   "outputs": [],
   "source": [
    "# Get subsample of cases to make plots nicer\n",
    "colsamp = random.sample(list(indiv_samp_df.columns.get_level_values(0)), 20)\n",
    "indiv_samp_2_df = indiv_samp_df.loc[:, colsamp]"
   ]
  },
  {
   "cell_type": "code",
   "execution_count": 68,
   "id": "d152808a-81a4-4a4f-9c27-15c2fe0268ab",
   "metadata": {},
   "outputs": [
    {
     "data": {
      "text/plain": [
       "(100, 40)"
      ]
     },
     "execution_count": 68,
     "metadata": {},
     "output_type": "execute_result"
    }
   ],
   "source": [
    "indiv_samp_2_df.shape"
   ]
  },
  {
   "cell_type": "code",
   "execution_count": 69,
   "id": "4614d21d-9050-4227-882f-9844e682af5c",
   "metadata": {},
   "outputs": [],
   "source": [
    "# Plot - panel, show side by side"
   ]
  },
  {
   "cell_type": "code",
   "execution_count": 70,
   "id": "fd5593ec-9cce-405a-be93-3aa2678330df",
   "metadata": {},
   "outputs": [
    {
     "data": {
      "image/png": "[encoded data removed]",
      "text/plain": [
       "<Figure size 800x300 with 2 Axes>"
      ]
     },
     "metadata": {},
     "output_type": "display_data"
    }
   ],
   "source": [
    "fig, ax = plt.subplots(1, 2, sharex = True, sharey=True,\n",
    "                      figsize = (8,3))\n",
    "\n",
    "for i, tv in enumerate(set(indiv_samp_2_df.columns.get_level_values(1))):\n",
    "    this_df = indiv_samp_2_df.loc[:, indiv_samp_2_df.columns.get_level_values(1)==tv]\n",
    "    this_df.plot(color=color_dict[tv],  ax=ax[i], legend=None)\n",
    "    ax[i].set_xlabel('int_rate')\n",
    "    ax[i].set_title(f'term={tv}')\n",
    "\n",
    "ax[0].set_ylabel('2-way ICE')\n",
    "fig.savefig(Path(setup.temp_path).joinpath('06_PLOT_int_term_ice_samples_panel.png'),\n",
    "            bbox_inches='tight')"
   ]
  }
 ],
 "metadata": {
  "kernelspec": {
   "display_name": "Python 3 (ipykernel)",
   "language": "python",
   "name": "python3"
  },
  "language_info": {
   "codemirror_mode": {
    "name": "ipython",
    "version": 3
   },
   "file_extension": ".py",
   "mimetype": "text/x-python",
   "name": "python",
   "nbconvert_exporter": "python",
   "pygments_lexer": "ipython3",
   "version": "3.10.2"
  }
 },
 "nbformat": 4,
 "nbformat_minor": 5
}
