{
 "cells": [
  {
   "cell_type": "code",
   "execution_count": 1,
   "id": "a6acc30d-8ece-4356-9cb1-6458690c2e83",
   "metadata": {
    "tags": []
   },
   "outputs": [],
   "source": [
    "# Modify the file 00_setup.py to define input/output file paths on your system\n",
    "# The information in 00_setup.py will be used across notebooks\n",
    "from importlib.machinery import SourceFileLoader\n",
    "setup = SourceFileLoader(\"setup\", \"./00_setup.py\").load_module()"
   ]
  },
  {
   "cell_type": "markdown",
   "id": "923cdfcb-cc16-4e6d-a11a-3c0dd54b0faa",
   "metadata": {},
   "source": [
    "# 04: ALE plots\n",
    "Use the trained base model to explore interaction measures.  ALE plots.  Do:\n",
    "  * 2-way (interaction) plots, same pairs as in Friedman's H\n",
    "  * Summarize 2 way interaction strength\n",
    "  * Selected 1-way plots & selected analysis"
   ]
  },
  {
   "cell_type": "markdown",
   "id": "349123ea-7f64-4b10-a356-34616c7b0755",
   "metadata": {},
   "source": [
    "*This script takes about 3 minutes to run on my MacBook Air*"
   ]
  },
  {
   "cell_type": "code",
   "execution_count": 23,
   "id": "2964db80-3424-4b2f-8ee1-54a522fc393f",
   "metadata": {},
   "outputs": [],
   "source": [
    "import pandas as pd\n",
    "import numpy as np\n",
    "import matplotlib.pyplot as plt\n",
    "import pickle, importlib\n",
    "from pathlib import Path\n",
    "import sklearn as sk\n",
    "import matplotlib as mpl\n",
    "import warnings\n",
    "import time\n",
    "import wquantiles\n",
    "from IPython.display import Image"
   ]
  },
  {
   "cell_type": "code",
   "execution_count": 3,
   "id": "319850e0-a95d-4698-90e5-6110e441935c",
   "metadata": {},
   "outputs": [],
   "source": [
    "from PyALE import ale"
   ]
  },
  {
   "cell_type": "code",
   "execution_count": 4,
   "id": "15f9eb2b-a00f-48dd-a57a-51715e3774e3",
   "metadata": {},
   "outputs": [],
   "source": [
    "from interactions_package.interactions_package import ip_plot\n",
    "ip_plot.plot_defaults()"
   ]
  },
  {
   "cell_type": "markdown",
   "id": "a1f6fc31-30e9-4547-9757-51760b9639a5",
   "metadata": {},
   "source": [
    "## Import Data"
   ]
  },
  {
   "cell_type": "markdown",
   "id": "6accd090-8c25-49b9-8005-dc0269d9d887",
   "metadata": {},
   "source": [
    "##### Predictors"
   ]
  },
  {
   "cell_type": "code",
   "execution_count": 5,
   "id": "482893f4-b853-4026-a5c1-3a6ab3bf551d",
   "metadata": {},
   "outputs": [],
   "source": [
    "predictor_features = pd.read_csv(Path(setup.temp_path) \\\n",
    "                                 .joinpath('01_REPORT_predictor_features.csv'))['feature'].tolist()"
   ]
  },
  {
   "cell_type": "markdown",
   "id": "55fe05ee-bad7-41b7-9ffd-689b4ed94837",
   "metadata": {},
   "source": [
    "##### Dataset - use sample of training data"
   ]
  },
  {
   "cell_type": "code",
   "execution_count": 6,
   "id": "c7a155fb-2040-419e-9aae-220ca56abb7d",
   "metadata": {},
   "outputs": [],
   "source": [
    "train_samp_df = pd.read_parquet(Path(setup.temp_path) \\\n",
    "                                .joinpath('03_DATA_combined_base_train_samp.parquet'))"
   ]
  },
  {
   "cell_type": "markdown",
   "id": "80635eb1-aa4a-42d4-8f14-6d5a08b5884e",
   "metadata": {},
   "source": [
    "##### Model"
   ]
  },
  {
   "cell_type": "code",
   "execution_count": 7,
   "id": "0a85ade9-af8d-4c7f-b9d1-aacaa5d03c20",
   "metadata": {},
   "outputs": [],
   "source": [
    "with open(Path(setup.temp_path).joinpath('02_MODEL_base_gc.pkl'), 'rb') as pi:\n",
    "    base_model = pickle.load(pi)"
   ]
  },
  {
   "cell_type": "markdown",
   "id": "de2f8415-3fae-4d00-98ae-1cbe4bb40fbf",
   "metadata": {},
   "source": [
    "##### Permutation importances"
   ]
  },
  {
   "cell_type": "code",
   "execution_count": 8,
   "id": "4cd16eac-f7c7-49c1-8177-ccbb3bb83068",
   "metadata": {},
   "outputs": [],
   "source": [
    "perm_importance_df = pd.read_csv(Path(setup.temp_path).joinpath('02_DATA_importance_perturb.csv'))"
   ]
  },
  {
   "cell_type": "markdown",
   "id": "4269b854-bea2-443e-8864-d3691416ad5b",
   "metadata": {},
   "source": [
    "##### Friedman's H Scores"
   ]
  },
  {
   "cell_type": "code",
   "execution_count": 9,
   "id": "914dc783-d5c7-4287-bef0-aed113da2ad7",
   "metadata": {},
   "outputs": [],
   "source": [
    "h_comb = pd.read_csv(Path(setup.temp_path).joinpath('03_DATA_h_scores.csv'))"
   ]
  },
  {
   "cell_type": "markdown",
   "id": "0b290281-ccb8-4a7f-976e-cfa7b1fa1146",
   "metadata": {},
   "source": [
    "## 2-Way ALE Plots\n",
    "  * Create line plots\n",
    "  * Quantify overall contributuons using approximate bin counts"
   ]
  },
  {
   "cell_type": "markdown",
   "id": "92a7ffac-5186-412e-b4ec-2ac27611b5fb",
   "metadata": {},
   "source": [
    "### Functions for retrieving 2-way data, plotting, and quantifying"
   ]
  },
  {
   "cell_type": "code",
   "execution_count": 10,
   "id": "532bbc54-4818-4cbf-92b5-d6b33e2a2498",
   "metadata": {},
   "outputs": [],
   "source": [
    "# Function to guess at bucket boundaries in the ALE data"
   ]
  },
  {
   "cell_type": "code",
   "execution_count": 11,
   "id": "0529b2cd-291a-4ac0-ac76-b5cbdadabeec",
   "metadata": {},
   "outputs": [],
   "source": [
    "def get_bucket_edges_from_centers(center_list,\n",
    "                                 left_edge=np.NINF,\n",
    "                                 right_edge = np.inf):\n",
    "    \"\"\" Given a list of bucket centers, get edges as midpoints\n",
    "    between these. Append the left and right edges if needed. \n",
    "    Left and right edges can be set to None to ignore. These\n",
    "    edges will be used in pandas.cut.\n",
    "      Inputs:\n",
    "          center_list: List of center points for the intervals\n",
    "          left_egde:  Left edge to prepend to the edge list\n",
    "          right_edge:  Right edge to append to the edge list\n",
    "      Value:  \n",
    "          List of bucket edges\n",
    "    \"\"\"\n",
    "    \n",
    "    midpoint_list = [(center_list[i] + center_list[i+1])/2 \\\n",
    "                      for i in range(0, len(center_list) -1)]\n",
    "    if (left_edge is not None) and right_edge is not None:\n",
    "        return [left_edge] + midpoint_list + [right_edge]\n",
    "    elif left_edge is not None:\n",
    "        return [left_edge] + midpoint_list\n",
    "    elif right_edge is not None:\n",
    "        return midpoint_list + [right_edge]\n",
    "    else:\n",
    "        return midpoint_list"
   ]
  },
  {
   "cell_type": "code",
   "execution_count": 12,
   "id": "a60902af-3066-4ff6-8566-697be188cfb1",
   "metadata": {},
   "outputs": [],
   "source": [
    "# Function to get the counts in the buckets used in the ALE data\n",
    "# the 2-way PyALE.ale function does not return these and so I\n",
    "# estimate them.  They may not be exact but should be close."
   ]
  },
  {
   "cell_type": "code",
   "execution_count": 13,
   "id": "430f74b5-26a6-404e-aab1-4adca2dce34e",
   "metadata": {},
   "outputs": [],
   "source": [
    "def ale_2way_counts(ale_data, features_data):\n",
    "    \"\"\" Get approximate counts in the 2D ALE buckets in the\n",
    "    features dataset.  Find edges of buckets whose centers \n",
    "    are the rows and columns of the dataset, and then count\n",
    "    features dataset rows in that bucket.\n",
    "       The purpose of this function is to get an idea of the\n",
    "    volume of points corresponding to given ALE interactions \n",
    "    strengths.  \n",
    "      Inputs:\n",
    "        ale_data:  2-way ALE data from PyALE.ale\n",
    "        features_data:  Pandas dataframe containing thje\n",
    "           dataset used to generate the ALE data (or a related\n",
    "           dataset).  The data frame must contain the features\n",
    "           in ale_data\n",
    "      Value:  \n",
    "          Pandas dataframe containing counts in the ALE buckets\n",
    "    \"\"\"\n",
    "    feature_1 = ale_data.index.name\n",
    "    feature_2 = ale_data.columns.name\n",
    "    \n",
    "    # Put first feature into buckets\n",
    "    bucket_centers_1 = list(ale_data.index)\n",
    "    bins_1 = get_bucket_edges_from_centers(bucket_centers_1)\n",
    "    bucket_1 = pd.cut(features_data[feature_1], bins=bins_1,\n",
    "                      labels = bucket_centers_1)\n",
    "    \n",
    "    # Put second feature into buckets\n",
    "    bucket_centers_2 = list(ale_data.columns)\n",
    "    bins_2 = get_bucket_edges_from_centers(bucket_centers_2)\n",
    "    bucket_2 = pd.cut(features_data[feature_2], bins=bins_2,\n",
    "                      labels = bucket_centers_2)\n",
    "    \n",
    "    # Get data frame for counting\n",
    "    bucket_long = pd.concat([bucket_1, bucket_2], axis=1)\n",
    "    bucket_long['count'] = 1\n",
    "    \n",
    "    # Count and pivot\n",
    "    count_df = bucket_long \\\n",
    "        .groupby([feature_1, feature_2])['count'] \\\n",
    "        .agg('sum') \\\n",
    "        .reset_index() \\\n",
    "        .sort_values([feature_1, feature_2]) \\\n",
    "        .pivot(index=feature_1, columns=feature_2)\n",
    "    \n",
    "    return count_df"
   ]
  },
  {
   "cell_type": "code",
   "execution_count": 14,
   "id": "03fd6312-4bba-4132-a235-2329bb607605",
   "metadata": {},
   "outputs": [],
   "source": [
    "# Functions for getting weighted averages/medians of ALE plot values"
   ]
  },
  {
   "cell_type": "code",
   "execution_count": 15,
   "id": "92ad60c6-c103-4d93-867d-6967e4ea903a",
   "metadata": {},
   "outputs": [],
   "source": [
    "def ale_2way_magnitude(ale_data, count_data):\n",
    "    \"\"\" Gets the average absolute value of a 2 way ALE dataset,\n",
    "    given the bucket counts for each cell\"\"\"\n",
    "    norm_counts = count_data.values / np.sum(count_data.values)\n",
    "    return np.sum((np.abs(ale_data).values) * norm_counts)"
   ]
  },
  {
   "cell_type": "code",
   "execution_count": 16,
   "id": "a77f39b4-b22f-446f-b097-667c6594f384",
   "metadata": {},
   "outputs": [],
   "source": [
    "def ale_2way_median_abs(ale_data, count_data):\n",
    "    \"\"\" Gets the median absolute value of a 2 way ALE dataset,\n",
    "    using the cell bucket counts as a weight \"\"\"\n",
    "    return wquantiles.median(np.abs(ale_data.values.flatten()), \n",
    "                             count_data.values.flatten())"
   ]
  },
  {
   "cell_type": "markdown",
   "id": "fa8c2bff-6287-4465-8957-dc740f172fba",
   "metadata": {
    "tags": []
   },
   "source": [
    "### Calculate 2 Way ALE Plots and Magnitudes\n",
    " * Create a folder for holding the ALE plot\n",
    " * For each feature pair we looked at for Friedman's H, plot the 2 way ALE and get the mean absolute interaction strength. "
   ]
  },
  {
   "cell_type": "markdown",
   "id": "d2b59f97-6861-435c-ada3-5e36ea53329c",
   "metadata": {
    "tags": []
   },
   "source": [
    "##### Create results folder, as we will create a lot of plots"
   ]
  },
  {
   "cell_type": "code",
   "execution_count": 17,
   "id": "e36ab6ae-5f4f-4a0b-88a7-fd001b3348be",
   "metadata": {},
   "outputs": [],
   "source": [
    "ale_folder = Path(setup.temp_path) \\\n",
    "    .joinpath('04_PLOT_ALE_2WAY')"
   ]
  },
  {
   "cell_type": "code",
   "execution_count": 18,
   "id": "faaf857a-4a52-40c2-a250-ea82d105f202",
   "metadata": {},
   "outputs": [],
   "source": [
    "ale_folder.mkdir(parents=True, exist_ok=True)"
   ]
  },
  {
   "cell_type": "markdown",
   "id": "76cb0e50-3e46-4e20-aa4b-16a3ebcd3e9d",
   "metadata": {},
   "source": [
    "##### Get ALE Values"
   ]
  },
  {
   "cell_type": "code",
   "execution_count": 26,
   "id": "212ff646-4302-4768-a901-530283ac1864",
   "metadata": {},
   "outputs": [],
   "source": [
    "# Function for creating the plots for one set of features\n",
    "def do_plot_2way(X, model, feature_1, feature_2,\n",
    "                output_path = None,\n",
    "                grid_size = 25):\n",
    "    \n",
    "    # Get the ALE data.  This function may fail for very weak features.\n",
    "    \n",
    "    try:\n",
    "        t_init = time.process_time()\n",
    "        this_ale = ale(X=X, model=model, feature=[feature_1, feature_2], \n",
    "                       grid_size = grid_size, plot=False)\n",
    "        total_time = time.process_time() - t_init\n",
    "    except:\n",
    "        return None\n",
    "       \n",
    "    # Get the counts and abs mean interaction strength\n",
    "    this_count = ale_2way_counts(this_ale, X)\n",
    "                      \n",
    "    # Get the abs mean interaction strength\n",
    "    abs_mean =  ale_2way_magnitude(this_ale, this_count)\n",
    "    abs_median = ale_2way_median_abs(this_ale, this_count)\n",
    "        \n",
    "    # Create the plot\n",
    "    this_fig = ip_plot.ale_2way_plot(this_ale, title='features', title_prefix='2-Way ALE:  ')\n",
    "    \n",
    "    # Optionally save the plot\n",
    "    if output_path is not None:\n",
    "        this_fig.savefig(output_path, bbox_inches='tight')\n",
    "    plt.close(this_fig)\n",
    "    \n",
    "    return (abs_mean, abs_median, total_time)"
   ]
  },
  {
   "cell_type": "markdown",
   "id": "0c0a7c87-d6b3-44b4-9292-c433704ffa40",
   "metadata": {},
   "source": [
    "##### Save plots and get magnitudes for all feature pairs"
   ]
  },
  {
   "cell_type": "code",
   "execution_count": 31,
   "id": "7e701c6c-043a-4934-a716-de0d5e47b7b6",
   "metadata": {},
   "outputs": [
    {
     "data": {
      "text/plain": [
       "<module 'interactions_package.interactions_package.ip_plot' from '/Users/valeriecarey/Documents/projects/2022_12_blog_interactions/code/interactions_package/interactions_package/ip_plot.py'>"
      ]
     },
     "execution_count": 31,
     "metadata": {},
     "output_type": "execute_result"
    }
   ],
   "source": [
    "importlib.reload(ip_plot)"
   ]
  },
  {
   "cell_type": "code",
   "execution_count": 33,
   "id": "daad2be8-7d37-47fa-b02d-46720aeab73b",
   "metadata": {},
   "outputs": [],
   "source": [
    "%%capture \n",
    "\n",
    "ale_mag_ser = h_comb[['feat_1', 'feat_2']] \\\n",
    "    .apply(lambda x: do_plot_2way(train_samp_df[predictor_features], base_model,\n",
    "                                  x.feat_1, x.feat_2,\n",
    "                                  output_path = ale_folder \\\n",
    "                                      .joinpath('__'.join(['plot', x.feat_1, x.feat_2]))),\n",
    "          axis=1)"
   ]
  },
  {
   "cell_type": "code",
   "execution_count": 21,
   "id": "b6639082-a29b-4e24-a3f7-3d1f2df0e2ad",
   "metadata": {},
   "outputs": [
    {
     "ename": "NameError",
     "evalue": "name 'ale_mag_ser' is not defined",
     "output_type": "error",
     "traceback": [
      "\u001b[0;31m---------------------------------------------------------------------------\u001b[0m",
      "\u001b[0;31mNameError\u001b[0m                                 Traceback (most recent call last)",
      "Cell \u001b[0;32mIn [21], line 2\u001b[0m\n\u001b[1;32m      1\u001b[0m ale_mag_df \u001b[38;5;241m=\u001b[39m pd\u001b[38;5;241m.\u001b[39mconcat([h_comb[[\u001b[38;5;124m'\u001b[39m\u001b[38;5;124mfeat_1\u001b[39m\u001b[38;5;124m'\u001b[39m, \u001b[38;5;124m'\u001b[39m\u001b[38;5;124mfeat_2\u001b[39m\u001b[38;5;124m'\u001b[39m]],\n\u001b[0;32m----> 2\u001b[0m                         pd\u001b[38;5;241m.\u001b[39mDataFrame([[a, b, c] \u001b[38;5;28;01mfor\u001b[39;00m a,b,c \u001b[38;5;129;01min\u001b[39;00m \u001b[43male_mag_ser\u001b[49m\u001b[38;5;241m.\u001b[39mvalues],\n\u001b[1;32m      3\u001b[0m                                      columns\u001b[38;5;241m=\u001b[39m[\u001b[38;5;124m'\u001b[39m\u001b[38;5;124mabs_mean\u001b[39m\u001b[38;5;124m'\u001b[39m, \u001b[38;5;124m'\u001b[39m\u001b[38;5;124mabs_median\u001b[39m\u001b[38;5;124m'\u001b[39m, \u001b[38;5;124m'\u001b[39m\u001b[38;5;124mtime\u001b[39m\u001b[38;5;124m'\u001b[39m])],\n\u001b[1;32m      4\u001b[0m                        axis\u001b[38;5;241m=\u001b[39m\u001b[38;5;241m1\u001b[39m)\n",
      "\u001b[0;31mNameError\u001b[0m: name 'ale_mag_ser' is not defined"
     ]
    }
   ],
   "source": [
    "ale_mag_df = pd.concat([h_comb[['feat_1', 'feat_2']],\n",
    "                        pd.DataFrame([[a, b, c] for a,b,c in ale_mag_ser.values],\n",
    "                                     columns=['abs_mean', 'abs_median', 'time'])],\n",
    "                       axis=1)"
   ]
  },
  {
   "cell_type": "code",
   "execution_count": null,
   "id": "b909b9ab-d4bc-48ac-8c73-760fd038534e",
   "metadata": {},
   "outputs": [],
   "source": [
    "ale_mag_df['label'] = ale_mag_df['feat_1'] + ':' + ale_mag_df['feat_2']"
   ]
  },
  {
   "cell_type": "code",
   "execution_count": null,
   "id": "25dac208-597a-4de6-b7eb-452f397958f8",
   "metadata": {},
   "outputs": [],
   "source": [
    "ale_mag_df = ale_mag_df.sort_values('abs_mean', ascending=False)"
   ]
  },
  {
   "cell_type": "code",
   "execution_count": null,
   "id": "8ac33881-f1b6-417f-879b-ca638ccdfba8",
   "metadata": {},
   "outputs": [],
   "source": [
    "ale_mag_df.head()"
   ]
  },
  {
   "cell_type": "code",
   "execution_count": null,
   "id": "19e6d059-5b96-45bc-9421-3df509cce5a8",
   "metadata": {},
   "outputs": [],
   "source": [
    "ale_mag_df.to_csv(Path(setup.temp_path) \\\n",
    "                      .joinpath('04_DATA_ale_magnitudes_2way.csv'), \n",
    "                  index=False)"
   ]
  },
  {
   "cell_type": "code",
   "execution_count": null,
   "id": "391285e3-b683-4305-a814-c222976fefad",
   "metadata": {},
   "outputs": [],
   "source": [
    "# Save time info\n",
    "time_df = pd.DataFrame({'time': ale_mag_df['time'].sum(),\n",
    "                        'case_count': [len(train_samp_df)],\n",
    "                        'feature_count': [len(h_comb) * 2]})\n",
    "time_df['time_per_case'] = time_df['time'] / time_df['case_count']\n",
    "time_df.to_csv(Path(setup.temp_path).joinpath('04_REPORT_timing_ale_scores.csv'))"
   ]
  },
  {
   "cell_type": "code",
   "execution_count": null,
   "id": "afac3e3a-c3eb-4a09-b8bb-c1c1f2aba50b",
   "metadata": {},
   "outputs": [],
   "source": [
    "time_df"
   ]
  },
  {
   "cell_type": "markdown",
   "id": "e4e1bb95-2e11-4ae9-b09d-728c458e4518",
   "metadata": {},
   "source": [
    "## Plot Mean Abs Interaction Strength"
   ]
  },
  {
   "cell_type": "code",
   "execution_count": null,
   "id": "b5a08354-8b5e-4950-b34a-a3e9c43df376",
   "metadata": {},
   "outputs": [],
   "source": [
    "fig = ip_plot.plot_basic_bar(ale_mag_df, 'abs_mean', n_bars=15,\n",
    "                           label='label', title='ALE Interactions - Top 15',\n",
    "                           ylabel='mean abs effect')\n",
    "fig.savefig(Path(setup.temp_path).joinpath('04_PLOT_ale_pairs.png'),\n",
    "                 bbox_inches='tight')"
   ]
  },
  {
   "cell_type": "code",
   "execution_count": null,
   "id": "23e105fd-2327-4325-b9ee-2416db37a134",
   "metadata": {},
   "outputs": [],
   "source": [
    "fig = ip_plot.plot_basic_bar(ale_mag_df, 'abs_mean', \n",
    "                           label='label', title='ALE Interactions',\n",
    "                           ylabel='mean abs effect')\n",
    "fig.savefig(Path(setup.temp_path).joinpath('04_PLOT_ale_pairs_top_10.png'),\n",
    "                 bbox_inches='tight')"
   ]
  },
  {
   "cell_type": "markdown",
   "id": "0be2a711-c11c-4384-83bb-0e7bc52dd2a3",
   "metadata": {},
   "source": [
    "## Plot Median Abs Interaction Strength"
   ]
  },
  {
   "cell_type": "code",
   "execution_count": null,
   "id": "94b810aa-eb5e-4baa-a21b-1c5850f3842a",
   "metadata": {},
   "outputs": [],
   "source": [
    "fig = ip_plot.plot_basic_bar(ale_mag_df, 'abs_median', \n",
    "                           label='label', title='ALE Interactions - Medians',\n",
    "                           ylabel='median abs effect',\n",
    "                           do_sort = True)\n",
    "fig.savefig(Path(setup.temp_path).joinpath('04_PLOT_ale_pairs_median_top_10.png'),\n",
    "                 bbox_inches='tight')"
   ]
  },
  {
   "cell_type": "markdown",
   "id": "e016cd22-3dfc-47f1-9e91-08481248a1c5",
   "metadata": {},
   "source": [
    "## 1-Way Plots and Magnitiudes\n",
    "  * These will be used as part of the discussion of interaction for specific cases.\n",
    "  * I also will save the magnitudes to compare the relative strengths of the interaction portions with the main effect portions\n",
    "  * I use the default ALE plots, but change the axis scaling as needed, as well as some axis labels"
   ]
  },
  {
   "cell_type": "markdown",
   "id": "837b2bb4-f68c-4d5e-9997-f347104385ea",
   "metadata": {
    "tags": []
   },
   "source": [
    "##### Create results folder, as we will create a lot of plots"
   ]
  },
  {
   "cell_type": "code",
   "execution_count": null,
   "id": "ba2ce12f-a08e-4d52-b499-2b66d5b79e09",
   "metadata": {},
   "outputs": [],
   "source": [
    "ale_1way_folder = Path(setup.temp_path).joinpath('04_PLOT_ALE_1WAY')\n",
    "ale_1way_folder.mkdir(parents=True, exist_ok=True)"
   ]
  },
  {
   "cell_type": "markdown",
   "id": "69d3ab52-bf8d-4050-8aa7-35071350a871",
   "metadata": {},
   "source": [
    "##### Function to do the plots and return the magnitudes for each feature"
   ]
  },
  {
   "cell_type": "code",
   "execution_count": 28,
   "id": "9add974c-7c7d-4a0c-98e9-98830257db37",
   "metadata": {},
   "outputs": [],
   "source": [
    "# Function for creating the plots for one set of features\n",
    "def do_plot_1way(X, model, feature,\n",
    "                output_path = None,\n",
    "                grid_size = 20):\n",
    "    \n",
    "    # Get the ALE data.  This function may fail for very weak features.\n",
    "    \n",
    "    fig, ax = plt.subplots()\n",
    "    \n",
    "    try:\n",
    "        this_ale_1way = ale(X=X, model=model, feature=[feature], plot=True,\n",
    "                           fig=fig, ax=ax, grid_size = grid_size)\n",
    "    except:\n",
    "        return None\n",
    "    \n",
    "    # Normalize to get magnitudes\n",
    "    this_norm_counts = this_ale_1way['size'] / np.sum(this_ale_1way['size'])\n",
    "    this_mag = np.sum(this_ale_1way['eff'].apply(np.abs) * this_norm_counts) \n",
    "    \n",
    "    # Modify the plot - auto detect log scale\n",
    "    x_scale = ip_plot.plot_default_scale(this_ale_1way.index)\n",
    "    if (x_scale == 'log'):\n",
    "        x_label = ax.get_xlabel()\n",
    "        x_label = x_label + ' (log scale)'\n",
    "        ax.set_xscale(x_scale)\n",
    "        ax.set_xlabel(x_label)\n",
    "        \n",
    "    # Set the plot title\n",
    "    plt.title('1-Way ALE: ' + feature)\n",
    "    \n",
    "    # Fix issue with too many ticks sometimes\n",
    "    if len(ax.get_xticklabels()) > 15:\n",
    "        ax.xaxis.set_major_locator(plt.MaxNLocator(8))\n",
    "    \n",
    "    # Optionally save the plot \n",
    "    if output_path is not None:\n",
    "        fig.savefig(output_path, bbox_inches='tight')\n",
    "    plt.close(fig)\n",
    "    \n",
    "    return this_mag"
   ]
  },
  {
   "cell_type": "markdown",
   "id": "654f749d-d2b7-455b-83d2-a644997661a5",
   "metadata": {},
   "source": [
    "##### Save plots and get magnitudes for all feature pairs"
   ]
  },
  {
   "cell_type": "code",
   "execution_count": null,
   "id": "a4d781b3-0942-4bd6-888c-c891fb68083a",
   "metadata": {},
   "outputs": [],
   "source": [
    "%%capture \n",
    "\n",
    "ale_mag_ser_1way = pd.Series(predictor_features) \\\n",
    "    .apply(lambda x: do_plot_1way(train_samp_df[predictor_features], base_model, x,\n",
    "                                  output_path = ale_1way_folder.joinpath('plot__' + x)))"
   ]
  },
  {
   "cell_type": "code",
   "execution_count": null,
   "id": "1ff0dffb-15d3-4f80-b9b0-766c760bada6",
   "metadata": {},
   "outputs": [],
   "source": [
    "ale_mag_1way_df = pd.concat([pd.Series(predictor_features), ale_mag_ser_1way],\n",
    "                            axis=1) \\\n",
    "    .set_axis(['feat', 'abs_mean'], axis=1) \\\n",
    "    .sort_values('abs_mean', ascending=False)"
   ]
  },
  {
   "cell_type": "code",
   "execution_count": null,
   "id": "f4761cc2-aba8-458e-8a68-68d7a2b5b180",
   "metadata": {},
   "outputs": [],
   "source": [
    "ale_mag_1way_df.to_csv(Path(setup.temp_path) \\\n",
    "                           .joinpath('04_DATA_ale_magnitudes_1way.csv'), \n",
    "                       index=False)"
   ]
  },
  {
   "cell_type": "markdown",
   "id": "15de9cbb-c0f8-41c3-b6ee-f553a855d552",
   "metadata": {},
   "source": [
    "##### Plot 1 way ALE effect magnitudes"
   ]
  },
  {
   "cell_type": "code",
   "execution_count": null,
   "id": "bd904076-bd0c-4250-adff-bd24a66f03d8",
   "metadata": {},
   "outputs": [],
   "source": [
    "fig = ip_plot.plot_basic_bar(ale_mag_1way_df, 'abs_mean', n_bars=15, \n",
    "                           label='feat', title='1-Way ALE Effects',\n",
    "                           ylabel='mean abs effect')\n",
    "fig.savefig(Path(setup.temp_path).joinpath('04_PLOT_ale_1way_effects.png'),\n",
    "                 bbox_inches='tight')"
   ]
  },
  {
   "cell_type": "markdown",
   "id": "a34f38bf-a599-4ff7-b307-cc423d6a913e",
   "metadata": {},
   "source": [
    "## Selected Plots"
   ]
  },
  {
   "cell_type": "markdown",
   "id": "421abd38-a2e2-43b3-9ddd-573960462ff4",
   "metadata": {},
   "source": [
    "##### Term and Interest Rate\n",
    "Here, we see a dramatic difference compared to the ALE plot, and counter-intuitive results that shorter terms are protective at high interest rates"
   ]
  },
  {
   "cell_type": "code",
   "execution_count": null,
   "id": "c2a5e29d-3cd5-460c-925b-6f52b7c61ed2",
   "metadata": {},
   "outputs": [],
   "source": [
    "Image(ale_folder.joinpath('plot__int_rate__term.png'))"
   ]
  },
  {
   "cell_type": "markdown",
   "id": "07223308-c6d8-42de-abf3-4da083b90aa6",
   "metadata": {},
   "source": [
    "The above plot shows fairly similar, low magnitude curves below an interset rate of ~17, but above that interactions increase dramatically and the curves diverge.  A high interest rate plus a long term greatly increases default risk.\n",
    "\n",
    "Let's look at the main effects"
   ]
  },
  {
   "cell_type": "code",
   "execution_count": null,
   "id": "68742954-da9b-4efd-bb09-91b1791c1a3e",
   "metadata": {},
   "outputs": [],
   "source": [
    "Image(ale_1way_folder.joinpath('plot__int_rate.png'), width=380)"
   ]
  },
  {
   "cell_type": "code",
   "execution_count": null,
   "id": "32e5b921-1b90-4a88-ab9a-986af41a19c4",
   "metadata": {},
   "outputs": [],
   "source": [
    "Image(ale_1way_folder.joinpath('plot__term.png'), width=380)"
   ]
  },
  {
   "cell_type": "markdown",
   "id": "69d79345-2bd5-4d12-b9f1-a7d86e59b5de",
   "metadata": {},
   "source": [
    "The main effets of interest rate at high values are much stronger than interaction effects.  The term main effect is comparitively weak.\n",
    "\n",
    "It appears that term enhances risk at high interest rates but does not have a dramatic main effect."
   ]
  },
  {
   "cell_type": "markdown",
   "id": "0fe9c7d0-7abd-450c-9d9f-2aa1bbe1735f",
   "metadata": {},
   "source": [
    "##### Term and Second Applicant FICO\n",
    "Here we see higher risk when the second applicant has very bad credit, but the effect depends on term.  A long loan term magnifies the risk of the 2nd applicant's credit (in the model)."
   ]
  },
  {
   "cell_type": "code",
   "execution_count": null,
   "id": "e8b841ff-f361-45ae-b3d7-ca68388a25bd",
   "metadata": {},
   "outputs": [],
   "source": [
    "Image(ale_folder.joinpath('plot__term__sec_app_fico_range_low.png'))"
   ]
  },
  {
   "cell_type": "markdown",
   "id": "5952d99c-ac05-4b7c-9253-929a7cf9fb2b",
   "metadata": {},
   "source": [
    "The above plot shows that the prediction is strongly affected for low 2nd FICO scores.  Let's look at the one way effects"
   ]
  },
  {
   "cell_type": "code",
   "execution_count": null,
   "id": "99df48cc-c8df-4e73-a716-2381291e59df",
   "metadata": {},
   "outputs": [],
   "source": [
    "Image(ale_1way_folder.joinpath('plot__term.png'), width=380)"
   ]
  },
  {
   "cell_type": "markdown",
   "id": "861080fe-20f9-41e0-a82c-4e162e99707a",
   "metadata": {},
   "source": [
    "The range of values for the 1 way term plot is about 0.02, whereas the range for the 2way plot is similar, so the interaction is greater than the term main effect."
   ]
  },
  {
   "cell_type": "code",
   "execution_count": null,
   "id": "7446787a-fb33-4183-8c44-29683a9bd01c",
   "metadata": {},
   "outputs": [],
   "source": [
    "Image(ale_1way_folder.joinpath('plot__sec_app_fico_range_low.png'), width=380)"
   ]
  },
  {
   "cell_type": "markdown",
   "id": "5d7d38f8-5083-42c1-8d8b-f6a91e3fb64e",
   "metadata": {},
   "source": [
    "The second FICO score has a larger main effect at low values.  The interaction reduces the penalty for lower terms and increases it for higher terms."
   ]
  },
  {
   "cell_type": "markdown",
   "id": "a7de4c3d-a9b1-4fab-abfe-1fd2e9c20b24",
   "metadata": {},
   "source": [
    "##### Interest Rate and Loan Amount\n",
    "Here we see a very expected situation, where high interest rate is risky, and large loan amounts are risky.  But at the very highest interest rate, risk varies with loan amount, so that high-dollar, high-interest loans have a very high predicted risk."
   ]
  },
  {
   "cell_type": "code",
   "execution_count": null,
   "id": "ecaa0abb-34d0-431c-b906-f4b953508fad",
   "metadata": {},
   "outputs": [],
   "source": [
    "Image(ale_folder.joinpath('plot__int_rate__loan_amnt.png'))"
   ]
  },
  {
   "cell_type": "markdown",
   "id": "7174c137-50e8-41e4-8d9c-2ce8838c29ea",
   "metadata": {},
   "source": [
    "The interaction serves to modify cases with high interest rates.  Higher loan amounts increase the likelihood of predicting a default."
   ]
  },
  {
   "cell_type": "code",
   "execution_count": null,
   "id": "1ccf0085-2714-4a70-8544-64749a2a831b",
   "metadata": {},
   "outputs": [],
   "source": [
    "Image(ale_1way_folder.joinpath('plot__int_rate.png'), width=380)"
   ]
  },
  {
   "cell_type": "markdown",
   "id": "5bf29653-4ac7-4495-8a56-6fad7403bc36",
   "metadata": {},
   "source": [
    "It should come as no surpise that risk increases at high interest rates; this means the interest rate is doing what it should be doing.  The effect is strong, but the interaction may be stronger at high interest rates."
   ]
  },
  {
   "cell_type": "code",
   "execution_count": null,
   "id": "20f5b450-8e43-4c16-b244-8a8e712a71ac",
   "metadata": {},
   "outputs": [],
   "source": [
    "Image(ale_1way_folder.joinpath('plot__loan_amnt.png'), width=380)"
   ]
  },
  {
   "cell_type": "markdown",
   "id": "2f189d63-8297-4b89-b226-b4e89aaada11",
   "metadata": {},
   "source": [
    "##### Interst Rate and Income\n",
    "Here we see a similar situation as with interest rate and loan amount, where the interaction affects the prediction only at high interest rates."
   ]
  },
  {
   "cell_type": "code",
   "execution_count": null,
   "id": "5a99e7e5-b2f9-41d4-813a-a41911f0fba6",
   "metadata": {},
   "outputs": [],
   "source": [
    "Image(ale_folder.joinpath('plot__int_rate__annual_inc.png'))"
   ]
  },
  {
   "cell_type": "markdown",
   "id": "b5cab6ca-0d07-4527-b0d6-d4f842ab89bb",
   "metadata": {},
   "source": [
    "The interaction serves to modify cases with high interest rates.  Higher loan amounts increase the likelihood of predicting a default."
   ]
  },
  {
   "cell_type": "code",
   "execution_count": null,
   "id": "4eead24e-771e-4d68-b96a-d4d8cf9497f3",
   "metadata": {},
   "outputs": [],
   "source": [
    "Image(ale_1way_folder.joinpath('plot__annual_inc.png'), width=380)"
   ]
  },
  {
   "cell_type": "markdown",
   "id": "f8961c83-ffd1-40af-bc5c-73cb1716d98e",
   "metadata": {},
   "source": [
    "##### Annual Income and Home Ownership Status\n",
    "The interaction term cancels out the home ownership advantage at higher incomes.  Basically, at a high income, it doesn't matter if you rent or own."
   ]
  },
  {
   "cell_type": "code",
   "execution_count": null,
   "id": "45b76000-4426-4baa-8963-6047e6813b64",
   "metadata": {
    "tags": []
   },
   "outputs": [],
   "source": [
    "Image(ale_folder.joinpath('plot__annual_inc__home_ownership__RENT.png'))"
   ]
  },
  {
   "cell_type": "markdown",
   "id": "e95b8f14-61c2-4a5f-9bde-98046e301d80",
   "metadata": {},
   "source": [
    "The interaction shows that renting is considered less risky at higher incomes!  The main effect plot for income (see section above) shows low risk at high incomes."
   ]
  },
  {
   "cell_type": "code",
   "execution_count": null,
   "id": "f21ba2fa-8137-4725-b922-ee943475bdc6",
   "metadata": {},
   "outputs": [],
   "source": [
    "Image(ale_1way_folder.joinpath('plot__home_ownership__RENT.png'), width=380)"
   ]
  },
  {
   "cell_type": "markdown",
   "id": "12066cc8-da7c-46ac-b9a3-9f473706cb9b",
   "metadata": {},
   "source": [
    "Examining the rental main effect plot helps understand the interaction plot.  Renting increases the prediction by ~0.015.  The interaction cancels this penalty at high incomes.   It appears that home ownership satus isn't a factor in model decisions for the richest buyers. The very rich can rent, buy, or live in a tree as far as the model is concerned."
   ]
  },
  {
   "cell_type": "markdown",
   "id": "869b5a2b-3977-4a5b-bcf9-e292620eeff8",
   "metadata": {},
   "source": [
    "##### Term and Income\n",
    "This is similar to renting and income, where at high income other risk factors become unimportant."
   ]
  },
  {
   "cell_type": "code",
   "execution_count": null,
   "id": "776703a7-7678-4402-abc1-4cb665d9b929",
   "metadata": {},
   "outputs": [],
   "source": [
    "Image(ale_folder.joinpath('plot__term__annual_inc.png'))"
   ]
  },
  {
   "cell_type": "markdown",
   "id": "59b02159-3086-4c88-bf74-47a0abe8835f",
   "metadata": {},
   "source": [
    "The interaction serves to modify cases with high interest rates.  The term penalty is cancelled out at higher income."
   ]
  },
  {
   "cell_type": "code",
   "execution_count": null,
   "id": "6036e3df-db4e-448f-8eae-b6b8d2000236",
   "metadata": {},
   "outputs": [],
   "source": [
    "Image(ale_1way_folder.joinpath('plot__term.png'), width=380)"
   ]
  },
  {
   "cell_type": "markdown",
   "id": "1a16a9c0-28af-4210-b910-ef8238ec9c4c",
   "metadata": {},
   "source": [
    "Another view of the term plot.  The reduction of effect above 100k in income mostly cancels out the increased risk of the longer term."
   ]
  },
  {
   "cell_type": "markdown",
   "id": "9bfd0cd5-a8b3-4c21-a59c-eabd2852ee2e",
   "metadata": {},
   "source": [
    "## Vary Sample Size"
   ]
  },
  {
   "cell_type": "code",
   "execution_count": null,
   "id": "c9465480-fd9e-4660-ae06-0c5ea85d6dd3",
   "metadata": {},
   "outputs": [],
   "source": [
    "# Get the full training data\n",
    "train_df = pd.read_parquet(Path(setup.temp_path) \\\n",
    "                           .joinpath('01_DATA_combined_base_train.parquet'))"
   ]
  },
  {
   "cell_type": "code",
   "execution_count": null,
   "id": "c7b1dcf4-729a-4f18-8f91-bfd6ee2977b3",
   "metadata": {},
   "outputs": [],
   "source": [
    "# Function for getting the magnitudes while varying sample size\n",
    "def do_ale_abs_mean_sample(X, model, features, samp_n=100):\n",
    "    \n",
    "    # Get a sample\n",
    "    X_samp = X.sample(samp_n)\n",
    "    \n",
    "    # Get the ALE data. \n",
    "    try:\n",
    "        this_ale = ale(X=X_samp, model=model, feature=features, plot=False)\n",
    "    except:\n",
    "        return None\n",
    "    \n",
    "    # Get counts\n",
    "    this_count = ale_2way_counts(this_ale, X_samp)\n",
    "    \n",
    "    # Get the abs mean interaction strength\n",
    "    abs_mean =  ale_2way_magnitude(this_ale, this_count)\n",
    "    \n",
    "    return abs_mean"
   ]
  },
  {
   "cell_type": "code",
   "execution_count": null,
   "id": "6885f6ac-da6a-413e-b97a-671023153a69",
   "metadata": {},
   "outputs": [],
   "source": [
    "samp_size_list = [10, 50, 100, 500, 1000]"
   ]
  },
  {
   "cell_type": "code",
   "execution_count": null,
   "id": "cf857835-18a8-49e6-b4b5-baa3aa431a8e",
   "metadata": {},
   "outputs": [],
   "source": [
    "%%capture\n",
    "\n",
    "# Get the data for interest rate and term\n",
    "mean_abs_list = [do_ale_abs_mean_sample(train_df[predictor_features],\n",
    "                                        base_model, ['int_rate', 'term'],\n",
    "                                       samp_n = n) \\\n",
    "    for n in samp_size_list*10]"
   ]
  },
  {
   "cell_type": "code",
   "execution_count": null,
   "id": "45752e90-81a0-4e38-85aa-19039ca027dc",
   "metadata": {},
   "outputs": [],
   "source": [
    "mean_abs_samp_df = pd.DataFrame({'size': samp_size_list*10,\n",
    "                                 'mean_abs': mean_abs_list}) \\\n",
    "    .groupby('size') \\\n",
    "    ['mean_abs'] \\\n",
    "    .agg(['mean', 'std'])"
   ]
  },
  {
   "cell_type": "code",
   "execution_count": null,
   "id": "4a81e99f-f930-431a-9f2d-dd23f5194ff0",
   "metadata": {},
   "outputs": [],
   "source": [
    "mean_abs_samp_df.to_csv(Path(setup.temp_path) \\\n",
    "                       .joinpath('04_REPORT_ale_magnitude_variance.csv'), index=True)"
   ]
  },
  {
   "cell_type": "code",
   "execution_count": null,
   "id": "400f15fa-78be-48ca-9a8b-281fb1772134",
   "metadata": {},
   "outputs": [],
   "source": [
    "mean_abs_samp_df"
   ]
  },
  {
   "cell_type": "code",
   "execution_count": null,
   "id": "8dbbe02b-2359-4f00-aa21-a1828c032906",
   "metadata": {},
   "outputs": [],
   "source": [
    "fig, ax = plt.subplots()\n",
    "mean_abs_samp_df.plot(y='mean', yerr='std', \n",
    "                       markersize=12, style='o-', ax=ax, \n",
    "                       legend=None, color='lightslategray')\n",
    "mean_abs_samp_df.plot(y='mean', markersize=12, style='o', ax=ax, \n",
    "                       legend=None, color='lightslategray')\n",
    "plt.xscale('log')\n",
    "#plt.axhline(y=0, color='black')\n",
    "plt.title(\"ALE Sample Size Effect\")\n",
    "ax.set_xlabel('observation count')\n",
    "ax.set_ylabel('effect on prediction')\n",
    "plt.gcf().savefig(Path(setup.temp_path).joinpath('04_PLOT_ale_variance_with_sample_size_mean.png'),\n",
    "                  bbox_inches='tight')\n",
    "plt.show()"
   ]
  },
  {
   "cell_type": "code",
   "execution_count": null,
   "id": "125f3550-1ce5-41a6-a64f-af83c3368dce",
   "metadata": {},
   "outputs": [],
   "source": []
  }
 ],
 "metadata": {
  "kernelspec": {
   "display_name": "Python 3 (ipykernel)",
   "language": "python",
   "name": "python3"
  },
  "language_info": {
   "codemirror_mode": {
    "name": "ipython",
    "version": 3
   },
   "file_extension": ".py",
   "mimetype": "text/x-python",
   "name": "python",
   "nbconvert_exporter": "python",
   "pygments_lexer": "ipython3",
   "version": "3.10.2"
  }
 },
 "nbformat": 4,
 "nbformat_minor": 5
}
