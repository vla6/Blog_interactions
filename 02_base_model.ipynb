{
 "cells": [
  {
   "cell_type": "code",
   "execution_count": 1,
   "id": "1bad8144-136d-40d9-aed8-287e647aafce",
   "metadata": {
    "tags": []
   },
   "outputs": [],
   "source": [
    "# Modify the file 00_setup.py to define input/output file paths on your system\n",
    "# The information in 00_setup.py will be used across notebooks\n",
    "from importlib.machinery import SourceFileLoader\n",
    "setup = SourceFileLoader(\"setup\", \"./00_setup.py\").load_module()"
   ]
  },
  {
   "cell_type": "markdown",
   "id": "dc026528-466a-4f4d-8264-988914dec40c",
   "metadata": {},
   "source": [
    "# 02: Base Model\n",
    "Train a model on the as-is dataset (without the hold-out).  Keep the model fairly small to make this script, and future ones which use computationally intensive methods like SHAP, feasible to run on home hardware."
   ]
  },
  {
   "cell_type": "markdown",
   "id": "45bb1b82-0d0e-420a-afbc-758aeed6a5fc",
   "metadata": {},
   "source": [
    "Due to compatibility with sklearn_gbmi, I am using a GradientBoostingClassifier model.  This model is slow-ish and does not seem as accurate as, say, xgboost.  However, since I am interested in interactions, this is OK."
   ]
  },
  {
   "cell_type": "markdown",
   "id": "14c09328-957e-46c8-95cb-74a5fef75ddf",
   "metadata": {},
   "source": [
    "*This script takes about 5 minutes to run on my MacBook Air*"
   ]
  },
  {
   "cell_type": "code",
   "execution_count": 2,
   "id": "3f2c5433-431e-4c87-87f6-60c4323ace58",
   "metadata": {},
   "outputs": [],
   "source": [
    "import pandas as pd\n",
    "import numpy as np\n",
    "import matplotlib.pyplot as plt\n",
    "import pickle\n",
    "from pathlib import Path"
   ]
  },
  {
   "cell_type": "code",
   "execution_count": 3,
   "id": "7c6b208c-7072-4076-bca2-579b7c71a762",
   "metadata": {},
   "outputs": [],
   "source": [
    "import sklearn as sk\n",
    "from sklearn.model_selection import RandomizedSearchCV\n",
    "from sklearn.metrics import accuracy_score, f1_score, precision_score, recall_score, \\\n",
    "    average_precision_score, roc_auc_score\n",
    "from sklearn.inspection import permutation_importance\n",
    "from scikitplot.metrics import plot_lift_curve\n",
    "from sklearn.ensemble import GradientBoostingClassifier"
   ]
  },
  {
   "cell_type": "code",
   "execution_count": 4,
   "id": "10e13dd1-8716-43e5-9f2a-03ef0848cce0",
   "metadata": {},
   "outputs": [],
   "source": [
    "from interactions_package.interactions_package import ip_plot\n",
    "ip_plot.plot_defaults()"
   ]
  },
  {
   "cell_type": "markdown",
   "id": "88ac8af9-6049-49cf-84e8-1929fb5b4635",
   "metadata": {},
   "source": [
    "## Import Processed Datasets"
   ]
  },
  {
   "cell_type": "code",
   "execution_count": 5,
   "id": "f2b638b7-5a92-4568-ab16-f1d294972bc0",
   "metadata": {},
   "outputs": [],
   "source": [
    "train_df = pd.read_parquet(Path(setup.temp_path).joinpath('01_DATA_combined_base_train.parquet'))"
   ]
  },
  {
   "cell_type": "code",
   "execution_count": 6,
   "id": "56da9346-4d6a-480f-8406-0114f59bdeca",
   "metadata": {},
   "outputs": [],
   "source": [
    "test_df = pd.read_parquet(Path(setup.temp_path).joinpath('01_DATA_combined_base_test.parquet'))"
   ]
  },
  {
   "cell_type": "code",
   "execution_count": 7,
   "id": "0afcb56a-855b-417e-b5f7-8da2ad7d8649",
   "metadata": {},
   "outputs": [],
   "source": [
    "val_df = pd.read_parquet(Path(setup.temp_path).joinpath('01_DATA_combined_base_val.parquet'))"
   ]
  },
  {
   "cell_type": "markdown",
   "id": "5845461a-7661-46d6-9f9c-0f1242b560e9",
   "metadata": {},
   "source": [
    "##### Get predictors"
   ]
  },
  {
   "cell_type": "code",
   "execution_count": 8,
   "id": "a3077f2a-7a81-44dd-8329-cc0aaa989ff2",
   "metadata": {},
   "outputs": [],
   "source": [
    "predictor_features = pd.read_csv(Path(setup.temp_path) \\\n",
    "                                 .joinpath('01_REPORT_predictor_features.csv'))['feature'].tolist()"
   ]
  },
  {
   "cell_type": "code",
   "execution_count": 9,
   "id": "9581e0ad-f8c6-405b-b0cb-e6953566cd9b",
   "metadata": {},
   "outputs": [
    {
     "data": {
      "text/plain": [
       "18"
      ]
     },
     "execution_count": 9,
     "metadata": {},
     "output_type": "execute_result"
    }
   ],
   "source": [
    "len(set(predictor_features))"
   ]
  },
  {
   "cell_type": "markdown",
   "id": "14c43fa1-0370-419a-a58a-7b097c533239",
   "metadata": {},
   "source": [
    "## Model Hyperparameter Tune and Fit"
   ]
  },
  {
   "cell_type": "code",
   "execution_count": 10,
   "id": "ed50581a-29bd-4f1f-8f31-428792373c16",
   "metadata": {},
   "outputs": [
    {
     "data": {
      "text/plain": [
       "0.19962706378568484"
      ]
     },
     "execution_count": 10,
     "metadata": {},
     "output_type": "execute_result"
    }
   ],
   "source": [
    "mean_target = np.mean(train_df['target'])\n",
    "mean_target"
   ]
  },
  {
   "cell_type": "markdown",
   "id": "c3d6c02b-0612-4b77-8c7b-bf49db846026",
   "metadata": {},
   "source": [
    "##### Do a simple hyperparameter search"
   ]
  },
  {
   "cell_type": "code",
   "execution_count": 11,
   "id": "143db5cd-7086-4449-859a-0dda5f0de4c0",
   "metadata": {},
   "outputs": [],
   "source": [
    "base_model = GradientBoostingClassifier(n_estimators = 20)"
   ]
  },
  {
   "cell_type": "code",
   "execution_count": 12,
   "id": "860d5178-5f8c-4b43-b428-8b65bd72f21c",
   "metadata": {},
   "outputs": [],
   "source": [
    "hyperparam_serarch = {'learning_rate': [0.05, 0.01, 0.1, 0.2],\n",
    "                      'subsample': [0.5, 0.8, 1],\n",
    "                      'min_samples_split': [10, 20],\n",
    "                      'min_samples_leaf': [5, 20],\n",
    "                      'max_depth': [3, 4, 5],\n",
    "                      'max_leaf_nodes': [None, 30]}"
   ]
  },
  {
   "cell_type": "code",
   "execution_count": 13,
   "id": "8ad6cdac-6748-4833-9cdf-1aca3b127b31",
   "metadata": {},
   "outputs": [],
   "source": [
    "# Set up a cross validation without the final fit; don't use early stopping yet\n",
    "random_search = RandomizedSearchCV(base_model, \n",
    "                                   hyperparam_serarch,\n",
    "                                   n_iter=25, \n",
    "                                   n_jobs=-1,\n",
    "                                   random_state=395,\n",
    "                                   verbose = 0,\n",
    "                                   refit = False)"
   ]
  },
  {
   "cell_type": "code",
   "execution_count": 14,
   "id": "0ba1c884-3b77-4571-babc-de5512d295ba",
   "metadata": {},
   "outputs": [],
   "source": [
    "# Do the cross validation parameter search\n",
    "rs_fit = random_search.fit(train_df[predictor_features], train_df['target']);"
   ]
  },
  {
   "cell_type": "code",
   "execution_count": 15,
   "id": "2f23315e-daf5-4a9f-b649-959fa9610f55",
   "metadata": {},
   "outputs": [
    {
     "name": "stdout",
     "output_type": "stream",
     "text": [
      "{'subsample': 0.8, 'min_samples_split': 20, 'min_samples_leaf': 20, 'max_leaf_nodes': 30, 'max_depth': 5, 'learning_rate': 0.2}\n"
     ]
    }
   ],
   "source": [
    "print(random_search.best_params_)"
   ]
  },
  {
   "cell_type": "code",
   "execution_count": 16,
   "id": "11a328c1-b494-4050-b4a4-601b067ff35b",
   "metadata": {},
   "outputs": [],
   "source": [
    "pd.DataFrame({k:[random_search.best_params_[k]] for k in random_search.best_params_.keys()}) \\\n",
    "    .to_csv(Path(setup.temp_path).joinpath('02_REPORT_selected_features.csv'), index=False)"
   ]
  },
  {
   "cell_type": "markdown",
   "id": "23632fbe-e27c-494a-ac5c-1fa318d78f11",
   "metadata": {},
   "source": [
    "##### Do a final fit with the full training data"
   ]
  },
  {
   "cell_type": "code",
   "execution_count": 17,
   "id": "90e99663-1ed5-4e21-a994-5e1d3bc59a6d",
   "metadata": {},
   "outputs": [
    {
     "data": {
      "text/html": [
       "<style>#sk-container-id-1 {color: black;background-color: white;}#sk-container-id-1 pre{padding: 0;}#sk-container-id-1 div.sk-toggleable {background-color: white;}#sk-container-id-1 label.sk-toggleable__label {cursor: pointer;display: block;width: 100%;margin-bottom: 0;padding: 0.3em;box-sizing: border-box;text-align: center;}#sk-container-id-1 label.sk-toggleable__label-arrow:before {content: \"▸\";float: left;margin-right: 0.25em;color: #696969;}#sk-container-id-1 label.sk-toggleable__label-arrow:hover:before {color: black;}#sk-container-id-1 div.sk-estimator:hover label.sk-toggleable__label-arrow:before {color: black;}#sk-container-id-1 div.sk-toggleable__content {max-height: 0;max-width: 0;overflow: hidden;text-align: left;background-color: #f0f8ff;}#sk-container-id-1 div.sk-toggleable__content pre {margin: 0.2em;color: black;border-radius: 0.25em;background-color: #f0f8ff;}#sk-container-id-1 input.sk-toggleable__control:checked~div.sk-toggleable__content {max-height: 200px;max-width: 100%;overflow: auto;}#sk-container-id-1 input.sk-toggleable__control:checked~label.sk-toggleable__label-arrow:before {content: \"▾\";}#sk-container-id-1 div.sk-estimator input.sk-toggleable__control:checked~label.sk-toggleable__label {background-color: #d4ebff;}#sk-container-id-1 div.sk-label input.sk-toggleable__control:checked~label.sk-toggleable__label {background-color: #d4ebff;}#sk-container-id-1 input.sk-hidden--visually {border: 0;clip: rect(1px 1px 1px 1px);clip: rect(1px, 1px, 1px, 1px);height: 1px;margin: -1px;overflow: hidden;padding: 0;position: absolute;width: 1px;}#sk-container-id-1 div.sk-estimator {font-family: monospace;background-color: #f0f8ff;border: 1px dotted black;border-radius: 0.25em;box-sizing: border-box;margin-bottom: 0.5em;}#sk-container-id-1 div.sk-estimator:hover {background-color: #d4ebff;}#sk-container-id-1 div.sk-parallel-item::after {content: \"\";width: 100%;border-bottom: 1px solid gray;flex-grow: 1;}#sk-container-id-1 div.sk-label:hover label.sk-toggleable__label {background-color: #d4ebff;}#sk-container-id-1 div.sk-serial::before {content: \"\";position: absolute;border-left: 1px solid gray;box-sizing: border-box;top: 0;bottom: 0;left: 50%;z-index: 0;}#sk-container-id-1 div.sk-serial {display: flex;flex-direction: column;align-items: center;background-color: white;padding-right: 0.2em;padding-left: 0.2em;position: relative;}#sk-container-id-1 div.sk-item {position: relative;z-index: 1;}#sk-container-id-1 div.sk-parallel {display: flex;align-items: stretch;justify-content: center;background-color: white;position: relative;}#sk-container-id-1 div.sk-item::before, #sk-container-id-1 div.sk-parallel-item::before {content: \"\";position: absolute;border-left: 1px solid gray;box-sizing: border-box;top: 0;bottom: 0;left: 50%;z-index: -1;}#sk-container-id-1 div.sk-parallel-item {display: flex;flex-direction: column;z-index: 1;position: relative;background-color: white;}#sk-container-id-1 div.sk-parallel-item:first-child::after {align-self: flex-end;width: 50%;}#sk-container-id-1 div.sk-parallel-item:last-child::after {align-self: flex-start;width: 50%;}#sk-container-id-1 div.sk-parallel-item:only-child::after {width: 0;}#sk-container-id-1 div.sk-dashed-wrapped {border: 1px dashed gray;margin: 0 0.4em 0.5em 0.4em;box-sizing: border-box;padding-bottom: 0.4em;background-color: white;}#sk-container-id-1 div.sk-label label {font-family: monospace;font-weight: bold;display: inline-block;line-height: 1.2em;}#sk-container-id-1 div.sk-label-container {text-align: center;}#sk-container-id-1 div.sk-container {/* jupyter's `normalize.less` sets `[hidden] { display: none; }` but bootstrap.min.css set `[hidden] { display: none !important; }` so we also need the `!important` here to be able to override the default hidden behavior on the sphinx rendered scikit-learn.org. See: https://github.com/scikit-learn/scikit-learn/issues/21755 */display: inline-block !important;position: relative;}#sk-container-id-1 div.sk-text-repr-fallback {display: none;}</style><div id=\"sk-container-id-1\" class=\"sk-top-container\"><div class=\"sk-text-repr-fallback\"><pre>GradientBoostingClassifier(learning_rate=0.2, max_depth=5, max_leaf_nodes=30,\n",
       "                           min_samples_leaf=20, min_samples_split=20,\n",
       "                           n_estimators=20, subsample=0.8)</pre><b>In a Jupyter environment, please rerun this cell to show the HTML representation or trust the notebook. <br />On GitHub, the HTML representation is unable to render, please try loading this page with nbviewer.org.</b></div><div class=\"sk-container\" hidden><div class=\"sk-item\"><div class=\"sk-estimator sk-toggleable\"><input class=\"sk-toggleable__control sk-hidden--visually\" id=\"sk-estimator-id-1\" type=\"checkbox\" checked><label for=\"sk-estimator-id-1\" class=\"sk-toggleable__label sk-toggleable__label-arrow\">GradientBoostingClassifier</label><div class=\"sk-toggleable__content\"><pre>GradientBoostingClassifier(learning_rate=0.2, max_depth=5, max_leaf_nodes=30,\n",
       "                           min_samples_leaf=20, min_samples_split=20,\n",
       "                           n_estimators=20, subsample=0.8)</pre></div></div></div></div></div>"
      ],
      "text/plain": [
       "GradientBoostingClassifier(learning_rate=0.2, max_depth=5, max_leaf_nodes=30,\n",
       "                           min_samples_leaf=20, min_samples_split=20,\n",
       "                           n_estimators=20, subsample=0.8)"
      ]
     },
     "execution_count": 17,
     "metadata": {},
     "output_type": "execute_result"
    }
   ],
   "source": [
    "base_model.set_params(**random_search.best_params_)"
   ]
  },
  {
   "cell_type": "code",
   "execution_count": 18,
   "id": "046a6a48-0035-43cb-aff6-3e983bbb3bef",
   "metadata": {},
   "outputs": [
    {
     "data": {
      "text/html": [
       "<style>#sk-container-id-2 {color: black;background-color: white;}#sk-container-id-2 pre{padding: 0;}#sk-container-id-2 div.sk-toggleable {background-color: white;}#sk-container-id-2 label.sk-toggleable__label {cursor: pointer;display: block;width: 100%;margin-bottom: 0;padding: 0.3em;box-sizing: border-box;text-align: center;}#sk-container-id-2 label.sk-toggleable__label-arrow:before {content: \"▸\";float: left;margin-right: 0.25em;color: #696969;}#sk-container-id-2 label.sk-toggleable__label-arrow:hover:before {color: black;}#sk-container-id-2 div.sk-estimator:hover label.sk-toggleable__label-arrow:before {color: black;}#sk-container-id-2 div.sk-toggleable__content {max-height: 0;max-width: 0;overflow: hidden;text-align: left;background-color: #f0f8ff;}#sk-container-id-2 div.sk-toggleable__content pre {margin: 0.2em;color: black;border-radius: 0.25em;background-color: #f0f8ff;}#sk-container-id-2 input.sk-toggleable__control:checked~div.sk-toggleable__content {max-height: 200px;max-width: 100%;overflow: auto;}#sk-container-id-2 input.sk-toggleable__control:checked~label.sk-toggleable__label-arrow:before {content: \"▾\";}#sk-container-id-2 div.sk-estimator input.sk-toggleable__control:checked~label.sk-toggleable__label {background-color: #d4ebff;}#sk-container-id-2 div.sk-label input.sk-toggleable__control:checked~label.sk-toggleable__label {background-color: #d4ebff;}#sk-container-id-2 input.sk-hidden--visually {border: 0;clip: rect(1px 1px 1px 1px);clip: rect(1px, 1px, 1px, 1px);height: 1px;margin: -1px;overflow: hidden;padding: 0;position: absolute;width: 1px;}#sk-container-id-2 div.sk-estimator {font-family: monospace;background-color: #f0f8ff;border: 1px dotted black;border-radius: 0.25em;box-sizing: border-box;margin-bottom: 0.5em;}#sk-container-id-2 div.sk-estimator:hover {background-color: #d4ebff;}#sk-container-id-2 div.sk-parallel-item::after {content: \"\";width: 100%;border-bottom: 1px solid gray;flex-grow: 1;}#sk-container-id-2 div.sk-label:hover label.sk-toggleable__label {background-color: #d4ebff;}#sk-container-id-2 div.sk-serial::before {content: \"\";position: absolute;border-left: 1px solid gray;box-sizing: border-box;top: 0;bottom: 0;left: 50%;z-index: 0;}#sk-container-id-2 div.sk-serial {display: flex;flex-direction: column;align-items: center;background-color: white;padding-right: 0.2em;padding-left: 0.2em;position: relative;}#sk-container-id-2 div.sk-item {position: relative;z-index: 1;}#sk-container-id-2 div.sk-parallel {display: flex;align-items: stretch;justify-content: center;background-color: white;position: relative;}#sk-container-id-2 div.sk-item::before, #sk-container-id-2 div.sk-parallel-item::before {content: \"\";position: absolute;border-left: 1px solid gray;box-sizing: border-box;top: 0;bottom: 0;left: 50%;z-index: -1;}#sk-container-id-2 div.sk-parallel-item {display: flex;flex-direction: column;z-index: 1;position: relative;background-color: white;}#sk-container-id-2 div.sk-parallel-item:first-child::after {align-self: flex-end;width: 50%;}#sk-container-id-2 div.sk-parallel-item:last-child::after {align-self: flex-start;width: 50%;}#sk-container-id-2 div.sk-parallel-item:only-child::after {width: 0;}#sk-container-id-2 div.sk-dashed-wrapped {border: 1px dashed gray;margin: 0 0.4em 0.5em 0.4em;box-sizing: border-box;padding-bottom: 0.4em;background-color: white;}#sk-container-id-2 div.sk-label label {font-family: monospace;font-weight: bold;display: inline-block;line-height: 1.2em;}#sk-container-id-2 div.sk-label-container {text-align: center;}#sk-container-id-2 div.sk-container {/* jupyter's `normalize.less` sets `[hidden] { display: none; }` but bootstrap.min.css set `[hidden] { display: none !important; }` so we also need the `!important` here to be able to override the default hidden behavior on the sphinx rendered scikit-learn.org. See: https://github.com/scikit-learn/scikit-learn/issues/21755 */display: inline-block !important;position: relative;}#sk-container-id-2 div.sk-text-repr-fallback {display: none;}</style><div id=\"sk-container-id-2\" class=\"sk-top-container\"><div class=\"sk-text-repr-fallback\"><pre>GradientBoostingClassifier(learning_rate=0.2, max_depth=5, max_leaf_nodes=30,\n",
       "                           min_samples_leaf=20, min_samples_split=20,\n",
       "                           n_estimators=20, subsample=0.8)</pre><b>In a Jupyter environment, please rerun this cell to show the HTML representation or trust the notebook. <br />On GitHub, the HTML representation is unable to render, please try loading this page with nbviewer.org.</b></div><div class=\"sk-container\" hidden><div class=\"sk-item\"><div class=\"sk-estimator sk-toggleable\"><input class=\"sk-toggleable__control sk-hidden--visually\" id=\"sk-estimator-id-2\" type=\"checkbox\" checked><label for=\"sk-estimator-id-2\" class=\"sk-toggleable__label sk-toggleable__label-arrow\">GradientBoostingClassifier</label><div class=\"sk-toggleable__content\"><pre>GradientBoostingClassifier(learning_rate=0.2, max_depth=5, max_leaf_nodes=30,\n",
       "                           min_samples_leaf=20, min_samples_split=20,\n",
       "                           n_estimators=20, subsample=0.8)</pre></div></div></div></div></div>"
      ],
      "text/plain": [
       "GradientBoostingClassifier(learning_rate=0.2, max_depth=5, max_leaf_nodes=30,\n",
       "                           min_samples_leaf=20, min_samples_split=20,\n",
       "                           n_estimators=20, subsample=0.8)"
      ]
     },
     "execution_count": 18,
     "metadata": {},
     "output_type": "execute_result"
    }
   ],
   "source": [
    "base_model.fit(train_df[predictor_features], train_df['target'])"
   ]
  },
  {
   "cell_type": "markdown",
   "id": "101530fd-61a1-4786-bdcb-7a0103f2fa78",
   "metadata": {},
   "source": [
    "##### Save the model"
   ]
  },
  {
   "cell_type": "code",
   "execution_count": 19,
   "id": "407441c5-cb57-4f3e-aab3-01f0532112cf",
   "metadata": {},
   "outputs": [],
   "source": [
    "with open(Path(setup.temp_path).joinpath('02_MODEL_base_gc.pkl'), 'wb') as po:\n",
    "    pickle.dump(base_model, po)"
   ]
  },
  {
   "cell_type": "markdown",
   "id": "3e6c7c91-a7a2-4f09-89f7-825b1d35cf8f",
   "metadata": {},
   "source": [
    "## Metrics"
   ]
  },
  {
   "cell_type": "markdown",
   "id": "d6e46f35-6ad5-43fe-bb1d-934fdfcab3ca",
   "metadata": {},
   "source": [
    "##### Classification metrics\n",
    "Accuracy, f1, precision, recall"
   ]
  },
  {
   "cell_type": "code",
   "execution_count": 20,
   "id": "59148076-e3e9-41a3-a900-db1851e91e5f",
   "metadata": {},
   "outputs": [],
   "source": [
    "metrics_class_df = pd.concat([pd.DataFrame({metf.__name__: [metf(df['target'], \n",
    "                                                                 base_model.predict(df[predictor_features]))] \\\n",
    "              for metf in [accuracy_score, f1_score, precision_score, recall_score]})\n",
    "           for df in [train_df, test_df, val_df]], keys = ['train', 'test', 'val']) \\\n",
    "    .reset_index(level=1, drop=True)"
   ]
  },
  {
   "cell_type": "markdown",
   "id": "e3d4d175-a65a-490f-9b74-fe9357b95688",
   "metadata": {},
   "source": [
    "##### AUC scores\n",
    "PR-AUC and ROC-AUC"
   ]
  },
  {
   "cell_type": "code",
   "execution_count": 21,
   "id": "08a44162-1f9d-48c6-a7e5-e349f3df8bf6",
   "metadata": {},
   "outputs": [],
   "source": [
    "metrics_auc_df = pd.concat([pd.DataFrame({metf.__name__: [metf(df['target'], \n",
    "                                                               base_model.predict_proba(df[predictor_features])[:,1])] \\\n",
    "              for metf in [average_precision_score, roc_auc_score]})\n",
    "           for df in [train_df, test_df, val_df]], keys = ['train', 'test', 'val']) \\\n",
    "    .reset_index(level=1, drop=True)"
   ]
  },
  {
   "cell_type": "code",
   "execution_count": 22,
   "id": "fb4f2bae-37b3-464d-915b-1ab7ca15ae86",
   "metadata": {},
   "outputs": [],
   "source": [
    "metrics_df = pd.concat([metrics_class_df, metrics_auc_df], axis=1)"
   ]
  },
  {
   "cell_type": "code",
   "execution_count": 23,
   "id": "4b889110-286b-4db5-8083-94de96767204",
   "metadata": {},
   "outputs": [
    {
     "data": {
      "text/html": [
       "<div>\n",
       "<style scoped>\n",
       "    .dataframe tbody tr th:only-of-type {\n",
       "        vertical-align: middle;\n",
       "    }\n",
       "\n",
       "    .dataframe tbody tr th {\n",
       "        vertical-align: top;\n",
       "    }\n",
       "\n",
       "    .dataframe thead th {\n",
       "        text-align: right;\n",
       "    }\n",
       "</style>\n",
       "<table border=\"1\" class=\"dataframe\">\n",
       "  <thead>\n",
       "    <tr style=\"text-align: right;\">\n",
       "      <th></th>\n",
       "      <th>accuracy_score</th>\n",
       "      <th>f1_score</th>\n",
       "      <th>precision_score</th>\n",
       "      <th>recall_score</th>\n",
       "      <th>average_precision_score</th>\n",
       "      <th>roc_auc_score</th>\n",
       "    </tr>\n",
       "  </thead>\n",
       "  <tbody>\n",
       "    <tr>\n",
       "      <th>train</th>\n",
       "      <td>0.803212</td>\n",
       "      <td>0.091498</td>\n",
       "      <td>0.583615</td>\n",
       "      <td>0.049640</td>\n",
       "      <td>0.381776</td>\n",
       "      <td>0.715065</td>\n",
       "    </tr>\n",
       "    <tr>\n",
       "      <th>test</th>\n",
       "      <td>0.802692</td>\n",
       "      <td>0.089795</td>\n",
       "      <td>0.567630</td>\n",
       "      <td>0.048754</td>\n",
       "      <td>0.373483</td>\n",
       "      <td>0.708780</td>\n",
       "    </tr>\n",
       "    <tr>\n",
       "      <th>val</th>\n",
       "      <td>0.802793</td>\n",
       "      <td>0.090086</td>\n",
       "      <td>0.570684</td>\n",
       "      <td>0.048903</td>\n",
       "      <td>0.376916</td>\n",
       "      <td>0.712420</td>\n",
       "    </tr>\n",
       "  </tbody>\n",
       "</table>\n",
       "</div>"
      ],
      "text/plain": [
       "       accuracy_score  f1_score  precision_score  recall_score  \\\n",
       "train        0.803212  0.091498         0.583615      0.049640   \n",
       "test         0.802692  0.089795         0.567630      0.048754   \n",
       "val          0.802793  0.090086         0.570684      0.048903   \n",
       "\n",
       "       average_precision_score  roc_auc_score  \n",
       "train                 0.381776       0.715065  \n",
       "test                  0.373483       0.708780  \n",
       "val                   0.376916       0.712420  "
      ]
     },
     "execution_count": 23,
     "metadata": {},
     "output_type": "execute_result"
    }
   ],
   "source": [
    "metrics_df"
   ]
  },
  {
   "cell_type": "markdown",
   "id": "438d53af-afc1-4739-b16d-5f13ad69a992",
   "metadata": {},
   "source": [
    "This model isn't terribly good.  The target rate is ~20% and so 0.20 is the baseline PR-AUC (average precision score).  So the model is about 1.8 x random.  However I am interested in interactions and want to keep this model simple so this is OK for this purpose\n",
    "\n",
    "Looking at precision and recall, the max f1 threshold might not be the best decision threshold.  However I am not using a decision threshold and so can ignore this."
   ]
  },
  {
   "cell_type": "markdown",
   "id": "cd9623a3-a9e3-4147-9a02-a0ae4a63d0b0",
   "metadata": {},
   "source": [
    "## Lift"
   ]
  },
  {
   "cell_type": "code",
   "execution_count": 24,
   "id": "090ffb3d-ea76-4d69-89af-8d1675ef5971",
   "metadata": {},
   "outputs": [
    {
     "data": {
      "image/png": "[encoded data removed]",
      "text/plain": [
       "<Figure size 400x300 with 1 Axes>"
      ]
     },
     "metadata": {},
     "output_type": "display_data"
    }
   ],
   "source": [
    "plot_lift_curve(val_df['target'], \n",
    "                base_model.predict_proba(val_df[predictor_features]), \n",
    "                title='Lift Curve', ax=None, figsize=(4,3), \n",
    "                title_fontsize='large', text_fontsize='medium')\n",
    "plt.gca().legend(loc='upper right')\n",
    "plt.gcf().savefig(Path(setup.temp_path).joinpath('02_PLOT_lift_curve.png'),\n",
    "                 bbox_inches='tight')"
   ]
  },
  {
   "cell_type": "markdown",
   "id": "b015e723-c81c-441b-9d8d-024fc4987e30",
   "metadata": {},
   "source": [
    "## Feature Importance "
   ]
  },
  {
   "cell_type": "markdown",
   "id": "3074e8f2-ef62-4592-b546-391bcc5182c9",
   "metadata": {},
   "source": [
    "##### Impurity Importance"
   ]
  },
  {
   "cell_type": "code",
   "execution_count": 25,
   "id": "fa90f824-4957-4a9e-8e91-f76610e2fd3c",
   "metadata": {},
   "outputs": [],
   "source": [
    "feature_importance_df= pd.DataFrame({'feature': predictor_features,\n",
    "                                    'importance': base_model.feature_importances_}) \\\n",
    "    .sort_values('importance', ascending=False)"
   ]
  },
  {
   "cell_type": "code",
   "execution_count": 26,
   "id": "2d4d8f93-16bc-4a82-bc80-facda1390996",
   "metadata": {},
   "outputs": [
    {
     "data": {
      "text/html": [
       "<div>\n",
       "<style scoped>\n",
       "    .dataframe tbody tr th:only-of-type {\n",
       "        vertical-align: middle;\n",
       "    }\n",
       "\n",
       "    .dataframe tbody tr th {\n",
       "        vertical-align: top;\n",
       "    }\n",
       "\n",
       "    .dataframe thead th {\n",
       "        text-align: right;\n",
       "    }\n",
       "</style>\n",
       "<table border=\"1\" class=\"dataframe\">\n",
       "  <thead>\n",
       "    <tr style=\"text-align: right;\">\n",
       "      <th></th>\n",
       "      <th>feature</th>\n",
       "      <th>importance</th>\n",
       "    </tr>\n",
       "  </thead>\n",
       "  <tbody>\n",
       "    <tr>\n",
       "      <th>2</th>\n",
       "      <td>int_rate</td>\n",
       "      <td>0.686129</td>\n",
       "    </tr>\n",
       "    <tr>\n",
       "      <th>1</th>\n",
       "      <td>term</td>\n",
       "      <td>0.073362</td>\n",
       "    </tr>\n",
       "    <tr>\n",
       "      <th>4</th>\n",
       "      <td>annual_inc</td>\n",
       "      <td>0.035156</td>\n",
       "    </tr>\n",
       "  </tbody>\n",
       "</table>\n",
       "</div>"
      ],
      "text/plain": [
       "      feature  importance\n",
       "2    int_rate    0.686129\n",
       "1        term    0.073362\n",
       "4  annual_inc    0.035156"
      ]
     },
     "execution_count": 26,
     "metadata": {},
     "output_type": "execute_result"
    }
   ],
   "source": [
    "feature_importance_df.head(3)"
   ]
  },
  {
   "cell_type": "code",
   "execution_count": 27,
   "id": "480a593c-3a30-4118-abbc-9a7b8b408e55",
   "metadata": {},
   "outputs": [],
   "source": [
    "feature_importance_df.to_csv(Path(setup.temp_path).joinpath('02_REPORT_importance_impurity.csv'), index=True)"
   ]
  },
  {
   "cell_type": "code",
   "execution_count": 28,
   "id": "ccb3fb93-ddee-47f7-b9da-5aba2081dd52",
   "metadata": {},
   "outputs": [
    {
     "data": {
      "image/png": "[encoded data removed]",
      "text/plain": [
       "<Figure size 640x480 with 1 Axes>"
      ]
     },
     "metadata": {},
     "output_type": "display_data"
    }
   ],
   "source": [
    "feature_importance_df.head(10).set_index('feature') \\\n",
    "    .plot(kind='barh', legend=None, color='lightslategray')\n",
    "plt.gca().invert_yaxis()\n",
    "plt.xlabel('impurity importance')\n",
    "plt.ylabel(None)\n",
    "plt.gcf().savefig(Path(setup.temp_path).joinpath('02_PLOT_importance_gain.png'))"
   ]
  },
  {
   "cell_type": "markdown",
   "id": "18aa7d09-2cfe-474f-b185-886aa3bd1b9e",
   "metadata": {},
   "source": [
    "##### Permutation Importance"
   ]
  },
  {
   "cell_type": "code",
   "execution_count": 29,
   "id": "ceb6b6ea-513d-4a59-b0ab-9bf6a91787be",
   "metadata": {},
   "outputs": [],
   "source": [
    "perm_importance = permutation_importance(base_model, \n",
    "                                         train_df[predictor_features], \n",
    "                                         train_df['target'])"
   ]
  },
  {
   "cell_type": "code",
   "execution_count": 30,
   "id": "17740501-02fb-4e62-a088-b92c73d7aebb",
   "metadata": {},
   "outputs": [],
   "source": [
    "perm_importance_df = pd.DataFrame({'features':predictor_features,\n",
    "                                   'importance': perm_importance['importances_mean']}) \n",
    "perm_importance_df['abs_importance'] = np.abs(perm_importance_df['importance'])\n",
    "perm_importance_df = perm_importance_df.sort_values('abs_importance', ascending=False)"
   ]
  },
  {
   "cell_type": "code",
   "execution_count": 31,
   "id": "6c0e0cf8-b1a8-4ed3-bbfe-4411e479d6cf",
   "metadata": {},
   "outputs": [],
   "source": [
    "perm_importance_df \\\n",
    "    .to_csv(Path(setup.temp_path).joinpath('02_DATA_importance_perturb.csv'),\n",
    "            index=False)"
   ]
  },
  {
   "cell_type": "code",
   "execution_count": 32,
   "id": "0e429e9d-c224-4e50-8d80-d3e453739a2b",
   "metadata": {},
   "outputs": [
    {
     "data": {
      "image/png": "[encoded data removed]",
      "text/plain": [
       "<Figure size 640x480 with 1 Axes>"
      ]
     },
     "metadata": {},
     "output_type": "display_data"
    }
   ],
   "source": [
    "perm_importance_df.head(10) \\\n",
    "    .plot(kind='barh', x='features', y='importance', legend=None, color='lightslategray')\n",
    "plt.gca().invert_yaxis()\n",
    "plt.xlabel('permutation importance')\n",
    "plt.ylabel(None)\n",
    "plt.gcf().savefig(Path(setup.temp_path).joinpath('02_PLOT_importance_perturb.png'))"
   ]
  },
  {
   "cell_type": "markdown",
   "id": "4f9e6a72-bd44-41a0-b56f-495165e90d87",
   "metadata": {},
   "source": [
    "I am not an expert on lending, but it makes sense that the interest rate is the most important feature.  Interest rate should capture financial risk, as opposed to strict default risk. So the interest rate should incorporate information beyond the default rate, such as loan amount.   "
   ]
  },
  {
   "cell_type": "markdown",
   "id": "f6cd1ca8-1547-444b-b826-a14a9f6d6c13",
   "metadata": {},
   "source": [
    "Interactions between interest rates and other features might capture the difference between financial and default risks.  Or, interactions could reflect sub-populations for whom the interst rate is not well calibrated."
   ]
  },
  {
   "cell_type": "code",
   "execution_count": null,
   "id": "579b2434-9816-427c-9a89-306389c5e184",
   "metadata": {},
   "outputs": [],
   "source": []
  }
 ],
 "metadata": {
  "kernelspec": {
   "display_name": "Python 3 (ipykernel)",
   "language": "python",
   "name": "python3"
  },
  "language_info": {
   "codemirror_mode": {
    "name": "ipython",
    "version": 3
   },
   "file_extension": ".py",
   "mimetype": "text/x-python",
   "name": "python",
   "nbconvert_exporter": "python",
   "pygments_lexer": "ipython3",
   "version": "3.10.2"
  }
 },
 "nbformat": 4,
 "nbformat_minor": 5
}
