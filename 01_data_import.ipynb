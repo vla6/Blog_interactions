{
 "cells": [
  {
   "cell_type": "code",
   "execution_count": 1,
   "id": "4c4452b4-2520-4748-bd6d-2ae484e70b16",
   "metadata": {},
   "outputs": [],
   "source": [
    "# Modify the file 00_setup.py to define input/output file paths on your system\n",
    "# The information in 00_setup.py will be used across notebooks\n",
    "from importlib.machinery import SourceFileLoader\n",
    "setup = SourceFileLoader(\"setup\", \"./00_setup.py\").load_module()"
   ]
  },
  {
   "cell_type": "markdown",
   "id": "a595d38b-794b-4317-b39f-58da027df783",
   "metadata": {},
   "source": [
    "# 01:  Data Import\n",
    " * Import data\n",
    " * Filter targets/ nontargets\n",
    " * One hot encoding and other pre-processing\n",
    " * Split"
   ]
  },
  {
   "cell_type": "markdown",
   "id": "f5cfeb88-9b8e-44e6-91ba-61b54b6fca52",
   "metadata": {},
   "source": [
    "I do not do extensive data exploration but instead use others' insights from various\n",
    "Kaggle projects, including:\n",
    "* https://www.kaggle.com/code/mariiagusarova/feature-selection-techniques\n",
    "* https://www.kaggle.com/datasets/wordsforthewise/lending-club/\n",
    "* https://www.kaggle.com/code/wordsforthewise/eda-with-python/notebook"
   ]
  },
  {
   "cell_type": "markdown",
   "id": "6e6da1d7-27bc-40dc-bf59-4062c143c508",
   "metadata": {},
   "source": [
    "*This script takes about 1 minute on my MacBook Air*"
   ]
  },
  {
   "cell_type": "code",
   "execution_count": 2,
   "id": "5f2f4da8-290e-4287-ba3c-eef1dfb093f8",
   "metadata": {},
   "outputs": [],
   "source": [
    "import pandas as pd\n",
    "import numpy as np\n",
    "import re\n",
    "import matplotlib.pyplot as plt"
   ]
  },
  {
   "cell_type": "code",
   "execution_count": 3,
   "id": "71df4185-bc4e-404b-a2df-6e58259b2381",
   "metadata": {},
   "outputs": [],
   "source": [
    "from pathlib import Path\n",
    "from sklearn.model_selection import train_test_split"
   ]
  },
  {
   "cell_type": "code",
   "execution_count": 4,
   "id": "d46e519c-bce9-43e0-b5ee-3708982b760f",
   "metadata": {},
   "outputs": [],
   "source": [
    "setup.plot_defaults()"
   ]
  },
  {
   "cell_type": "markdown",
   "id": "55ec3482-660d-4f05-9f80-2086668d6768",
   "metadata": {},
   "source": [
    "## Import Data and Filter"
   ]
  },
  {
   "cell_type": "code",
   "execution_count": 5,
   "id": "92bd280f-377e-4e47-8f83-331c8eca3768",
   "metadata": {},
   "outputs": [],
   "source": [
    "loans_init = pd.read_csv(setup.input_path,  dtype=setup.input_dtypes,\n",
    "                        parse_dates = setup.input_dates)"
   ]
  },
  {
   "cell_type": "markdown",
   "id": "21988b13-ca41-43d9-9994-b5afad2245a3",
   "metadata": {},
   "source": [
    "##### Filter to include only paid or unpaid loans"
   ]
  },
  {
   "cell_type": "code",
   "execution_count": 6,
   "id": "33474607-9463-4168-a191-2067bc910a99",
   "metadata": {},
   "outputs": [],
   "source": [
    "loans_init = loans_init[loans_init['loan_status'].isin(['Fully Paid',  'Charged Off'])]"
   ]
  },
  {
   "cell_type": "code",
   "execution_count": 7,
   "id": "b84f90e7-d340-4175-8268-a8ac8cb080b5",
   "metadata": {},
   "outputs": [
    {
     "data": {
      "text/plain": [
       "(1345310, 151)"
      ]
     },
     "execution_count": 7,
     "metadata": {},
     "output_type": "execute_result"
    }
   ],
   "source": [
    "loans_init.shape"
   ]
  },
  {
   "cell_type": "markdown",
   "id": "148af406-beb1-41b9-91ef-4286d1ed0c97",
   "metadata": {},
   "source": [
    "##### Create the target feature (0/1) that indicates a default"
   ]
  },
  {
   "cell_type": "code",
   "execution_count": 8,
   "id": "bafa5a82-2ef2-4e89-9f64-2c5c3fe31e2c",
   "metadata": {},
   "outputs": [],
   "source": [
    "loans_init['target'] = np.where(loans_init['loan_status'] == 'Fully Paid', 0, 1)"
   ]
  },
  {
   "cell_type": "code",
   "execution_count": 9,
   "id": "42677d14-e9ae-45dc-82c8-6e3e0862fcce",
   "metadata": {},
   "outputs": [
    {
     "data": {
      "text/plain": [
       "0    0.800374\n",
       "1    0.199626\n",
       "Name: target, dtype: float64"
      ]
     },
     "execution_count": 9,
     "metadata": {},
     "output_type": "execute_result"
    }
   ],
   "source": [
    "loans_init['target'].value_counts(dropna=False, normalize=True)"
   ]
  },
  {
   "cell_type": "markdown",
   "id": "e592f0be-9d5e-45d7-a109-f14c08f8a07c",
   "metadata": {},
   "source": [
    "##### Save full dataset"
   ]
  },
  {
   "cell_type": "code",
   "execution_count": 10,
   "id": "678a7cde-1b80-4721-aae8-45399ea56fbc",
   "metadata": {},
   "outputs": [],
   "source": [
    "loans_init.to_parquet(Path(setup.temp_path).joinpath('01_DATA_import_filtered.parquet'))"
   ]
  },
  {
   "cell_type": "markdown",
   "id": "9b788eed-2c90-461c-8783-a25ec97a5418",
   "metadata": {},
   "source": [
    "## FICO Features - Plots\n",
    "I want to determine which FICO features to include, if any"
   ]
  },
  {
   "cell_type": "code",
   "execution_count": 11,
   "id": "34510dfd-c25c-4efc-8d42-28f7f38dd5fe",
   "metadata": {},
   "outputs": [
    {
     "data": {
      "text/html": [
       "<div>\n",
       "<style scoped>\n",
       "    .dataframe tbody tr th:only-of-type {\n",
       "        vertical-align: middle;\n",
       "    }\n",
       "\n",
       "    .dataframe tbody tr th {\n",
       "        vertical-align: top;\n",
       "    }\n",
       "\n",
       "    .dataframe thead th {\n",
       "        text-align: right;\n",
       "    }\n",
       "</style>\n",
       "<table border=\"1\" class=\"dataframe\">\n",
       "  <thead>\n",
       "    <tr style=\"text-align: right;\">\n",
       "      <th></th>\n",
       "      <th>fico_range_low</th>\n",
       "      <th>fico_range_high</th>\n",
       "      <th>last_fico_range_low</th>\n",
       "      <th>last_fico_range_high</th>\n",
       "      <th>sec_app_fico_range_low</th>\n",
       "      <th>sec_app_fico_range_high</th>\n",
       "      <th>target</th>\n",
       "    </tr>\n",
       "  </thead>\n",
       "  <tbody>\n",
       "    <tr>\n",
       "      <th>fico_range_low</th>\n",
       "      <td>1.000000</td>\n",
       "      <td>1.000000</td>\n",
       "      <td>0.246554</td>\n",
       "      <td>0.344367</td>\n",
       "      <td>0.418415</td>\n",
       "      <td>0.418415</td>\n",
       "      <td>-0.130683</td>\n",
       "    </tr>\n",
       "    <tr>\n",
       "      <th>fico_range_high</th>\n",
       "      <td>1.000000</td>\n",
       "      <td>1.000000</td>\n",
       "      <td>0.246554</td>\n",
       "      <td>0.344367</td>\n",
       "      <td>0.418419</td>\n",
       "      <td>0.418419</td>\n",
       "      <td>-0.130682</td>\n",
       "    </tr>\n",
       "    <tr>\n",
       "      <th>last_fico_range_low</th>\n",
       "      <td>0.246554</td>\n",
       "      <td>0.246554</td>\n",
       "      <td>1.000000</td>\n",
       "      <td>0.829519</td>\n",
       "      <td>0.232893</td>\n",
       "      <td>0.232893</td>\n",
       "      <td>-0.575706</td>\n",
       "    </tr>\n",
       "    <tr>\n",
       "      <th>last_fico_range_high</th>\n",
       "      <td>0.344367</td>\n",
       "      <td>0.344367</td>\n",
       "      <td>0.829519</td>\n",
       "      <td>1.000000</td>\n",
       "      <td>0.321321</td>\n",
       "      <td>0.321321</td>\n",
       "      <td>-0.667842</td>\n",
       "    </tr>\n",
       "    <tr>\n",
       "      <th>sec_app_fico_range_low</th>\n",
       "      <td>0.418415</td>\n",
       "      <td>0.418419</td>\n",
       "      <td>0.232893</td>\n",
       "      <td>0.321321</td>\n",
       "      <td>1.000000</td>\n",
       "      <td>1.000000</td>\n",
       "      <td>-0.251242</td>\n",
       "    </tr>\n",
       "    <tr>\n",
       "      <th>sec_app_fico_range_high</th>\n",
       "      <td>0.418415</td>\n",
       "      <td>0.418419</td>\n",
       "      <td>0.232893</td>\n",
       "      <td>0.321321</td>\n",
       "      <td>1.000000</td>\n",
       "      <td>1.000000</td>\n",
       "      <td>-0.251242</td>\n",
       "    </tr>\n",
       "    <tr>\n",
       "      <th>target</th>\n",
       "      <td>-0.130683</td>\n",
       "      <td>-0.130682</td>\n",
       "      <td>-0.575706</td>\n",
       "      <td>-0.667842</td>\n",
       "      <td>-0.251242</td>\n",
       "      <td>-0.251242</td>\n",
       "      <td>1.000000</td>\n",
       "    </tr>\n",
       "  </tbody>\n",
       "</table>\n",
       "</div>"
      ],
      "text/plain": [
       "                         fico_range_low  fico_range_high  last_fico_range_low  \\\n",
       "fico_range_low                 1.000000         1.000000             0.246554   \n",
       "fico_range_high                1.000000         1.000000             0.246554   \n",
       "last_fico_range_low            0.246554         0.246554             1.000000   \n",
       "last_fico_range_high           0.344367         0.344367             0.829519   \n",
       "sec_app_fico_range_low         0.418415         0.418419             0.232893   \n",
       "sec_app_fico_range_high        0.418415         0.418419             0.232893   \n",
       "target                        -0.130683        -0.130682            -0.575706   \n",
       "\n",
       "                         last_fico_range_high  sec_app_fico_range_low  \\\n",
       "fico_range_low                       0.344367                0.418415   \n",
       "fico_range_high                      0.344367                0.418419   \n",
       "last_fico_range_low                  0.829519                0.232893   \n",
       "last_fico_range_high                 1.000000                0.321321   \n",
       "sec_app_fico_range_low               0.321321                1.000000   \n",
       "sec_app_fico_range_high              0.321321                1.000000   \n",
       "target                              -0.667842               -0.251242   \n",
       "\n",
       "                         sec_app_fico_range_high    target  \n",
       "fico_range_low                          0.418415 -0.130683  \n",
       "fico_range_high                         0.418419 -0.130682  \n",
       "last_fico_range_low                     0.232893 -0.575706  \n",
       "last_fico_range_high                    0.321321 -0.667842  \n",
       "sec_app_fico_range_low                  1.000000 -0.251242  \n",
       "sec_app_fico_range_high                 1.000000 -0.251242  \n",
       "target                                 -0.251242  1.000000  "
      ]
     },
     "execution_count": 11,
     "metadata": {},
     "output_type": "execute_result"
    }
   ],
   "source": [
    "fico_corr = loans_init[['fico_range_low', 'fico_range_high', 'last_fico_range_low', 'last_fico_range_high',\n",
    "           'sec_app_fico_range_low', 'sec_app_fico_range_high', 'target']].corr()\n",
    "fico_corr"
   ]
  },
  {
   "cell_type": "code",
   "execution_count": 12,
   "id": "425d3780-d64f-4fbc-8145-5870eb5e06f0",
   "metadata": {},
   "outputs": [],
   "source": [
    "fico_corr.to_csv(Path(setup.temp_path).joinpath('01_REPORT_fico_correlations.csv'), index=True)"
   ]
  },
  {
   "cell_type": "code",
   "execution_count": 13,
   "id": "2e5af719-dc70-4204-aae5-b4603d8816ae",
   "metadata": {},
   "outputs": [],
   "source": [
    "def boxplot_fico(data, fico_col = 'fico_range_low'):\n",
    "    data.boxplot(column=fico_col, by='target', figsize=(4,3))\n",
    "    plt.suptitle(None)\n",
    "    plt.tight_layout()\n",
    "    plt.gcf().savefig(Path(setup.temp_path).joinpath('01_PLOT_fico_box_' + fico_col + '.png'))\n",
    "    plt.show()"
   ]
  },
  {
   "cell_type": "code",
   "execution_count": 14,
   "id": "33abfbe7-6ed4-4a20-ac0f-cd919da403ea",
   "metadata": {},
   "outputs": [
    {
     "data": {
      "image/png": "[encoded data removed]",
      "text/plain": [
       "<Figure size 400x300 with 1 Axes>"
      ]
     },
     "metadata": {},
     "output_type": "display_data"
    }
   ],
   "source": [
    "boxplot_fico(loans_init)"
   ]
  },
  {
   "cell_type": "code",
   "execution_count": 15,
   "id": "445f01bb-545e-494c-b2b7-241cc02a4575",
   "metadata": {},
   "outputs": [
    {
     "data": {
      "image/png": "[encoded data removed]",
      "text/plain": [
       "<Figure size 400x300 with 1 Axes>"
      ]
     },
     "metadata": {},
     "output_type": "display_data"
    }
   ],
   "source": [
    "boxplot_fico(loans_init, 'last_fico_range_low')"
   ]
  },
  {
   "cell_type": "code",
   "execution_count": 16,
   "id": "fb71283e-fd5a-4dc7-8d75-c9447e047771",
   "metadata": {},
   "outputs": [
    {
     "data": {
      "image/png": "[encoded data removed]",
      "text/plain": [
       "<Figure size 400x300 with 1 Axes>"
      ]
     },
     "metadata": {},
     "output_type": "display_data"
    }
   ],
   "source": [
    "boxplot_fico(loans_init, 'sec_app_fico_range_low')"
   ]
  },
  {
   "cell_type": "code",
   "execution_count": 17,
   "id": "2b652deb-dc14-40cb-8869-95a73c28f006",
   "metadata": {},
   "outputs": [
    {
     "data": {
      "text/html": [
       "<div>\n",
       "<style scoped>\n",
       "    .dataframe tbody tr th:only-of-type {\n",
       "        vertical-align: middle;\n",
       "    }\n",
       "\n",
       "    .dataframe tbody tr th {\n",
       "        vertical-align: top;\n",
       "    }\n",
       "\n",
       "    .dataframe thead tr th {\n",
       "        text-align: left;\n",
       "    }\n",
       "\n",
       "    .dataframe thead tr:last-of-type th {\n",
       "        text-align: right;\n",
       "    }\n",
       "</style>\n",
       "<table border=\"1\" class=\"dataframe\">\n",
       "  <thead>\n",
       "    <tr>\n",
       "      <th></th>\n",
       "      <th colspan=\"4\" halign=\"left\">fico_range_low</th>\n",
       "      <th colspan=\"4\" halign=\"left\">sec_app_fico_range_low</th>\n",
       "    </tr>\n",
       "    <tr>\n",
       "      <th></th>\n",
       "      <th>min</th>\n",
       "      <th>max</th>\n",
       "      <th>median</th>\n",
       "      <th>mean</th>\n",
       "      <th>min</th>\n",
       "      <th>max</th>\n",
       "      <th>median</th>\n",
       "      <th>mean</th>\n",
       "    </tr>\n",
       "    <tr>\n",
       "      <th>application_type</th>\n",
       "      <th></th>\n",
       "      <th></th>\n",
       "      <th></th>\n",
       "      <th></th>\n",
       "      <th></th>\n",
       "      <th></th>\n",
       "      <th></th>\n",
       "      <th></th>\n",
       "    </tr>\n",
       "  </thead>\n",
       "  <tbody>\n",
       "    <tr>\n",
       "      <th>Individual</th>\n",
       "      <td>625.0</td>\n",
       "      <td>845.0</td>\n",
       "      <td>690.0</td>\n",
       "      <td>696.026669</td>\n",
       "      <td>NaN</td>\n",
       "      <td>NaN</td>\n",
       "      <td>NaN</td>\n",
       "      <td>NaN</td>\n",
       "    </tr>\n",
       "    <tr>\n",
       "      <th>Joint App</th>\n",
       "      <td>660.0</td>\n",
       "      <td>845.0</td>\n",
       "      <td>695.0</td>\n",
       "      <td>704.284690</td>\n",
       "      <td>540.0</td>\n",
       "      <td>840.0</td>\n",
       "      <td>665.0</td>\n",
       "      <td>665.970209</td>\n",
       "    </tr>\n",
       "  </tbody>\n",
       "</table>\n",
       "</div>"
      ],
      "text/plain": [
       "                 fico_range_low                            \\\n",
       "                            min    max median        mean   \n",
       "application_type                                            \n",
       "Individual                625.0  845.0  690.0  696.026669   \n",
       "Joint App                 660.0  845.0  695.0  704.284690   \n",
       "\n",
       "                 sec_app_fico_range_low                            \n",
       "                                    min    max median        mean  \n",
       "application_type                                                   \n",
       "Individual                          NaN    NaN    NaN         NaN  \n",
       "Joint App                         540.0  840.0  665.0  665.970209  "
      ]
     },
     "execution_count": 17,
     "metadata": {},
     "output_type": "execute_result"
    }
   ],
   "source": [
    "loans_init.groupby('application_type')[['fico_range_low', 'sec_app_fico_range_low']] \\\n",
    "    .agg(['min', 'max', 'median', 'mean'])"
   ]
  },
  {
   "cell_type": "code",
   "execution_count": 18,
   "id": "f7f12edd-9599-445f-93e0-3294f28a1c45",
   "metadata": {},
   "outputs": [
    {
     "data": {
      "text/plain": [
       "[<matplotlib.lines.Line2D at 0x176a828f0>]"
      ]
     },
     "execution_count": 18,
     "metadata": {},
     "output_type": "execute_result"
    },
    {
     "data": {
      "image/png": "[encoded data removed]",
      "text/plain": [
       "<Figure size 400x300 with 1 Axes>"
      ]
     },
     "metadata": {},
     "output_type": "display_data"
    }
   ],
   "source": [
    "# Scatter plot with x=y line\n",
    "# https://stackoverflow.com/questions/25497402\n",
    "loans_init[loans_init['application_type'] == 'Joint App'] \\\n",
    "    [['fico_range_low', 'sec_app_fico_range_low']] \\\n",
    "    .sample(1000) \\\n",
    "    .plot(x='sec_app_fico_range_low', y='fico_range_low', \n",
    "          kind='scatter', figsize=(4,3))\n",
    "lims = [\n",
    "    np.min([plt.gca().get_xlim(),plt.gca().get_ylim()]),\n",
    "    np.max([plt.gca().get_xlim(), plt.gca().get_ylim()]) \n",
    "]\n",
    "plt.gca().set_xlim(lims)\n",
    "plt.gca().set_ylim(lims)\n",
    "plt.gca().plot(lims, lims, 'k-', alpha=0.75, zorder=0)"
   ]
  },
  {
   "cell_type": "markdown",
   "id": "5208cd66-19df-4c6a-a3e7-4d6857f7794c",
   "metadata": {},
   "source": [
    "Takeaways:\n",
    "  * I don't need to use both the high and low range features, just low should be enough\n",
    "  * There is a correlation between default and the second app's fico (for those with second applications), which may be of interest. \n",
    "  * Most of the time, the second applicant has the lower interest rate, often much lower."
   ]
  },
  {
   "cell_type": "markdown",
   "id": "50d49d06-2d56-4a35-95b8-d33bd4fa0110",
   "metadata": {},
   "source": [
    "## Special Processing of Some Features\n",
    "I plan to use a tree-based model and so I am OK with ordinal or thresholded values"
   ]
  },
  {
   "cell_type": "markdown",
   "id": "83ad33a5-72a3-4bf9-99cf-d602e8307c26",
   "metadata": {},
   "source": [
    "##### Term - extract number of months"
   ]
  },
  {
   "cell_type": "code",
   "execution_count": 19,
   "id": "0031c1f6-5226-490c-bb82-76792ad0d298",
   "metadata": {},
   "outputs": [],
   "source": [
    "def term_extract(instr):\n",
    "    try:\n",
    "        time = instr.split()[1].lower()\n",
    "    except:\n",
    "        return None\n",
    "    \n",
    "    if 'month' in time:\n",
    "        return int(instr.split()[0])\n",
    "    elif 'year' in time:\n",
    "        return int(instr.split()[0]) * 12\n",
    "    \n",
    "    return None"
   ]
  },
  {
   "cell_type": "code",
   "execution_count": 20,
   "id": "5a087f70-4ffc-4ae3-916c-cf0f131d677f",
   "metadata": {},
   "outputs": [],
   "source": [
    "loans_init['term'] = loans_init['term'].apply(term_extract)"
   ]
  },
  {
   "cell_type": "markdown",
   "id": "1b3e6319-8935-4d6f-8e60-27ae8d3a5a45",
   "metadata": {},
   "source": [
    "##### Employment Length - extract years"
   ]
  },
  {
   "cell_type": "code",
   "execution_count": 21,
   "id": "b2113bbb-9dea-4c54-8652-bcfed874907c",
   "metadata": {},
   "outputs": [],
   "source": [
    "def emp_length_extract(instr):\n",
    "    if instr == '< 1 year':\n",
    "        return 0\n",
    "    elif instr == '10+ years':\n",
    "        return 10\n",
    "    \n",
    "    try:\n",
    "        time = instr.split()[1].lower()\n",
    "    except:\n",
    "        return None\n",
    "    \n",
    "    if 'year' in time:\n",
    "        return int(instr.split()[0]) \n",
    "    \n",
    "    return None"
   ]
  },
  {
   "cell_type": "code",
   "execution_count": 22,
   "id": "5430e931-deca-451c-b6de-9af26d1cd2f2",
   "metadata": {},
   "outputs": [],
   "source": [
    "loans_init['emp_length'] = loans_init['emp_length'].apply(emp_length_extract)"
   ]
  },
  {
   "cell_type": "markdown",
   "id": "d881ccc9-0ca9-4496-b89c-f4aefe7f30e2",
   "metadata": {},
   "source": [
    "##### (Sub) Grade - Use float value to encode an ordinal rating \n",
    "I do not use this feature in the final model as its meaning is proprietory and it is extremely predictive."
   ]
  },
  {
   "cell_type": "code",
   "execution_count": 23,
   "id": "b27e5d5b-3c37-4e7c-b9f2-3ddecd48a0b8",
   "metadata": {},
   "outputs": [],
   "source": [
    "def ord_grade(grade_str):\n",
    "    \"\"\" Encode the detailed grade.  Smaller values are better.\n",
    "    Take the letter grade as a whole number, using its ASCII code\n",
    "    relative to \"A\".  Get sub-grades as decimals.\"\"\"\n",
    "    \n",
    "    # Get the whole part of the encoded value\n",
    "    try:\n",
    "        grade_base = ord(grade_str[0].upper()) - ord('A')\n",
    "    except:\n",
    "        return None\n",
    "    \n",
    "    # Get the decimal portion\n",
    "    try:\n",
    "        grade_dec = np.min([(int(grade_str[1]) - 1) * 0.2, 0.8])\n",
    "    except:\n",
    "        return grade_base\n",
    "    \n",
    "    return grade_base + grade_dec"
   ]
  },
  {
   "cell_type": "code",
   "execution_count": 24,
   "id": "dfa99124-ac43-4e40-8655-60aafc2654eb",
   "metadata": {},
   "outputs": [],
   "source": [
    "loans_init['sub_grade'] = loans_init['sub_grade'].apply(ord_grade)"
   ]
  },
  {
   "cell_type": "markdown",
   "id": "344310f3-0a38-45ba-9d32-e8507a7b511f",
   "metadata": {},
   "source": [
    "##### Verification status - make binary"
   ]
  },
  {
   "cell_type": "code",
   "execution_count": 25,
   "id": "8fe1915a-aabb-443c-8135-49acab52645e",
   "metadata": {},
   "outputs": [],
   "source": [
    "loans_init['verification_status'] = np.where(loans_init['verification_status'] \\\n",
    "                                                .isin(['Source Verified', 'Verified']),\n",
    "                                             1, 0)"
   ]
  },
  {
   "cell_type": "markdown",
   "id": "9a95a731-49c1-49d3-a3f5-8c6b96441f28",
   "metadata": {},
   "source": [
    "##### Application type - make binary\n",
    "I wind up not using this feature in the model, either, as it does not contribute to the model if we include the second application FICO."
   ]
  },
  {
   "cell_type": "code",
   "execution_count": 26,
   "id": "5d9e0bd1-9ee7-4991-a09c-b305412af089",
   "metadata": {},
   "outputs": [],
   "source": [
    "loans_init['application_type'] = np.where(loans_init['application_type'] \\\n",
    "                                                 .str.lower().str.contains('joint'),\n",
    "                                          1, 0)"
   ]
  },
  {
   "cell_type": "markdown",
   "id": "ec3813f9-4665-43ee-b389-3b38ce791ac8",
   "metadata": {},
   "source": [
    "##### Initial list status - make binary"
   ]
  },
  {
   "cell_type": "code",
   "execution_count": 27,
   "id": "20f1492d-8ff0-464f-8c33-64c3ef737238",
   "metadata": {},
   "outputs": [],
   "source": [
    "loans_init['initial_list_status'] = np.where(loans_init['initial_list_status'] =='w', 1, 0)"
   ]
  },
  {
   "cell_type": "markdown",
   "id": "674765cd-6a6b-46fa-a6d3-cb9a52ca33fb",
   "metadata": {},
   "source": [
    "## One Hot Encode Remaining Strings"
   ]
  },
  {
   "cell_type": "markdown",
   "id": "898900b5-3b0f-4ae8-8e2d-d869c0f12b44",
   "metadata": {},
   "source": [
    "##### Function to one-hot encode features, keeping the top categories\n"
   ]
  },
  {
   "cell_type": "code",
   "execution_count": 28,
   "id": "bad06f45-4ead-47cf-91d4-c57f00414592",
   "metadata": {},
   "outputs": [],
   "source": [
    "def one_hot_encode_thresh(ser, num_levels_keep = 3,\n",
    "                          min_pct = 0.01,\n",
    "                          other_level_name = 'ZZ_OTHER',\n",
    "                          prefix_sep = '__'):\n",
    "    \"\"\" One hot encode a feature, keeping only the most commmon levels,\n",
    "    determined by a max number and percent threshold.  Any other categories \n",
    "    will be put into an \"other\" bucket.  The level name strings are \n",
    "    normalized,so they contain only alphanumerics and underscores.  Level\n",
    "    names also capitalized.\n",
    "      Inputs:\n",
    "          ser:  The series to one hot encode\n",
    "          num_levels_keep: Number of levels to retain\n",
    "          min_pct: Min percent of population to retain a level,\n",
    "              regardless of num_levels_keep \n",
    "          other_level_name: String used to label the other \n",
    "              category, if applicable.\n",
    "          prefix_sep:  Separator for the one-hot encoding\n",
    "          prefix:  One-hot encoding prefix\n",
    "      Value:  A data frame containing the one-hot encoded values\"\"\"\n",
    "    \n",
    "    # Get the most common categories\n",
    "    all_value_counts = ser.value_counts(normalize=True)\n",
    "    all_levels = all_value_counts.index.tolist()\n",
    "    top_feat = all_value_counts[all_value_counts >= min_pct] \\\n",
    "        .index.tolist()[0:num_levels_keep]\n",
    "\n",
    "    # Get the levels to keep, up to the max\n",
    "    # If we have only one level in \"other\", don't renane it\n",
    "    if len(all_levels) > len(top_feat) + 1:\n",
    "        top_feat.append(other_level_name)\n",
    "    elif len(all_levels) == len(top_feat) + 1:\n",
    "        top_feat = all_levels\n",
    "        \n",
    "    # Make feature categorical\n",
    "    cat_feat = pd.Categorical(ser, categories=top_feat)\n",
    "    \n",
    "    # Normalize category strings, if necessary\n",
    "    cat_rename_dict = {k: re.sub('[^0-9a-zA-Z_]+', '', k).upper() for k in cat_feat.categories}\n",
    "    cat_feat = cat_feat.rename_categories(cat_rename_dict)\n",
    "    \n",
    "    # One hot encode\n",
    "    return pd.get_dummies(cat_feat, prefix = ser.name, prefix_sep = prefix_sep)"
   ]
  },
  {
   "cell_type": "markdown",
   "id": "fb4d3ae0-8635-46ec-b87d-9c9795345a55",
   "metadata": {},
   "source": [
    "##### Encode remaining string features"
   ]
  },
  {
   "cell_type": "code",
   "execution_count": 29,
   "id": "9081015b-ed50-4dfc-a0ee-c1326f89fbf8",
   "metadata": {},
   "outputs": [],
   "source": [
    "one_hot_feat = set(loans_init[setup.predictor_features].select_dtypes(include=['object']).columns) - \\\n",
    "    set(['term', 'emp_length', 'sub_grade', 'verification_status', 'application_type', 'initial_list_status'])"
   ]
  },
  {
   "cell_type": "code",
   "execution_count": 30,
   "id": "5dd6098d-844d-4eec-8984-9ebac7a08602",
   "metadata": {},
   "outputs": [],
   "source": [
    "loans_onehot = pd.concat([one_hot_encode_thresh(loans_init[d]) for d in one_hot_feat],\n",
    "                         axis=1)"
   ]
  },
  {
   "cell_type": "code",
   "execution_count": 31,
   "id": "f0e941bf-00f4-465c-bf67-2c2e257ec621",
   "metadata": {},
   "outputs": [
    {
     "data": {
      "text/plain": [
       "(1345310, 4)"
      ]
     },
     "execution_count": 31,
     "metadata": {},
     "output_type": "execute_result"
    }
   ],
   "source": [
    "loans_onehot.shape"
   ]
  },
  {
   "cell_type": "markdown",
   "id": "52a92dac-fed8-416b-bc30-ed8c8c4b121a",
   "metadata": {},
   "source": [
    "##### Save binary features"
   ]
  },
  {
   "cell_type": "code",
   "execution_count": 32,
   "id": "e11345ab-aad1-43f6-8b9c-54e9687db0f0",
   "metadata": {},
   "outputs": [
    {
     "name": "stdout",
     "output_type": "stream",
     "text": [
      "['home_ownership__MORTGAGE', 'home_ownership__RENT', 'home_ownership__OWN', 'home_ownership__ZZ_OTHER', 'verification_status', 'initial_list_status']\n"
     ]
    }
   ],
   "source": [
    "binary_features = list(loans_onehot.columns) + \\\n",
    "    [f for f in ['application_type', 'verification_status', 'initial_list_status'] \\\n",
    "     if f in setup.predictor_features]\n",
    "print(binary_features)"
   ]
  },
  {
   "cell_type": "code",
   "execution_count": 33,
   "id": "3b98cab7-5636-4779-a466-c4b0446984dd",
   "metadata": {},
   "outputs": [],
   "source": [
    "# Save the binary list features\n",
    "pd.DataFrame({'feature':binary_features}) \\\n",
    "    .drop_duplicates() \\\n",
    "    .to_csv(Path(setup.temp_path).joinpath('01_REPORT_predictor_features_binary.csv'))"
   ]
  },
  {
   "cell_type": "markdown",
   "id": "e3a4a047-4ff4-4d77-9c3d-93f1fab5aa92",
   "metadata": {},
   "source": [
    "##### Finalize dataset, keeping only selected features"
   ]
  },
  {
   "cell_type": "code",
   "execution_count": 34,
   "id": "4e01751d-d3cb-4d6c-ba72-f9b18e88b10d",
   "metadata": {},
   "outputs": [],
   "source": [
    "# Keep only selected features\n",
    "used=set()\n",
    "feat_list = [f for f in setup.info_features + setup.predictor_features + ['target'] \\\n",
    "             if f in loans_init.columns and f not in used \\\n",
    "             and f not in loans_onehot and (used.add(f) or True)]"
   ]
  },
  {
   "cell_type": "code",
   "execution_count": 35,
   "id": "270c1a53-bf9d-4cbe-b844-65014d8e1ce1",
   "metadata": {},
   "outputs": [],
   "source": [
    "loans_fin = pd.concat([loans_init[feat_list].reset_index(), loans_onehot], \n",
    "                      axis=1)"
   ]
  },
  {
   "cell_type": "code",
   "execution_count": 36,
   "id": "1b0e70e8-3a6b-4ddb-a0b6-b6bcd7d638bf",
   "metadata": {},
   "outputs": [
    {
     "data": {
      "text/plain": [
       "(1345310, 33)"
      ]
     },
     "execution_count": 36,
     "metadata": {},
     "output_type": "execute_result"
    }
   ],
   "source": [
    "loans_fin.shape"
   ]
  },
  {
   "cell_type": "code",
   "execution_count": 37,
   "id": "9543ff5d-c62a-4239-939b-8254421d59e5",
   "metadata": {},
   "outputs": [
    {
     "data": {
      "text/html": [
       "<div>\n",
       "<style scoped>\n",
       "    .dataframe tbody tr th:only-of-type {\n",
       "        vertical-align: middle;\n",
       "    }\n",
       "\n",
       "    .dataframe tbody tr th {\n",
       "        vertical-align: top;\n",
       "    }\n",
       "\n",
       "    .dataframe thead th {\n",
       "        text-align: right;\n",
       "    }\n",
       "</style>\n",
       "<table border=\"1\" class=\"dataframe\">\n",
       "  <thead>\n",
       "    <tr style=\"text-align: right;\">\n",
       "      <th></th>\n",
       "      <th>index</th>\n",
       "      <th>id</th>\n",
       "      <th>grade</th>\n",
       "      <th>sub_grade</th>\n",
       "      <th>hardship_flag</th>\n",
       "      <th>debt_settlement_flag</th>\n",
       "      <th>hardship_amount</th>\n",
       "      <th>settlement_amount</th>\n",
       "      <th>addr_state</th>\n",
       "      <th>total_rec_int</th>\n",
       "      <th>...</th>\n",
       "      <th>initial_list_status</th>\n",
       "      <th>num_actv_bc_tl</th>\n",
       "      <th>mort_acc</th>\n",
       "      <th>pub_rec</th>\n",
       "      <th>revol_bal</th>\n",
       "      <th>target</th>\n",
       "      <th>home_ownership__MORTGAGE</th>\n",
       "      <th>home_ownership__RENT</th>\n",
       "      <th>home_ownership__OWN</th>\n",
       "      <th>home_ownership__ZZ_OTHER</th>\n",
       "    </tr>\n",
       "  </thead>\n",
       "  <tbody>\n",
       "    <tr>\n",
       "      <th>0</th>\n",
       "      <td>0</td>\n",
       "      <td>68407277</td>\n",
       "      <td>C</td>\n",
       "      <td>2.6</td>\n",
       "      <td>N</td>\n",
       "      <td>N</td>\n",
       "      <td>NaN</td>\n",
       "      <td>NaN</td>\n",
       "      <td>PA</td>\n",
       "      <td>821.72</td>\n",
       "      <td>...</td>\n",
       "      <td>1</td>\n",
       "      <td>2.0</td>\n",
       "      <td>1.0</td>\n",
       "      <td>0.0</td>\n",
       "      <td>2765.0</td>\n",
       "      <td>0</td>\n",
       "      <td>1</td>\n",
       "      <td>0</td>\n",
       "      <td>0</td>\n",
       "      <td>0</td>\n",
       "    </tr>\n",
       "    <tr>\n",
       "      <th>1</th>\n",
       "      <td>1</td>\n",
       "      <td>68355089</td>\n",
       "      <td>C</td>\n",
       "      <td>2.0</td>\n",
       "      <td>N</td>\n",
       "      <td>N</td>\n",
       "      <td>NaN</td>\n",
       "      <td>NaN</td>\n",
       "      <td>SD</td>\n",
       "      <td>979.66</td>\n",
       "      <td>...</td>\n",
       "      <td>1</td>\n",
       "      <td>5.0</td>\n",
       "      <td>4.0</td>\n",
       "      <td>0.0</td>\n",
       "      <td>21470.0</td>\n",
       "      <td>0</td>\n",
       "      <td>1</td>\n",
       "      <td>0</td>\n",
       "      <td>0</td>\n",
       "      <td>0</td>\n",
       "    </tr>\n",
       "    <tr>\n",
       "      <th>2</th>\n",
       "      <td>2</td>\n",
       "      <td>68341763</td>\n",
       "      <td>B</td>\n",
       "      <td>1.6</td>\n",
       "      <td>N</td>\n",
       "      <td>N</td>\n",
       "      <td>NaN</td>\n",
       "      <td>NaN</td>\n",
       "      <td>IL</td>\n",
       "      <td>2705.92</td>\n",
       "      <td>...</td>\n",
       "      <td>1</td>\n",
       "      <td>2.0</td>\n",
       "      <td>5.0</td>\n",
       "      <td>0.0</td>\n",
       "      <td>7869.0</td>\n",
       "      <td>0</td>\n",
       "      <td>1</td>\n",
       "      <td>0</td>\n",
       "      <td>0</td>\n",
       "      <td>0</td>\n",
       "    </tr>\n",
       "  </tbody>\n",
       "</table>\n",
       "<p>3 rows × 33 columns</p>\n",
       "</div>"
      ],
      "text/plain": [
       "   index        id grade  sub_grade hardship_flag debt_settlement_flag  \\\n",
       "0      0  68407277     C        2.6             N                    N   \n",
       "1      1  68355089     C        2.0             N                    N   \n",
       "2      2  68341763     B        1.6             N                    N   \n",
       "\n",
       "   hardship_amount  settlement_amount addr_state  total_rec_int  ...  \\\n",
       "0              NaN                NaN         PA         821.72  ...   \n",
       "1              NaN                NaN         SD         979.66  ...   \n",
       "2              NaN                NaN         IL        2705.92  ...   \n",
       "\n",
       "   initial_list_status  num_actv_bc_tl  mort_acc  pub_rec  revol_bal  target  \\\n",
       "0                    1             2.0       1.0      0.0     2765.0       0   \n",
       "1                    1             5.0       4.0      0.0    21470.0       0   \n",
       "2                    1             2.0       5.0      0.0     7869.0       0   \n",
       "\n",
       "   home_ownership__MORTGAGE home_ownership__RENT  home_ownership__OWN  \\\n",
       "0                         1                    0                    0   \n",
       "1                         1                    0                    0   \n",
       "2                         1                    0                    0   \n",
       "\n",
       "   home_ownership__ZZ_OTHER  \n",
       "0                         0  \n",
       "1                         0  \n",
       "2                         0  \n",
       "\n",
       "[3 rows x 33 columns]"
      ]
     },
     "execution_count": 37,
     "metadata": {},
     "output_type": "execute_result"
    }
   ],
   "source": [
    "loans_fin.head(3)"
   ]
  },
  {
   "cell_type": "markdown",
   "id": "e77e696c-e52c-49f0-b2bc-c4f42535590a",
   "metadata": {},
   "source": [
    "##### Save predictor feature list"
   ]
  },
  {
   "cell_type": "code",
   "execution_count": 38,
   "id": "b9da7575-abbd-40a4-85db-f49b14df0b39",
   "metadata": {},
   "outputs": [],
   "source": [
    "predictor_features =  [f for f in setup.predictor_features + list(loans_onehot.columns) \\\n",
    "                       if f in loans_fin.select_dtypes(include=np.number).columns]\n",
    "pd.DataFrame({'feature':predictor_features}) \\\n",
    "    .drop_duplicates() \\\n",
    "    .to_csv(Path(setup.temp_path).joinpath('01_REPORT_predictor_features.csv'), index=False)"
   ]
  },
  {
   "cell_type": "code",
   "execution_count": 39,
   "id": "f41b9b2e-b83b-4e41-8942-b6322ee6f3a2",
   "metadata": {},
   "outputs": [
    {
     "data": {
      "text/plain": [
       "18"
      ]
     },
     "execution_count": 39,
     "metadata": {},
     "output_type": "execute_result"
    }
   ],
   "source": [
    "len(predictor_features)"
   ]
  },
  {
   "cell_type": "code",
   "execution_count": 40,
   "id": "7ed1e6a8-d643-4ba3-bbc5-6767a2a7410a",
   "metadata": {},
   "outputs": [
    {
     "name": "stdout",
     "output_type": "stream",
     "text": [
      "['loan_amnt', 'term', 'int_rate', 'emp_length', 'annual_inc', 'verification_status', 'fico_range_low', 'sec_app_fico_range_low', 'open_acc', 'initial_list_status', 'num_actv_bc_tl', 'mort_acc', 'pub_rec', 'revol_bal', 'home_ownership__MORTGAGE', 'home_ownership__RENT', 'home_ownership__OWN', 'home_ownership__ZZ_OTHER']\n"
     ]
    }
   ],
   "source": [
    "print(predictor_features)"
   ]
  },
  {
   "cell_type": "markdown",
   "id": "76132611-7887-40ef-9341-9485621aa2b6",
   "metadata": {},
   "source": [
    "## NA Fill\n",
    "If I were doing an xgboost model, I could skip this step, but I will do a GradientBoostingClassifier instead, as this model type is compatible with the package to calculate Friedman's H (sklearn_gbmi)"
   ]
  },
  {
   "cell_type": "code",
   "execution_count": 41,
   "id": "b9c5201d-222f-461e-b16e-a615d8dce92b",
   "metadata": {},
   "outputs": [],
   "source": [
    "na_dset = loans_fin[setup.predictor_features]\\\n",
    "    .select_dtypes('number') \\\n",
    "    .apply(np.isnan) \\\n",
    "    .apply(pd.Series.value_counts)"
   ]
  },
  {
   "cell_type": "code",
   "execution_count": 42,
   "id": "514bf6a9-554c-4398-87af-3ee906a5da8d",
   "metadata": {},
   "outputs": [],
   "source": [
    "na_dset_T = na_dset.T.reset_index()\n",
    "na_features = na_dset_T[~na_dset_T[True].isna()]['index']"
   ]
  },
  {
   "cell_type": "markdown",
   "id": "3754f9bc-e999-4aa4-9d46-d5cf68937f5a",
   "metadata": {},
   "source": [
    "##### Second application FICO\n",
    "Use first app score when missing"
   ]
  },
  {
   "cell_type": "code",
   "execution_count": 43,
   "id": "56c2cf98-614f-4f99-b4ae-17b53c56c378",
   "metadata": {},
   "outputs": [],
   "source": [
    "loans_fin['sec_app_fico_range_low'] = loans_fin['sec_app_fico_range_low'] \\\n",
    "    .where(~loans_fin['sec_app_fico_range_low'].isna(),\n",
    "           loans_fin['fico_range_low'])"
   ]
  },
  {
   "cell_type": "markdown",
   "id": "1af25ed2-3855-4fba-83b8-dd9916914396",
   "metadata": {},
   "source": [
    "##### Features to set to 0 (counters)"
   ]
  },
  {
   "cell_type": "code",
   "execution_count": 44,
   "id": "02f70746-0b2f-4219-b442-cfbff661c3ed",
   "metadata": {},
   "outputs": [],
   "source": [
    "counter_nas = [c for c in na_features if \n",
    "               c.endswith('acc') or c.startswith('num') or \n",
    "               c.endswith('acc') or c.startswith('inq') or \n",
    "               c.endswith('util') or\n",
    "               c in ['emp_length']]"
   ]
  },
  {
   "cell_type": "code",
   "execution_count": 45,
   "id": "1acc53b0-d7f6-447a-9059-cfc7cfaaf9bb",
   "metadata": {},
   "outputs": [],
   "source": [
    "loans_fin[counter_nas] = loans_fin[counter_nas].fillna(0)"
   ]
  },
  {
   "cell_type": "markdown",
   "id": "83f4b4f9-c53e-4a22-b2dd-e5c90a847106",
   "metadata": {},
   "source": [
    "##### Use median for the rest (if any)"
   ]
  },
  {
   "cell_type": "code",
   "execution_count": 46,
   "id": "5d52d326-90d8-4278-a2a4-c20dde8658db",
   "metadata": {},
   "outputs": [],
   "source": [
    "median_feat = [c for c in na_features if \n",
    "               not (c in counter_nas + ['sec_app_fico_range_low'])]"
   ]
  },
  {
   "cell_type": "code",
   "execution_count": 47,
   "id": "56164236-cc6d-4184-b396-49871be867f7",
   "metadata": {},
   "outputs": [],
   "source": [
    "if len(median_feat) > 0:\n",
    "    median_val_dict = loans_fin[median_feat].apply(np.nanmedian).to_dict()\n",
    "    loans_fin[median_feat] = loans_fin[median_feat] \\\n",
    "        .apply(lambda x: x.fillna(median_val_dict[x.name]))"
   ]
  },
  {
   "cell_type": "markdown",
   "id": "c6f78387-64dd-4fe7-9bfc-ebbd4e6150f0",
   "metadata": {},
   "source": [
    "## Split the data\n",
    " * Do 50/50 split to save dataset for future modification\n",
    " * With the remaining half, do a 70/15/15 train-test-validation split"
   ]
  },
  {
   "cell_type": "markdown",
   "id": "952e7677-d268-46fb-aab4-18ab85320b90",
   "metadata": {},
   "source": [
    "##### Create hold-out"
   ]
  },
  {
   "cell_type": "code",
   "execution_count": 48,
   "id": "7c7a5490-b5fe-4ea1-807b-da8f8daf3349",
   "metadata": {},
   "outputs": [],
   "source": [
    "[hold_out_data, base_model_data] = train_test_split(loans_fin, test_size=0.5, random_state=645,\n",
    "                                                    stratify=loans_fin['target'])"
   ]
  },
  {
   "cell_type": "code",
   "execution_count": 49,
   "id": "7c940741-e920-46b3-a9e1-adb326792915",
   "metadata": {},
   "outputs": [
    {
     "data": {
      "text/plain": [
       "(672655, 33)"
      ]
     },
     "execution_count": 49,
     "metadata": {},
     "output_type": "execute_result"
    }
   ],
   "source": [
    "hold_out_data.shape"
   ]
  },
  {
   "cell_type": "code",
   "execution_count": 50,
   "id": "59047b02-6514-4b3a-ad17-70d65ea8ea78",
   "metadata": {},
   "outputs": [
    {
     "data": {
      "text/plain": [
       "(672655, 33)"
      ]
     },
     "execution_count": 50,
     "metadata": {},
     "output_type": "execute_result"
    }
   ],
   "source": [
    "base_model_data.shape"
   ]
  },
  {
   "cell_type": "code",
   "execution_count": 51,
   "id": "2b01bd5a-a31d-474d-a9dc-bb64824ad84b",
   "metadata": {},
   "outputs": [],
   "source": [
    "hold_out_data.to_parquet(Path(setup.temp_path).joinpath('01_DATA_combined_hold_out.parquet'))"
   ]
  },
  {
   "cell_type": "markdown",
   "id": "580b130c-9f37-4e12-975b-35bc30e73bfd",
   "metadata": {},
   "source": [
    "##### Do train-test-validation split"
   ]
  },
  {
   "cell_type": "code",
   "execution_count": 52,
   "id": "e82b5d51-c232-4b0a-9b8b-e9411abca751",
   "metadata": {},
   "outputs": [],
   "source": [
    "[base_train, base_other] = train_test_split(base_model_data, train_size=0.7, random_state=1225,\n",
    "                                                    stratify=base_model_data['target'])"
   ]
  },
  {
   "cell_type": "code",
   "execution_count": 53,
   "id": "8b335dbd-6e35-4fe1-bd7e-c38835cfbfb0",
   "metadata": {},
   "outputs": [
    {
     "data": {
      "text/plain": [
       "(470858, 33)"
      ]
     },
     "execution_count": 53,
     "metadata": {},
     "output_type": "execute_result"
    }
   ],
   "source": [
    "base_train.shape"
   ]
  },
  {
   "cell_type": "code",
   "execution_count": 54,
   "id": "17b1748b-8759-413d-b138-b1281098f295",
   "metadata": {},
   "outputs": [
    {
     "data": {
      "text/plain": [
       "(201797, 33)"
      ]
     },
     "execution_count": 54,
     "metadata": {},
     "output_type": "execute_result"
    }
   ],
   "source": [
    "base_other.shape"
   ]
  },
  {
   "cell_type": "code",
   "execution_count": 55,
   "id": "bd5d1d5d-81cf-427a-9f1e-e1bdb489ce3b",
   "metadata": {},
   "outputs": [],
   "source": [
    "base_train.to_parquet(Path(setup.temp_path).joinpath('01_DATA_combined_base_train.parquet'))"
   ]
  },
  {
   "cell_type": "code",
   "execution_count": 56,
   "id": "83c4898b-910a-4f1c-8d98-5d1ef6fb5f90",
   "metadata": {},
   "outputs": [],
   "source": [
    "[base_test, base_val] = train_test_split(base_other, train_size=0.5, random_state=123,\n",
    "                                                    stratify=base_other['target'])"
   ]
  },
  {
   "cell_type": "code",
   "execution_count": 57,
   "id": "f1bfc30f-c9dc-41a8-997d-a31d80f211b5",
   "metadata": {},
   "outputs": [
    {
     "data": {
      "text/plain": [
       "(100898, 33)"
      ]
     },
     "execution_count": 57,
     "metadata": {},
     "output_type": "execute_result"
    }
   ],
   "source": [
    "base_test.shape"
   ]
  },
  {
   "cell_type": "code",
   "execution_count": 58,
   "id": "f005c210-f7f8-4d0c-acdb-640d82315a02",
   "metadata": {},
   "outputs": [
    {
     "data": {
      "text/plain": [
       "(100899, 33)"
      ]
     },
     "execution_count": 58,
     "metadata": {},
     "output_type": "execute_result"
    }
   ],
   "source": [
    "base_val.shape"
   ]
  },
  {
   "cell_type": "code",
   "execution_count": 59,
   "id": "75040f22-417f-49f3-aad0-4cf5d7c8f405",
   "metadata": {},
   "outputs": [],
   "source": [
    "base_test.to_parquet(Path(setup.temp_path).joinpath('01_DATA_combined_base_test.parquet'))\n",
    "base_val.to_parquet(Path(setup.temp_path).joinpath('01_DATA_combined_base_val.parquet'))"
   ]
  },
  {
   "cell_type": "code",
   "execution_count": null,
   "id": "a8a5dfe2-9036-402e-872f-155a077f4f8c",
   "metadata": {},
   "outputs": [],
   "source": []
  }
 ],
 "metadata": {
  "kernelspec": {
   "display_name": "Python 3 (ipykernel)",
   "language": "python",
   "name": "python3"
  },
  "language_info": {
   "codemirror_mode": {
    "name": "ipython",
    "version": 3
   },
   "file_extension": ".py",
   "mimetype": "text/x-python",
   "name": "python",
   "nbconvert_exporter": "python",
   "pygments_lexer": "ipython3",
   "version": "3.10.2"
  }
 },
 "nbformat": 4,
 "nbformat_minor": 5
}
