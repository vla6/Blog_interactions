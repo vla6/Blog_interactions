{
 "cells": [
  {
   "cell_type": "code",
   "execution_count": 3,
   "id": "de96cab7-9ee8-4b9b-ac7f-9d264785cfb0",
   "metadata": {
    "tags": []
   },
   "outputs": [],
   "source": [
    "# Modify the file 00_setup.py to define input/output file paths on your system\n",
    "# The information in 00_setup.py will be used across notebooks\n",
    "from importlib.machinery import SourceFileLoader\n",
    "setup = SourceFileLoader(\"setup\", \"./00_setup.py\").load_module()"
   ]
  },
  {
   "cell_type": "markdown",
   "id": "1dd5ac22-9be6-41f8-8017-7c9997a102c6",
   "metadata": {},
   "source": [
    "# 07: Base Model Tree Traversal\n",
    "Inspect the model trees for more information about differences in ALE vs. Shapley for the int_rate:term interaction\n",
    " * Gather overall stats about how often term and int_rate occur in trees \n",
    " * Get some descriptive plots relating to term and interest rate"
   ]
  },
  {
   "cell_type": "markdown",
   "id": "eb20a954-71d3-4367-ba8d-935fd01ed0cc",
   "metadata": {},
   "source": [
    "*This script takes about 1 minutes on my MacBook Air*"
   ]
  },
  {
   "cell_type": "code",
   "execution_count": 4,
   "id": "e356397d-68b6-429e-aeea-926ea343ad77",
   "metadata": {},
   "outputs": [],
   "source": [
    "import pandas as pd\n",
    "import numpy as np\n",
    "import matplotlib.pyplot as plt\n",
    "import seaborn as sns\n",
    "import pickle\n",
    "from pathlib import Path\n",
    "import sklearn as sk\n",
    "import matplotlib as mpl\n",
    "import warnings\n",
    "import time\n",
    "import scipy\n",
    "import random\n",
    "from matplotlib.ticker import FormatStrFormatter, PercentFormatter\n",
    "import scipy.sparse as sp"
   ]
  },
  {
   "cell_type": "code",
   "execution_count": 5,
   "id": "9c52e5dd-a6e5-4e30-a8ac-66bdcdb23d04",
   "metadata": {},
   "outputs": [],
   "source": [
    "setup.plot_defaults()"
   ]
  },
  {
   "cell_type": "markdown",
   "id": "0198b583-378c-4782-9f9d-7450e6443d9d",
   "metadata": {},
   "source": [
    "## Import Data"
   ]
  },
  {
   "cell_type": "markdown",
   "id": "bced1dcc-9805-409a-80b9-b640bfabb768",
   "metadata": {},
   "source": [
    "##### Predictors"
   ]
  },
  {
   "cell_type": "code",
   "execution_count": 6,
   "id": "13f43df3-25f7-4547-9876-bebfcb7b89e5",
   "metadata": {},
   "outputs": [],
   "source": [
    "predictor_features = pd.read_csv(Path(setup.temp_path) \\\n",
    "                                 .joinpath('01_REPORT_predictor_features.csv'))['feature'].tolist()"
   ]
  },
  {
   "cell_type": "markdown",
   "id": "943b7316-faf5-46d3-af58-c7736e54f667",
   "metadata": {},
   "source": [
    "##### Dataset - use sample of training data"
   ]
  },
  {
   "cell_type": "code",
   "execution_count": 7,
   "id": "5148fbf6-4607-4d45-83ed-c6770dfe3892",
   "metadata": {},
   "outputs": [],
   "source": [
    "train_samp_df = pd.read_parquet(Path(setup.temp_path) \\\n",
    "                                .joinpath('03_DATA_combined_base_train_samp.parquet')) "
   ]
  },
  {
   "cell_type": "markdown",
   "id": "d38a221f-7d98-462e-a160-f61d8d425e47",
   "metadata": {},
   "source": [
    "##### Model"
   ]
  },
  {
   "cell_type": "code",
   "execution_count": 8,
   "id": "a3d6d13c-bd0e-419b-8a42-19f29ef42451",
   "metadata": {},
   "outputs": [],
   "source": [
    "with open(Path(setup.temp_path).joinpath('02_MODEL_base_gc.pkl'), 'rb') as pi:\n",
    "    base_model = pickle.load(pi)"
   ]
  },
  {
   "cell_type": "markdown",
   "id": "0183a31a-aa4d-4608-9878-6c73f0ccc394",
   "metadata": {
    "tags": []
   },
   "source": [
    "## Overall Tree Stats\n",
    "Count nodes for interest rates and term, and see whether any low term values lead to higher predictions"
   ]
  },
  {
   "cell_type": "code",
   "execution_count": 9,
   "id": "42c7c1bd-fdbd-495d-a313-7fc639c39668",
   "metadata": {},
   "outputs": [],
   "source": [
    "# Get the indices of our features of interest - int_rate and term"
   ]
  },
  {
   "cell_type": "code",
   "execution_count": 10,
   "id": "a0f03e8f-63a0-423f-8a01-f07ded43b4fd",
   "metadata": {},
   "outputs": [],
   "source": [
    "term_index = predictor_features.index('term')"
   ]
  },
  {
   "cell_type": "code",
   "execution_count": 11,
   "id": "9ff57878-1a78-4890-82a5-52c9f673d184",
   "metadata": {},
   "outputs": [],
   "source": [
    "int_rate_index = predictor_features.index('int_rate')"
   ]
  },
  {
   "cell_type": "code",
   "execution_count": 12,
   "id": "f8766a63-cc61-4bdc-864c-78a31aee281e",
   "metadata": {},
   "outputs": [],
   "source": [
    "# get the estimators"
   ]
  },
  {
   "cell_type": "code",
   "execution_count": 13,
   "id": "0ffafd25-3e66-47c6-a7ae-b1550e033860",
   "metadata": {},
   "outputs": [],
   "source": [
    "base_model_est = base_model.estimators_"
   ]
  },
  {
   "cell_type": "code",
   "execution_count": 16,
   "id": "ab00d3ad-9ce5-4688-a1c5-d4e17c78de75",
   "metadata": {},
   "outputs": [
    {
     "data": {
      "text/plain": [
       "20"
      ]
     },
     "execution_count": 16,
     "metadata": {},
     "output_type": "execute_result"
    }
   ],
   "source": [
    "len(base_model_est)"
   ]
  },
  {
   "cell_type": "markdown",
   "id": "18ec7896-8559-417b-8605-ce7ddc10844c",
   "metadata": {},
   "source": [
    "##### Function to get tree stats"
   ]
  },
  {
   "cell_type": "code",
   "execution_count": 17,
   "id": "1d02d5ab-7392-4b79-8a15-7a8228a248c6",
   "metadata": {},
   "outputs": [],
   "source": [
    "def get_tree_stats(tree, node_id = 0, \n",
    "                   info_ary = np.array([0, 0, 0, 0, 0]),\n",
    "                   int_rate_index = int_rate_index,\n",
    "                   term_index = term_index):\n",
    "    \"\"\" Traverses the tree, counting nodes of various types.\n",
    "    Recursive function.  Usualy you willl not modify node_id or\n",
    "    info_ary; these are used during recursion.\n",
    "      Inputs:\n",
    "        tree:  The tree to traverse (estimator)\n",
    "        node_id: Starting node for counting.  0 indicates the root,\n",
    "        info_ary:  Start counts of various nodes.  See \"Value\".\n",
    "          Leave as arrays of 0 to count items at or below node_id\n",
    "        int_rate_index: Integer index of the interest rate variable; needed\n",
    "            as the trees do not include feature names.\n",
    "        term_index: Integer index of the term variable\n",
    "      Value:  Numpy array containing tree information.  The 5 items are:\n",
    "        total nodes\n",
    "        total nodes for the interest rate feature\n",
    "        total nodes for the term feature\n",
    "        total nodes for the term feature, where the left value is larger\n",
    "        total nodes for the term feature, where the right value is larger\n",
    "    \"\"\" \n",
    "    \n",
    "    info_ary = info_ary.copy()\n",
    "    \n",
    "    # Count nodes\n",
    "    info_ary[0] += 1\n",
    "    \n",
    "    # Get children\n",
    "    this_left = tree.tree_.children_left[node_id]\n",
    "    this_right = tree.tree_.children_right[node_id]\n",
    "    \n",
    "    # If a leaf node, return\n",
    "    if this_left == this_right:\n",
    "        return info_ary\n",
    "    \n",
    "    this_feature = tree.tree_.feature[node_id]\n",
    "    \n",
    "    if (this_feature == int_rate_index):\n",
    "        info_ary[1] += 1\n",
    "    elif (this_feature == term_index):\n",
    "        info_ary[2] += 1\n",
    "        value_left = tree.tree_.value[this_left][0][0]\n",
    "        value_right = tree.tree_.value[this_right][0][0]\n",
    "        if value_left >= value_right:\n",
    "            info_ary[3] += 1\n",
    "        else:\n",
    "            info_ary[4] += 1\n",
    "        \n",
    "    # Helper function to pass most features to the next node\n",
    "    def return_node(node_id):\n",
    "        return get_tree_stats(tree, node_id, \n",
    "                   info_ary = info_ary,\n",
    "                   int_rate_index = int_rate_index,\n",
    "                   term_index = term_index)\n",
    "    \n",
    "    # Traverse tree both ways\n",
    "    return return_node(this_left) + \\\n",
    "            return_node(this_right)\n",
    "                "
   ]
  },
  {
   "cell_type": "markdown",
   "id": "bfddb559-97ac-4150-bb3e-e92053de4292",
   "metadata": {},
   "source": [
    "##### Get stats for all trees"
   ]
  },
  {
   "cell_type": "code",
   "execution_count": 18,
   "id": "6916f54d-4512-4bde-b68d-bdbc5bc8a515",
   "metadata": {},
   "outputs": [],
   "source": [
    "tree_stats = pd.concat([pd.DataFrame(get_tree_stats(e)).T \\\n",
    "                        .set_axis(['tot_node', 'int_rate_node', \n",
    "                                   'term_node',  'term_node_left', 'term_node_right'], \n",
    "                                  axis=1) \\\n",
    "                        for e in base_model_est[:,0]], \n",
    "                       axis=0, keys = range(0, len(base_model_est))) \\\n",
    "    .reset_index(level=0, drop=False) \\\n",
    "    .rename(columns={'level_0': 'tree_index'}) \\\n",
    "    .reset_index(drop=True)\n",
    "                       "
   ]
  },
  {
   "cell_type": "code",
   "execution_count": 19,
   "id": "a79dd76e-cc5e-4e43-b91b-996f8eec2fcc",
   "metadata": {},
   "outputs": [
    {
     "data": {
      "text/html": [
       "<div>\n",
       "<style scoped>\n",
       "    .dataframe tbody tr th:only-of-type {\n",
       "        vertical-align: middle;\n",
       "    }\n",
       "\n",
       "    .dataframe tbody tr th {\n",
       "        vertical-align: top;\n",
       "    }\n",
       "\n",
       "    .dataframe thead th {\n",
       "        text-align: right;\n",
       "    }\n",
       "</style>\n",
       "<table border=\"1\" class=\"dataframe\">\n",
       "  <thead>\n",
       "    <tr style=\"text-align: right;\">\n",
       "      <th></th>\n",
       "      <th>tree_index</th>\n",
       "      <th>tot_node</th>\n",
       "      <th>int_rate_node</th>\n",
       "      <th>term_node</th>\n",
       "      <th>term_node_left</th>\n",
       "      <th>term_node_right</th>\n",
       "    </tr>\n",
       "  </thead>\n",
       "  <tbody>\n",
       "    <tr>\n",
       "      <th>0</th>\n",
       "      <td>0</td>\n",
       "      <td>192</td>\n",
       "      <td>86</td>\n",
       "      <td>24</td>\n",
       "      <td>0</td>\n",
       "      <td>24</td>\n",
       "    </tr>\n",
       "    <tr>\n",
       "      <th>1</th>\n",
       "      <td>1</td>\n",
       "      <td>192</td>\n",
       "      <td>78</td>\n",
       "      <td>24</td>\n",
       "      <td>0</td>\n",
       "      <td>24</td>\n",
       "    </tr>\n",
       "    <tr>\n",
       "      <th>2</th>\n",
       "      <td>2</td>\n",
       "      <td>192</td>\n",
       "      <td>82</td>\n",
       "      <td>16</td>\n",
       "      <td>0</td>\n",
       "      <td>16</td>\n",
       "    </tr>\n",
       "  </tbody>\n",
       "</table>\n",
       "</div>"
      ],
      "text/plain": [
       "   tree_index  tot_node  int_rate_node  term_node  term_node_left  \\\n",
       "0           0       192             86         24               0   \n",
       "1           1       192             78         24               0   \n",
       "2           2       192             82         16               0   \n",
       "\n",
       "   term_node_right  \n",
       "0               24  \n",
       "1               24  \n",
       "2               16  "
      ]
     },
     "execution_count": 19,
     "metadata": {},
     "output_type": "execute_result"
    }
   ],
   "source": [
    "tree_stats.head(3)"
   ]
  },
  {
   "cell_type": "code",
   "execution_count": 20,
   "id": "9bfdbace-c3ce-468d-9ffc-10ef868e1f19",
   "metadata": {},
   "outputs": [],
   "source": [
    "tree_stats.to_csv(Path(setup.temp_path).joinpath('07_REPORT_tree_stats_all.csv'),\n",
    "                  index=False)"
   ]
  },
  {
   "cell_type": "code",
   "execution_count": 21,
   "id": "25febe38-4695-41dc-85c7-3dea8376c4ca",
   "metadata": {},
   "outputs": [
    {
     "data": {
      "text/html": [
       "<div>\n",
       "<style scoped>\n",
       "    .dataframe tbody tr th:only-of-type {\n",
       "        vertical-align: middle;\n",
       "    }\n",
       "\n",
       "    .dataframe tbody tr th {\n",
       "        vertical-align: top;\n",
       "    }\n",
       "\n",
       "    .dataframe thead th {\n",
       "        text-align: right;\n",
       "    }\n",
       "</style>\n",
       "<table border=\"1\" class=\"dataframe\">\n",
       "  <thead>\n",
       "    <tr style=\"text-align: right;\">\n",
       "      <th></th>\n",
       "      <th>tree_index</th>\n",
       "      <th>tot_node</th>\n",
       "      <th>int_rate_node</th>\n",
       "      <th>term_node</th>\n",
       "      <th>term_node_left</th>\n",
       "      <th>term_node_right</th>\n",
       "    </tr>\n",
       "  </thead>\n",
       "  <tbody>\n",
       "    <tr>\n",
       "      <th>count</th>\n",
       "      <td>20.00000</td>\n",
       "      <td>20.000000</td>\n",
       "      <td>20.000000</td>\n",
       "      <td>20.000000</td>\n",
       "      <td>20.0</td>\n",
       "      <td>20.000000</td>\n",
       "    </tr>\n",
       "    <tr>\n",
       "      <th>mean</th>\n",
       "      <td>9.50000</td>\n",
       "      <td>185.550000</td>\n",
       "      <td>42.850000</td>\n",
       "      <td>10.050000</td>\n",
       "      <td>0.0</td>\n",
       "      <td>10.050000</td>\n",
       "    </tr>\n",
       "    <tr>\n",
       "      <th>std</th>\n",
       "      <td>5.91608</td>\n",
       "      <td>13.315899</td>\n",
       "      <td>27.722829</td>\n",
       "      <td>8.864328</td>\n",
       "      <td>0.0</td>\n",
       "      <td>8.864328</td>\n",
       "    </tr>\n",
       "    <tr>\n",
       "      <th>min</th>\n",
       "      <td>0.00000</td>\n",
       "      <td>145.000000</td>\n",
       "      <td>2.000000</td>\n",
       "      <td>0.000000</td>\n",
       "      <td>0.0</td>\n",
       "      <td>0.000000</td>\n",
       "    </tr>\n",
       "    <tr>\n",
       "      <th>25%</th>\n",
       "      <td>4.75000</td>\n",
       "      <td>185.000000</td>\n",
       "      <td>17.000000</td>\n",
       "      <td>2.000000</td>\n",
       "      <td>0.0</td>\n",
       "      <td>2.000000</td>\n",
       "    </tr>\n",
       "    <tr>\n",
       "      <th>50%</th>\n",
       "      <td>9.50000</td>\n",
       "      <td>192.000000</td>\n",
       "      <td>41.000000</td>\n",
       "      <td>8.000000</td>\n",
       "      <td>0.0</td>\n",
       "      <td>8.000000</td>\n",
       "    </tr>\n",
       "    <tr>\n",
       "      <th>75%</th>\n",
       "      <td>14.25000</td>\n",
       "      <td>192.000000</td>\n",
       "      <td>63.500000</td>\n",
       "      <td>17.250000</td>\n",
       "      <td>0.0</td>\n",
       "      <td>17.250000</td>\n",
       "    </tr>\n",
       "    <tr>\n",
       "      <th>max</th>\n",
       "      <td>19.00000</td>\n",
       "      <td>192.000000</td>\n",
       "      <td>86.000000</td>\n",
       "      <td>24.000000</td>\n",
       "      <td>0.0</td>\n",
       "      <td>24.000000</td>\n",
       "    </tr>\n",
       "  </tbody>\n",
       "</table>\n",
       "</div>"
      ],
      "text/plain": [
       "       tree_index    tot_node  int_rate_node  term_node  term_node_left  \\\n",
       "count    20.00000   20.000000      20.000000  20.000000            20.0   \n",
       "mean      9.50000  185.550000      42.850000  10.050000             0.0   \n",
       "std       5.91608   13.315899      27.722829   8.864328             0.0   \n",
       "min       0.00000  145.000000       2.000000   0.000000             0.0   \n",
       "25%       4.75000  185.000000      17.000000   2.000000             0.0   \n",
       "50%       9.50000  192.000000      41.000000   8.000000             0.0   \n",
       "75%      14.25000  192.000000      63.500000  17.250000             0.0   \n",
       "max      19.00000  192.000000      86.000000  24.000000             0.0   \n",
       "\n",
       "       term_node_right  \n",
       "count        20.000000  \n",
       "mean         10.050000  \n",
       "std           8.864328  \n",
       "min           0.000000  \n",
       "25%           2.000000  \n",
       "50%           8.000000  \n",
       "75%          17.250000  \n",
       "max          24.000000  "
      ]
     },
     "execution_count": 21,
     "metadata": {},
     "output_type": "execute_result"
    }
   ],
   "source": [
    "tree_stats_summary = tree_stats.describe()\n",
    "tree_stats_summary"
   ]
  },
  {
   "cell_type": "code",
   "execution_count": 22,
   "id": "1cacdc56-2228-4684-b27c-25171364d616",
   "metadata": {},
   "outputs": [],
   "source": [
    "tree_stats_summary.to_csv(Path(setup.temp_path).joinpath('07_REPORT_tree_stats_summary.csv'),\n",
    "                  index=True)"
   ]
  },
  {
   "cell_type": "markdown",
   "id": "0533acb9-5a8f-42b5-a502-7e0fc2ad9a22",
   "metadata": {
    "tags": []
   },
   "source": [
    "### Trees: Decision Paths\n",
    "Get decision paths for sample cases.  See how often these experience the 'term' and \"int rate\" features.  Also get information about size of splits at term, number of nodes traversed, etc."
   ]
  },
  {
   "cell_type": "code",
   "execution_count": 50,
   "id": "c0b6dcb0-8a60-4768-940c-03f80eb61bae",
   "metadata": {},
   "outputs": [],
   "source": [
    "# Function to get the value difference for the nodes involving a\n",
    "# feature.  Get the mean per path."
   ]
  },
  {
   "cell_type": "code",
   "execution_count": 51,
   "id": "16d8d740-0c64-4c8e-98f4-231ba305caa5",
   "metadata": {},
   "outputs": [],
   "source": [
    "def path_value_diff(tree, decision_paths,\n",
    "                     feature_index = term_index):\n",
    "    \"\"\" For decision paths in a tree, find the first node involving\n",
    "    a specified feature, if any.  Then, find the change in value\n",
    "    for the left and right paths after that split\"\"\"\n",
    "    \n",
    "    # Flag nodes involving the feature in the tree:\n",
    "    feature_nodes = (tree.tree_.feature == feature_index)\n",
    "    \n",
    "    # Repeat the matrix to match the number of decision paths\n",
    "    feature_nodes_mat = np.asmatrix(np.repeat(feature_nodes, \n",
    "                                              decision_paths.shape[0], 0) \\\n",
    "        .reshape((feature_nodes.shape[0], decision_paths.shape[0])).T)\n",
    "    \n",
    "    # Element-wise multiplication to get nodes in the decision paths\n",
    "    # involving the feature\n",
    "    decision_paths_mask = decision_paths.multiply(feature_nodes_mat)\n",
    "    found_ind = sp.find(decision_paths_mask == 1)\n",
    "    \n",
    "    # Convert to a data frame\n",
    "    found_df = pd.DataFrame({'ind':found_ind[0], 'node':found_ind[1]}) \\\n",
    "        .sort_values('ind')\n",
    "    \n",
    "    # Get the splits\n",
    "    found_df['val_left'] = found_df['node'] \\\n",
    "        .apply(lambda x: tree.tree_.value[tree.tree_.children_left[x]][0][0])\n",
    "    found_df['val_right'] = found_df['node'] \\\n",
    "        .apply(lambda x: tree.tree_.value[tree.tree_.children_right[x]][0][0])\n",
    "    found_df['val_diff'] = found_df['val_right']  - found_df['val_left']\n",
    "    \n",
    "    # Get the number of samples reaching this node\n",
    "    found_df['node_samp'] = found_df['node'] \\\n",
    "        .apply(lambda x: tree.tree_.n_node_samples[x])\n",
    "    \n",
    "    # Get mean per path\n",
    "    found_agg = found_df.groupby('ind')[['val_diff', 'node_samp']].apply('max')\n",
    "    \n",
    "    return found_agg\n",
    "\n",
    "    "
   ]
  },
  {
   "cell_type": "code",
   "execution_count": 52,
   "id": "678c76b6-4284-4359-a6c2-ea28803d6cac",
   "metadata": {},
   "outputs": [],
   "source": [
    "# Function to get decision path information for a tree"
   ]
  },
  {
   "cell_type": "code",
   "execution_count": 53,
   "id": "025b4cbc-d07d-4dc6-91b5-c29c20153a56",
   "metadata": {},
   "outputs": [],
   "source": [
    "def decision_path_counter(tree, X,\n",
    "                          int_rate_index = int_rate_index,\n",
    "                         term_index = term_index):\n",
    "    \"\"\" Looks at decision paths in a tree for a dataset, and\n",
    "    counts the number of times the interest rate and term features\n",
    "    occur for each observation.  Also returns some overall tree stats\n",
    "    \"\"\"\n",
    "    \n",
    "    # Get features of interest\n",
    "    int_rate_features = (tree.tree_.feature == int_rate_index)\n",
    "    term_features = (tree.tree_.feature == term_index)\n",
    "    \n",
    "    # Get the decision paths for the observations in X\n",
    "    decision_paths = tree.decision_path(X)\n",
    "    \n",
    "    # Count nodes of each type\n",
    "    node_count_int_rate = decision_paths * int_rate_features\n",
    "    node_count_term = decision_paths * term_features\n",
    "    \n",
    "    # Convert to a series\n",
    "    count_df = pd.concat([pd.Series(node_count_int_rate).rename('int_rate_traversed'),\n",
    "                          pd.Series(node_count_term).rename('term_traversed')],\n",
    "                         axis=1)\n",
    "    \n",
    "    # Append overall tree information\n",
    "    count_df['int_rate_total'] = np.sum(int_rate_features)\n",
    "    count_df['term_total'] = np.sum(term_features)\n",
    "    count_df['total_nodes'] = tree.tree_.node_count\n",
    "    \n",
    "    # Get the total decision path length\n",
    "    count_df['dec_path_len'] = pd.Series(np.squeeze(np.asarray(np.sum(decision_paths, \n",
    "                                                                      axis=1))))\n",
    "    \n",
    "    # Find split info for term\n",
    "    term_split_val = path_value_diff(tree, decision_paths, term_index)\n",
    "    \n",
    "    count_df = count_df.merge(term_split_val, left_index = True, right_index=True,\n",
    "                             how='left')\n",
    "\n",
    "    return count_df"
   ]
  },
  {
   "cell_type": "code",
   "execution_count": 54,
   "id": "65f4523d-0485-4ad0-b1eb-7bcdec0009a9",
   "metadata": {},
   "outputs": [],
   "source": [
    "# Get stats for all trees"
   ]
  },
  {
   "cell_type": "code",
   "execution_count": 54,
   "id": "108ca865-00d6-4fc0-a25f-a9f3e85212bb",
   "metadata": {},
   "outputs": [],
   "source": [
    "with warnings.catch_warnings():\n",
    "    warnings.simplefilter(\"ignore\")\n",
    "    node_counts = pd.concat([decision_path_counter(e, train_samp_df[predictor_features]) \\\n",
    "                             for e in base_model_est[:,0]], axis=0,\n",
    "                            keys = range(0, len(base_model_est))) \\\n",
    "        .reset_index(level=1, drop=False) \\\n",
    "        .rename(columns={'level_1': 'case_index'}) "
   ]
  },
  {
   "cell_type": "code",
   "execution_count": 55,
   "id": "00d8dd99-5713-4681-adc7-27efce0d7c73",
   "metadata": {},
   "outputs": [],
   "source": [
    "node_counts['val_diff'] = node_counts['val_diff'].fillna(0)\n",
    "node_counts['node_samp'] = node_counts['node_samp'].fillna(0)"
   ]
  },
  {
   "cell_type": "code",
   "execution_count": 82,
   "id": "8abb2e83-c0c3-4518-b1de-8086de6b19cd",
   "metadata": {},
   "outputs": [],
   "source": [
    "node_counts.to_csv(Path(setup.temp_path).joinpath('07_REPORT_decision_path_info.csv'),\n",
    "                  index=False)"
   ]
  },
  {
   "cell_type": "code",
   "execution_count": 56,
   "id": "d885f952-b3b5-4dbc-a357-dfd03128481a",
   "metadata": {},
   "outputs": [
    {
     "data": {
      "text/html": [
       "<div>\n",
       "<style scoped>\n",
       "    .dataframe tbody tr th:only-of-type {\n",
       "        vertical-align: middle;\n",
       "    }\n",
       "\n",
       "    .dataframe tbody tr th {\n",
       "        vertical-align: top;\n",
       "    }\n",
       "\n",
       "    .dataframe thead th {\n",
       "        text-align: right;\n",
       "    }\n",
       "</style>\n",
       "<table border=\"1\" class=\"dataframe\">\n",
       "  <thead>\n",
       "    <tr style=\"text-align: right;\">\n",
       "      <th></th>\n",
       "      <th>case_index</th>\n",
       "      <th>int_rate_traversed</th>\n",
       "      <th>term_traversed</th>\n",
       "      <th>int_rate_total</th>\n",
       "      <th>term_total</th>\n",
       "      <th>total_nodes</th>\n",
       "      <th>dec_path_len</th>\n",
       "      <th>val_diff</th>\n",
       "      <th>node_samp</th>\n",
       "    </tr>\n",
       "  </thead>\n",
       "  <tbody>\n",
       "    <tr>\n",
       "      <th>0</th>\n",
       "      <td>0</td>\n",
       "      <td>2</td>\n",
       "      <td>1</td>\n",
       "      <td>10</td>\n",
       "      <td>3</td>\n",
       "      <td>63</td>\n",
       "      <td>6</td>\n",
       "      <td>0.063854</td>\n",
       "      <td>68264.0</td>\n",
       "    </tr>\n",
       "    <tr>\n",
       "      <th>0</th>\n",
       "      <td>1</td>\n",
       "      <td>2</td>\n",
       "      <td>1</td>\n",
       "      <td>10</td>\n",
       "      <td>3</td>\n",
       "      <td>63</td>\n",
       "      <td>6</td>\n",
       "      <td>0.063854</td>\n",
       "      <td>68264.0</td>\n",
       "    </tr>\n",
       "    <tr>\n",
       "      <th>0</th>\n",
       "      <td>2</td>\n",
       "      <td>3</td>\n",
       "      <td>1</td>\n",
       "      <td>10</td>\n",
       "      <td>3</td>\n",
       "      <td>63</td>\n",
       "      <td>6</td>\n",
       "      <td>0.111085</td>\n",
       "      <td>39073.0</td>\n",
       "    </tr>\n",
       "    <tr>\n",
       "      <th>0</th>\n",
       "      <td>3</td>\n",
       "      <td>3</td>\n",
       "      <td>0</td>\n",
       "      <td>10</td>\n",
       "      <td>3</td>\n",
       "      <td>63</td>\n",
       "      <td>6</td>\n",
       "      <td>0.000000</td>\n",
       "      <td>0.0</td>\n",
       "    </tr>\n",
       "    <tr>\n",
       "      <th>0</th>\n",
       "      <td>4</td>\n",
       "      <td>3</td>\n",
       "      <td>1</td>\n",
       "      <td>10</td>\n",
       "      <td>3</td>\n",
       "      <td>63</td>\n",
       "      <td>6</td>\n",
       "      <td>0.111085</td>\n",
       "      <td>39073.0</td>\n",
       "    </tr>\n",
       "  </tbody>\n",
       "</table>\n",
       "</div>"
      ],
      "text/plain": [
       "   case_index  int_rate_traversed  term_traversed  int_rate_total  term_total  \\\n",
       "0           0                   2               1              10           3   \n",
       "0           1                   2               1              10           3   \n",
       "0           2                   3               1              10           3   \n",
       "0           3                   3               0              10           3   \n",
       "0           4                   3               1              10           3   \n",
       "\n",
       "   total_nodes  dec_path_len  val_diff  node_samp  \n",
       "0           63             6  0.063854    68264.0  \n",
       "0           63             6  0.063854    68264.0  \n",
       "0           63             6  0.111085    39073.0  \n",
       "0           63             6  0.000000        0.0  \n",
       "0           63             6  0.111085    39073.0  "
      ]
     },
     "execution_count": 56,
     "metadata": {},
     "output_type": "execute_result"
    }
   ],
   "source": [
    "node_counts.head()"
   ]
  },
  {
   "cell_type": "code",
   "execution_count": 58,
   "id": "9b942c2c-e50c-499d-8f86-ecd295933932",
   "metadata": {},
   "outputs": [
    {
     "data": {
      "text/plain": [
       "(2000000, 8)"
      ]
     },
     "execution_count": 58,
     "metadata": {},
     "output_type": "execute_result"
    }
   ],
   "source": [
    "node_counts.shape"
   ]
  },
  {
   "cell_type": "code",
   "execution_count": null,
   "id": "255354bf-14fc-4635-9772-34b738d21879",
   "metadata": {},
   "outputs": [],
   "source": [
    "node_counts_tot = node_counts.groupby('case_index')\\\n",
    "    .agg('mean')"
   ]
  },
  {
   "cell_type": "code",
   "execution_count": 58,
   "id": "1f61a910-00ed-4afc-b253-4d4544cd6f07",
   "metadata": {},
   "outputs": [
    {
     "data": {
      "text/plain": [
       "(100000, 8)"
      ]
     },
     "execution_count": 58,
     "metadata": {},
     "output_type": "execute_result"
    }
   ],
   "source": [
    "node_counts_tot.shape"
   ]
  },
  {
   "cell_type": "code",
   "execution_count": 59,
   "id": "7803a5e8-636b-42fb-b0d0-8a519f16972f",
   "metadata": {},
   "outputs": [],
   "source": [
    "dec_path_info_merge = pd.concat([train_samp_df[['int_rate', 'term']], node_counts_tot], axis=1)"
   ]
  },
  {
   "cell_type": "code",
   "execution_count": 60,
   "id": "dcfa4d97-95dc-4f2d-8012-3d4731e6a169",
   "metadata": {},
   "outputs": [],
   "source": [
    "dec_path_info_merge['int_rate_q'] = pd.cut(dec_path_info_merge['int_rate'], 25)\n",
    "dec_path_info_merge['int_rate_q'] = dec_path_info_merge['int_rate_q'].apply(lambda x: x.mid) \\\n",
    "    .astype('float')"
   ]
  },
  {
   "cell_type": "code",
   "execution_count": 61,
   "id": "9d8fd36e-9427-4031-9365-b018a4a127ca",
   "metadata": {},
   "outputs": [],
   "source": [
    "dec_path_agg = dec_path_info_merge.groupby(['int_rate_q', 'term']) \\\n",
    "    .agg('mean') \\\n",
    "    .reset_index()"
   ]
  },
  {
   "cell_type": "code",
   "execution_count": 112,
   "id": "bd9b0d59-f44f-4120-a4eb-0161cad97b84",
   "metadata": {},
   "outputs": [],
   "source": [
    "# Function to plot one of the features in the decision path summary\n",
    "def plot_fig_single(data, y, ax, color_dict):\n",
    "    for name, group in data.groupby('term'):\n",
    "        group.plot(x='int_rate', y=y,kind='scatter',\n",
    "              color=color_dict[name], ax=ax, label=name)"
   ]
  },
  {
   "cell_type": "code",
   "execution_count": 137,
   "id": "4b0cc9c0-176b-4007-9098-c59f74a691fe",
   "metadata": {},
   "outputs": [
    {
     "data": {
      "image/png": "[encoded data removed]",
      "text/plain": [
       "<Figure size 640x480 with 5 Axes>"
      ]
     },
     "metadata": {},
     "output_type": "display_data"
    }
   ],
   "source": [
    "cmap = mpl.cm.coolwarm\n",
    "color_categories = [36,60]\n",
    "cnorm  = mpl.colors.Normalize(vmin=0, vmax= 1)\n",
    "color_scalar_map = mpl.cm.ScalarMappable(norm=cnorm, cmap=cmap)\n",
    "color_dict = {color_categories[i]: color_scalar_map.to_rgba(i) \n",
    "                  for i in range(0, 2)}\n",
    "\n",
    "\n",
    "fig, ax = plt.subplots(2,3, sharex=True)\n",
    "plot_feat = ['int_rate_traversed', 'term_traversed', \n",
    "              'dec_path_len', 'val_diff', 'node_samp']\n",
    "for i, feat in enumerate(plot_feat):\n",
    "    ax_row = int(i/3.0)\n",
    "    ax_col = i % 3\n",
    "    #print(f'{ax_row} {ax_col}')\n",
    "    #plot_fig_single(\n",
    "    plot_fig_single(dec_path_agg, feat, ax=ax[ax_row, ax_col], color_dict = color_dict)\n",
    "    ax[ax_row, ax_col].set_ylabel(None)\n",
    "    ax[ax_row, ax_col].title.set_text(feat)\n",
    "    ax[ax_row, ax_col].ticklabel_format(axis='y', style='sci',scilimits=(0,0))\n",
    "    if i < (len(plot_feat) - 1):\n",
    "        ax[ax_row, ax_col].get_legend().remove()\n",
    "    else:\n",
    "        handles, labels = ax[ax_row, ax_col].get_legend_handles_labels()\n",
    "        fig.legend(handles, labels, loc = (0.8, 0.2), title='term')\n",
    "        ax[ax_row, ax_col].get_legend().remove()\n",
    "for i in range(len(plot_feat), 6):\n",
    "    ax_row = int(i/3.0)\n",
    "    ax_col = i % 3\n",
    "    fig.delaxes(ax[ax_row][ax_col])\n",
    "\n",
    "fig.tight_layout()\n",
    "fig.savefig(Path(setup.temp_path).joinpath('07_PLOT_decision_path_means.png'))"
   ]
  },
  {
   "cell_type": "markdown",
   "id": "45c9156e-db2d-47ff-8a10-ae542b61396e",
   "metadata": {
    "tags": []
   },
   "source": [
    "### Trees: Interest Rate Thresholds\n",
    "Get interest rate thresholds for each node involving interest rate"
   ]
  },
  {
   "cell_type": "code",
   "execution_count": null,
   "id": "173f4315-ee96-4a39-82e6-f68efdc3904e",
   "metadata": {},
   "outputs": [],
   "source": [
    "# Function to return thresholds in a tree"
   ]
  },
  {
   "cell_type": "code",
   "execution_count": 182,
   "id": "df30b00c-adf2-4e7a-9610-a54b73b0724d",
   "metadata": {},
   "outputs": [],
   "source": [
    "def get_thresholds_feature(tree, feature_index=int_rate_index):\n",
    "    \"\"\" Returns all thresholds for a given feature\"\"\"\n",
    "    \n",
    "    # Get indices of feature of interest\n",
    "    features_ind = (tree.tree_.feature == feature_index)\n",
    "    \n",
    "    # Get the thresholds\n",
    "    thresh = tree.tree_.threshold[features_ind]\n",
    "    \n",
    "    # Get the samples at the nodes\n",
    "    node_samp = tree.tree_.n_node_samples[features_ind]\n",
    "    \n",
    "    return pd.DataFrame({'thresh': thresh,\n",
    "                        'node_samp': node_samp})"
   ]
  },
  {
   "cell_type": "code",
   "execution_count": 156,
   "id": "f1d305fd-8274-4ca9-b392-910eff9d09d4",
   "metadata": {},
   "outputs": [],
   "source": [
    "# Get all thresholds"
   ]
  },
  {
   "cell_type": "code",
   "execution_count": 161,
   "id": "3d324f11-7fe9-4ae9-9cc6-b4d929ce20c5",
   "metadata": {},
   "outputs": [
    {
     "data": {
      "text/plain": [
       "2"
      ]
     },
     "execution_count": 161,
     "metadata": {},
     "output_type": "execute_result"
    }
   ],
   "source": [
    "int_rate_index"
   ]
  },
  {
   "cell_type": "code",
   "execution_count": 175,
   "id": "dcd260e9-11c8-4aac-8042-c8dfcccbb5a7",
   "metadata": {},
   "outputs": [
    {
     "data": {
      "text/html": [
       "<div>\n",
       "<style scoped>\n",
       "    .dataframe tbody tr th:only-of-type {\n",
       "        vertical-align: middle;\n",
       "    }\n",
       "\n",
       "    .dataframe tbody tr th {\n",
       "        vertical-align: top;\n",
       "    }\n",
       "\n",
       "    .dataframe thead th {\n",
       "        text-align: right;\n",
       "    }\n",
       "</style>\n",
       "<table border=\"1\" class=\"dataframe\">\n",
       "  <thead>\n",
       "    <tr style=\"text-align: right;\">\n",
       "      <th></th>\n",
       "      <th>thresh</th>\n",
       "    </tr>\n",
       "  </thead>\n",
       "  <tbody>\n",
       "    <tr>\n",
       "      <th>0</th>\n",
       "      <td>12.565</td>\n",
       "    </tr>\n",
       "    <tr>\n",
       "      <th>1</th>\n",
       "      <td>18.965</td>\n",
       "    </tr>\n",
       "  </tbody>\n",
       "</table>\n",
       "</div>"
      ],
      "text/plain": [
       "   thresh\n",
       "0  12.565\n",
       "1  18.965"
      ]
     },
     "execution_count": 175,
     "metadata": {},
     "output_type": "execute_result"
    }
   ],
   "source": [
    "get_thresholds_feature(base_model_est[6,0], int_rate_index)"
   ]
  },
  {
   "cell_type": "code",
   "execution_count": 183,
   "id": "6d9fe599-9db0-477a-9ee0-9e44814bbef1",
   "metadata": {},
   "outputs": [],
   "source": [
    "with warnings.catch_warnings():\n",
    "    warnings.simplefilter(\"ignore\")\n",
    "    thresh_vals = pd.concat([get_thresholds_feature(e) \\\n",
    "                             for e in base_model_est[:,0]], axis=0,\n",
    "                            keys = range(0, len(base_model_est))) \\\n",
    "        .reset_index(level=1, drop=False) \\\n",
    "        .rename(columns={'level_1': 'case_index'}) "
   ]
  },
  {
   "cell_type": "code",
   "execution_count": 184,
   "id": "08686571-320f-427d-be2f-b20412149a1c",
   "metadata": {},
   "outputs": [
    {
     "data": {
      "text/html": [
       "<div>\n",
       "<style scoped>\n",
       "    .dataframe tbody tr th:only-of-type {\n",
       "        vertical-align: middle;\n",
       "    }\n",
       "\n",
       "    .dataframe tbody tr th {\n",
       "        vertical-align: top;\n",
       "    }\n",
       "\n",
       "    .dataframe thead th {\n",
       "        text-align: right;\n",
       "    }\n",
       "</style>\n",
       "<table border=\"1\" class=\"dataframe\">\n",
       "  <thead>\n",
       "    <tr style=\"text-align: right;\">\n",
       "      <th></th>\n",
       "      <th>case_index</th>\n",
       "      <th>thresh</th>\n",
       "      <th>node_samp</th>\n",
       "    </tr>\n",
       "  </thead>\n",
       "  <tbody>\n",
       "    <tr>\n",
       "      <th>count</th>\n",
       "      <td>87.000000</td>\n",
       "      <td>87.000000</td>\n",
       "      <td>87.000000</td>\n",
       "    </tr>\n",
       "    <tr>\n",
       "      <th>mean</th>\n",
       "      <td>2.218391</td>\n",
       "      <td>16.785460</td>\n",
       "      <td>75174.988506</td>\n",
       "    </tr>\n",
       "    <tr>\n",
       "      <th>std</th>\n",
       "      <td>2.042714</td>\n",
       "      <td>6.661394</td>\n",
       "      <td>82006.255238</td>\n",
       "    </tr>\n",
       "    <tr>\n",
       "      <th>min</th>\n",
       "      <td>0.000000</td>\n",
       "      <td>5.995000</td>\n",
       "      <td>59.000000</td>\n",
       "    </tr>\n",
       "    <tr>\n",
       "      <th>25%</th>\n",
       "      <td>1.000000</td>\n",
       "      <td>10.775000</td>\n",
       "      <td>6866.500000</td>\n",
       "    </tr>\n",
       "    <tr>\n",
       "      <th>50%</th>\n",
       "      <td>2.000000</td>\n",
       "      <td>16.520000</td>\n",
       "      <td>37189.000000</td>\n",
       "    </tr>\n",
       "    <tr>\n",
       "      <th>75%</th>\n",
       "      <td>3.000000</td>\n",
       "      <td>22.950000</td>\n",
       "      <td>123913.500000</td>\n",
       "    </tr>\n",
       "    <tr>\n",
       "      <th>max</th>\n",
       "      <td>9.000000</td>\n",
       "      <td>30.570000</td>\n",
       "      <td>235429.000000</td>\n",
       "    </tr>\n",
       "  </tbody>\n",
       "</table>\n",
       "</div>"
      ],
      "text/plain": [
       "       case_index     thresh      node_samp\n",
       "count   87.000000  87.000000      87.000000\n",
       "mean     2.218391  16.785460   75174.988506\n",
       "std      2.042714   6.661394   82006.255238\n",
       "min      0.000000   5.995000      59.000000\n",
       "25%      1.000000  10.775000    6866.500000\n",
       "50%      2.000000  16.520000   37189.000000\n",
       "75%      3.000000  22.950000  123913.500000\n",
       "max      9.000000  30.570000  235429.000000"
      ]
     },
     "execution_count": 184,
     "metadata": {},
     "output_type": "execute_result"
    }
   ],
   "source": [
    "thresh_vals.describe()"
   ]
  },
  {
   "cell_type": "code",
   "execution_count": null,
   "id": "2d0d9cf3-f3e7-4906-8a0f-a0c843566c6f",
   "metadata": {},
   "outputs": [],
   "source": [
    "thresh_vals["
   ]
  },
  {
   "cell_type": "code",
   "execution_count": 185,
   "id": "ac12c9f2-a7f8-4973-a045-028c591502fc",
   "metadata": {},
   "outputs": [
    {
     "data": {
      "text/plain": [
       "<AxesSubplot: ylabel='Frequency'>"
      ]
     },
     "execution_count": 185,
     "metadata": {},
     "output_type": "execute_result"
    },
    {
     "data": {
      "image/png": "[encoded data removed]",
      "text/plain": [
       "<Figure size 640x480 with 1 Axes>"
      ]
     },
     "metadata": {},
     "output_type": "display_data"
    }
   ],
   "source": [
    "thresh_vals['thresh'].plot(kind='hist')"
   ]
  },
  {
   "cell_type": "code",
   "execution_count": 186,
   "id": "723cdf7a-c036-4b56-943f-b965e11ddc00",
   "metadata": {},
   "outputs": [
    {
     "data": {
      "text/plain": [
       "<AxesSubplot: xlabel='thresh', ylabel='node_samp'>"
      ]
     },
     "execution_count": 186,
     "metadata": {},
     "output_type": "execute_result"
    },
    {
     "data": {
      "image/png": "[encoded data removed]",
      "text/plain": [
       "<Figure size 640x480 with 1 Axes>"
      ]
     },
     "metadata": {},
     "output_type": "display_data"
    }
   ],
   "source": [
    "thresh_vals[['thresh', 'node_samp']].plot(kind='scatter', x='thresh',\n",
    "                                         y='node_samp')"
   ]
  },
  {
   "cell_type": "code",
   "execution_count": 170,
   "id": "da4c67fb-da52-4356-8319-1a309b800940",
   "metadata": {},
   "outputs": [
    {
     "data": {
      "text/html": [
       "<div>\n",
       "<style scoped>\n",
       "    .dataframe tbody tr th:only-of-type {\n",
       "        vertical-align: middle;\n",
       "    }\n",
       "\n",
       "    .dataframe tbody tr th {\n",
       "        vertical-align: top;\n",
       "    }\n",
       "\n",
       "    .dataframe thead th {\n",
       "        text-align: right;\n",
       "    }\n",
       "</style>\n",
       "<table border=\"1\" class=\"dataframe\">\n",
       "  <thead>\n",
       "    <tr style=\"text-align: right;\">\n",
       "      <th></th>\n",
       "      <th>thresh</th>\n",
       "    </tr>\n",
       "  </thead>\n",
       "  <tbody>\n",
       "    <tr>\n",
       "      <th>0</th>\n",
       "      <td>12.565</td>\n",
       "    </tr>\n",
       "    <tr>\n",
       "      <th>1</th>\n",
       "      <td>18.965</td>\n",
       "    </tr>\n",
       "  </tbody>\n",
       "</table>\n",
       "</div>"
      ],
      "text/plain": [
       "   thresh\n",
       "0  12.565\n",
       "1  18.965"
      ]
     },
     "execution_count": 170,
     "metadata": {},
     "output_type": "execute_result"
    }
   ],
   "source": [
    "pd.DataFrame({'thresh': tree.tree_.threshold[int_rate_features]})"
   ]
  },
  {
   "cell_type": "code",
   "execution_count": 146,
   "id": "16450aa9-d6e2-4cbd-97b4-6bbdcdfbc02b",
   "metadata": {},
   "outputs": [
    {
     "data": {
      "text/plain": [
       "array([ 1.31750002e+01,  9.73000002e+00,  7.93499994e+00,  7.42500000e+02,\n",
       "        6.32500000e+02, -2.00000000e+00, -2.00000000e+00,  4.21740000e+04,\n",
       "       -2.00000000e+00, -2.00000000e+00,  5.00000000e-01,  5.20250000e+04,\n",
       "       -2.00000000e+00, -2.00000000e+00,  4.50000000e+00, -2.00000000e+00,\n",
       "       -2.00000000e+00,  4.80000000e+01,  5.00000000e-01,  4.50000000e+00,\n",
       "       -2.00000000e+00, -2.00000000e+00,  1.25650001e+01, -2.00000000e+00,\n",
       "       -2.00000000e+00,  5.00000000e-01,  7.07500000e+02, -2.00000000e+00,\n",
       "       -2.00000000e+00,  6.82500000e+02, -2.00000000e+00, -2.00000000e+00,\n",
       "        1.77849998e+01,  4.80000000e+01,  5.00000000e-01,  1.59749999e+01,\n",
       "       -2.00000000e+00, -2.00000000e+00,  1.52500000e+01, -2.00000000e+00,\n",
       "       -2.00000000e+00,  5.00000000e-01,  6.82500000e+02, -2.00000000e+00,\n",
       "       -2.00000000e+00,  6.92500000e+02, -2.00000000e+00, -2.00000000e+00,\n",
       "        4.80000000e+01,  2.49399996e+01,  4.01250000e+03, -2.00000000e+00,\n",
       "       -2.00000000e+00,  5.00000000e-01, -2.00000000e+00, -2.00000000e+00,\n",
       "        5.00000000e-01,  2.29700003e+01, -2.00000000e+00, -2.00000000e+00,\n",
       "        2.38949995e+01, -2.00000000e+00, -2.00000000e+00])"
      ]
     },
     "execution_count": 146,
     "metadata": {},
     "output_type": "execute_result"
    }
   ],
   "source": [
    "tree.tree_.threshold"
   ]
  },
  {
   "cell_type": "code",
   "execution_count": 92,
   "id": "ee9beec3-0059-4467-94a7-ea9eb90ac512",
   "metadata": {},
   "outputs": [
    {
     "name": "stdout",
     "output_type": "stream",
     "text": [
      "0\n",
      "1\n",
      "2\n",
      "3\n",
      "4\n"
     ]
    }
   ],
   "source": [
    "plot_feat = ['int_rate_traversed', 'term_traversed', \n",
    "              'dec_path_len', 'val_diff', 'node_samp']\n",
    "for i, feat in enumerate(plot_feat):\n",
    "    print(i)"
   ]
  },
  {
   "cell_type": "code",
   "execution_count": 66,
   "id": "4458f7f3-24d1-433b-94b7-438ba9e6a86d",
   "metadata": {},
   "outputs": [
    {
     "ename": "NameError",
     "evalue": "name 'this_tree' is not defined",
     "output_type": "error",
     "traceback": [
      "\u001b[0;31m---------------------------------------------------------------------------\u001b[0m",
      "\u001b[0;31mNameError\u001b[0m                                 Traceback (most recent call last)",
      "Cell \u001b[0;32mIn [66], line 1\u001b[0m\n\u001b[0;32m----> 1\u001b[0m \u001b[38;5;28mtype\u001b[39m(\u001b[43mthis_tree\u001b[49m\u001b[38;5;241m.\u001b[39mtree_\u001b[38;5;241m.\u001b[39mchildren_right)\n",
      "\u001b[0;31mNameError\u001b[0m: name 'this_tree' is not defined"
     ]
    }
   ],
   "source": [
    "TO DO\n",
    "1.PDP plots - show steps at high int rate?\n",
    "Do they look like ALE or like SHAP?\n",
    "2. Int rate SHAP as func of interaction - all interactions vs int rate, averaged\n",
    "  term goes down which go up?"
   ]
  },
  {
   "cell_type": "code",
   "execution_count": null,
   "id": "49bbeaa4-9ab8-41de-bc81-ac320a1f09cc",
   "metadata": {},
   "outputs": [],
   "source": [
    "simulation - tree with much larger values at high interest rates, with term splits under these.  Term splits get bigger at higher int rate too but not as fast\n",
    "maybe int rate grows as x^2, term as x, sample counts highest in the middle"
   ]
  },
  {
   "cell_type": "code",
   "execution_count": null,
   "id": "d941f164-a3ce-4845-8a5a-842513e257aa",
   "metadata": {},
   "outputs": [],
   "source": []
  }
 ],
 "metadata": {
  "kernelspec": {
   "display_name": "Python 3 (ipykernel)",
   "language": "python",
   "name": "python3"
  },
  "language_info": {
   "codemirror_mode": {
    "name": "ipython",
    "version": 3
   },
   "file_extension": ".py",
   "mimetype": "text/x-python",
   "name": "python",
   "nbconvert_exporter": "python",
   "pygments_lexer": "ipython3",
   "version": "3.10.2"
  }
 },
 "nbformat": 4,
 "nbformat_minor": 5
}
