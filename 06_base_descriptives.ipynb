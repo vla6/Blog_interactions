{
 "cells": [
  {
   "cell_type": "code",
   "execution_count": 126,
   "id": "44b56386-9bd6-40db-8e61-0cebc1fd983b",
   "metadata": {
    "tags": []
   },
   "outputs": [],
   "source": [
    "# Modify the file 00_setup.py to define input/output file paths on your system\n",
    "# The information in 00_setup.py will be used across notebooks\n",
    "from importlib.machinery import SourceFileLoader\n",
    "setup = SourceFileLoader(\"setup\", \"./00_setup.py\").load_module()"
   ]
  },
  {
   "cell_type": "markdown",
   "id": "5975abcf-8c2a-4ad4-9531-79799842931f",
   "metadata": {},
   "source": [
    "# 06: Base Model Descriptives\n",
    " * Compare the results for Friedman's H, ALE, and Shapley.  \n",
    " * Get some descriptive plots relating to term and interest rate"
   ]
  },
  {
   "cell_type": "markdown",
   "id": "f2f60612-7830-4112-b1d3-1617d123de4d",
   "metadata": {},
   "source": [
    "*This script takes about 1 minutes on my MacBook Air*"
   ]
  },
  {
   "cell_type": "code",
   "execution_count": 127,
   "id": "61ff97aa-210f-4817-9e6b-44934d50ad6a",
   "metadata": {},
   "outputs": [],
   "source": [
    "import pandas as pd\n",
    "import numpy as np\n",
    "import matplotlib.pyplot as plt\n",
    "import seaborn as sns\n",
    "import pickle\n",
    "from pathlib import Path\n",
    "import sklearn as sk\n",
    "import matplotlib as mpl\n",
    "import warnings\n",
    "import time\n",
    "import scipy\n",
    "import random\n",
    "from matplotlib.ticker import FormatStrFormatter, PercentFormatter\n",
    "import scipy.sparse as sp\n",
    "from sklearn.inspection import partial_dependence"
   ]
  },
  {
   "cell_type": "code",
   "execution_count": 128,
   "id": "6830d40c-3717-46e9-a7f6-e53ac0fb1dbd",
   "metadata": {},
   "outputs": [],
   "source": [
    "setup.plot_defaults()"
   ]
  },
  {
   "cell_type": "markdown",
   "id": "2d3dbffa-7110-4c13-bd9b-5148bbb48798",
   "metadata": {},
   "source": [
    "## Import Data"
   ]
  },
  {
   "cell_type": "markdown",
   "id": "edd1ff00-2636-4b05-b251-3c5dff94e39e",
   "metadata": {},
   "source": [
    "##### Predictors"
   ]
  },
  {
   "cell_type": "code",
   "execution_count": 129,
   "id": "6fa544ef-5b04-45a2-a4e6-626769a8d8cc",
   "metadata": {},
   "outputs": [],
   "source": [
    "predictor_features = pd.read_csv(Path(setup.temp_path) \\\n",
    "                                 .joinpath('01_REPORT_predictor_features.csv'))['feature'].tolist()"
   ]
  },
  {
   "cell_type": "markdown",
   "id": "fd64c3e4-2d2d-4787-b72c-92ee456fa038",
   "metadata": {},
   "source": [
    "##### Dataset - use sample of training data"
   ]
  },
  {
   "cell_type": "code",
   "execution_count": 130,
   "id": "a4d5b29c-9191-4060-874f-67015a559a39",
   "metadata": {},
   "outputs": [],
   "source": [
    "train_samp_df = pd.read_parquet(Path(setup.temp_path) \\\n",
    "                                .joinpath('03_DATA_combined_base_train_samp.parquet')) "
   ]
  },
  {
   "cell_type": "markdown",
   "id": "700b4c25-1325-4904-baf1-aa364ba650c2",
   "metadata": {},
   "source": [
    "##### Model"
   ]
  },
  {
   "cell_type": "code",
   "execution_count": 131,
   "id": "a5d41d78-cb6f-4e02-82bf-c8419a3f360c",
   "metadata": {},
   "outputs": [],
   "source": [
    "with open(Path(setup.temp_path).joinpath('02_MODEL_base_gc.pkl'), 'rb') as pi:\n",
    "    base_model = pickle.load(pi)"
   ]
  },
  {
   "cell_type": "markdown",
   "id": "4d31c639-2181-4955-929b-befa334441f3",
   "metadata": {},
   "source": [
    "##### Permutation importances"
   ]
  },
  {
   "cell_type": "code",
   "execution_count": 132,
   "id": "d2800ff4-c1a2-4e22-9095-77a5a46065b1",
   "metadata": {},
   "outputs": [],
   "source": [
    "perm_importance_df = pd.read_csv(Path(setup.temp_path).joinpath('02_DATA_importance_perturb.csv'))"
   ]
  },
  {
   "cell_type": "markdown",
   "id": "248436b0-1d8a-4809-adaa-47054d3579b9",
   "metadata": {},
   "source": [
    "##### Friedman's H Scores"
   ]
  },
  {
   "cell_type": "code",
   "execution_count": 133,
   "id": "f30c9b37-056c-4be3-962c-8de07fbaa4fd",
   "metadata": {},
   "outputs": [],
   "source": [
    "h_comb = pd.read_csv(Path(setup.temp_path).joinpath('03_DATA_h_scores.csv'))"
   ]
  },
  {
   "cell_type": "markdown",
   "id": "dbc26aa7-7cd1-4cfa-9024-4a9fd6051474",
   "metadata": {},
   "source": [
    "##### 2-Way ALE Mean Abs"
   ]
  },
  {
   "cell_type": "code",
   "execution_count": 134,
   "id": "4153d13a-5392-4000-884b-1a5b309b28e6",
   "metadata": {},
   "outputs": [],
   "source": [
    "ale_mean_abs = pd.read_csv(Path(setup.temp_path).joinpath('04_DATA_ale_magnitudes_2way.csv'))"
   ]
  },
  {
   "cell_type": "markdown",
   "id": "d827ef6e-9d6f-4504-b52d-22d34d0a9879",
   "metadata": {},
   "source": [
    "##### Shapley Interaction Mean Abs"
   ]
  },
  {
   "cell_type": "code",
   "execution_count": 135,
   "id": "0699bb7b-e148-4998-814f-3597b3788a4c",
   "metadata": {},
   "outputs": [],
   "source": [
    "shap_mean_abs = pd.read_csv(Path(setup.temp_path).joinpath('05_DATA_shap_mean_abs.csv'))"
   ]
  },
  {
   "cell_type": "markdown",
   "id": "8b436add-a13b-4c51-a853-022bec783792",
   "metadata": {},
   "source": [
    "## Compare Ranks for the Three Methods"
   ]
  },
  {
   "cell_type": "markdown",
   "id": "9b106a9f-bda0-47f8-823d-0581fa3377bc",
   "metadata": {},
   "source": [
    "##### Align ranks and save table"
   ]
  },
  {
   "cell_type": "code",
   "execution_count": 136,
   "id": "929c8900-fb89-4c0d-bc57-fac3ed45f00e",
   "metadata": {},
   "outputs": [],
   "source": [
    "h_comb['rank'] = h_comb['h_score'].rank(method='first', ascending=False) \n",
    "h_comb = h_comb.rename(columns={'h_score':'score'})"
   ]
  },
  {
   "cell_type": "code",
   "execution_count": 137,
   "id": "21666ec0-1374-40b1-9ae8-d16dc83032cf",
   "metadata": {},
   "outputs": [],
   "source": [
    "ale_mean_abs['rank'] = ale_mean_abs['abs_mean'].rank(method='first', ascending=False)\n",
    "ale_mean_abs = ale_mean_abs.rename(columns={'abs_mean':'score'})"
   ]
  },
  {
   "cell_type": "code",
   "execution_count": 138,
   "id": "33e9bce8-24df-4117-a3ed-dd72e9c0de56",
   "metadata": {},
   "outputs": [],
   "source": [
    "shap_mean_abs_int = shap_mean_abs[shap_mean_abs['feat_1'] != shap_mean_abs['feat_2']] \\\n",
    "    .copy() \\\n",
    "    .rename(columns={'shap_mean_abs':'score'})\n",
    "shap_mean_abs_int['rank'] = shap_mean_abs_int['score'].rank(method='first', ascending=False)"
   ]
  },
  {
   "cell_type": "code",
   "execution_count": 139,
   "id": "bf6bb44b-26eb-4935-8b48-6f94bf03c50a",
   "metadata": {},
   "outputs": [],
   "source": [
    "rank_comb = h_comb[['rank', 'score', 'label']] \\\n",
    "    .merge(ale_mean_abs[['rank', 'score', 'label']], how='outer', on='rank',\n",
    "           suffixes=('_h', '_ale')) \\\n",
    "    .merge(shap_mean_abs_int[['rank', 'score', 'label']], how='outer', on='rank') \\\n",
    "    .rename(columns={'score':'score_shap', 'label':'label_shap'})"
   ]
  },
  {
   "cell_type": "code",
   "execution_count": 140,
   "id": "1fe84f1b-06a8-4b0a-9347-b89ba182fe59",
   "metadata": {},
   "outputs": [
    {
     "data": {
      "text/html": [
       "<div>\n",
       "<style scoped>\n",
       "    .dataframe tbody tr th:only-of-type {\n",
       "        vertical-align: middle;\n",
       "    }\n",
       "\n",
       "    .dataframe tbody tr th {\n",
       "        vertical-align: top;\n",
       "    }\n",
       "\n",
       "    .dataframe thead th {\n",
       "        text-align: right;\n",
       "    }\n",
       "</style>\n",
       "<table border=\"1\" class=\"dataframe\">\n",
       "  <thead>\n",
       "    <tr style=\"text-align: right;\">\n",
       "      <th></th>\n",
       "      <th>rank</th>\n",
       "      <th>score_h</th>\n",
       "      <th>label_h</th>\n",
       "      <th>score_ale</th>\n",
       "      <th>label_ale</th>\n",
       "      <th>score_shap</th>\n",
       "      <th>label_shap</th>\n",
       "    </tr>\n",
       "  </thead>\n",
       "  <tbody>\n",
       "    <tr>\n",
       "      <th>0</th>\n",
       "      <td>1.0</td>\n",
       "      <td>0.234603</td>\n",
       "      <td>loan_amnt:revol_bal</td>\n",
       "      <td>0.012337</td>\n",
       "      <td>loan_amnt:annual_inc</td>\n",
       "      <td>0.028876</td>\n",
       "      <td>int_rate:term</td>\n",
       "    </tr>\n",
       "    <tr>\n",
       "      <th>1</th>\n",
       "      <td>2.0</td>\n",
       "      <td>0.178645</td>\n",
       "      <td>revol_bal:verification_status</td>\n",
       "      <td>0.012336</td>\n",
       "      <td>int_rate:term</td>\n",
       "      <td>0.018142</td>\n",
       "      <td>int_rate:loan_amnt</td>\n",
       "    </tr>\n",
       "    <tr>\n",
       "      <th>2</th>\n",
       "      <td>3.0</td>\n",
       "      <td>0.171378</td>\n",
       "      <td>loan_amnt:annual_inc</td>\n",
       "      <td>0.011016</td>\n",
       "      <td>int_rate:annual_inc</td>\n",
       "      <td>0.017496</td>\n",
       "      <td>int_rate:sec_app_fico_range_low</td>\n",
       "    </tr>\n",
       "    <tr>\n",
       "      <th>3</th>\n",
       "      <td>4.0</td>\n",
       "      <td>0.169135</td>\n",
       "      <td>num_actv_bc_tl:revol_bal</td>\n",
       "      <td>0.010569</td>\n",
       "      <td>loan_amnt:open_acc</td>\n",
       "      <td>0.012363</td>\n",
       "      <td>int_rate:annual_inc</td>\n",
       "    </tr>\n",
       "    <tr>\n",
       "      <th>4</th>\n",
       "      <td>5.0</td>\n",
       "      <td>0.128730</td>\n",
       "      <td>home_ownership__RENT:num_actv_bc_tl</td>\n",
       "      <td>0.010504</td>\n",
       "      <td>int_rate:loan_amnt</td>\n",
       "      <td>0.010590</td>\n",
       "      <td>int_rate:mort_acc</td>\n",
       "    </tr>\n",
       "  </tbody>\n",
       "</table>\n",
       "</div>"
      ],
      "text/plain": [
       "   rank   score_h                              label_h  score_ale  \\\n",
       "0   1.0  0.234603                  loan_amnt:revol_bal   0.012337   \n",
       "1   2.0  0.178645        revol_bal:verification_status   0.012336   \n",
       "2   3.0  0.171378                 loan_amnt:annual_inc   0.011016   \n",
       "3   4.0  0.169135             num_actv_bc_tl:revol_bal   0.010569   \n",
       "4   5.0  0.128730  home_ownership__RENT:num_actv_bc_tl   0.010504   \n",
       "\n",
       "              label_ale  score_shap                       label_shap  \n",
       "0  loan_amnt:annual_inc    0.028876                    int_rate:term  \n",
       "1         int_rate:term    0.018142               int_rate:loan_amnt  \n",
       "2   int_rate:annual_inc    0.017496  int_rate:sec_app_fico_range_low  \n",
       "3    loan_amnt:open_acc    0.012363              int_rate:annual_inc  \n",
       "4    int_rate:loan_amnt    0.010590                int_rate:mort_acc  "
      ]
     },
     "execution_count": 140,
     "metadata": {},
     "output_type": "execute_result"
    }
   ],
   "source": [
    "rank_comb.head()"
   ]
  },
  {
   "cell_type": "code",
   "execution_count": 141,
   "id": "39ea7740-0c13-4ab8-9a55-dedb52faf83d",
   "metadata": {},
   "outputs": [],
   "source": [
    "rank_comb.to_csv(Path(setup.temp_path).joinpath('06_REPORT_top_interactions_all.csv'),\n",
    "                   index=False)"
   ]
  },
  {
   "cell_type": "markdown",
   "id": "9e60ed6e-5ae0-42a1-a8b2-00ac2e40248f",
   "metadata": {},
   "source": [
    "##### Correlations among ranks and with perturbation importances"
   ]
  },
  {
   "cell_type": "code",
   "execution_count": 142,
   "id": "6b1c6cfa-a561-4209-8b5f-57e6aeec6882",
   "metadata": {},
   "outputs": [],
   "source": [
    "# Merge ranked data by feature"
   ]
  },
  {
   "cell_type": "code",
   "execution_count": 143,
   "id": "0d868cdb-540e-4f44-9135-5d6fd8944cc3",
   "metadata": {},
   "outputs": [],
   "source": [
    "comb_score_by_feature = h_comb[['rank', 'score', 'label', 'feat_1', 'feat_2']] \\\n",
    "    .merge(ale_mean_abs[['rank', 'score', 'feat_1', 'feat_2']], how='outer', \n",
    "           on=['feat_1', 'feat_2'],suffixes=('_h', '_ale')) \\\n",
    "    .merge(shap_mean_abs_int[['rank', 'score', 'feat_1', 'feat_2']], how='outer', \n",
    "           on=['feat_1', 'feat_2']) \\\n",
    "    .rename(columns={'score':'score_shap', 'rank':'rank_shap'})"
   ]
  },
  {
   "cell_type": "code",
   "execution_count": 144,
   "id": "2c079200-fcc7-4ad0-b39b-f6c347fd16bf",
   "metadata": {},
   "outputs": [],
   "source": [
    "# Append permutation feature importances\n",
    "comb_score_by_feature = comb_score_by_feature.merge(perm_importance_df[['features', 'abs_importance']] \\\n",
    "                                      .rename(columns={'abs_importance':'pi_1_a'}),\n",
    "                                  how='left', left_on='feat_1', right_on='features') \\\n",
    "    .drop(columns=['features']) \\\n",
    "    .merge(perm_importance_df[['features', 'abs_importance']] \\\n",
    "                                      .rename(columns={'abs_importance':'pi_2_a'}),\n",
    "                                  how='left', left_on='feat_2', right_on='features') \\\n",
    "    .drop(columns=['features']) "
   ]
  },
  {
   "cell_type": "code",
   "execution_count": 145,
   "id": "3276971f-5af8-465e-8388-efe4b8fbdc2e",
   "metadata": {},
   "outputs": [],
   "source": [
    "# Reorder permutation importances by strength\n",
    "comb_score_by_feature['pi_1'] = np.where(comb_score_by_feature['pi_1_a'] >=  comb_score_by_feature['pi_2_a'],\n",
    "                                   comb_score_by_feature['pi_1_a'], comb_score_by_feature['pi_2_a'])\n",
    "comb_score_by_feature['pi_2'] = np.where(comb_score_by_feature['pi_1_a'] >=  comb_score_by_feature['pi_2_a'],\n",
    "                                   comb_score_by_feature['pi_2_a'], comb_score_by_feature['pi_1_a'])\n",
    "comb_score_by_feature.drop(columns=['pi_1_a', 'pi_2_a'], inplace=True)"
   ]
  },
  {
   "cell_type": "code",
   "execution_count": 146,
   "id": "b964c714-ce05-4bb1-986c-546401012c37",
   "metadata": {},
   "outputs": [
    {
     "data": {
      "text/html": [
       "<div>\n",
       "<style scoped>\n",
       "    .dataframe tbody tr th:only-of-type {\n",
       "        vertical-align: middle;\n",
       "    }\n",
       "\n",
       "    .dataframe tbody tr th {\n",
       "        vertical-align: top;\n",
       "    }\n",
       "\n",
       "    .dataframe thead th {\n",
       "        text-align: right;\n",
       "    }\n",
       "</style>\n",
       "<table border=\"1\" class=\"dataframe\">\n",
       "  <thead>\n",
       "    <tr style=\"text-align: right;\">\n",
       "      <th></th>\n",
       "      <th>rank_h</th>\n",
       "      <th>score_h</th>\n",
       "      <th>label</th>\n",
       "      <th>feat_1</th>\n",
       "      <th>feat_2</th>\n",
       "      <th>rank_ale</th>\n",
       "      <th>score_ale</th>\n",
       "      <th>rank_shap</th>\n",
       "      <th>score_shap</th>\n",
       "      <th>pi_1</th>\n",
       "      <th>pi_2</th>\n",
       "    </tr>\n",
       "  </thead>\n",
       "  <tbody>\n",
       "    <tr>\n",
       "      <th>2</th>\n",
       "      <td>3.0</td>\n",
       "      <td>0.171378</td>\n",
       "      <td>loan_amnt:annual_inc</td>\n",
       "      <td>loan_amnt</td>\n",
       "      <td>annual_inc</td>\n",
       "      <td>1.0</td>\n",
       "      <td>0.012337</td>\n",
       "      <td>8.0</td>\n",
       "      <td>0.008784</td>\n",
       "      <td>0.001010</td>\n",
       "      <td>0.000983</td>\n",
       "    </tr>\n",
       "    <tr>\n",
       "      <th>8</th>\n",
       "      <td>9.0</td>\n",
       "      <td>0.101609</td>\n",
       "      <td>int_rate:term</td>\n",
       "      <td>int_rate</td>\n",
       "      <td>term</td>\n",
       "      <td>2.0</td>\n",
       "      <td>0.012336</td>\n",
       "      <td>1.0</td>\n",
       "      <td>0.028876</td>\n",
       "      <td>0.003413</td>\n",
       "      <td>0.001203</td>\n",
       "    </tr>\n",
       "    <tr>\n",
       "      <th>33</th>\n",
       "      <td>34.0</td>\n",
       "      <td>0.041471</td>\n",
       "      <td>int_rate:annual_inc</td>\n",
       "      <td>int_rate</td>\n",
       "      <td>annual_inc</td>\n",
       "      <td>3.0</td>\n",
       "      <td>0.011016</td>\n",
       "      <td>4.0</td>\n",
       "      <td>0.012363</td>\n",
       "      <td>0.003413</td>\n",
       "      <td>0.000983</td>\n",
       "    </tr>\n",
       "    <tr>\n",
       "      <th>13</th>\n",
       "      <td>14.0</td>\n",
       "      <td>0.087122</td>\n",
       "      <td>loan_amnt:open_acc</td>\n",
       "      <td>loan_amnt</td>\n",
       "      <td>open_acc</td>\n",
       "      <td>4.0</td>\n",
       "      <td>0.010569</td>\n",
       "      <td>46.0</td>\n",
       "      <td>0.002913</td>\n",
       "      <td>0.001010</td>\n",
       "      <td>0.000356</td>\n",
       "    </tr>\n",
       "    <tr>\n",
       "      <th>18</th>\n",
       "      <td>19.0</td>\n",
       "      <td>0.074452</td>\n",
       "      <td>int_rate:loan_amnt</td>\n",
       "      <td>int_rate</td>\n",
       "      <td>loan_amnt</td>\n",
       "      <td>5.0</td>\n",
       "      <td>0.010504</td>\n",
       "      <td>2.0</td>\n",
       "      <td>0.018142</td>\n",
       "      <td>0.003413</td>\n",
       "      <td>0.001010</td>\n",
       "    </tr>\n",
       "  </tbody>\n",
       "</table>\n",
       "</div>"
      ],
      "text/plain": [
       "    rank_h   score_h                 label     feat_1      feat_2  rank_ale  \\\n",
       "2      3.0  0.171378  loan_amnt:annual_inc  loan_amnt  annual_inc       1.0   \n",
       "8      9.0  0.101609         int_rate:term   int_rate        term       2.0   \n",
       "33    34.0  0.041471   int_rate:annual_inc   int_rate  annual_inc       3.0   \n",
       "13    14.0  0.087122    loan_amnt:open_acc  loan_amnt    open_acc       4.0   \n",
       "18    19.0  0.074452    int_rate:loan_amnt   int_rate   loan_amnt       5.0   \n",
       "\n",
       "    score_ale  rank_shap  score_shap      pi_1      pi_2  \n",
       "2    0.012337        8.0    0.008784  0.001010  0.000983  \n",
       "8    0.012336        1.0    0.028876  0.003413  0.001203  \n",
       "33   0.011016        4.0    0.012363  0.003413  0.000983  \n",
       "13   0.010569       46.0    0.002913  0.001010  0.000356  \n",
       "18   0.010504        2.0    0.018142  0.003413  0.001010  "
      ]
     },
     "execution_count": 146,
     "metadata": {},
     "output_type": "execute_result"
    }
   ],
   "source": [
    "comb_score_by_feature.sort_values('rank_ale').head()"
   ]
  },
  {
   "cell_type": "code",
   "execution_count": 147,
   "id": "55a2d1d7-dc60-47d8-9c5e-abb932b977f7",
   "metadata": {},
   "outputs": [],
   "source": [
    "# Correlations\n",
    "comb_score_corr  = comb_score_by_feature[['score_h', 'score_ale', 'score_shap', 'pi_1', 'pi_2']].corr(method='spearman')"
   ]
  },
  {
   "cell_type": "code",
   "execution_count": 148,
   "id": "6e11eb0b-1235-4aa4-9125-114ebd2c5500",
   "metadata": {},
   "outputs": [
    {
     "data": {
      "text/html": [
       "<div>\n",
       "<style scoped>\n",
       "    .dataframe tbody tr th:only-of-type {\n",
       "        vertical-align: middle;\n",
       "    }\n",
       "\n",
       "    .dataframe tbody tr th {\n",
       "        vertical-align: top;\n",
       "    }\n",
       "\n",
       "    .dataframe thead th {\n",
       "        text-align: right;\n",
       "    }\n",
       "</style>\n",
       "<table border=\"1\" class=\"dataframe\">\n",
       "  <thead>\n",
       "    <tr style=\"text-align: right;\">\n",
       "      <th></th>\n",
       "      <th>score_h</th>\n",
       "      <th>score_ale</th>\n",
       "      <th>score_shap</th>\n",
       "      <th>pi_1</th>\n",
       "      <th>pi_2</th>\n",
       "    </tr>\n",
       "  </thead>\n",
       "  <tbody>\n",
       "    <tr>\n",
       "      <th>score_h</th>\n",
       "      <td>1.000000</td>\n",
       "      <td>0.137286</td>\n",
       "      <td>0.347036</td>\n",
       "      <td>-0.334086</td>\n",
       "      <td>-0.032902</td>\n",
       "    </tr>\n",
       "    <tr>\n",
       "      <th>score_ale</th>\n",
       "      <td>0.137286</td>\n",
       "      <td>1.000000</td>\n",
       "      <td>0.603821</td>\n",
       "      <td>0.491272</td>\n",
       "      <td>0.684690</td>\n",
       "    </tr>\n",
       "    <tr>\n",
       "      <th>score_shap</th>\n",
       "      <td>0.347036</td>\n",
       "      <td>0.603821</td>\n",
       "      <td>1.000000</td>\n",
       "      <td>0.544495</td>\n",
       "      <td>0.762971</td>\n",
       "    </tr>\n",
       "    <tr>\n",
       "      <th>pi_1</th>\n",
       "      <td>-0.334086</td>\n",
       "      <td>0.491272</td>\n",
       "      <td>0.544495</td>\n",
       "      <td>1.000000</td>\n",
       "      <td>0.467320</td>\n",
       "    </tr>\n",
       "    <tr>\n",
       "      <th>pi_2</th>\n",
       "      <td>-0.032902</td>\n",
       "      <td>0.684690</td>\n",
       "      <td>0.762971</td>\n",
       "      <td>0.467320</td>\n",
       "      <td>1.000000</td>\n",
       "    </tr>\n",
       "  </tbody>\n",
       "</table>\n",
       "</div>"
      ],
      "text/plain": [
       "             score_h  score_ale  score_shap      pi_1      pi_2\n",
       "score_h     1.000000   0.137286    0.347036 -0.334086 -0.032902\n",
       "score_ale   0.137286   1.000000    0.603821  0.491272  0.684690\n",
       "score_shap  0.347036   0.603821    1.000000  0.544495  0.762971\n",
       "pi_1       -0.334086   0.491272    0.544495  1.000000  0.467320\n",
       "pi_2       -0.032902   0.684690    0.762971  0.467320  1.000000"
      ]
     },
     "execution_count": 148,
     "metadata": {},
     "output_type": "execute_result"
    }
   ],
   "source": [
    "comb_score_corr"
   ]
  },
  {
   "cell_type": "code",
   "execution_count": 149,
   "id": "d4f08c0c-145b-4360-af11-da5b216484aa",
   "metadata": {},
   "outputs": [],
   "source": [
    "comb_score_corr.to_csv(Path(setup.temp_path).joinpath('06_REPORT_interactions_corr.csv'),\n",
    "                   index=True)"
   ]
  },
  {
   "cell_type": "markdown",
   "id": "6b9c9844-4641-4ff2-9f4d-f67f498087c7",
   "metadata": {},
   "source": [
    "## Term and Interest Rate\n",
    "This is an interaction which shows opposite yet similar effects with SHAP vs. ALE.  Get more information about these features and how the model responds to them."
   ]
  },
  {
   "cell_type": "markdown",
   "id": "80203de4-90e1-4fad-a847-a5e342207057",
   "metadata": {},
   "source": [
    "### Correlations between term and other features"
   ]
  },
  {
   "cell_type": "code",
   "execution_count": 150,
   "id": "291fa1b7-b513-4aa6-87b2-bd5414e753ef",
   "metadata": {},
   "outputs": [],
   "source": [
    "term_corr = pd.DataFrame({'feature': predictor_features,\n",
    "                          'corr': [train_samp_df[['term', f]] \\\n",
    "                                   .corr().iloc[0,1] for f in predictor_features]})"
   ]
  },
  {
   "cell_type": "code",
   "execution_count": 151,
   "id": "6e8a8af4-8ee9-497d-9530-a41deb848547",
   "metadata": {},
   "outputs": [
    {
     "data": {
      "text/html": [
       "<div>\n",
       "<style scoped>\n",
       "    .dataframe tbody tr th:only-of-type {\n",
       "        vertical-align: middle;\n",
       "    }\n",
       "\n",
       "    .dataframe tbody tr th {\n",
       "        vertical-align: top;\n",
       "    }\n",
       "\n",
       "    .dataframe thead th {\n",
       "        text-align: right;\n",
       "    }\n",
       "</style>\n",
       "<table border=\"1\" class=\"dataframe\">\n",
       "  <thead>\n",
       "    <tr style=\"text-align: right;\">\n",
       "      <th></th>\n",
       "      <th>feature</th>\n",
       "      <th>corr</th>\n",
       "    </tr>\n",
       "  </thead>\n",
       "  <tbody>\n",
       "    <tr>\n",
       "      <th>1</th>\n",
       "      <td>term</td>\n",
       "      <td>1.000000</td>\n",
       "    </tr>\n",
       "    <tr>\n",
       "      <th>2</th>\n",
       "      <td>int_rate</td>\n",
       "      <td>0.420609</td>\n",
       "    </tr>\n",
       "    <tr>\n",
       "      <th>0</th>\n",
       "      <td>loan_amnt</td>\n",
       "      <td>0.378657</td>\n",
       "    </tr>\n",
       "    <tr>\n",
       "      <th>5</th>\n",
       "      <td>verification_status</td>\n",
       "      <td>0.130195</td>\n",
       "    </tr>\n",
       "    <tr>\n",
       "      <th>9</th>\n",
       "      <td>initial_list_status</td>\n",
       "      <td>0.101052</td>\n",
       "    </tr>\n",
       "  </tbody>\n",
       "</table>\n",
       "</div>"
      ],
      "text/plain": [
       "               feature      corr\n",
       "1                 term  1.000000\n",
       "2             int_rate  0.420609\n",
       "0            loan_amnt  0.378657\n",
       "5  verification_status  0.130195\n",
       "9  initial_list_status  0.101052"
      ]
     },
     "execution_count": 151,
     "metadata": {},
     "output_type": "execute_result"
    }
   ],
   "source": [
    "term_corr.sort_values('corr', ascending=False).head(5)"
   ]
  },
  {
   "cell_type": "markdown",
   "id": "b8521c7b-c804-45bf-b770-3ffcd22f21c8",
   "metadata": {},
   "source": [
    "## Correlations between interest rate and other features"
   ]
  },
  {
   "cell_type": "code",
   "execution_count": 152,
   "id": "bb0219e1-0e7d-45aa-97ee-45fb6aaa80e8",
   "metadata": {},
   "outputs": [],
   "source": [
    "int_rate_corr = pd.DataFrame({'feature': predictor_features,\n",
    "                          'corr': [train_samp_df[['int_rate', f]] \\\n",
    "                                   .corr().iloc[0,1] for f in predictor_features]})"
   ]
  },
  {
   "cell_type": "code",
   "execution_count": 153,
   "id": "00f96328-4dd0-4b61-8f82-de7bb169cef3",
   "metadata": {},
   "outputs": [
    {
     "data": {
      "text/html": [
       "<div>\n",
       "<style scoped>\n",
       "    .dataframe tbody tr th:only-of-type {\n",
       "        vertical-align: middle;\n",
       "    }\n",
       "\n",
       "    .dataframe tbody tr th {\n",
       "        vertical-align: top;\n",
       "    }\n",
       "\n",
       "    .dataframe thead th {\n",
       "        text-align: right;\n",
       "    }\n",
       "</style>\n",
       "<table border=\"1\" class=\"dataframe\">\n",
       "  <thead>\n",
       "    <tr style=\"text-align: right;\">\n",
       "      <th></th>\n",
       "      <th>feature</th>\n",
       "      <th>corr</th>\n",
       "    </tr>\n",
       "  </thead>\n",
       "  <tbody>\n",
       "    <tr>\n",
       "      <th>2</th>\n",
       "      <td>int_rate</td>\n",
       "      <td>1.000000</td>\n",
       "    </tr>\n",
       "    <tr>\n",
       "      <th>1</th>\n",
       "      <td>term</td>\n",
       "      <td>0.420609</td>\n",
       "    </tr>\n",
       "    <tr>\n",
       "      <th>5</th>\n",
       "      <td>verification_status</td>\n",
       "      <td>0.221517</td>\n",
       "    </tr>\n",
       "    <tr>\n",
       "      <th>0</th>\n",
       "      <td>loan_amnt</td>\n",
       "      <td>0.139630</td>\n",
       "    </tr>\n",
       "    <tr>\n",
       "      <th>15</th>\n",
       "      <td>home_ownership__RENT</td>\n",
       "      <td>0.072318</td>\n",
       "    </tr>\n",
       "  </tbody>\n",
       "</table>\n",
       "</div>"
      ],
      "text/plain": [
       "                 feature      corr\n",
       "2               int_rate  1.000000\n",
       "1                   term  0.420609\n",
       "5    verification_status  0.221517\n",
       "0              loan_amnt  0.139630\n",
       "15  home_ownership__RENT  0.072318"
      ]
     },
     "execution_count": 153,
     "metadata": {},
     "output_type": "execute_result"
    }
   ],
   "source": [
    "int_rate_corr.sort_values('corr', ascending=False).head(5)"
   ]
  },
  {
   "cell_type": "code",
   "execution_count": 154,
   "id": "c700c488-121c-4366-a8cb-20d841330314",
   "metadata": {},
   "outputs": [
    {
     "data": {
      "text/plain": [
       "count    100000.000000\n",
       "mean         13.245706\n",
       "std           4.776438\n",
       "min           5.310000\n",
       "25%           9.750000\n",
       "50%          12.740000\n",
       "75%          15.990000\n",
       "max          30.990000\n",
       "Name: int_rate, dtype: float64"
      ]
     },
     "execution_count": 154,
     "metadata": {},
     "output_type": "execute_result"
    }
   ],
   "source": [
    "train_samp_df['int_rate'].describe()"
   ]
  },
  {
   "cell_type": "code",
   "execution_count": 155,
   "id": "74d84ba0-0971-43cd-bb28-41018d61f26b",
   "metadata": {},
   "outputs": [
    {
     "data": {
      "text/plain": [
       "36    0.75712\n",
       "60    0.24288\n",
       "Name: term, dtype: float64"
      ]
     },
     "execution_count": 155,
     "metadata": {},
     "output_type": "execute_result"
    }
   ],
   "source": [
    "train_samp_df['term'].value_counts(normalize=True)"
   ]
  },
  {
   "cell_type": "markdown",
   "id": "9d55be4e-d37e-41ef-a3ce-ae6610239056",
   "metadata": {},
   "source": [
    "## Comparisons of high- vs. low-interest rate cases"
   ]
  },
  {
   "cell_type": "code",
   "execution_count": 156,
   "id": "9b58eca0-d264-4c01-a0d2-a5e16661b236",
   "metadata": {},
   "outputs": [],
   "source": [
    "train_samp_df['high_int'] = np.where(train_samp_df['int_rate'] > 20, 1, 0)"
   ]
  },
  {
   "cell_type": "code",
   "execution_count": 157,
   "id": "340a63c8-2671-49e6-bb5f-36b3f574496c",
   "metadata": {},
   "outputs": [
    {
     "data": {
      "text/plain": [
       "0    0.92027\n",
       "1    0.07973\n",
       "Name: high_int, dtype: float64"
      ]
     },
     "execution_count": 157,
     "metadata": {},
     "output_type": "execute_result"
    }
   ],
   "source": [
    "train_samp_df['high_int'].value_counts(normalize=True)"
   ]
  },
  {
   "cell_type": "code",
   "execution_count": 158,
   "id": "591b4a17-9656-47b3-adc6-5b73c41affa8",
   "metadata": {},
   "outputs": [
    {
     "data": {
      "text/html": [
       "<div>\n",
       "<style scoped>\n",
       "    .dataframe tbody tr th:only-of-type {\n",
       "        vertical-align: middle;\n",
       "    }\n",
       "\n",
       "    .dataframe tbody tr th {\n",
       "        vertical-align: top;\n",
       "    }\n",
       "\n",
       "    .dataframe thead th {\n",
       "        text-align: right;\n",
       "    }\n",
       "</style>\n",
       "<table border=\"1\" class=\"dataframe\">\n",
       "  <thead>\n",
       "    <tr style=\"text-align: right;\">\n",
       "      <th>grade</th>\n",
       "      <th>A</th>\n",
       "      <th>B</th>\n",
       "      <th>C</th>\n",
       "      <th>D</th>\n",
       "      <th>E</th>\n",
       "      <th>F</th>\n",
       "      <th>G</th>\n",
       "    </tr>\n",
       "    <tr>\n",
       "      <th>high_int</th>\n",
       "      <th></th>\n",
       "      <th></th>\n",
       "      <th></th>\n",
       "      <th></th>\n",
       "      <th></th>\n",
       "      <th></th>\n",
       "      <th></th>\n",
       "    </tr>\n",
       "  </thead>\n",
       "  <tbody>\n",
       "    <tr>\n",
       "      <th>0</th>\n",
       "      <td>0.191031</td>\n",
       "      <td>0.315451</td>\n",
       "      <td>0.310387</td>\n",
       "      <td>0.152205</td>\n",
       "      <td>0.030535</td>\n",
       "      <td>0.000391</td>\n",
       "      <td>0.000000</td>\n",
       "    </tr>\n",
       "    <tr>\n",
       "      <th>1</th>\n",
       "      <td>0.000000</td>\n",
       "      <td>0.000000</td>\n",
       "      <td>0.000000</td>\n",
       "      <td>0.102596</td>\n",
       "      <td>0.516368</td>\n",
       "      <td>0.291609</td>\n",
       "      <td>0.089427</td>\n",
       "    </tr>\n",
       "  </tbody>\n",
       "</table>\n",
       "</div>"
      ],
      "text/plain": [
       "grade            A         B         C         D         E         F         G\n",
       "high_int                                                                      \n",
       "0         0.191031  0.315451  0.310387  0.152205  0.030535  0.000391  0.000000\n",
       "1         0.000000  0.000000  0.000000  0.102596  0.516368  0.291609  0.089427"
      ]
     },
     "execution_count": 158,
     "metadata": {},
     "output_type": "execute_result"
    }
   ],
   "source": [
    "pd.crosstab(train_samp_df['high_int'], train_samp_df['grade'], normalize='index')"
   ]
  },
  {
   "cell_type": "code",
   "execution_count": 159,
   "id": "5d0b1225-37fc-44db-b947-f22576a5bdf1",
   "metadata": {},
   "outputs": [
    {
     "data": {
      "text/html": [
       "<div>\n",
       "<style scoped>\n",
       "    .dataframe tbody tr th:only-of-type {\n",
       "        vertical-align: middle;\n",
       "    }\n",
       "\n",
       "    .dataframe tbody tr th {\n",
       "        vertical-align: top;\n",
       "    }\n",
       "\n",
       "    .dataframe thead th {\n",
       "        text-align: right;\n",
       "    }\n",
       "</style>\n",
       "<table border=\"1\" class=\"dataframe\">\n",
       "  <thead>\n",
       "    <tr style=\"text-align: right;\">\n",
       "      <th>verification_status</th>\n",
       "      <th>0</th>\n",
       "      <th>1</th>\n",
       "    </tr>\n",
       "    <tr>\n",
       "      <th>high_int</th>\n",
       "      <th></th>\n",
       "      <th></th>\n",
       "    </tr>\n",
       "  </thead>\n",
       "  <tbody>\n",
       "    <tr>\n",
       "      <th>0</th>\n",
       "      <td>0.318417</td>\n",
       "      <td>0.681583</td>\n",
       "    </tr>\n",
       "    <tr>\n",
       "      <th>1</th>\n",
       "      <td>0.120156</td>\n",
       "      <td>0.879844</td>\n",
       "    </tr>\n",
       "  </tbody>\n",
       "</table>\n",
       "</div>"
      ],
      "text/plain": [
       "verification_status         0         1\n",
       "high_int                               \n",
       "0                    0.318417  0.681583\n",
       "1                    0.120156  0.879844"
      ]
     },
     "execution_count": 159,
     "metadata": {},
     "output_type": "execute_result"
    }
   ],
   "source": [
    "pd.crosstab(train_samp_df['high_int'], train_samp_df['verification_status'],\n",
    "           normalize='index')"
   ]
  },
  {
   "cell_type": "code",
   "execution_count": 160,
   "id": "d7af9966-d197-411c-833c-a7b376d0eece",
   "metadata": {},
   "outputs": [
    {
     "data": {
      "text/html": [
       "<div>\n",
       "<style scoped>\n",
       "    .dataframe tbody tr th:only-of-type {\n",
       "        vertical-align: middle;\n",
       "    }\n",
       "\n",
       "    .dataframe tbody tr th {\n",
       "        vertical-align: top;\n",
       "    }\n",
       "\n",
       "    .dataframe thead th {\n",
       "        text-align: right;\n",
       "    }\n",
       "</style>\n",
       "<table border=\"1\" class=\"dataframe\">\n",
       "  <thead>\n",
       "    <tr style=\"text-align: right;\">\n",
       "      <th>home_ownership__RENT</th>\n",
       "      <th>0</th>\n",
       "      <th>1</th>\n",
       "    </tr>\n",
       "    <tr>\n",
       "      <th>high_int</th>\n",
       "      <th></th>\n",
       "      <th></th>\n",
       "    </tr>\n",
       "  </thead>\n",
       "  <tbody>\n",
       "    <tr>\n",
       "      <th>0</th>\n",
       "      <td>0.607191</td>\n",
       "      <td>0.392809</td>\n",
       "    </tr>\n",
       "    <tr>\n",
       "      <th>1</th>\n",
       "      <td>0.570801</td>\n",
       "      <td>0.429199</td>\n",
       "    </tr>\n",
       "  </tbody>\n",
       "</table>\n",
       "</div>"
      ],
      "text/plain": [
       "home_ownership__RENT         0         1\n",
       "high_int                                \n",
       "0                     0.607191  0.392809\n",
       "1                     0.570801  0.429199"
      ]
     },
     "execution_count": 160,
     "metadata": {},
     "output_type": "execute_result"
    }
   ],
   "source": [
    "pd.crosstab(train_samp_df['high_int'], train_samp_df['home_ownership__RENT'],\n",
    "           normalize='index')"
   ]
  },
  {
   "cell_type": "code",
   "execution_count": 161,
   "id": "c5b8d96f-73de-4385-bbc8-484a21919719",
   "metadata": {},
   "outputs": [
    {
     "data": {
      "text/html": [
       "<div>\n",
       "<style scoped>\n",
       "    .dataframe tbody tr th:only-of-type {\n",
       "        vertical-align: middle;\n",
       "    }\n",
       "\n",
       "    .dataframe tbody tr th {\n",
       "        vertical-align: top;\n",
       "    }\n",
       "\n",
       "    .dataframe thead th {\n",
       "        text-align: right;\n",
       "    }\n",
       "</style>\n",
       "<table border=\"1\" class=\"dataframe\">\n",
       "  <thead>\n",
       "    <tr style=\"text-align: right;\">\n",
       "      <th>purpose</th>\n",
       "      <th>car</th>\n",
       "      <th>credit_card</th>\n",
       "      <th>debt_consolidation</th>\n",
       "      <th>educational</th>\n",
       "      <th>home_improvement</th>\n",
       "      <th>house</th>\n",
       "      <th>major_purchase</th>\n",
       "      <th>medical</th>\n",
       "      <th>moving</th>\n",
       "      <th>other</th>\n",
       "      <th>renewable_energy</th>\n",
       "      <th>small_business</th>\n",
       "      <th>vacation</th>\n",
       "      <th>wedding</th>\n",
       "    </tr>\n",
       "    <tr>\n",
       "      <th>high_int</th>\n",
       "      <th></th>\n",
       "      <th></th>\n",
       "      <th></th>\n",
       "      <th></th>\n",
       "      <th></th>\n",
       "      <th></th>\n",
       "      <th></th>\n",
       "      <th></th>\n",
       "      <th></th>\n",
       "      <th></th>\n",
       "      <th></th>\n",
       "      <th></th>\n",
       "      <th></th>\n",
       "      <th></th>\n",
       "    </tr>\n",
       "  </thead>\n",
       "  <tbody>\n",
       "    <tr>\n",
       "      <th>0</th>\n",
       "      <td>0.011149</td>\n",
       "      <td>0.23103</td>\n",
       "      <td>0.574657</td>\n",
       "      <td>0.000272</td>\n",
       "      <td>0.066915</td>\n",
       "      <td>0.004683</td>\n",
       "      <td>0.021613</td>\n",
       "      <td>0.010899</td>\n",
       "      <td>0.006585</td>\n",
       "      <td>0.053636</td>\n",
       "      <td>0.000587</td>\n",
       "      <td>0.009519</td>\n",
       "      <td>0.006770</td>\n",
       "      <td>0.001684</td>\n",
       "    </tr>\n",
       "    <tr>\n",
       "      <th>1</th>\n",
       "      <td>0.009030</td>\n",
       "      <td>0.10222</td>\n",
       "      <td>0.640411</td>\n",
       "      <td>0.000000</td>\n",
       "      <td>0.062210</td>\n",
       "      <td>0.011414</td>\n",
       "      <td>0.018939</td>\n",
       "      <td>0.015427</td>\n",
       "      <td>0.011915</td>\n",
       "      <td>0.092186</td>\n",
       "      <td>0.001881</td>\n",
       "      <td>0.026464</td>\n",
       "      <td>0.005644</td>\n",
       "      <td>0.002258</td>\n",
       "    </tr>\n",
       "  </tbody>\n",
       "</table>\n",
       "</div>"
      ],
      "text/plain": [
       "purpose        car  credit_card  debt_consolidation  educational  \\\n",
       "high_int                                                           \n",
       "0         0.011149      0.23103            0.574657     0.000272   \n",
       "1         0.009030      0.10222            0.640411     0.000000   \n",
       "\n",
       "purpose   home_improvement     house  major_purchase   medical    moving  \\\n",
       "high_int                                                                   \n",
       "0                 0.066915  0.004683        0.021613  0.010899  0.006585   \n",
       "1                 0.062210  0.011414        0.018939  0.015427  0.011915   \n",
       "\n",
       "purpose      other  renewable_energy  small_business  vacation   wedding  \n",
       "high_int                                                                  \n",
       "0         0.053636          0.000587        0.009519  0.006770  0.001684  \n",
       "1         0.092186          0.001881        0.026464  0.005644  0.002258  "
      ]
     },
     "execution_count": 161,
     "metadata": {},
     "output_type": "execute_result"
    }
   ],
   "source": [
    "pd.crosstab(train_samp_df['high_int'], train_samp_df['purpose'],\n",
    "           normalize='index')"
   ]
  },
  {
   "cell_type": "code",
   "execution_count": 163,
   "id": "877b01d9-3eb6-4ded-bc3e-05810e8312fa",
   "metadata": {},
   "outputs": [
    {
     "data": {
      "text/html": [
       "<div>\n",
       "<style scoped>\n",
       "    .dataframe tbody tr th:only-of-type {\n",
       "        vertical-align: middle;\n",
       "    }\n",
       "\n",
       "    .dataframe tbody tr th {\n",
       "        vertical-align: top;\n",
       "    }\n",
       "\n",
       "    .dataframe thead th {\n",
       "        text-align: right;\n",
       "    }\n",
       "</style>\n",
       "<table border=\"1\" class=\"dataframe\">\n",
       "  <thead>\n",
       "    <tr style=\"text-align: right;\">\n",
       "      <th></th>\n",
       "      <th>fico_range_low</th>\n",
       "      <th>sec_app_fico_range_low</th>\n",
       "      <th>loan_amnt</th>\n",
       "      <th>emp_length</th>\n",
       "      <th>annual_inc</th>\n",
       "    </tr>\n",
       "    <tr>\n",
       "      <th>high_int</th>\n",
       "      <th></th>\n",
       "      <th></th>\n",
       "      <th></th>\n",
       "      <th></th>\n",
       "      <th></th>\n",
       "    </tr>\n",
       "  </thead>\n",
       "  <tbody>\n",
       "    <tr>\n",
       "      <th>0</th>\n",
       "      <td>697.418312</td>\n",
       "      <td>696.862769</td>\n",
       "      <td>14120.901475</td>\n",
       "      <td>5.609310</td>\n",
       "      <td>76785.952010</td>\n",
       "    </tr>\n",
       "    <tr>\n",
       "      <th>1</th>\n",
       "      <td>681.557757</td>\n",
       "      <td>680.491032</td>\n",
       "      <td>18220.111627</td>\n",
       "      <td>5.716042</td>\n",
       "      <td>73200.382882</td>\n",
       "    </tr>\n",
       "  </tbody>\n",
       "</table>\n",
       "</div>"
      ],
      "text/plain": [
       "          fico_range_low  sec_app_fico_range_low     loan_amnt  emp_length  \\\n",
       "high_int                                                                     \n",
       "0             697.418312              696.862769  14120.901475    5.609310   \n",
       "1             681.557757              680.491032  18220.111627    5.716042   \n",
       "\n",
       "            annual_inc  \n",
       "high_int                \n",
       "0         76785.952010  \n",
       "1         73200.382882  "
      ]
     },
     "execution_count": 163,
     "metadata": {},
     "output_type": "execute_result"
    }
   ],
   "source": [
    "train_samp_df.groupby('high_int') \\\n",
    "    [['fico_range_low', 'sec_app_fico_range_low', 'loan_amnt', 'emp_length', \n",
    "     'annual_inc']] \\\n",
    "    .agg('mean')"
   ]
  },
  {
   "cell_type": "markdown",
   "id": "8be62bbf-a390-4d4c-8436-2ce9610ca75d",
   "metadata": {},
   "source": [
    "### 2-Way plots of actual and predicted rates.\n",
    "What does the raw data / response show?  Bucket the interest rates and plot the mean term rates / model response for both term values."
   ]
  },
  {
   "cell_type": "code",
   "execution_count": 30,
   "id": "372557f4-d804-44e6-a2ce-aca13de0eb61",
   "metadata": {},
   "outputs": [],
   "source": [
    "# Get model predictions\n",
    "model_predict = pd.Series(base_model.predict_proba(train_samp_df[predictor_features])[:,1])\n",
    "model_predict.name = 'predict'"
   ]
  },
  {
   "cell_type": "code",
   "execution_count": 31,
   "id": "7c3d8203-3d56-4a63-9565-90ef2d6d4ee7",
   "metadata": {},
   "outputs": [],
   "source": [
    "# Append to data\n",
    "train_pred_df = pd.concat([train_samp_df[['int_rate', 'term', 'target']].reset_index(), \n",
    "                           model_predict], axis=1)"
   ]
  },
  {
   "cell_type": "code",
   "execution_count": 32,
   "id": "d3f494cc-2dc9-40a3-accd-ab5a9ba5de2d",
   "metadata": {},
   "outputs": [],
   "source": [
    "# Bucket the interest rates\n",
    "train_pred_df['int_rate_grp'] = pd.qcut(train_pred_df['int_rate'], 25, duplicates='drop')"
   ]
  },
  {
   "cell_type": "code",
   "execution_count": 33,
   "id": "b5b20dd5-0cf5-4ec3-a180-7d8047d3e7d3",
   "metadata": {},
   "outputs": [],
   "source": [
    "# Aggregate\n",
    "train_samp_agg = train_pred_df.groupby(['int_rate_grp', 'term']) \\\n",
    "    [['target', 'predict']] \\\n",
    "    .agg(['mean', 'std']) \n",
    "train_samp_agg.columns = [c[0]+'_' + c[1] for c in train_samp_agg.columns]\n",
    "train_samp_agg.reset_index(inplace=True)"
   ]
  },
  {
   "cell_type": "code",
   "execution_count": 34,
   "id": "8d69fa6c-d3da-462e-9dae-c1faae587d08",
   "metadata": {},
   "outputs": [],
   "source": [
    "# Add interest rate midpoints for plotting\n",
    "train_samp_agg['plot_x'] = train_samp_agg['int_rate_grp'].apply(lambda x: float(x.mid))"
   ]
  },
  {
   "cell_type": "code",
   "execution_count": 35,
   "id": "701c3bb0-7de0-4048-bae5-cb25f521a3b3",
   "metadata": {},
   "outputs": [],
   "source": [
    "train_samp_agg_plot = train_samp_agg[['plot_x', 'term', 'target_mean', 'predict_mean']] \\\n",
    "    .pivot(index='plot_x', columns='term', values=['target_mean', 'predict_mean'])"
   ]
  },
  {
   "cell_type": "code",
   "execution_count": 36,
   "id": "3b9925d9-24ad-4748-99c8-3aebf268e86b",
   "metadata": {},
   "outputs": [],
   "source": [
    "# Colors array for plot\n",
    "cmap = mpl.cm.coolwarm\n",
    "n = len(train_samp_agg['term'].value_counts())\n",
    "colors = cmap(np.linspace(0,1,n))\n"
   ]
  },
  {
   "cell_type": "code",
   "execution_count": 37,
   "id": "50110c04-4ce4-4761-addc-a2e7fe719d61",
   "metadata": {},
   "outputs": [
    {
     "data": {
      "image/png": "[encoded data removed]",
      "text/plain": [
       "<Figure size 800x200 with 2 Axes>"
      ]
     },
     "metadata": {},
     "output_type": "display_data"
    }
   ],
   "source": [
    "fig, ax = plt.subplots(1,2, sharex=True, sharey=True)\n",
    "figsize=(8,2)\n",
    "    \n",
    "train_samp_agg_plot[[c for c in train_samp_agg_plot.columns if c[0] == 'target_mean']] \\\n",
    "    .droplevel(0, axis=1) \\\n",
    "    .plot(color=colors, legend=None, figsize=figsize, ax=ax[0])\n",
    "train_samp_agg_plot[[c for c in train_samp_agg_plot.columns if c[0] == 'predict_mean']] \\\n",
    "    .droplevel(0, axis=1) \\\n",
    "    .plot(color=colors, legend=None, figsize=figsize, ax=ax[1])     \n",
    "\n",
    "ax[0].legend(frameon=True)\n",
    "ax[1].xaxis.set_major_formatter(FormatStrFormatter('%.0f'))\n",
    "ax[1].yaxis.set_major_formatter(PercentFormatter(1, decimals=0))\n",
    "ax[1].set_xlabel('int_rate')\n",
    "ax[0].set_xlabel('int_rate')\n",
    "ax[0].set_ylabel('mean default')\n",
    "ax[0].title.set_text('Actual')\n",
    "ax[1].title.set_text('Model Prediction')\n",
    "fig.savefig(Path(setup.temp_path).joinpath('06_PLOT_int_term_actual_pred.png'),\n",
    "            bbox_inches='tight')"
   ]
  },
  {
   "cell_type": "markdown",
   "id": "a9205050-2bb8-4cee-9f71-8253c869056d",
   "metadata": {},
   "source": [
    "## PDP / ICE Plots - Term and Interest Rate"
   ]
  },
  {
   "cell_type": "markdown",
   "id": "8f360bf1-9f8c-437d-89b5-264031caa7fa",
   "metadata": {},
   "source": [
    "##### 2-Way PDP Average"
   ]
  },
  {
   "cell_type": "code",
   "execution_count": 38,
   "id": "97beb97f-db4b-4373-a044-1b25e537c2cc",
   "metadata": {},
   "outputs": [],
   "source": [
    "# Get 2-Way PDP\n",
    "avg_pdp = partial_dependence(base_model, train_samp_df[predictor_features], \n",
    "                                  ['int_rate', 'term'], kind='average',\n",
    "                             percentiles=(0,1),\n",
    "                            method='brute')"
   ]
  },
  {
   "cell_type": "code",
   "execution_count": 39,
   "id": "89ec695d-1254-4d1f-a765-942fcabeed29",
   "metadata": {},
   "outputs": [],
   "source": [
    "# Convert to data frame\n",
    "avg_pdp_df = pd.concat([pd.DataFrame(avg_pdp['values'][0], columns=['values']),\n",
    "                         pd.DataFrame(avg_pdp['average'][0], columns=avg_pdp['values'][1])],\n",
    "                        axis=1)"
   ]
  },
  {
   "cell_type": "code",
   "execution_count": 40,
   "id": "a2a6647c-96ce-447d-a6d7-159850f6b676",
   "metadata": {},
   "outputs": [
    {
     "data": {
      "image/png": "[encoded data removed]",
      "text/plain": [
       "<Figure size 640x480 with 1 Axes>"
      ]
     },
     "metadata": {},
     "output_type": "display_data"
    }
   ],
   "source": [
    "# Plot\n",
    "fig, ax = plt.subplots()\n",
    "avg_pdp_df.set_index('values').plot(color = colors, ax=ax)\n",
    "ax.set_ylabel('2-way partial dependence')\n",
    "ax.set_xlabel('int_rate')\n",
    "ax.legend(title='term')\n",
    "fig.savefig(Path(setup.temp_path).joinpath('06_PLOT_int_term_pdp_avg.png'),\n",
    "            bbox_inches='tight')"
   ]
  },
  {
   "cell_type": "markdown",
   "id": "7a7e0e32-fea2-4e52-90b4-4f72196e2dbf",
   "metadata": {},
   "source": [
    "##### Overlay 1-Way Averages"
   ]
  },
  {
   "cell_type": "code",
   "execution_count": 41,
   "id": "b9e4ae7b-fc20-486a-a7f1-1e5b1fb6e1fa",
   "metadata": {},
   "outputs": [],
   "source": [
    "term_value_counts = train_samp_df['term'].value_counts()\n",
    "color_categories = term_value_counts.index\n",
    "cnorm  = mpl.colors.Normalize(vmin=0, vmax= len(color_categories) - 1)\n",
    "color_scalar_map = mpl.cm.ScalarMappable(norm=cnorm, cmap=cmap)\n",
    "color_dict = {color_categories[i]: color_scalar_map.to_rgba(i) \n",
    "              for i in range(0, len(color_categories))}"
   ]
  },
  {
   "cell_type": "code",
   "execution_count": 42,
   "id": "7cd1b060-99ad-4699-bd6f-976751702029",
   "metadata": {},
   "outputs": [
    {
     "data": {
      "text/plain": [
       "2"
      ]
     },
     "execution_count": 42,
     "metadata": {},
     "output_type": "execute_result"
    }
   ],
   "source": [
    "len(term_value_counts)"
   ]
  },
  {
   "cell_type": "code",
   "execution_count": 43,
   "id": "26b5d728-a488-402c-a1c3-c77b76f0b052",
   "metadata": {},
   "outputs": [
    {
     "data": {
      "image/png": "[encoded data removed]",
      "text/plain": [
       "<Figure size 640x480 with 1 Axes>"
      ]
     },
     "metadata": {},
     "output_type": "display_data"
    }
   ],
   "source": [
    "fig, ax = plt.subplots()\n",
    "\n",
    "for key, group in train_samp_df.groupby('term'):\n",
    "    this_pdp = partial_dependence(base_model, group[predictor_features], \n",
    "                                  ['int_rate'], kind='average',\n",
    "                                 percentiles=(0,1),\n",
    "                                 method='brute')\n",
    "    this_pdp_df = pd.DataFrame({k:v[0] for k,v in this_pdp.items()})\n",
    "    \n",
    "    this_pdp_df.plot(x='values', y='average', ax=ax,\n",
    "                     color=color_dict[key], label=key)\n",
    "ax.set_ylabel('1-way partial dependence')\n",
    "ax.set_xlabel('int_rate')\n",
    "ax.legend(title='term')\n",
    "fig.savefig(Path(setup.temp_path).joinpath('06_PLOT_int_term_pdp_avg_double_1way.png'),\n",
    "            bbox_inches='tight')"
   ]
  },
  {
   "cell_type": "markdown",
   "id": "efe93536-a7f2-4d59-acb5-1eab1dd3051f",
   "metadata": {},
   "source": [
    "##### 2-Way ICE Curves (Sample)"
   ]
  },
  {
   "cell_type": "code",
   "execution_count": 44,
   "id": "69e1c57f-dae9-43a2-8b9f-b2774e27a84a",
   "metadata": {},
   "outputs": [],
   "source": [
    "# Get stratified samp - large sample to ensure adequate grid size\n",
    "X_samp = train_samp_df[predictor_features].groupby('term').sample(100)"
   ]
  },
  {
   "cell_type": "code",
   "execution_count": 45,
   "id": "bac5e523-a0b0-4090-9b12-0482890b7f9f",
   "metadata": {},
   "outputs": [],
   "source": [
    "# Get 2-Way PDP\n",
    "indiv_pdp = partial_dependence(base_model, X_samp, \n",
    "                                  ['int_rate', 'term'], kind='individual',\n",
    "                               percentiles=(0,1),\n",
    "                              method='brute',\n",
    "                              grid_resolution = 100)"
   ]
  },
  {
   "cell_type": "code",
   "execution_count": 72,
   "id": "d2334925-9e0b-41be-9ca2-a90f73c2a269",
   "metadata": {},
   "outputs": [],
   "source": [
    "# DataFrame conversion \n",
    "num_samp = indiv_pdp['individual'][0].shape[0]\n",
    "indiv_samp_df = pd.concat([pd.DataFrame(indiv_pdp['individual'][0][i,:,:],\n",
    "                                   columns = indiv_pdp['values'][1]) \\\n",
    "                           for i in range(0, num_samp)],\n",
    "                     keys = range(0, num_samp),\n",
    "                     axis=1)"
   ]
  },
  {
   "cell_type": "code",
   "execution_count": 73,
   "id": "5ea877f1-0926-4e22-966f-fbe3e50d32d7",
   "metadata": {},
   "outputs": [],
   "source": [
    "indiv_samp_df.index = pd.Series(indiv_pdp['values'][0], name='values')"
   ]
  },
  {
   "cell_type": "code",
   "execution_count": 74,
   "id": "32c5fcc6-fcf3-42e2-8128-56f98722403d",
   "metadata": {},
   "outputs": [
    {
     "data": {
      "text/plain": [
       "(100, 400)"
      ]
     },
     "execution_count": 74,
     "metadata": {},
     "output_type": "execute_result"
    }
   ],
   "source": [
    "indiv_samp_df.shape"
   ]
  },
  {
   "cell_type": "code",
   "execution_count": 75,
   "id": "a537e0f8-7ba7-43f6-bed4-64a744bed1ce",
   "metadata": {},
   "outputs": [],
   "source": [
    "random.seed(43)\n",
    "colsamp = random.sample(list(indiv_samp_df.columns.get_level_values(0)), 10)"
   ]
  },
  {
   "cell_type": "code",
   "execution_count": 76,
   "id": "8c67a4f2-9ddf-44b7-8fb1-ab1577cb6bfe",
   "metadata": {},
   "outputs": [],
   "source": [
    "# Get subsample of cases to make plots nicer\n",
    "colsamp = random.sample(list(indiv_samp_df.columns.get_level_values(0)), 20)\n",
    "indiv_samp_2_df = indiv_samp_df.loc[:, colsamp]"
   ]
  },
  {
   "cell_type": "code",
   "execution_count": 77,
   "id": "d152808a-81a4-4a4f-9c27-15c2fe0268ab",
   "metadata": {},
   "outputs": [
    {
     "data": {
      "text/plain": [
       "(100, 40)"
      ]
     },
     "execution_count": 77,
     "metadata": {},
     "output_type": "execute_result"
    }
   ],
   "source": [
    "indiv_samp_2_df.shape"
   ]
  },
  {
   "cell_type": "code",
   "execution_count": 78,
   "id": "4575da3c-d1c8-4b70-a2fc-7748d9efc0b0",
   "metadata": {},
   "outputs": [],
   "source": [
    "# Plot - overlay term values"
   ]
  },
  {
   "cell_type": "code",
   "execution_count": 83,
   "id": "118a85bc-589b-480d-b8dd-f15682db87c8",
   "metadata": {},
   "outputs": [
    {
     "data": {
      "image/png": "[encoded data removed]",
      "text/plain": [
       "<Figure size 640x480 with 1 Axes>"
      ]
     },
     "metadata": {},
     "output_type": "display_data"
    }
   ],
   "source": [
    "fig, ax = plt.subplots()\n",
    "\n",
    "for tv in set(indiv_samp_2_df.columns.get_level_values(1)):\n",
    "    this_df = indiv_samp_2_df.loc[:, indiv_samp_2_df.columns.get_level_values(1)==tv]\n",
    "    this_df.plot(color=color_dict[tv],  ax=ax)\n",
    "    \n",
    "handles, labels = ax.get_legend_handles_labels()\n",
    "labels_term = [eval(v)[1] for v in labels]\n",
    "label_ind = [0] + [i for i in range(1, len(labels_term)) if labels_term[i] != labels_term[i-1]]\n",
    "\n",
    "plt.legend([handles[i] for i in label_ind], [labels_term[i] for i in label_ind],\n",
    "          title='term')\n",
    "ax.set_ylabel('2-way ICE')\n",
    "ax.set_xlabel('int_rate')\n",
    "fig.savefig(Path(setup.temp_path).joinpath('06_PLOT_int_term_ice_samples.png'),\n",
    "            bbox_inches='tight')"
   ]
  },
  {
   "cell_type": "code",
   "execution_count": null,
   "id": "4614d21d-9050-4227-882f-9844e682af5c",
   "metadata": {},
   "outputs": [],
   "source": [
    "# Plot - panel, show side by side"
   ]
  },
  {
   "cell_type": "code",
   "execution_count": 97,
   "id": "fd5593ec-9cce-405a-be93-3aa2678330df",
   "metadata": {},
   "outputs": [
    {
     "data": {
      "image/png": "[encoded data removed]",
      "text/plain": [
       "<Figure size 800x300 with 2 Axes>"
      ]
     },
     "metadata": {},
     "output_type": "display_data"
    }
   ],
   "source": [
    "fig, ax = plt.subplots(1, 2, sharex = True, sharey=True,\n",
    "                      figsize = (8,3))\n",
    "\n",
    "for i, tv in enumerate(set(indiv_samp_2_df.columns.get_level_values(1))):\n",
    "    this_df = indiv_samp_2_df.loc[:, indiv_samp_2_df.columns.get_level_values(1)==tv]\n",
    "    this_df.plot(color=color_dict[tv],  ax=ax[i], legend=None)\n",
    "    ax[i].set_xlabel('int_rate')\n",
    "    ax[i].set_title(f'term={tv}')\n",
    "\n",
    "ax[0].set_ylabel('2-way ICE')\n",
    "fig.savefig(Path(setup.temp_path).joinpath('06_PLOT_int_term_ice_samples_panel.png'),\n",
    "            bbox_inches='tight')"
   ]
  },
  {
   "cell_type": "code",
   "execution_count": null,
   "id": "7e944409-ffed-4032-9db1-96a7a3e7c55e",
   "metadata": {},
   "outputs": [],
   "source": [
    "TO DO\n",
    "Finish ICE plots\n",
    "Do the Shapley full plot\n",
    "Pull out ICE samps to understand"
   ]
  }
 ],
 "metadata": {
  "kernelspec": {
   "display_name": "Python 3 (ipykernel)",
   "language": "python",
   "name": "python3"
  },
  "language_info": {
   "codemirror_mode": {
    "name": "ipython",
    "version": 3
   },
   "file_extension": ".py",
   "mimetype": "text/x-python",
   "name": "python",
   "nbconvert_exporter": "python",
   "pygments_lexer": "ipython3",
   "version": "3.10.2"
  }
 },
 "nbformat": 4,
 "nbformat_minor": 5
}
