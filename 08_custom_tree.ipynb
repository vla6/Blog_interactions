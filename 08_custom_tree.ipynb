{
 "cells": [
  {
   "cell_type": "code",
   "execution_count": 5,
   "id": "3fe70cf3-4dd8-41bd-9846-c05c22862ab5",
   "metadata": {
    "tags": []
   },
   "outputs": [],
   "source": [
    "# Modify the file 00_setup.py to define input/output file paths on your system\n",
    "# The information in 00_setup.py will be used across notebooks\n",
    "from importlib.machinery import SourceFileLoader\n",
    "setup = SourceFileLoader(\"setup\", \"./00_setup.py\").load_module()"
   ]
  },
  {
   "cell_type": "markdown",
   "id": "35f787bc-ec7d-454b-a23f-9d9a2741e262",
   "metadata": {},
   "source": [
    "# 07: Custom Tree Model\n",
    "https://shap.readthedocs.io/en/latest/example_notebooks/tabular_examples/tree_based_models/Example%20of%20loading%20a%20custom%20tree%20model%20into%20SHAP.html"
   ]
  },
  {
   "cell_type": "markdown",
   "id": "e9d324a3-53fd-4595-9149-35cd52ba9c08",
   "metadata": {},
   "source": [
    "*This script takes about 1 minutes on my MacBook Air*"
   ]
  },
  {
   "cell_type": "code",
   "execution_count": 6,
   "id": "373ba5ac-c49b-4a7d-a48d-f9bdcd5f1750",
   "metadata": {},
   "outputs": [],
   "source": [
    "import pandas as pd\n",
    "import numpy as np\n",
    "import matplotlib.pyplot as plt\n",
    "import seaborn as sns\n",
    "import pickle\n",
    "from pathlib import Path\n",
    "import sklearn as sk\n",
    "import matplotlib as mpl\n",
    "import warnings\n",
    "import time\n",
    "import scipy\n",
    "import random\n",
    "from matplotlib.ticker import FormatStrFormatter, PercentFormatter\n",
    "import scipy.sparse as sp"
   ]
  },
  {
   "cell_type": "code",
   "execution_count": 7,
   "id": "ea7d9280-f680-44d1-8fb0-8faeba01f423",
   "metadata": {},
   "outputs": [],
   "source": [
    "import graphviz"
   ]
  },
  {
   "cell_type": "code",
   "execution_count": 8,
   "id": "11c8ca63-63be-4fae-9c1d-41173be68a91",
   "metadata": {},
   "outputs": [],
   "source": [
    "import shap"
   ]
  },
  {
   "cell_type": "code",
   "execution_count": 9,
   "id": "72912440-0537-402b-94b8-df55f452316b",
   "metadata": {},
   "outputs": [
    {
     "ename": "SyntaxError",
     "evalue": "invalid syntax (1989969377.py, line 1)",
     "output_type": "error",
     "traceback": [
      "\u001b[0;36m  Cell \u001b[0;32mIn [9], line 1\u001b[0;36m\u001b[0m\n\u001b[0;31m    node 0\u001b[0m\n\u001b[0m         ^\u001b[0m\n\u001b[0;31mSyntaxError\u001b[0m\u001b[0;31m:\u001b[0m invalid syntax\n"
     ]
    }
   ],
   "source": [
    "node 0\n",
    "    1          (2)\n",
    "(3) (4)  "
   ]
  },
  {
   "cell_type": "code",
   "execution_count": 73,
   "id": "fa6dedee-2da4-49ef-ad03-fa13f868b0c0",
   "metadata": {},
   "outputs": [],
   "source": [
    "# define a custom tree model\n",
    "tree_dict = {\n",
    "    \"children_left\": np.array([1, 3, -1, -1, -1]),\n",
    "    \"children_right\": np.array([2, 4, -1, -1, -1]),\n",
    "    \"children_default\": np.array([2, 4, -1, -1, -1]),\n",
    "    \"features\": np.array([0, 1, -2, -2, -2]),\n",
    "    \"thresholds\": np.array([20, 36, -2, -2 -2]),\n",
    "    \"values\": np.array([[12],[10],[30], [5], [20]]),\n",
    "    \"node_sample_weight\": np.array([1000, 900, 100, 600, 300])\n",
    "}\n",
    "model = {\n",
    "    \"trees\": [tree_dict]\n",
    "}"
   ]
  },
  {
   "cell_type": "code",
   "execution_count": 115,
   "id": "634bcf2b-2a7d-4f81-b62c-ebfeb566aef6",
   "metadata": {},
   "outputs": [],
   "source": [
    "from sklearn.base import BaseEstimator, ClassifierMixin\n",
    "from sklearn.utils.validation import check_X_y, check_array, check_is_fitted\n",
    "#from sklearn.utils.multiclass import unique_labels\n",
    "#from sklearn.metrics import euclidean_distances\n",
    "class TemplateClassifier(BaseEstimator, ClassifierMixin):\n",
    "\n",
    "    def __init__(self, max_depth=2, tree_dict = tree_dict):\n",
    "        self.max_depth = max_depth\n",
    "        self.tree_dict = tree_dict\n",
    "\n",
    "    def fit(self, X, y):\n",
    "        return self\n",
    "\n",
    "    def predict_pair(self, X):\n",
    "        if X[0] <= self.tree_dict['thresholds'][0]:\n",
    "            if X[1] <= self.tree_dict['thresholds'][1]:\n",
    "                return self.tree_dict['values'][3][0]\n",
    "            else:\n",
    "                return self.tree_dict['values'][4][0]\n",
    "        else:\n",
    "            return self.tree_dict['values'][2][0]\n",
    "        \n",
    "    def predict(self, X):\n",
    "        return X.apply(self.predict_pair, axis=1)\n",
    "            \n"
   ]
  },
  {
   "cell_type": "code",
   "execution_count": 116,
   "id": "1c471360-ad28-4c44-9157-69cbe561aa3f",
   "metadata": {},
   "outputs": [],
   "source": [
    "x = TemplateClassifier()"
   ]
  },
  {
   "cell_type": "code",
   "execution_count": 117,
   "id": "f7db6a68-fda7-4696-9280-4649604d5e8e",
   "metadata": {},
   "outputs": [
    {
     "data": {
      "text/plain": [
       "0     5\n",
       "1    20\n",
       "2    30\n",
       "3    30\n",
       "dtype: int64"
      ]
     },
     "execution_count": 117,
     "metadata": {},
     "output_type": "execute_result"
    }
   ],
   "source": [
    "x.predict(trial_df)"
   ]
  },
  {
   "cell_type": "code",
   "execution_count": 108,
   "id": "8938fcd0-f9c2-4daa-a5b2-185d0d069d58",
   "metadata": {},
   "outputs": [
    {
     "ename": "AttributeError",
     "evalue": "'dict' object has no attribute 'children_left'",
     "output_type": "error",
     "traceback": [
      "\u001b[0;31m---------------------------------------------------------------------------\u001b[0m",
      "\u001b[0;31mAttributeError\u001b[0m                            Traceback (most recent call last)",
      "Cell \u001b[0;32mIn [108], line 1\u001b[0m\n\u001b[0;32m----> 1\u001b[0m \u001b[43mtree_dict\u001b[49m\u001b[38;5;241;43m.\u001b[39;49m\u001b[43mchildren_left\u001b[49m\n",
      "\u001b[0;31mAttributeError\u001b[0m: 'dict' object has no attribute 'children_left'"
     ]
    }
   ],
   "source": [
    "tree_dict.children_left"
   ]
  },
  {
   "cell_type": "code",
   "execution_count": null,
   "id": "a2065210-1b08-40b8-b39e-0fc1350ce923",
   "metadata": {},
   "outputs": [],
   "source": []
  },
  {
   "cell_type": "code",
   "execution_count": 74,
   "id": "10a3990f-f569-4221-86d6-dde45f2994a4",
   "metadata": {},
   "outputs": [
    {
     "data": {
      "text/plain": [
       "12.0"
      ]
     },
     "execution_count": 74,
     "metadata": {},
     "output_type": "execute_result"
    }
   ],
   "source": [
    "(5*600 + 300*20 + 30*100)/1000"
   ]
  },
  {
   "cell_type": "code",
   "execution_count": 75,
   "id": "dcca20da-51cb-47a5-a1fe-3765986276db",
   "metadata": {},
   "outputs": [
    {
     "data": {
      "text/plain": [
       "10.0"
      ]
     },
     "execution_count": 75,
     "metadata": {},
     "output_type": "execute_result"
    }
   ],
   "source": [
    "(5*600 + 300*20)/900"
   ]
  },
  {
   "cell_type": "code",
   "execution_count": 76,
   "id": "996cc173-f5ac-48b5-9b8d-e2e22575d29d",
   "metadata": {},
   "outputs": [],
   "source": [
    "explainer = shap.TreeExplainer(model)"
   ]
  },
  {
   "cell_type": "code",
   "execution_count": 77,
   "id": "b368a555-fa3d-4b91-b2ed-3a9a13a5ad33",
   "metadata": {},
   "outputs": [],
   "source": [
    "trial_df = pd.DataFrame({'int_rate': [10, 10, 30, 30], 'term': [36, 60, 36, 60]})"
   ]
  },
  {
   "cell_type": "code",
   "execution_count": 78,
   "id": "7ad1dee6-ee0b-4bb4-9a77-0c7b8f299cb7",
   "metadata": {},
   "outputs": [],
   "source": [
    "shap_val = explainer.shap_values(trial_df)"
   ]
  },
  {
   "cell_type": "code",
   "execution_count": 79,
   "id": "75ac7c5e-17ed-40b4-83e3-197163cbc842",
   "metadata": {},
   "outputs": [
    {
     "data": {
      "text/plain": [
       "array([[-2.25, -4.75],\n",
       "       [-1.5 ,  9.5 ],\n",
       "       [20.25, -2.25],\n",
       "       [13.5 ,  4.5 ]])"
      ]
     },
     "execution_count": 79,
     "metadata": {},
     "output_type": "execute_result"
    }
   ],
   "source": [
    "shap_val"
   ]
  },
  {
   "cell_type": "code",
   "execution_count": 80,
   "id": "ced84e74-3f1e-4173-9e02-9946757c07c6",
   "metadata": {},
   "outputs": [],
   "source": [
    "shap_ex_val = explainer.shap_interaction_values(trial_df)"
   ]
  },
  {
   "cell_type": "code",
   "execution_count": 81,
   "id": "8cde20fc-4a76-4623-ae2a-cdb56989b6fc",
   "metadata": {},
   "outputs": [
    {
     "data": {
      "text/plain": [
       "array([[[-2.  , -0.25],\n",
       "        [-0.25, -4.5 ]],\n",
       "\n",
       "       [[-2.  ,  0.5 ],\n",
       "        [ 0.5 ,  9.  ]],\n",
       "\n",
       "       [[18.  ,  2.25],\n",
       "        [ 2.25, -4.5 ]],\n",
       "\n",
       "       [[18.  , -4.5 ],\n",
       "        [-4.5 ,  9.  ]]])"
      ]
     },
     "execution_count": 81,
     "metadata": {},
     "output_type": "execute_result"
    }
   ],
   "source": [
    "shap_ex_val"
   ]
  },
  {
   "cell_type": "code",
   "execution_count": null,
   "id": "7d1b0a92-5085-477e-b88e-246bef968f24",
   "metadata": {},
   "outputs": [],
   "source": [
    "https://stackoverflow.com/questions/59935395/is-it-possible-to-use-a-custom-defined-decision-tree-classifier-in-scikit-learn\n"
   ]
  },
  {
   "cell_type": "code",
   "execution_count": 112,
   "id": "0f0756eb-924c-40c2-b2c4-d7d0cd62699a",
   "metadata": {},
   "outputs": [],
   "source": [
    "from PyALE import ale"
   ]
  },
  {
   "cell_type": "code",
   "execution_count": 125,
   "id": "3911429b-4eb6-4ce9-b74f-dc4534a0b1d5",
   "metadata": {},
   "outputs": [],
   "source": [
    "# Random data \n",
    "check_df = pd.DataFrame({'int_rate':np.random.uniform(0, 40, 100),\n",
    "                         'term': np.random.choice([36, 60], 100)})"
   ]
  },
  {
   "cell_type": "code",
   "execution_count": 127,
   "id": "d6f54ddf-7d59-4067-aaaf-76c310a2049f",
   "metadata": {},
   "outputs": [
    {
     "name": "stderr",
     "output_type": "stream",
     "text": [
      "Using the level keyword in DataFrame and Series aggregations is deprecated and will be removed in a future version. Use groupby instead. df.sum(level=1) should use df.groupby(level=1).sum().\n",
      "Using the level keyword in DataFrame and Series aggregations is deprecated and will be removed in a future version. Use groupby instead. df.sum(level=1) should use df.groupby(level=1).sum().\n"
     ]
    }
   ],
   "source": [
    "this_ale = ale(X=check_df, model=x, feature=['int_rate', 'term'], plot=False)"
   ]
  },
  {
   "cell_type": "code",
   "execution_count": 128,
   "id": "dad2b667-4bcb-40ef-835e-fa54ebacd99c",
   "metadata": {},
   "outputs": [
    {
     "data": {
      "text/plain": [
       "<AxesSubplot: xlabel='int_rate'>"
      ]
     },
     "execution_count": 128,
     "metadata": {},
     "output_type": "execute_result"
    },
    {
     "data": {
      "image/png": "[encoded data removed]",
      "text/plain": [
       "<Figure size 640x480 with 1 Axes>"
      ]
     },
     "metadata": {},
     "output_type": "display_data"
    }
   ],
   "source": [
    "this_ale.plot()"
   ]
  },
  {
   "cell_type": "code",
   "execution_count": 130,
   "id": "74cb9fc0-0cfc-49db-accd-3f4e12a5513e",
   "metadata": {},
   "outputs": [
    {
     "name": "stderr",
     "output_type": "stream",
     "text": [
      "PyALE._ALE_generic:INFO: Continuous feature detected.\n"
     ]
    },
    {
     "data": {
      "image/png": "[encoded data removed]",
      "text/plain": [
       "<Figure size 800x400 with 1 Axes>"
      ]
     },
     "metadata": {},
     "output_type": "display_data"
    }
   ],
   "source": [
    "this_ale_int = ale(X=check_df, model=x, feature=['int_rate'], plot=True)"
   ]
  },
  {
   "cell_type": "code",
   "execution_count": 131,
   "id": "ef1b96ac-86be-4b84-a050-de223c80c178",
   "metadata": {},
   "outputs": [
    {
     "name": "stderr",
     "output_type": "stream",
     "text": [
      "PyALE._ALE_generic:INFO: Discrete feature detected.\n"
     ]
    },
    {
     "data": {
      "image/png": "[encoded data removed]",
      "text/plain": [
       "<Figure size 800x400 with 2 Axes>"
      ]
     },
     "metadata": {},
     "output_type": "display_data"
    }
   ],
   "source": [
    "this_ale_int = ale(X=check_df, model=x, feature=['term'], plot=True)"
   ]
  },
  {
   "cell_type": "code",
   "execution_count": null,
   "id": "41835127-778c-46a4-ba18-6cccf733a2d3",
   "metadata": {},
   "outputs": [],
   "source": [
    "TO DO \n",
    "Clean this up\n"
   ]
  }
 ],
 "metadata": {
  "kernelspec": {
   "display_name": "Python 3 (ipykernel)",
   "language": "python",
   "name": "python3"
  },
  "language_info": {
   "codemirror_mode": {
    "name": "ipython",
    "version": 3
   },
   "file_extension": ".py",
   "mimetype": "text/x-python",
   "name": "python",
   "nbconvert_exporter": "python",
   "pygments_lexer": "ipython3",
   "version": "3.10.2"
  }
 },
 "nbformat": 4,
 "nbformat_minor": 5
}
